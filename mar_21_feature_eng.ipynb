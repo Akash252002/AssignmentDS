{
  "nbformat": 4,
  "nbformat_minor": 0,
  "metadata": {
    "colab": {
      "provenance": []
    },
    "kernelspec": {
      "name": "python3",
      "display_name": "Python 3"
    },
    "language_info": {
      "name": "python"
    }
  },
  "cells": [
    {
      "cell_type": "code",
      "execution_count": 55,
      "metadata": {
        "id": "gbHfVem4LilS"
      },
      "outputs": [],
      "source": [
        "import logging\n",
        "logging.basicConfig(filename='21mar.log',level=logging.INFO, format='%(asctime)s %(message)s')"
      ]
    },
    {
      "cell_type": "code",
      "source": [
        "# Ans no1\n",
        "logging.info(\"difference b/w ordinal and lebal encoding\")\n",
        "\n",
        "\n",
        "'''\n",
        "Both ordinal encoding and label encoding are techniques used in machine learning to convert categorical variables into numerical values, \n",
        "but they differ in how they assign values to the categories.\n",
        "\n",
        "Ordinal encoding assigns a unique integer value to each category in a variable based on their order or rank. \n",
        "For example, if we have a categorical variable \"size\" with the categories \"small\", \"medium\", and \"large\", we might assign the values 1, 2, and 3 respectively.\n",
        "\n",
        "Label encoding, on the other hand, assigns a unique integer value to each category without considering their order or rank. \n",
        "For example, if we have a categorical variable \"color\" with the categories \"red\", \"green\", and \"blue\", we might assign the values 1, 2, and 3 respectively, \n",
        "without considering whether one color is \"higher\" or \"lower\" than another.\n",
        "\n",
        "One might choose ordinal encoding over label encoding when there is a clear ordering or ranking among the categories. \n",
        "For example, if we have a categorical variable \"education level\" with the categories\n",
        " \"high school\", \"some college\", \"bachelor's degree\", and \"advanced degree\", we can assign values 1, 2, 3, and 4 based on their order. \n",
        " In this case, ordinal encoding preserves the relationship between the categories and helps the model understand the degree of difference between them.\n",
        "\n",
        "Label encoding, on the other hand, might be used when there is no clear order or ranking among the categories, \n",
        "and we simply want to convert them to numerical values for the model to process. \n",
        "For example, if we have a categorical variable \"fruit\" \n",
        "with the categories \"apple\", \"orange\", and \"banana\", we can assign values 1, 2, and 3 without considering any particular order. \n",
        "In this case, label encoding might be a simpler and more straightforward approach.'''"
      ],
      "metadata": {
        "colab": {
          "base_uri": "https://localhost:8080/",
          "height": 123
        },
        "id": "toHxO9v7MI5x",
        "outputId": "54ab2c5b-ef5c-41c6-df14-be6910a97af0"
      },
      "execution_count": 56,
      "outputs": [
        {
          "output_type": "execute_result",
          "data": {
            "text/plain": [
              "'\\nBoth ordinal encoding and label encoding are techniques used in machine learning to convert categorical variables into numerical values, \\nbut they differ in how they assign values to the categories.\\n\\nOrdinal encoding assigns a unique integer value to each category in a variable based on their order or rank. \\nFor example, if we have a categorical variable \"size\" with the categories \"small\", \"medium\", and \"large\", we might assign the values 1, 2, and 3 respectively.\\n\\nLabel encoding, on the other hand, assigns a unique integer value to each category without considering their order or rank. \\nFor example, if we have a categorical variable \"color\" with the categories \"red\", \"green\", and \"blue\", we might assign the values 1, 2, and 3 respectively, \\nwithout considering whether one color is \"higher\" or \"lower\" than another.\\n\\nOne might choose ordinal encoding over label encoding when there is a clear ordering or ranking among the categories. \\nFor example, if we have a categorical variable \"education level\" with the categories\\n \"high school\", \"some college\", \"bachelor\\'s degree\", and \"advanced degree\", we can assign values 1, 2, 3, and 4 based on their order. \\n In this case, ordinal encoding preserves the relationship between the categories and helps the model understand the degree of difference between them.\\n\\nLabel encoding, on the other hand, might be used when there is no clear order or ranking among the categories, \\nand we simply want to convert them to numerical values for the model to process. \\nFor example, if we have a categorical variable \"fruit\" \\nwith the categories \"apple\", \"orange\", and \"banana\", we can assign values 1, 2, and 3 without considering any particular order. \\nIn this case, label encoding might be a simpler and more straightforward approach.'"
            ],
            "application/vnd.google.colaboratory.intrinsic+json": {
              "type": "string"
            }
          },
          "metadata": {},
          "execution_count": 56
        }
      ]
    },
    {
      "cell_type": "code",
      "source": [
        "# Ans no2\n",
        "logging.info(\"target guided ordinal  encoding \")\n",
        "\n",
        "'''\n",
        "Target Guided Ordinal Encoding is a technique used to encode categorical variables \n",
        "where the categories are ordered based on the target variable. \n",
        "The goal of this encoding technique is to capture the relationship between the categorical variable and the target variable, \n",
        "thereby improving the predictive power of the model.\n",
        "\n",
        "The process of Target Guided Ordinal Encoding involves the following steps:\n",
        "\n",
        "Calculate the mean of the target variable for each category of the categorical variable.\n",
        "Sort the categories in descending order based on the mean of the target variable.\n",
        "Assign an ordinal value to each category based on its position in the sorted list.\n",
        "For example, let's say we have a categorical variable \"City\" with the categories \n",
        "\"New York\", \"Boston\", \"Chicago\", and \"Los Angeles\", and a target variable \"Salary\". \n",
        "We want to use Target Guided Ordinal Encoding to encode the \"City\" variable. Here's how we can do it:\n",
        "\n",
        "Calculate the mean salary for each city:\n",
        "\n",
        "New York: $100,000\n",
        "Boston: $80,000\n",
        "Chicago: $70,000\n",
        "Los Angeles: $60,000\n",
        "Sort the cities based on their mean salary in descending order:\n",
        "\n",
        "New York\n",
        "Boston\n",
        "Chicago\n",
        "Los Angeles\n",
        "Assign an ordinal value to each city based on its position in the sorted list:\n",
        "\n",
        "New York: 4\n",
        "Boston: 3\n",
        "Chicago: 2\n",
        "Los Angeles: 1\n",
        "In this example, we are assuming that higher salaries are associated with more expensive cities, \n",
        "and so we are encoding the cities based on their expected impact on salary.\n",
        "\n",
        "We might use Target Guided Ordinal Encoding in a machine learning project when we have a categorical variable that we believe has a strong relationship with the target variable, \n",
        "and we want to capture this relationship in the encoding. \n",
        "By doing so, we can potentially improve the accuracy of our model and obtain more meaningful insights from the data.'''\n",
        "\n"
      ],
      "metadata": {
        "colab": {
          "base_uri": "https://localhost:8080/",
          "height": 123
        },
        "id": "0WpGTZCqXZtQ",
        "outputId": "ac604829-77b7-43ab-a127-26c513d238fe"
      },
      "execution_count": 57,
      "outputs": [
        {
          "output_type": "execute_result",
          "data": {
            "text/plain": [
              "'\\nTarget Guided Ordinal Encoding is a technique used to encode categorical variables \\nwhere the categories are ordered based on the target variable. \\nThe goal of this encoding technique is to capture the relationship between the categorical variable and the target variable, \\nthereby improving the predictive power of the model.\\n\\nThe process of Target Guided Ordinal Encoding involves the following steps:\\n\\nCalculate the mean of the target variable for each category of the categorical variable.\\nSort the categories in descending order based on the mean of the target variable.\\nAssign an ordinal value to each category based on its position in the sorted list.\\nFor example, let\\'s say we have a categorical variable \"City\" with the categories \\n\"New York\", \"Boston\", \"Chicago\", and \"Los Angeles\", and a target variable \"Salary\". \\nWe want to use Target Guided Ordinal Encoding to encode the \"City\" variable. Here\\'s how we can do it:\\n\\nCalculate the mean salary for each city:\\n\\nNew York: $100,000\\nBoston: $80,000\\nChicago: $70,000\\nLos Angeles: $60,000\\nSort the cities based on their mean salary in descending order:\\n\\nNew York\\nBoston\\nChicago\\nLos Angeles\\nAssign an ordinal value to each city based on its position in the sorted list:\\n\\nNew York: 4\\nBoston: 3\\nChicago: 2\\nLos Angeles: 1\\nIn this example, we are assuming that higher salaries are associated with more expensive cities, \\nand so we are encoding the cities based on their expected impact on salary.\\n\\nWe might use Target Guided Ordinal Encoding in a machine learning project when we have a categorical variable that we believe has a strong relationship with the target variable, \\nand we want to capture this relationship in the encoding. \\nBy doing so, we can potentially improve the accuracy of our model and obtain more meaningful insights from the data.'"
            ],
            "application/vnd.google.colaboratory.intrinsic+json": {
              "type": "string"
            }
          },
          "metadata": {},
          "execution_count": 57
        }
      ]
    },
    {
      "cell_type": "code",
      "source": [
        "# Ans no3\n",
        "\n",
        "logging.info(\" covariance and it's importance in statistical analysis\")\n",
        "\n",
        "'''\n",
        "Covariance is a measure of the linear association between two variables. \n",
        "It measures how much two variables change together. \n",
        "A positive covariance indicates that the two variables tend to increase or decrease together, \n",
        "while a negative covariance indicates that one variable tends to increase as the other decreases.\n",
        "\n",
        "Covariance is important in statistical analysis because it helps to identify the relationship between two variables.\n",
        " For example, if we are interested in examining the relationship between a person's age and their income, \n",
        " we can calculate the covariance between these two variables to determine whether they are positively or negatively related. \n",
        " If the covariance is positive, we can conclude that as age increases, so does income.\n",
        "  If the covariance is negative, we can conclude that as age increases, income decreases.\n",
        "\n",
        "Covariance is calculated by subtracting the mean of each variable from its corresponding value, \n",
        "multiplying the differences together, and then taking the average of these products. Mathematically, the covariance between two variables X and Y is calculated as:\n",
        "\n",
        "cov(X, Y) = Σ [(X - mean(X)) * (Y - mean(Y))] / (n - 1)\n",
        "\n",
        "where Σ represents the sum of the products, n is the number of observations, and mean(X) and mean(Y) are the means of the two variables.\n",
        "\n",
        "It is important to note that the magnitude of the covariance depends on the scales of the two variables.\n",
        " In other words, if the variables are measured on different scales, the covariance may not be a meaningful measure of the relationship between them.\n",
        "  To address this issue, standardized versions of covariance, such as correlation coefficient, are often used, which are scaled to fall between -1 and 1.'''"
      ],
      "metadata": {
        "colab": {
          "base_uri": "https://localhost:8080/",
          "height": 123
        },
        "id": "VU9V-fyjZBoM",
        "outputId": "00ad71ef-3fce-4f4d-8bf5-8f3bf22c246a"
      },
      "execution_count": 58,
      "outputs": [
        {
          "output_type": "execute_result",
          "data": {
            "text/plain": [
              "\"\\nCovariance is a measure of the linear association between two variables. \\nIt measures how much two variables change together. \\nA positive covariance indicates that the two variables tend to increase or decrease together, \\nwhile a negative covariance indicates that one variable tends to increase as the other decreases.\\n\\nCovariance is important in statistical analysis because it helps to identify the relationship between two variables.\\n For example, if we are interested in examining the relationship between a person's age and their income, \\n we can calculate the covariance between these two variables to determine whether they are positively or negatively related. \\n If the covariance is positive, we can conclude that as age increases, so does income.\\n  If the covariance is negative, we can conclude that as age increases, income decreases.\\n\\nCovariance is calculated by subtracting the mean of each variable from its corresponding value, \\nmultiplying the differences together, and then taking the average of these products. Mathematically, the covariance between two variables X and Y is calculated as:\\n\\ncov(X, Y) = Σ [(X - mean(X)) * (Y - mean(Y))] / (n - 1)\\n\\nwhere Σ represents the sum of the products, n is the number of observations, and mean(X) and mean(Y) are the means of the two variables.\\n\\nIt is important to note that the magnitude of the covariance depends on the scales of the two variables.\\n In other words, if the variables are measured on different scales, the covariance may not be a meaningful measure of the relationship between them.\\n  To address this issue, standardized versions of covariance, such as correlation coefficient, are often used, which are scaled to fall between -1 and 1.\""
            ],
            "application/vnd.google.colaboratory.intrinsic+json": {
              "type": "string"
            }
          },
          "metadata": {},
          "execution_count": 58
        }
      ]
    },
    {
      "cell_type": "code",
      "source": [
        "# Ans no4\n",
        "\n",
        "logging.info(\"answering the question no 4\")\n",
        "\n",
        "from sklearn.preprocessing import LabelEncoder\n",
        "import pandas as pd\n",
        "\n",
        "# Create a sample dataset\n",
        "data = {'Color': ['red', 'green', 'blue', 'blue', 'red', 'green'],\n",
        "        'Size': ['small', 'medium', 'large', 'medium', 'small', 'large'],\n",
        "        'Material': ['wood', 'metal', 'plastic', 'wood', 'metal', 'plastic']}\n",
        "\n",
        "df=pd.DataFrame(data)\n",
        "\n",
        "le=LabelEncoder()\n",
        "\n",
        "df['Color']=le.fit_transform(df[['Color']])\n",
        "df['Size']=le.fit_transform(df[['Size']])\n",
        "df['Material']=le.fit_transform(df[['Material']])\n",
        "\n",
        "df\n"
      ],
      "metadata": {
        "colab": {
          "base_uri": "https://localhost:8080/",
          "height": 361
        },
        "id": "0itWG8zaaFdg",
        "outputId": "9504d21c-68b8-4fec-e029-bd0f647a5c05"
      },
      "execution_count": 59,
      "outputs": [
        {
          "output_type": "stream",
          "name": "stderr",
          "text": [
            "/usr/local/lib/python3.9/dist-packages/sklearn/preprocessing/_label.py:116: DataConversionWarning: A column-vector y was passed when a 1d array was expected. Please change the shape of y to (n_samples, ), for example using ravel().\n",
            "  y = column_or_1d(y, warn=True)\n",
            "/usr/local/lib/python3.9/dist-packages/sklearn/preprocessing/_label.py:116: DataConversionWarning: A column-vector y was passed when a 1d array was expected. Please change the shape of y to (n_samples, ), for example using ravel().\n",
            "  y = column_or_1d(y, warn=True)\n",
            "/usr/local/lib/python3.9/dist-packages/sklearn/preprocessing/_label.py:116: DataConversionWarning: A column-vector y was passed when a 1d array was expected. Please change the shape of y to (n_samples, ), for example using ravel().\n",
            "  y = column_or_1d(y, warn=True)\n"
          ]
        },
        {
          "output_type": "execute_result",
          "data": {
            "text/plain": [
              "   Color  Size  Material\n",
              "0      2     2         2\n",
              "1      1     1         0\n",
              "2      0     0         1\n",
              "3      0     1         2\n",
              "4      2     2         0\n",
              "5      1     0         1"
            ],
            "text/html": [
              "\n",
              "  <div id=\"df-a1c318c0-2510-46b1-8843-462462344750\">\n",
              "    <div class=\"colab-df-container\">\n",
              "      <div>\n",
              "<style scoped>\n",
              "    .dataframe tbody tr th:only-of-type {\n",
              "        vertical-align: middle;\n",
              "    }\n",
              "\n",
              "    .dataframe tbody tr th {\n",
              "        vertical-align: top;\n",
              "    }\n",
              "\n",
              "    .dataframe thead th {\n",
              "        text-align: right;\n",
              "    }\n",
              "</style>\n",
              "<table border=\"1\" class=\"dataframe\">\n",
              "  <thead>\n",
              "    <tr style=\"text-align: right;\">\n",
              "      <th></th>\n",
              "      <th>Color</th>\n",
              "      <th>Size</th>\n",
              "      <th>Material</th>\n",
              "    </tr>\n",
              "  </thead>\n",
              "  <tbody>\n",
              "    <tr>\n",
              "      <th>0</th>\n",
              "      <td>2</td>\n",
              "      <td>2</td>\n",
              "      <td>2</td>\n",
              "    </tr>\n",
              "    <tr>\n",
              "      <th>1</th>\n",
              "      <td>1</td>\n",
              "      <td>1</td>\n",
              "      <td>0</td>\n",
              "    </tr>\n",
              "    <tr>\n",
              "      <th>2</th>\n",
              "      <td>0</td>\n",
              "      <td>0</td>\n",
              "      <td>1</td>\n",
              "    </tr>\n",
              "    <tr>\n",
              "      <th>3</th>\n",
              "      <td>0</td>\n",
              "      <td>1</td>\n",
              "      <td>2</td>\n",
              "    </tr>\n",
              "    <tr>\n",
              "      <th>4</th>\n",
              "      <td>2</td>\n",
              "      <td>2</td>\n",
              "      <td>0</td>\n",
              "    </tr>\n",
              "    <tr>\n",
              "      <th>5</th>\n",
              "      <td>1</td>\n",
              "      <td>0</td>\n",
              "      <td>1</td>\n",
              "    </tr>\n",
              "  </tbody>\n",
              "</table>\n",
              "</div>\n",
              "      <button class=\"colab-df-convert\" onclick=\"convertToInteractive('df-a1c318c0-2510-46b1-8843-462462344750')\"\n",
              "              title=\"Convert this dataframe to an interactive table.\"\n",
              "              style=\"display:none;\">\n",
              "        \n",
              "  <svg xmlns=\"http://www.w3.org/2000/svg\" height=\"24px\"viewBox=\"0 0 24 24\"\n",
              "       width=\"24px\">\n",
              "    <path d=\"M0 0h24v24H0V0z\" fill=\"none\"/>\n",
              "    <path d=\"M18.56 5.44l.94 2.06.94-2.06 2.06-.94-2.06-.94-.94-2.06-.94 2.06-2.06.94zm-11 1L8.5 8.5l.94-2.06 2.06-.94-2.06-.94L8.5 2.5l-.94 2.06-2.06.94zm10 10l.94 2.06.94-2.06 2.06-.94-2.06-.94-.94-2.06-.94 2.06-2.06.94z\"/><path d=\"M17.41 7.96l-1.37-1.37c-.4-.4-.92-.59-1.43-.59-.52 0-1.04.2-1.43.59L10.3 9.45l-7.72 7.72c-.78.78-.78 2.05 0 2.83L4 21.41c.39.39.9.59 1.41.59.51 0 1.02-.2 1.41-.59l7.78-7.78 2.81-2.81c.8-.78.8-2.07 0-2.86zM5.41 20L4 18.59l7.72-7.72 1.47 1.35L5.41 20z\"/>\n",
              "  </svg>\n",
              "      </button>\n",
              "      \n",
              "  <style>\n",
              "    .colab-df-container {\n",
              "      display:flex;\n",
              "      flex-wrap:wrap;\n",
              "      gap: 12px;\n",
              "    }\n",
              "\n",
              "    .colab-df-convert {\n",
              "      background-color: #E8F0FE;\n",
              "      border: none;\n",
              "      border-radius: 50%;\n",
              "      cursor: pointer;\n",
              "      display: none;\n",
              "      fill: #1967D2;\n",
              "      height: 32px;\n",
              "      padding: 0 0 0 0;\n",
              "      width: 32px;\n",
              "    }\n",
              "\n",
              "    .colab-df-convert:hover {\n",
              "      background-color: #E2EBFA;\n",
              "      box-shadow: 0px 1px 2px rgba(60, 64, 67, 0.3), 0px 1px 3px 1px rgba(60, 64, 67, 0.15);\n",
              "      fill: #174EA6;\n",
              "    }\n",
              "\n",
              "    [theme=dark] .colab-df-convert {\n",
              "      background-color: #3B4455;\n",
              "      fill: #D2E3FC;\n",
              "    }\n",
              "\n",
              "    [theme=dark] .colab-df-convert:hover {\n",
              "      background-color: #434B5C;\n",
              "      box-shadow: 0px 1px 3px 1px rgba(0, 0, 0, 0.15);\n",
              "      filter: drop-shadow(0px 1px 2px rgba(0, 0, 0, 0.3));\n",
              "      fill: #FFFFFF;\n",
              "    }\n",
              "  </style>\n",
              "\n",
              "      <script>\n",
              "        const buttonEl =\n",
              "          document.querySelector('#df-a1c318c0-2510-46b1-8843-462462344750 button.colab-df-convert');\n",
              "        buttonEl.style.display =\n",
              "          google.colab.kernel.accessAllowed ? 'block' : 'none';\n",
              "\n",
              "        async function convertToInteractive(key) {\n",
              "          const element = document.querySelector('#df-a1c318c0-2510-46b1-8843-462462344750');\n",
              "          const dataTable =\n",
              "            await google.colab.kernel.invokeFunction('convertToInteractive',\n",
              "                                                     [key], {});\n",
              "          if (!dataTable) return;\n",
              "\n",
              "          const docLinkHtml = 'Like what you see? Visit the ' +\n",
              "            '<a target=\"_blank\" href=https://colab.research.google.com/notebooks/data_table.ipynb>data table notebook</a>'\n",
              "            + ' to learn more about interactive tables.';\n",
              "          element.innerHTML = '';\n",
              "          dataTable['output_type'] = 'display_data';\n",
              "          await google.colab.output.renderOutput(dataTable, element);\n",
              "          const docLink = document.createElement('div');\n",
              "          docLink.innerHTML = docLinkHtml;\n",
              "          element.appendChild(docLink);\n",
              "        }\n",
              "      </script>\n",
              "    </div>\n",
              "  </div>\n",
              "  "
            ]
          },
          "metadata": {},
          "execution_count": 59
        }
      ]
    },
    {
      "cell_type": "code",
      "source": [
        "# Ans no5\n",
        "\n",
        "logging.info(\"answering the question no5\")\n",
        "\n",
        "import pandas as pd\n",
        "import category_encoders as ce\n",
        "\n",
        "# create sample data\n",
        "data = pd.DataFrame({\n",
        "    'Age': [30, 40, 50, 60, 70],\n",
        "    'Income': [50000, 60000, 70000, 80000, 90000],\n",
        "    'Education level': ['High School', \"Bachelor's\", \"Master's\", \"Bachelor's\", \"PhD\"]\n",
        "})\n",
        "\n",
        "# perform ordinal encoding\n",
        "encoder = ce.OrdinalEncoder(cols=['Education level'], mapping=[{'col': 'Education level', 'mapping': {'High School': 1, \"Bachelor's\": 2, \"Master's\": 3, \"PhD\": 4}}])\n",
        "data_encoded = encoder.fit_transform(data)\n",
        "\n",
        "# calculate covariance matrix\n",
        "cov_matrix = data_encoded.cov()\n",
        "\n",
        "print(cov_matrix)\n",
        "\n"
      ],
      "metadata": {
        "colab": {
          "base_uri": "https://localhost:8080/"
        },
        "id": "O-eqLj4wb2Oi",
        "outputId": "62ccaf30-2196-4bae-afc5-5448f698d84a"
      },
      "execution_count": 60,
      "outputs": [
        {
          "output_type": "stream",
          "name": "stdout",
          "text": [
            "                      Age       Income  Education level\n",
            "Age                 250.0     250000.0             15.0\n",
            "Income           250000.0  250000000.0          15000.0\n",
            "Education level      15.0      15000.0              1.3\n"
          ]
        }
      ]
    },
    {
      "cell_type": "code",
      "source": [
        "# Ans no6\n",
        "logging.info(\"answering the question no6\")\n",
        "\n",
        "from sklearn.preprocessing import LabelEncoder\n",
        "from sklearn.preprocessing import OneHotEncoder\n",
        "from sklearn.preprocessing import OrdinalEncoder\n",
        "df = pd.DataFrame({\n",
        "    'Gender': ['Male', 'Female', 'Female', 'Male'],\n",
        "    'Education Level': ['High School', 'Bachelor\\'s', 'Master\\'s', 'PhD'],\n",
        "    'Employment Status': ['Full-Time', 'Part-Time', 'Unemployed', 'Full-Time'],\n",
        "})\n",
        "\n",
        "le=LabelEncoder()\n",
        "ohe=OneHotEncoder()\n",
        "oe=OrdinalEncoder()\n",
        "\n",
        "encoded=ohe.fit_transform(df[['Gender','Employment Status']])\n",
        "# encoded_cols = ohe.get_feature_names(['Gender', 'Employment Status'])\n",
        "df1=pd.DataFrame(encoded.toarray(),columns=ohe.get_feature_names_out())\n",
        "print(pd.concat([df1,df],axis=1))\n",
        "print(\" \")\n",
        "\n",
        "\n",
        "print(df)\n",
        "\n",
        "\n"
      ],
      "metadata": {
        "colab": {
          "base_uri": "https://localhost:8080/"
        },
        "id": "6xlK-AgVg98r",
        "outputId": "e62d7daa-2860-47d7-d017-ab6b52dcbb9f"
      },
      "execution_count": 61,
      "outputs": [
        {
          "output_type": "stream",
          "name": "stdout",
          "text": [
            "   Gender_Female  Gender_Male  Employment Status_Full-Time  \\\n",
            "0            0.0          1.0                          1.0   \n",
            "1            1.0          0.0                          0.0   \n",
            "2            1.0          0.0                          0.0   \n",
            "3            0.0          1.0                          1.0   \n",
            "\n",
            "   Employment Status_Part-Time  Employment Status_Unemployed  Gender  \\\n",
            "0                          0.0                           0.0    Male   \n",
            "1                          1.0                           0.0  Female   \n",
            "2                          0.0                           1.0  Female   \n",
            "3                          0.0                           0.0    Male   \n",
            "\n",
            "  Education Level Employment Status  \n",
            "0     High School         Full-Time  \n",
            "1      Bachelor's         Part-Time  \n",
            "2        Master's        Unemployed  \n",
            "3             PhD         Full-Time  \n",
            " \n",
            "   Gender Education Level Employment Status\n",
            "0    Male     High School         Full-Time\n",
            "1  Female      Bachelor's         Part-Time\n",
            "2  Female        Master's        Unemployed\n",
            "3    Male             PhD         Full-Time\n"
          ]
        }
      ]
    },
    {
      "cell_type": "code",
      "source": [
        "# Ans no7\n",
        "\n",
        "logging.info(\"answering the question no7\")\n",
        "\n",
        "import pandas as pd\n",
        "\n",
        "# create sample data\n",
        "data = pd.DataFrame({\n",
        "    'Temperature': [25, 28, 30, 27, 26],\n",
        "    'Humidity': [60, 55, 70, 65, 62],\n",
        "    'Weather Condition': ['Sunny', 'Cloudy', 'Rainy', 'Cloudy', 'Sunny'],\n",
        "    'Wind Direction': ['North', 'South', 'East', 'West', 'South']\n",
        "})\n",
        "\n",
        "# perform one-hot encoding\n",
        "data_encoded = pd.get_dummies(data, columns=['Weather Condition', 'Wind Direction'])\n",
        "\n",
        "# calculate covariance matrix\n",
        "cov_matrix = data_encoded.cov()\n",
        "\n",
        "print(cov_matrix)\n"
      ],
      "metadata": {
        "colab": {
          "base_uri": "https://localhost:8080/"
        },
        "id": "nAQbw7T7i71u",
        "outputId": "ecb2782b-d639-4f19-e9ed-24e41d1ab405"
      },
      "execution_count": 62,
      "outputs": [
        {
          "output_type": "stream",
          "name": "stdout",
          "text": [
            "                          Temperature  Humidity  Weather Condition_Cloudy  \\\n",
            "Temperature                      3.70      5.15                      0.15   \n",
            "Humidity                         5.15     31.30                     -1.20   \n",
            "Weather Condition_Cloudy         0.15     -1.20                      0.30   \n",
            "Weather Condition_Rainy          0.70      1.90                     -0.10   \n",
            "Weather Condition_Sunny         -0.85     -0.70                     -0.20   \n",
            "Wind Direction_East              0.70      1.90                     -0.10   \n",
            "Wind Direction_North            -0.55     -0.60                     -0.10   \n",
            "Wind Direction_South            -0.10     -1.95                      0.05   \n",
            "Wind Direction_West             -0.05      0.65                      0.15   \n",
            "\n",
            "                          Weather Condition_Rainy  Weather Condition_Sunny  \\\n",
            "Temperature                                  0.70                    -0.85   \n",
            "Humidity                                     1.90                    -0.70   \n",
            "Weather Condition_Cloudy                    -0.10                    -0.20   \n",
            "Weather Condition_Rainy                      0.20                    -0.10   \n",
            "Weather Condition_Sunny                     -0.10                     0.30   \n",
            "Wind Direction_East                          0.20                    -0.10   \n",
            "Wind Direction_North                        -0.05                     0.15   \n",
            "Wind Direction_South                        -0.10                     0.05   \n",
            "Wind Direction_West                         -0.05                    -0.10   \n",
            "\n",
            "                          Wind Direction_East  Wind Direction_North  \\\n",
            "Temperature                              0.70                 -0.55   \n",
            "Humidity                                 1.90                 -0.60   \n",
            "Weather Condition_Cloudy                -0.10                 -0.10   \n",
            "Weather Condition_Rainy                  0.20                 -0.05   \n",
            "Weather Condition_Sunny                 -0.10                  0.15   \n",
            "Wind Direction_East                      0.20                 -0.05   \n",
            "Wind Direction_North                    -0.05                  0.20   \n",
            "Wind Direction_South                    -0.10                 -0.10   \n",
            "Wind Direction_West                     -0.05                 -0.05   \n",
            "\n",
            "                          Wind Direction_South  Wind Direction_West  \n",
            "Temperature                              -0.10                -0.05  \n",
            "Humidity                                 -1.95                 0.65  \n",
            "Weather Condition_Cloudy                  0.05                 0.15  \n",
            "Weather Condition_Rainy                  -0.10                -0.05  \n",
            "Weather Condition_Sunny                   0.05                -0.10  \n",
            "Wind Direction_East                      -0.10                -0.05  \n",
            "Wind Direction_North                     -0.10                -0.05  \n",
            "Wind Direction_South                      0.30                -0.10  \n",
            "Wind Direction_West                      -0.10                 0.20  \n"
          ]
        }
      ]
    }
  ]
}