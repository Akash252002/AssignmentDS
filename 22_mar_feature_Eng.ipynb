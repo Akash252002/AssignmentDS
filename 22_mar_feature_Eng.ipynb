{
  "nbformat": 4,
  "nbformat_minor": 0,
  "metadata": {
    "colab": {
      "provenance": []
    },
    "kernelspec": {
      "name": "python3",
      "display_name": "Python 3"
    },
    "language_info": {
      "name": "python"
    }
  },
  "cells": [
    {
      "cell_type": "code",
      "execution_count": 3,
      "metadata": {
        "id": "qkC-ty3IoGIG"
      },
      "outputs": [],
      "source": [
        "import logging\n",
        "logging.basicConfig(filename='22mar.log',level=logging.INFO,format='%(asctime)s %(message)s')"
      ]
    },
    {
      "cell_type": "code",
      "source": [
        "# Ans no1\n",
        "logging.info(\"Answering the question no1\")\n",
        "\n",
        "import pandas as pd\n",
        "data={'time':[1,2,3,4,5,6],\n",
        "      'score':[10,20,30,90,70,50]}\n",
        "\n",
        "df=pd.DataFrame(data)\n",
        "\n",
        "print(df.corr(method='pearson'))"
      ],
      "metadata": {
        "colab": {
          "base_uri": "https://localhost:8080/"
        },
        "id": "HtHIFOiomLqK",
        "outputId": "529dd81b-1308-4ae4-a901-a63809f4f639"
      },
      "execution_count": 7,
      "outputs": [
        {
          "output_type": "stream",
          "name": "stdout",
          "text": [
            "          time    score\n",
            "time   1.00000  0.71103\n",
            "score  0.71103  1.00000\n"
          ]
        }
      ]
    },
    {
      "cell_type": "code",
      "source": [
        "# Ans no2\n",
        "\n",
        "logging.info(\"answering the question no2\")\n",
        "\n",
        "data={'sleep':[4,6,8,4,5,6],\n",
        "      'satisfaction':[3,8,10,4,8,9]}\n",
        "\n",
        "\n",
        "df=pd.DataFrame(data)\n",
        "\n",
        "print(df.corr(method='pearson'))"
      ],
      "metadata": {
        "colab": {
          "base_uri": "https://localhost:8080/"
        },
        "id": "MColbBDxn-o2",
        "outputId": "9eec3969-9fb2-4594-a557-069e21233c53"
      },
      "execution_count": 8,
      "outputs": [
        {
          "output_type": "stream",
          "name": "stdout",
          "text": [
            "                sleep  satisfaction\n",
            "sleep         1.00000       0.88588\n",
            "satisfaction  0.88588       1.00000\n"
          ]
        }
      ]
    },
    {
      "cell_type": "code",
      "source": [
        "# Ans no3\n",
        "\n",
        "logging.info(\"answering the question no3\")\n",
        "\n",
        "import random\n",
        "import numpy as np\n",
        "\n",
        "hour=[]\n",
        "\n",
        "for i in range(50):\n",
        "  hour.append(random.randint(3,10))\n",
        "\n",
        "\n",
        "bmi=[]\n",
        "bmi=np.linspace(24,29,50)\n",
        "\n",
        "import pandas as pd\n",
        "data={'time':hour,\n",
        "      'BMI':bmi}\n",
        "\n",
        "df=pd.DataFrame(data)\n",
        "\n",
        "print(\"pearson-->\"+str(df.corr(method='pearson')))\n",
        "\n",
        "print(\"spearman-->\"+str(df.corr(method='spearman')))\n"
      ],
      "metadata": {
        "colab": {
          "base_uri": "https://localhost:8080/"
        },
        "id": "T5CZ4jiHo4dD",
        "outputId": "40885f27-0095-4ed3-c267-09bc4f1c94d8"
      },
      "execution_count": 37,
      "outputs": [
        {
          "output_type": "stream",
          "name": "stdout",
          "text": [
            "pearson-->          time       BMI\n",
            "time  1.000000  0.057636\n",
            "BMI   0.057636  1.000000\n",
            "spearman-->          time       BMI\n",
            "time  1.000000  0.059632\n",
            "BMI   0.059632  1.000000\n"
          ]
        }
      ]
    },
    {
      "cell_type": "code",
      "source": [
        "# Ans no4\n",
        "\n",
        "logging.info(\"answering the question no4\")\n",
        "\n",
        "import random\n",
        "import numpy as np\n",
        "\n",
        "hour=[]\n",
        "\n",
        "for i in range(50):\n",
        "  hour.append(random.randint(3,10))\n",
        "\n",
        "\n",
        "activity=[]\n",
        "activity=np.linspace(24,29,50)\n",
        "\n",
        "import pandas as pd\n",
        "data={'Telivision':hour,\n",
        "      'Activity':activity}\n",
        "\n",
        "df=pd.DataFrame(data)\n",
        "\n",
        "print(df.corr(method='pearson'))"
      ],
      "metadata": {
        "colab": {
          "base_uri": "https://localhost:8080/"
        },
        "id": "xUJMNet7p2-e",
        "outputId": "aac3dbe9-61a1-492f-d549-b5b5671982a6"
      },
      "execution_count": 41,
      "outputs": [
        {
          "output_type": "stream",
          "name": "stdout",
          "text": [
            "            Telivision  Activity\n",
            "Telivision    1.000000  0.095252\n",
            "Activity      0.095252  1.000000\n"
          ]
        }
      ]
    },
    {
      "cell_type": "code",
      "source": [
        "# Ans no5\n",
        "\n",
        "logging.info(\"answering the question no 5\")\n",
        "\n",
        "from sklearn.preprocessing import OneHotEncoder\n",
        "import pandas as pd\n",
        "soft_drink=['Coke', 'Pepsi','Mountain dew','Coke','Pepsi','Coke']\n",
        "age=[25,42,37,19,31,28]\n",
        "\n",
        "encoder=OneHotEncoder()\n",
        "\n",
        "data={\"Drink\":soft_drink,\n",
        "      \"Age\":age}\n",
        "df=pd.DataFrame(data)   \n",
        "encoded=encoder.fit_transform(df[['Drink']])\n",
        "df1=pd.DataFrame(encoded.toarray(),columns=encoder.get_feature_names_out())\n",
        "df2=pd.concat([df,df1],axis=1)\n",
        "print(df2.corr())"
      ],
      "metadata": {
        "colab": {
          "base_uri": "https://localhost:8080/"
        },
        "id": "D7gf9I2n18Mf",
        "outputId": "d2ad8b31-80af-4a00-d942-a54960a681fc"
      },
      "execution_count": 50,
      "outputs": [
        {
          "output_type": "stream",
          "name": "stdout",
          "text": [
            "                         Age  Drink_Coke  Drink_Mountain dew  Drink_Pepsi\n",
            "Age                 1.000000   -0.837240            0.394132     0.576439\n",
            "Drink_Coke         -0.837240    1.000000           -0.447214    -0.707107\n",
            "Drink_Mountain dew  0.394132   -0.447214            1.000000    -0.316228\n",
            "Drink_Pepsi         0.576439   -0.707107           -0.316228     1.000000\n"
          ]
        }
      ]
    },
    {
      "cell_type": "code",
      "source": [
        "# Ans no6\n",
        "\n",
        "logging.info(\"answering the question no6\")\n",
        "import numpy as np\n",
        "\n",
        "made_per_day=[]\n",
        "\n",
        "for i in range(30):\n",
        "  made_per_day.append(random.randint(1,5))\n",
        "\n",
        "\n",
        "made_per_week=[]\n",
        "\n",
        "for i in range(30):\n",
        "  made_per_week.append(random.randint(15,25))\n",
        "\n",
        "df=pd.DataFrame({'Day':made_per_day,'Week':made_per_week})  \n",
        "print(df.corr())"
      ],
      "metadata": {
        "colab": {
          "base_uri": "https://localhost:8080/"
        },
        "id": "RYRibG-G4ATx",
        "outputId": "28d9592b-54d3-4b3b-a8c5-22eb18f3e60b"
      },
      "execution_count": 53,
      "outputs": [
        {
          "output_type": "stream",
          "name": "stdout",
          "text": [
            "           Day      Week\n",
            "Day   1.000000 -0.044707\n",
            "Week -0.044707  1.000000\n"
          ]
        }
      ]
    }
  ]
}