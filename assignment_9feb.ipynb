{
 "cells": [
  {
   "cell_type": "code",
   "execution_count": 1,
   "id": "e2202d11-33c5-43a8-acf7-ab5f951e2270",
   "metadata": {},
   "outputs": [
    {
     "data": {
      "text/plain": [
       "'Toyota'"
      ]
     },
     "execution_count": 1,
     "metadata": {},
     "output_type": "execute_result"
    }
   ],
   "source": [
    "# Ans no1\n",
    "\n",
    "class vehical():\n",
    "    \n",
    "    def __init__(self,name_of_vehicle, max_speed,average_of_vehicle):\n",
    "        self.nm=name_of_vehicle\n",
    "        self.sp= max_speed\n",
    "        self.avg=average_of_vehicle\n",
    "        \n",
    "    def return_value(self):\n",
    "        return self.nm,self.sp,self.avg\n",
    "        \n",
    "obj1=vehical(\"Toyota\",2,3)   \n",
    "obj1.nm"
   ]
  },
  {
   "cell_type": "code",
   "execution_count": 2,
   "id": "16176f86-58e1-4ba2-b8ca-7780817f4670",
   "metadata": {},
   "outputs": [
    {
     "data": {
      "text/plain": [
       "('Toyota', 7)"
      ]
     },
     "execution_count": 2,
     "metadata": {},
     "output_type": "execute_result"
    }
   ],
   "source": [
    "# Ans no2\n",
    "\n",
    "class car(vehical):\n",
    "    \n",
    "    def seating_capacity(self,cap):\n",
    "        self.cap=cap\n",
    "        return self.nm,self.cap\n",
    "    \n",
    "    \n",
    "obj=car(\"Toyota\",2,3)\n",
    "\n",
    "obj.return_value()\n",
    "obj.seating_capacity(7)"
   ]
  },
  {
   "cell_type": "code",
   "execution_count": 4,
   "id": "dfbd8404-39d9-4a09-8aff-065f77c065d5",
   "metadata": {},
   "outputs": [
    {
     "name": "stdout",
     "output_type": "stream",
     "text": [
      "this is fxn2\n"
     ]
    }
   ],
   "source": [
    "# Ans no3\n",
    "\n",
    "'''Multiple inheritance is a feature of object-oriented programming (OOP)\n",
    "where a class can inherit characteristics and behaviors from multiple parent classes. \n",
    "It allows a class to inherit attributes and methods from more than one parent class,\n",
    "thus creating a new class that is a combination of the properties of all its parent classes.'''\n",
    "\n",
    "\n",
    "class class1:\n",
    "    \n",
    "    def fxn1(self):\n",
    "        print(\"this is fxn1\")\n",
    "        \n",
    "class class2:\n",
    "    \n",
    "    def fxn2(self):\n",
    "        print(\"this is fxn2\")\n",
    "        \n",
    "class class3(class1,class2):\n",
    "    \n",
    "    def fxn3(self):\n",
    "        print(\"this is fxn3\")   \n",
    "        \n",
    "        \n",
    "obj3=class3()      \n",
    "obj3.fxn2()"
   ]
  },
  {
   "cell_type": "code",
   "execution_count": 3,
   "id": "3a23a954-05d9-48d7-92c3-045ab01c51f8",
   "metadata": {},
   "outputs": [
    {
     "name": "stdout",
     "output_type": "stream",
     "text": [
      "John Doe\n",
      "Jane Dow\n"
     ]
    }
   ],
   "source": [
    "# Ans no4\n",
    "\n",
    "'''In Python, getters and setters are used to retrieve or set the values of the object's properties.\n",
    "They are also called \"accessors\" and \"mutators\" respectively.\n",
    "These methods provide a way to control access to the object's data and can be used to enforce certain constraints or\n",
    "perform certain actions when the data is retrieved or set.'''\n",
    "\n",
    "\n",
    "class Person:\n",
    "    def __init__(self, name, age):\n",
    "        self._name = name\n",
    "        self._age = age\n",
    "\n",
    "    @property\n",
    "    def name(self):\n",
    "        return self._name\n",
    "\n",
    "    @name.setter\n",
    "    def name(self, name):\n",
    "        self._name = name\n",
    "\n",
    "    @property\n",
    "    def age(self):\n",
    "        return self._age\n",
    "\n",
    "    @age.setter\n",
    "    def age(self, age):\n",
    "        self._age = age\n",
    "        \n",
    "p = Person(\"John Doe\", 30)\n",
    "print(p.name) # Output: John Doe\n",
    "\n",
    "p.name = \"Jane Dow\"\n",
    "print(p.name) # Output: Jane Doe\n",
    "        \n"
   ]
  },
  {
   "cell_type": "code",
   "execution_count": 5,
   "id": "37960033-ee8a-4bb4-817e-07eec70998d9",
   "metadata": {},
   "outputs": [
    {
     "data": {
      "text/plain": [
       "10"
      ]
     },
     "execution_count": 5,
     "metadata": {},
     "output_type": "execute_result"
    }
   ],
   "source": [
    "# Ans no5\n",
    "\n",
    "'''Method overriding is a feature in object-oriented programming (OOP) that allows \n",
    "a subclass to provide a different implementation of a method that is already defined in its superclass.\n",
    "The method in the subclass is said to override the method in the superclass.\n",
    "\n",
    "When a method is overridden, the subclass provides its own definition of the method that is specific to its own behavior and requirements.\n",
    "When an instance of the subclass is called to execute the method,\n",
    "the overridden method in the subclass is executed instead of the method in the superclass.\n",
    "\n",
    "In Python, method overriding is achieved through inheritance. \n",
    "The subclass must have the same name and the same number of arguments as the method in the superclass.\n",
    "The super() function can be used to access the method in the superclass and call it from the overridden method in the subclass if necessary.'''\n",
    "\n",
    "class image:\n",
    "    \n",
    "    def area(self):\n",
    "        pass\n",
    "    \n",
    "class picture(image):\n",
    "    \n",
    "    def __init__(self,hight):\n",
    "        self.h=hight\n",
    "        \n",
    "    def area(self):\n",
    "        return self.h\n",
    "    \n",
    "object=picture(10)\n",
    "object.area()"
   ]
  }
 ],
 "metadata": {
  "kernelspec": {
   "display_name": "Python 3",
   "language": "python",
   "name": "python3"
  },
  "language_info": {
   "codemirror_mode": {
    "name": "ipython",
    "version": 3
   },
   "file_extension": ".py",
   "mimetype": "text/x-python",
   "name": "python",
   "nbconvert_exporter": "python",
   "pygments_lexer": "ipython3",
   "version": "3.11.1"
  },
  "vscode": {
   "interpreter": {
    "hash": "b91f41160b83ffc59c7e17fa6fd02d637d5dcf1d5e59aa2db87d82178661b954"
   }
  }
 },
 "nbformat": 4,
 "nbformat_minor": 5
}
