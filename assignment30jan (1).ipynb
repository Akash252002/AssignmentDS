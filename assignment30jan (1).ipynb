{
 "cells": [
  {
   "cell_type": "code",
   "execution_count": 1,
   "id": "911ec86d-23db-4359-ad21-ae66a3a99923",
   "metadata": {},
   "outputs": [
    {
     "name": "stdin",
     "output_type": "stream",
     "text": [
      "enter your marks 91\n"
     ]
    },
    {
     "name": "stdout",
     "output_type": "stream",
     "text": [
      "you got the A Grade\n"
     ]
    }
   ],
   "source": [
    "# Ans no1\n",
    "\n",
    "#take the input into mark to check Grade\n",
    "mark=int(input(\"enter your marks\"))\n",
    "\n",
    "if mark>90 :\n",
    "    print(\"you got the A Grade\")\n",
    "elif mark>80 and mark<=90 :\n",
    "    print(\"you got the B Grade\")\n",
    "elif mark>=60 and mark<=80 :\n",
    "    print(\"you got the C Grade\")  \n",
    "elif mark<60  :\n",
    "    print(\"you got the D Grade\")    "
   ]
  },
  {
   "cell_type": "code",
   "execution_count": 6,
   "id": "02348815-ebd0-47f7-8a37-2a3dd34140fa",
   "metadata": {},
   "outputs": [
    {
     "name": "stdin",
     "output_type": "stream",
     "text": [
      "enter the price 600\n"
     ]
    },
    {
     "name": "stdout",
     "output_type": "stream",
     "text": [
      "the road tax to bepaid is 5%\n"
     ]
    }
   ],
   "source": [
    "# Ans no2\n",
    "\n",
    "# take the input price to check the rate of bike \n",
    "price = float ( input(\"enter the price\"))\n",
    "\n",
    "if price > 100000 :\n",
    "    print(\"the road tax to be paid is 15%\")\n",
    "elif price > 50000 and price <= 100000 :\n",
    "    print(\"the road tax to be paid is 10%\")\n",
    "else  :\n",
    "    print(\"the road tax to be paid is 5%\")"
   ]
  },
  {
   "cell_type": "code",
   "execution_count": 8,
   "id": "c966dc65-4922-4ec1-bae3-726a64f32493",
   "metadata": {},
   "outputs": [
    {
     "name": "stdin",
     "output_type": "stream",
     "text": [
      "Enter city name Jaipur\n"
     ]
    },
    {
     "name": "stdout",
     "output_type": "stream",
     "text": [
      "The Monument is Jal Mahal\n"
     ]
    }
   ],
   "source": [
    "# Ans no3\n",
    "\n",
    " #declare a dictonary to store the city name and monuments\n",
    "d={\"Delhi\":\"Red Fort\",\"Agra\":\"Taj Mahal\",\"Jaipur\":\"Jal Mahal\"}  \n",
    " #take input city name \n",
    "city=input(\"Enter city name\")\n",
    "print(\"The Monument is \" + d[city])"
   ]
  },
  {
   "cell_type": "code",
   "execution_count": 7,
   "id": "56dfcf7f-95c4-4091-8a81-fb9c61fe35b7",
   "metadata": {},
   "outputs": [
    {
     "name": "stdin",
     "output_type": "stream",
     "text": [
      "Enter  the Number 100\n"
     ]
    },
    {
     "name": "stdout",
     "output_type": "stream",
     "text": [
      "The number can be devided by 3 is 3 time \n"
     ]
    }
   ],
   "source": [
    " #Ans no4 \n",
    "\n",
    "    \n",
    "# take the numer input into n\n",
    "n=int(input(\"Enter  the Number\"))\n",
    "\n",
    "# Declare a variable 'count' to store counting\n",
    "count = 0\n",
    "while n > 10 :\n",
    "        n = n / 3\n",
    "        count += 1\n",
    "        \n",
    "print(\"The number can be devided by 3 is \"+ str(count) +\" time \")      \n",
    "        \n"
   ]
  },
  {
   "cell_type": "code",
   "execution_count": 5,
   "id": "20604952-9ee8-4f38-8f2f-a9667717450c",
   "metadata": {},
   "outputs": [
    {
     "name": "stdout",
     "output_type": "stream",
     "text": [
      "The count is 0\n",
      "The count is 1\n",
      "The count is 2\n",
      "The count is 3\n",
      "The count is 4\n",
      "End of while loop\n"
     ]
    }
   ],
   "source": [
    "# Ans no5\n",
    "\n",
    "'''A while loop in Python is used to execute a block of code repeatedly as long as a certain condition is met.\n",
    "It allows you to repeatedly execute a block of code until a condition is met, at which point the loop is terminated. \n",
    "This makes it useful for a variety of tasks, including:\n",
    "Repeating a set of statements a specific number of times.\n",
    "Iterating through a sequence of elements (e.g., list, tuple, string, etc.).\n",
    "Reading and processing data from a file until all data has been read.\n",
    "Performing some action until a user-specified condition is met.'''\n",
    "\n",
    "'''Here's a simple example that demonstrates how to use a while loop'''\n",
    "count = 0\n",
    "\n",
    "while count < 5:\n",
    "    print(\"The count is\", count)\n",
    "    count = count + 1\n",
    "\n",
    "print(\"End of while loop\")\n",
    "\n",
    "\n",
    "''' NOTE -> It's important to note that if the condition in the while statement is never met,\n",
    "the loop will continue to execute indefinitely. To avoid this, \n",
    "you should make sure that the condition in the while statement eventually becomes false, otherwise the program will hang.'''\n",
    "\n"
   ]
  },
  {
   "cell_type": "code",
   "execution_count": 15,
   "id": "0a0fc5fd-a3ab-430f-9d66-6121364f6994",
   "metadata": {},
   "outputs": [
    {
     "name": "stdout",
     "output_type": "stream",
     "text": [
      "the first pattern is\n",
      "*\n",
      "**\n",
      "***\n",
      "****\n",
      "*****\n",
      "the second pattern is\n",
      "*****\n",
      "****\n",
      "***\n",
      "**\n",
      "*\n",
      "the third pattern is\n",
      "*****\n",
      "*****\n",
      "*****\n",
      "*****\n",
      "*****\n"
     ]
    }
   ],
   "source": [
    "# Ans no6  \n",
    "\n",
    "\n",
    "#1st pattern \n",
    "rows = 5\n",
    "i = 1\n",
    "print(\"the first pattern is\")\n",
    "while i <= rows:\n",
    "    j = 1\n",
    "    while j <= i:\n",
    "        print(\"*\", end=\"\")\n",
    "        j += 1\n",
    "    print(\"\")\n",
    "    i += 1\n",
    "\n",
    "#2nd pattern\n",
    "rows = 5\n",
    "i = rows\n",
    "print(\"the second pattern is\")\n",
    "while i >= 1:\n",
    "    j = 1\n",
    "    while j <= i:\n",
    "        print(\"*\", end=\"\")\n",
    "        j += 1\n",
    "    print(\"\")\n",
    "    i -= 1\n",
    "\n",
    " #3rd pattern\n",
    "rows = 5\n",
    "i = 1\n",
    "print(\"the third pattern is\")\n",
    "while i <= rows:\n",
    "    j = 1\n",
    "    while j <= rows:\n",
    "        print(\"*\", end=\"\")\n",
    "        j += 1\n",
    "    print(\"\")\n",
    "    i += 1\n"
   ]
  },
  {
   "cell_type": "code",
   "execution_count": 6,
   "id": "3a3396ab-f3db-4091-b35f-c75a3f0e6fad",
   "metadata": {},
   "outputs": [
    {
     "name": "stdout",
     "output_type": "stream",
     "text": [
      "10\n",
      "9\n",
      "8\n",
      "7\n",
      "6\n",
      "5\n",
      "4\n",
      "3\n",
      "2\n",
      "1\n"
     ]
    }
   ],
   "source": [
    "# Ans no7\n",
    "\n",
    "# declare a variable 'i' to store the value 10\n",
    "i=10;  \n",
    "\n",
    "while i>0:\n",
    "    #print the the value from 10-1\n",
    "    print(i)\n",
    "    i-=1;"
   ]
  }
 ],
 "metadata": {
  "kernelspec": {
   "display_name": "Python 3 (ipykernel)",
   "language": "python",
   "name": "python3"
  },
  "language_info": {
   "codemirror_mode": {
    "name": "ipython",
    "version": 3
   },
   "file_extension": ".py",
   "mimetype": "text/x-python",
   "name": "python",
   "nbconvert_exporter": "python",
   "pygments_lexer": "ipython3",
   "version": "3.10.8"
  }
 },
 "nbformat": 4,
 "nbformat_minor": 5
}
