{
 "cells": [
  {
   "cell_type": "code",
   "execution_count": null,
   "id": "eeec4b2c-9fdf-4d66-aa99-18cdb53b1e1f",
   "metadata": {},
   "outputs": [],
   "source": [
    "# Ans no1\n",
    "\n",
    " python programming language was developed by Guido van Rossum"
   ]
  },
  {
   "cell_type": "code",
   "execution_count": null,
   "id": "058af728-4a47-49f3-9f2b-3b2b3e2b4e02",
   "metadata": {},
   "outputs": [],
   "source": [
    "# Ans no2 \n",
    "\n",
    "Python supports multiple programming paradigms including:\n",
    "\n",
    "Object-Oriented Programming (OOP)\n",
    "Functional Programming\n",
    "Procedural Programming\n",
    "Aspect-Oriented Programming\n",
    "Scripting\n",
    "etc."
   ]
  },
  {
   "cell_type": "code",
   "execution_count": null,
   "id": "cb870156-0899-417b-a65c-c842fc73f54e",
   "metadata": {},
   "outputs": [],
   "source": [
    "# Ans no3\n",
    "\n",
    "Yes, Python is case sensitive when dealing with identifiers, meaning that names like \"foo\" and \"Foo\" would be treated as two different identifiers."
   ]
  },
  {
   "cell_type": "code",
   "execution_count": null,
   "id": "31e8c7ce-e65a-41c4-8371-f3ee3faade0e",
   "metadata": {},
   "outputs": [],
   "source": [
    "# Ans no4\n",
    "\n",
    "The correct extension for a Python file is .py."
   ]
  },
  {
   "cell_type": "code",
   "execution_count": null,
   "id": "140cb98a-251e-48d3-a2b9-21a2b8746efe",
   "metadata": {},
   "outputs": [],
   "source": [
    "# Ans no5\n",
    "\n",
    "Python is an interpreted language, not a compiled language. This means that the source code is executed line by line, \n",
    "rather than being compiled into machine code and executed directly by the computer. This makes it easier to develop and debug code,\n",
    "but can also result in slower performance compared to compiled languages like C or C++."
   ]
  },
  {
   "cell_type": "code",
   "execution_count": null,
   "id": "de7c4bfb-7623-432b-ae7f-ceda6689a18b",
   "metadata": {},
   "outputs": [],
   "source": [
    "#Ans no6\n",
    "\n",
    "module \n",
    "function \n",
    "class"
   ]
  },
  {
   "cell_type": "code",
   "execution_count": null,
   "id": "93f8eed0-38d8-40f3-8a1e-643dd72be974",
   "metadata": {},
   "outputs": [],
   "source": [
    "# Ans no7\n",
    "\n",
    "#  (Hasgtag) used to  for single line comment in python"
   ]
  },
  {
   "cell_type": "code",
   "execution_count": null,
   "id": "c5378916-fe4d-41c6-93f0-f805c6df24b1",
   "metadata": {},
   "outputs": [],
   "source": [
    "# Ans no8\n",
    "\n",
    "on commandline using--> python --version\n",
    "by using function -->  python_version()\n",
    "by using methodes -->  sys.version"
   ]
  },
  {
   "cell_type": "code",
   "execution_count": null,
   "id": "4d3b63c1-76d4-4b16-99bd-629549811ede",
   "metadata": {},
   "outputs": [],
   "source": [
    "# Ans no9\n",
    "\n",
    "In Python, anonymous functions can be created at runtime using the lambda construct. \n",
    "lambda functions are also known as anonymous functions or throwaway functions because they are used to quickly define a small \n",
    "function that is not meant to be used again later in the code.\n",
    "example-\n",
    "f = lambda x, y: x + y\n",
    "print(f(1, 2))\n",
    "In the above example, lambda is used to define a function that takes two arguments x and y, and returns the sum of these two arguments."
   ]
  },
  {
   "cell_type": "code",
   "execution_count": null,
   "id": "a2f2622e-3392-4600-a2a7-5c31514901c9",
   "metadata": {},
   "outputs": [],
   "source": [
    "# Ans no10\n",
    "\n",
    "PIP stands for \"Pip Installs Packages.\" It is a package manager for Python packages, or modules if you like. PIP makes it easy to install and manage packages in Python, allowing you to easily add new functionality to your Python environment. With PIP, you can search for, install, and upgrade packages with a single command. It is a tool that simplifies the process of installing and managing packages in Python, making it an essential tool for Python developers."
   ]
  },
  {
   "cell_type": "code",
   "execution_count": null,
   "id": "8fc4f54f-f665-468b-a448-bdc2dca55e9b",
   "metadata": {},
   "outputs": [],
   "source": [
    "# Ans no11\n",
    "\n",
    "Here are some of the built-in functions in Python:\n",
    "\n",
    "print(): used to display output on the screen.\n",
    "len(): used to find the length of a sequence such as a string, list, or tuple.\n",
    "type(): used to find the data type of an object.\n",
    "int(), float(), str(): used to convert one data type to another.\n",
    "sum(): used to find the sum of elements in a list or tuple.\n",
    "max() and min(): used to find the maximum and minimum values in a list or tuple.\n",
    "sorted(): used to sort a list or tuple.\n",
    "range(): used to generate a sequence of numbers.\n",
    "enumerate(): used to get the index and value of elements in a list or tuple.\n",
    "zip(): used to combine elements from multiple lists or tuples into a single list of tuples.\n",
    "These are just a few of the many built-in functions in Python. There are many others that can be used for various purposes, \n",
    "such as working with files, managing time and dates, and more."
   ]
  },
  {
   "cell_type": "code",
   "execution_count": null,
   "id": "f611a162-77c1-41d8-b962-4a70ef36efc8",
   "metadata": {},
   "outputs": [],
   "source": [
    "# Ans no12\n",
    "\n",
    "In Python, there is no explicit limit to the length of an identifier (variable, function name, etc.).\n",
    "The length of an identifier is limited by the available memory of the system. However,\n",
    "it is recommended to keep the length of an identifier short and descriptive, to improve code readability and maintainability."
   ]
  },
  {
   "cell_type": "code",
   "execution_count": 1,
   "id": "c31aeede-7782-4f01-98d1-f2e47ed4fdd6",
   "metadata": {},
   "outputs": [],
   "source": [
    "# Ans no13\n",
    "\n",
    "Here is a list of the benefits of using Python:\n",
    "\n",
    "Easy to learn and use\n",
    "Versatile\n",
    "Large community\n",
    "Large standard library\n",
    "Cross-platform compatibility\n",
    "Dynamic typing\n",
    "Good for prototyping\n",
    "Fast and efficient"
   ]
  },
  {
   "cell_type": "code",
   "execution_count": null,
   "id": "5d2e3d30-6993-43f5-a44e-38aebbab40b9",
   "metadata": {},
   "outputs": [],
   "source": [
    "# Ans no14\n",
    "\n",
    "Here is a list summarizing how memory is managed in Python:\n",
    "\n",
    "Python memory manager is part of the Python interpreter.\n",
    "Memory is allocated and freed automatically as needed by the program.\n",
    "Python uses a reference count system to track references to objects.\n",
    "When the reference count of an object drops to zero, the memory is automatically freed.\n",
    "Python uses a garbage collector to reclaim memory occupied by unused objects.\n",
    "The garbage collector periodically checks for unreferenced objects and frees their memory.\n",
    "Memory management in Python is efficient and eliminates the need for manual memory management.\n",
    "It helps to reduce the risk of memory leaks in Python programs."
   ]
  },
  {
   "cell_type": "code",
   "execution_count": null,
   "id": "55c98b84-c083-48a9-97bb-f0bfc72f20f4",
   "metadata": {},
   "outputs": [],
   "source": [
    "#Ans no15\n",
    "\n",
    "To install Python on Windows and set the PATH variable:\n",
    "\n",
    "Download Python from the official website.\n",
    "Run the Python installer and follow the prompts.\n",
    "Open System Properties, go to Advanced system settings and Environment Variables.\n",
    "Find the Path variable and edit it, adding the path to the Python executable.\n",
    "Restart the command prompt or open a new one.\n",
    "Now you can run Python from any directory by typing \"python\" in the command prompt."
   ]
  },
  {
   "cell_type": "code",
   "execution_count": null,
   "id": "8fbe6d39-2343-4bfc-94b1-1562dd2998c1",
   "metadata": {},
   "outputs": [],
   "source": [
    "# Ans no 16\n",
    "\n",
    "Yes, indentation is required in Python as it is used to indicate the code block structure. \n",
    "Unlike other programming languages that use curly braces or keywords to delimit code blocks, Python uses indentation.\n",
    "Each block of code, such as a loop or an if statement, must be indented with a consistent number of spaces or tabs to indicate \n",
    "that it is part of the same code block. This makes Python code easy to read and understand, and is one of the defining features of the language.\n",
    "Failure to properly indent code can result in syntax errors and unexpected behavior."
   ]
  }
 ],
 "metadata": {
  "kernelspec": {
   "display_name": "Python 3 (ipykernel)",
   "language": "python",
   "name": "python3"
  },
  "language_info": {
   "codemirror_mode": {
    "name": "ipython",
    "version": 3
   },
   "file_extension": ".py",
   "mimetype": "text/x-python",
   "name": "python",
   "nbconvert_exporter": "python",
   "pygments_lexer": "ipython3",
   "version": "3.10.8"
  }
 },
 "nbformat": 4,
 "nbformat_minor": 5
}
