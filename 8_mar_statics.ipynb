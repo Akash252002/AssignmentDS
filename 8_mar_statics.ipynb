{
  "nbformat": 4,
  "nbformat_minor": 0,
  "metadata": {
    "colab": {
      "provenance": []
    },
    "kernelspec": {
      "name": "python3",
      "display_name": "Python 3"
    },
    "language_info": {
      "name": "python"
    }
  },
  "cells": [
    {
      "cell_type": "code",
      "execution_count": 1,
      "metadata": {
        "id": "H8KtfLhZEO3f"
      },
      "outputs": [],
      "source": [
        "import logging\n",
        "logging.basicConfig(filrname='8mar.log',level=logging.INFO, format='%(asctime)s %(message)s')"
      ]
    },
    {
      "cell_type": "code",
      "source": [
        "# Ans no1\n",
        "\n",
        "logging.info(\"probablity density function\") \n",
        "\n",
        "'''\n",
        "A probability density function (PDF) is a function that helps us understand the likelihood of a continuous random variable taking on different values.\n",
        "\n",
        "For example, suppose we have a random variable X that represents the height of people.\n",
        "The PDF of X will give us information about how likely it is to observe a person of a certain height.\n",
        "\n",
        "The PDF is defined so that it is always non-negative, and the total area under the curve of the PDF is equal to 1.\n",
        "This means that if we add up the probabilities of all possible values of X, the total probability will be 1.\n",
        "\n",
        "So, for any given value of X, the PDF tells us how probable that value is. \n",
        "If the PDF is high for a certain range of values, \n",
        "it means that values in that range are more likely to occur. \n",
        "On the other hand, if the PDF is low for a certain range of values, \n",
        "it means that values in that range are less likely to occur.\n",
        "'''"
      ],
      "metadata": {
        "id": "vLDu5ShJEuQz",
        "colab": {
          "base_uri": "https://localhost:8080/",
          "height": 105
        },
        "outputId": "c37e8824-d2f6-4810-dd33-3c5b75eaa613"
      },
      "execution_count": 2,
      "outputs": [
        {
          "output_type": "execute_result",
          "data": {
            "text/plain": [
              "'\\nA probability density function (PDF) is a function that helps us understand the likelihood of a continuous random variable taking on different values.\\n\\nFor example, suppose we have a random variable X that represents the height of people.\\nThe PDF of X will give us information about how likely it is to observe a person of a certain height.\\n\\nThe PDF is defined so that it is always non-negative, and the total area under the curve of the PDF is equal to 1.\\nThis means that if we add up the probabilities of all possible values of X, the total probability will be 1.\\n\\nSo, for any given value of X, the PDF tells us how probable that value is. \\nIf the PDF is high for a certain range of values, \\nit means that values in that range are more likely to occur. \\nOn the other hand, if the PDF is low for a certain range of values, \\nit means that values in that range are less likely to occur.\\n'"
            ],
            "application/vnd.google.colaboratory.intrinsic+json": {
              "type": "string"
            }
          },
          "metadata": {},
          "execution_count": 2
        }
      ]
    },
    {
      "cell_type": "code",
      "source": [
        "# Ans no2\n",
        "\n",
        "logging.info(\"answering the question no2 types of PDF(probablity distribution function)\")\n",
        "\n",
        "'''\n",
        "There are several types of probability distributions\n",
        "'''\n",
        "\n",
        "'''\n",
        "Normal Distribution: Also known as the Gaussian distribution,\n",
        "it is a bell-shaped distribution that is symmetric around the mean. \n",
        "Many natural phenomena such as height, weight, and IQ follow this distribution.\n",
        "\n",
        "Binomial Distribution: A discrete probability distribution that models the number of successes\n",
        "in a fixed number of independent trials with a fixed probability of success. \n",
        "It is often used in statistical inference and hypothesis testing.\n",
        "\n",
        "Poisson Distribution: A discrete probability distribution that models the number of events occurring in a fixed interval of time or space,\n",
        "given the average rate of occurrence. It is often used to model rare events such as accidents or machine failures.\n",
        "\n",
        "Exponential Distribution: A continuous probability distribution that models the time between events occurring in a Poisson process. \n",
        "It is often used to model waiting times or time until an event occurs.\n",
        "\n",
        "Uniform Distribution: A continuous probability distribution where all values in the range of the distribution are equally likely to occur.\n",
        "\n",
        "Beta Distribution: A continuous probability distribution that models the probabilities of success and failure in a Bernoulli trial, \n",
        "where the probability of success is a random variable.\n",
        "\n",
        "'''\n"
      ],
      "metadata": {
        "id": "zd7edtQ-FTSs",
        "colab": {
          "base_uri": "https://localhost:8080/",
          "height": 123
        },
        "outputId": "866d8bec-cab8-4eef-89d1-8705e21f978b"
      },
      "execution_count": 3,
      "outputs": [
        {
          "output_type": "execute_result",
          "data": {
            "text/plain": [
              "'\\nNormal Distribution: Also known as the Gaussian distribution,\\nit is a bell-shaped distribution that is symmetric around the mean. \\nMany natural phenomena such as height, weight, and IQ follow this distribution.\\n\\nBinomial Distribution: A discrete probability distribution that models the number of successes\\nin a fixed number of independent trials with a fixed probability of success. \\nIt is often used in statistical inference and hypothesis testing.\\n\\nPoisson Distribution: A discrete probability distribution that models the number of events occurring in a fixed interval of time or space,\\ngiven the average rate of occurrence. It is often used to model rare events such as accidents or machine failures.\\n\\nExponential Distribution: A continuous probability distribution that models the time between events occurring in a Poisson process. \\nIt is often used to model waiting times or time until an event occurs.\\n\\nUniform Distribution: A continuous probability distribution where all values in the range of the distribution are equally likely to occur.\\n\\nBeta Distribution: A continuous probability distribution that models the probabilities of success and failure in a Bernoulli trial, \\nwhere the probability of success is a random variable.\\n\\n'"
            ],
            "application/vnd.google.colaboratory.intrinsic+json": {
              "type": "string"
            }
          },
          "metadata": {},
          "execution_count": 3
        }
      ]
    },
    {
      "cell_type": "code",
      "source": [
        "# Ans no3\n",
        "\n",
        "logging.info(\"answering the question no3\")\n",
        "from scipy.stats import norm\n",
        "\n",
        "def normal_pdf(x, mu, sigma):\n",
        "    \"\"\"\n",
        "    Calculates the probability density function of a normal distribution with given mean and standard deviation\n",
        "    at a given point x.\n",
        "\n",
        "    Args:\n",
        "        x (float): The point at which to calculate the PDF.\n",
        "        mu (float): The mean of the normal distribution.\n",
        "        sigma (float): The standard deviation of the normal distribution.\n",
        "\n",
        "    Returns:\n",
        "        float: The PDF of the normal distribution at the given point x.\n",
        "    \"\"\"\n",
        "    return norm.pdf(x, loc=mu, scale=sigma)\n",
        "    \n",
        "\"\"\"    zscore=(x-mu)/sigma\n",
        "    or calculate the area from z table and return it\"\"\"\n",
        "\n"
      ],
      "metadata": {
        "id": "tWpaZj8W-WIJ",
        "colab": {
          "base_uri": "https://localhost:8080/",
          "height": 36
        },
        "outputId": "5fa53749-74f1-4e07-9c61-7059c3c9d27c"
      },
      "execution_count": 2,
      "outputs": [
        {
          "output_type": "execute_result",
          "data": {
            "text/plain": [
              "'    zscore=(x-mu)/sigma\\n    or calculate the area from z table and return it'"
            ],
            "application/vnd.google.colaboratory.intrinsic+json": {
              "type": "string"
            }
          },
          "metadata": {},
          "execution_count": 2
        }
      ]
    },
    {
      "cell_type": "code",
      "source": [
        "# Ans no4\n",
        "\n",
        "logging.info(\"answering the question no4\")\n",
        "\n",
        "'''\n",
        "The Binomial distribution is a discrete probability distribution that models the probability of a certain number \n",
        "of successful outcomes in a fixed number of independent trials, where the probability of success is constant.\n",
        "\n",
        "The properties of the Binomial distribution are as follows:\n",
        "\n",
        "The probability of success remains constant for each trial.\n",
        "The trials are independent of each other.\n",
        "There are a fixed number of trials.\n",
        "Each trial has only two possible outcomes: success or failure.\n",
        "The random variable X, representing the number of successes, has a Binomial distribution.\n",
        "\n",
        "Two examples of events where Binomial distribution can be applied are:\n",
        "\n",
        "Tossing a coin multiple times: \n",
        "Suppose you flip a coin 10 times and you want to know the probability of getting 7 heads. \n",
        "Each flip is independent of the others, and the probability of getting heads remains constant at 0.5. Therefore, \n",
        "this scenario can be modeled using a Binomial distribution.\n",
        "\n",
        "Manufacturing defects: \n",
        "Suppose a manufacturing plant produces 1000 units of a product, \n",
        "and the probability of a unit being defective is 0.01. \n",
        "If we want to know the probability of having 20 or more defective units, \n",
        "this can also be modeled using a Binomial distribution.\n",
        "'''"
      ],
      "metadata": {
        "id": "3-31If3T-I4f",
        "colab": {
          "base_uri": "https://localhost:8080/",
          "height": 123
        },
        "outputId": "2d2bef25-1688-4342-babb-93f9ae18c9fc"
      },
      "execution_count": 3,
      "outputs": [
        {
          "output_type": "execute_result",
          "data": {
            "text/plain": [
              "'\\nThe Binomial distribution is a discrete probability distribution that models the probability of a certain number \\nof successful outcomes in a fixed number of independent trials, where the probability of success is constant.\\n\\nThe properties of the Binomial distribution are as follows:\\n\\nThe probability of success remains constant for each trial.\\nThe trials are independent of each other.\\nThere are a fixed number of trials.\\nEach trial has only two possible outcomes: success or failure.\\nThe random variable X, representing the number of successes, has a Binomial distribution.\\n\\nTwo examples of events where Binomial distribution can be applied are:\\n\\nTossing a coin multiple times: \\nSuppose you flip a coin 10 times and you want to know the probability of getting 7 heads. \\nEach flip is independent of the others, and the probability of getting heads remains constant at 0.5. Therefore, \\nthis scenario can be modeled using a Binomial distribution.\\n\\nManufacturing defects: \\nSuppose a manufacturing plant produces 1000 units of a product, \\nand the probability of a unit being defective is 0.01. \\nIf we want to know the probability of having 20 or more defective units, \\nthis can also be modeled using a Binomial distribution.\\n'"
            ],
            "application/vnd.google.colaboratory.intrinsic+json": {
              "type": "string"
            }
          },
          "metadata": {},
          "execution_count": 3
        }
      ]
    },
    {
      "cell_type": "code",
      "source": [
        "# Ans no5\n",
        "\n",
        "\n",
        "logging.info(\"answering the question no5\")\n",
        "import numpy as np\n",
        "import matplotlib.pyplot as plt\n",
        "\n",
        "# Set the probability of success and the sample size\n",
        "p = 0.4\n",
        "n = 1000\n",
        "\n",
        "# Generate a random sample from a binomial distribution with parameters p and n\n",
        "sample = np.random.binomial(n, p, size=1000)\n",
        "\n",
        "# Plot a histogram of the sample\n",
        "plt.hist(sample, bins=20, edgecolor='black')\n",
        "plt.title('Binomial Distribution')\n",
        "plt.xlabel('Number of Successes')\n",
        "plt.ylabel('Frequency')\n",
        "plt.show()\n",
        "\n"
      ],
      "metadata": {
        "colab": {
          "base_uri": "https://localhost:8080/",
          "height": 295
        },
        "id": "Ra9W5cXHgzBt",
        "outputId": "5323d81e-f5e0-475f-c293-a1be8bd8b351"
      },
      "execution_count": 4,
      "outputs": [
        {
          "output_type": "display_data",
          "data": {
            "text/plain": [
              "<Figure size 432x288 with 1 Axes>"
            ],
            "image/png": "[encoded data removed]"
          },
          "metadata": {
            "needs_background": "light"
          }
        }
      ]
    },
    {
      "cell_type": "code",
      "source": [
        "# Ans no6\n",
        "\n",
        "\n",
        "logging.info(\"answering the question no6\")\n",
        "import math\n",
        "\n",
        "def poisson_cdf(mean, point):\n",
        "    cdf = 0\n",
        "    for i in range(point + 1):\n",
        "        cdf += (math.exp(-mean) * mean**i) / math.factorial(i)\n",
        "    return cdf\n"
      ],
      "metadata": {
        "id": "uLrx8q3jg5T_"
      },
      "execution_count": 5,
      "outputs": []
    },
    {
      "cell_type": "code",
      "source": [
        "#Ans no7\n",
        "\n",
        "\n",
        "logging.info(\"answering the question no7\")\n",
        "'''\n",
        "The Binomial and Poisson distributions are both probability distributions that are used to model the number of occurrences of a particular event,\n",
        "but they differ in several ways.\n",
        "\n",
        "Definition:\n",
        "The Binomial distribution is the probability distribution of the number of successes in a fixed number of independent trials. \n",
        "Each trial has only two possible outcomes, success or failure, and the probability of success remains constant across all trials.\n",
        "\n",
        "The Poisson distribution, on the other hand, is the probability distribution of the number of rare events that occur in a fixed interval of time or space.\n",
        "It is often used to model the number of occurrences of an event within a specific time or space, where the events are rare and independent of each other.\n",
        "\n",
        "Parameters:\n",
        "The Binomial distribution has two parameters: the number of trials and the probability of success.\n",
        "\n",
        "The Poisson distribution has one parameter: the average rate of occurrence of the events.\n",
        "\n",
        "Shape:\n",
        "The Binomial distribution is a discrete distribution, meaning that the possible values of the random variable are discrete integers.\n",
        "\n",
        "The Poisson distribution is also a discrete distribution, but it has a different shape. \n",
        "The Poisson distribution is skewed to the right, with a long tail that extends to the right.\n",
        "\n",
        "'''\n",
        "\n"
      ],
      "metadata": {
        "colab": {
          "base_uri": "https://localhost:8080/",
          "height": 123
        },
        "id": "eL1G2FVIhzQi",
        "outputId": "b2c2cb22-ce26-448b-c19b-1be84d494866"
      },
      "execution_count": 6,
      "outputs": [
        {
          "output_type": "execute_result",
          "data": {
            "text/plain": [
              "'\\nThe Binomial and Poisson distributions are both probability distributions that are used to model the number of occurrences of a particular event,\\nbut they differ in several ways.\\n\\nDefinition:\\nThe Binomial distribution is the probability distribution of the number of successes in a fixed number of independent trials. \\nEach trial has only two possible outcomes, success or failure, and the probability of success remains constant across all trials.\\n\\nThe Poisson distribution, on the other hand, is the probability distribution of the number of rare events that occur in a fixed interval of time or space.\\nIt is often used to model the number of occurrences of an event within a specific time or space, where the events are rare and independent of each other.\\n\\nParameters:\\nThe Binomial distribution has two parameters: the number of trials and the probability of success.\\n\\nThe Poisson distribution has one parameter: the average rate of occurrence of the events.\\n\\nShape:\\nThe Binomial distribution is a discrete distribution, meaning that the possible values of the random variable are discrete integers.\\n\\nThe Poisson distribution is also a discrete distribution, but it has a different shape. \\nThe Poisson distribution is skewed to the right, with a long tail that extends to the right.\\n\\n'"
            ],
            "application/vnd.google.colaboratory.intrinsic+json": {
              "type": "string"
            }
          },
          "metadata": {},
          "execution_count": 6
        }
      ]
    },
    {
      "cell_type": "code",
      "source": [
        "# Ans no8\n",
        "\n",
        "\n",
        "logging.info(\"answering the question no8\")\n",
        "import numpy as np\n",
        "\n",
        "\n",
        "# Generate a random sample of size 1000 from a Poisson distribution with mean 5\n",
        "sample = np.random.poisson(5, size=1000)\n",
        "\n",
        "# Calculate the sample mean and variance\n",
        "sample_mean = np.mean(sample)\n",
        "sample_variance = np.var(sample)\n",
        "\n",
        "# Print the results\n",
        "print(\"Sample mean:\", sample_mean)\n",
        "print(\"Sample variance:\", sample_variance)\n"
      ],
      "metadata": {
        "colab": {
          "base_uri": "https://localhost:8080/"
        },
        "id": "gq3WxkE7kfog",
        "outputId": "1ee96bab-46ad-46e6-f64e-9b826bf25543"
      },
      "execution_count": 7,
      "outputs": [
        {
          "output_type": "stream",
          "name": "stdout",
          "text": [
            "Sample mean: 4.985\n",
            "Sample variance: 4.7387749999999995\n"
          ]
        }
      ]
    },
    {
      "cell_type": "code",
      "source": [
        "# Ans no9\n",
        "\n",
        "\n",
        "logging.info(\"answering the question no9\")\n",
        "'''\n",
        "In the Binomial distribution, the mean and variance are related by the following equation:\n",
        "\n",
        "mean = n * p\n",
        "\n",
        "variance = n * p * (1 - p)\n",
        "\n",
        "where n is the number of trials, and p is the probability of success in each trial.\n",
        "\n",
        "The variance of the Binomial distribution increases as p approaches 0.5,\n",
        "which means that the spread of the distribution increases when the probability of success is closer to 0.5.\n",
        "\n",
        "In the Poisson distribution, the mean and variance are equal, and they are both equal to λ, \n",
        "which is the average rate of occurrence of the events.\n",
        "\n",
        "mean = variance = λ\n",
        "\n",
        "The Poisson distribution has a constant variance,\n",
        "regardless of the value of λ. This means that the spread of the distribution is always the same, regardless of the average rate of occurrence of the events.\n",
        "\n",
        "In summary, the mean and variance of the Binomial distribution are related, \n",
        "and the variance depends on the probability of success. \n",
        "In contrast, the mean and variance of the Poisson distribution are equal, \n",
        "and the variance is constant and does not depend on the average rate of occurrence of the events.\n",
        "'''"
      ],
      "metadata": {
        "colab": {
          "base_uri": "https://localhost:8080/",
          "height": 123
        },
        "id": "-5xZzpHAleMA",
        "outputId": "fdc1ee2d-de6c-455a-e241-f258eeec5f01"
      },
      "execution_count": 8,
      "outputs": [
        {
          "output_type": "execute_result",
          "data": {
            "text/plain": [
              "'\\nIn the Binomial distribution, the mean and variance are related by the following equation:\\n\\nmean = n * p\\n\\nvariance = n * p * (1 - p)\\n\\nwhere n is the number of trials, and p is the probability of success in each trial.\\n\\nThe variance of the Binomial distribution increases as p approaches 0.5,\\nwhich means that the spread of the distribution increases when the probability of success is closer to 0.5.\\n\\nIn the Poisson distribution, the mean and variance are equal, and they are both equal to λ, \\nwhich is the average rate of occurrence of the events.\\n\\nmean = variance = λ\\n\\nThe Poisson distribution has a constant variance,\\nregardless of the value of λ. This means that the spread of the distribution is always the same, regardless of the average rate of occurrence of the events.\\n\\nIn summary, the mean and variance of the Binomial distribution are related, \\nand the variance depends on the probability of success. \\nIn contrast, the mean and variance of the Poisson distribution are equal, \\nand the variance is constant and does not depend on the average rate of occurrence of the events.\\n'"
            ],
            "application/vnd.google.colaboratory.intrinsic+json": {
              "type": "string"
            }
          },
          "metadata": {},
          "execution_count": 8
        }
      ]
    },
    {
      "cell_type": "code",
      "source": [
        "# Ans no10\n",
        "\n",
        "\n",
        "logging.info(\"answering the question no10\")\n",
        "\n",
        "'''In a normal distribution, the least frequent data appears in the tails of the distribution,\n",
        " which are the areas of the distribution that are furthest away from the mean.\n",
        "\n",
        "The normal distribution is a symmetric distribution, which means that the mean, median, and mode are all equal and located at the center of the distribution. \n",
        "As you move away from the mean in either direction, the frequency of data decreases. \n",
        "The areas under the curve that represent the tails of the distribution contain the least frequent data.\n",
        "\n",
        "For example, \n",
        "in a standard normal distribution with a mean of 0 and a standard deviation of 1,\n",
        "approximately 68% of the data falls within one standard deviation of the mean,\n",
        "95% of the data falls within two standard deviations of the mean, \n",
        "and 99.7% of the data falls within three standard deviations of the mean. \n",
        "The remaining 0.3% of the data is spread out in the tails of the distribution, \n",
        "with the least frequent data appearing in the areas that are farthest away from the mean.\n",
        "\n",
        "In summary, the least frequent data in a normal distribution appears in the tails of the distribution,\n",
        "which are the areas that are furthest away from the mean.\n",
        "'''\n"
      ],
      "metadata": {
        "colab": {
          "base_uri": "https://localhost:8080/",
          "height": 123
        },
        "id": "JJJFcLg-oj17",
        "outputId": "5d212558-39b5-4bfc-d290-d58d931b8892"
      },
      "execution_count": 9,
      "outputs": [
        {
          "output_type": "execute_result",
          "data": {
            "text/plain": [
              "'In a normal distribution, the least frequent data appears in the tails of the distribution,\\n which are the areas of the distribution that are furthest away from the mean.\\n\\nThe normal distribution is a symmetric distribution, which means that the mean, median, and mode are all equal and located at the center of the distribution. \\nAs you move away from the mean in either direction, the frequency of data decreases. \\nThe areas under the curve that represent the tails of the distribution contain the least frequent data.\\n\\nFor example, \\nin a standard normal distribution with a mean of 0 and a standard deviation of 1,\\napproximately 68% of the data falls within one standard deviation of the mean,\\n95% of the data falls within two standard deviations of the mean, \\nand 99.7% of the data falls within three standard deviations of the mean. \\nThe remaining 0.3% of the data is spread out in the tails of the distribution, \\nwith the least frequent data appearing in the areas that are farthest away from the mean.\\n\\nIn summary, the least frequent data in a normal distribution appears in the tails of the distribution,\\nwhich are the areas that are furthest away from the mean.\\n'"
            ],
            "application/vnd.google.colaboratory.intrinsic+json": {
              "type": "string"
            }
          },
          "metadata": {},
          "execution_count": 9
        }
      ]
    }
  ]
}