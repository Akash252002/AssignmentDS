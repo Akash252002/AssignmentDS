{
 "cells": [
  {
   "cell_type": "code",
   "execution_count": 4,
   "metadata": {},
   "outputs": [],
   "source": [
    "import logging\n",
    "logging.basicConfig(filename='26feb.log',level=logging.INFO)\n",
    "\n",
    "import numpy as np\n",
    "list_ = [ '1','2','3','4','5']\n",
    "array_list = np.array(object = list_)"
   ]
  },
  {
   "cell_type": "code",
   "execution_count": 16,
   "metadata": {},
   "outputs": [
    {
     "name": "stdout",
     "output_type": "stream",
     "text": [
      "the list is ['1', '2', '3', '4', '5']\n",
      "the numpy array is [1 2 3 4 5]\n"
     ]
    }
   ],
   "source": [
    "# Ans no1\n",
    "\n",
    "logging.info(\"difference between array and list\")\n",
    "\n",
    "'''   \n",
    "In Python, list_ is a built-in data type for representing a collection of items, \n",
    "which can be of different data types, such as integers, strings, or even other lists. \n",
    "On the other hand, array_list is a data type provided by the NumPy library, \n",
    "which represents an array of homogeneous data type, such as integers or floating-point numbers.\n",
    "'''\n",
    "\n",
    "\n",
    "print(\"the list is\",list_)\n",
    "print(\"the numpy array is\",array_list)"
   ]
  },
  {
   "cell_type": "code",
   "execution_count": 12,
   "metadata": {},
   "outputs": [
    {
     "name": "stdout",
     "output_type": "stream",
     "text": [
      "<class 'str'>\n",
      "<class 'str'>\n",
      "<class 'str'>\n",
      "<class 'str'>\n",
      "<class 'str'>\n",
      "<class 'numpy.str_'>\n",
      "<class 'numpy.str_'>\n",
      "<class 'numpy.str_'>\n",
      "<class 'numpy.str_'>\n",
      "<class 'numpy.str_'>\n"
     ]
    }
   ],
   "source": [
    "# Ans no2\n",
    "\n",
    "logging.info(\"the data type of each and every element of both the variables list_ and array_list.\")\n",
    "\n",
    "list_ = [ '1','2','3','4','5']\n",
    "array_list = np.array(object = list_)\n",
    "\n",
    "for i in list_:\n",
    "    print(type(i))\n",
    "\n",
    "for i in array_list:\n",
    "    print(type(i))    "
   ]
  },
  {
   "cell_type": "code",
   "execution_count": 19,
   "metadata": {},
   "outputs": [
    {
     "name": "stdout",
     "output_type": "stream",
     "text": [
      "<class 'str'>\n",
      "<class 'str'>\n",
      "<class 'str'>\n",
      "<class 'str'>\n",
      "<class 'str'>\n",
      "<class 'numpy.int32'>\n",
      "<class 'numpy.int32'>\n",
      "<class 'numpy.int32'>\n",
      "<class 'numpy.int32'>\n",
      "<class 'numpy.int32'>\n"
     ]
    }
   ],
   "source": [
    "# Ans no3\n",
    "\n",
    "logging.info(\"answering the qus 3\")\n",
    "\n",
    "array_list = np.array(object = list_, dtype = int)\n",
    "\n",
    "'''\n",
    "Yes, there will be a difference in the data type of the elements \n",
    "present in list_ and array_list after arra_list is created using the np.array()\n",
    "function with a dtype of int.\n",
    "\n",
    "'''\n",
    "for i in list_:\n",
    "    print(type(i))\n",
    "\n",
    "for i in array_list:\n",
    "    print(type(i))  "
   ]
  },
  {
   "cell_type": "code",
   "execution_count": 24,
   "metadata": {},
   "outputs": [
    {
     "name": "stdout",
     "output_type": "stream",
     "text": [
      "(2, 3)\n",
      "6\n"
     ]
    }
   ],
   "source": [
    "# Ans no4\n",
    "\n",
    "import numpy as np\n",
    "num_list = [ [ 1 , 2 , 3 ] , [ 4 , 5 , 6 ] ]\n",
    "num_array = np.array(object = num_list)\n",
    "\n",
    "# shape  will return the shape of the num_array\n",
    "print(num_array.shape)\n",
    "\n",
    "# size  will return the size of the num_array\n",
    "print(num_array.size)\n"
   ]
  },
  {
   "cell_type": "code",
   "execution_count": 27,
   "metadata": {},
   "outputs": [
    {
     "name": "stdout",
     "output_type": "stream",
     "text": [
      "[[0. 0. 0.]\n",
      " [0. 0. 0.]\n",
      " [0. 0. 0.]]\n",
      "(3, 3)\n",
      "9\n"
     ]
    }
   ],
   "source": [
    "# Ans no5\n",
    "\n",
    "logging.info(\"creating numpy array of 3*3 matrix containing zeros only\")\n",
    "\n",
    "arr=np.zeros((3,3))\n",
    "print(arr)\n",
    "print(arr.shape)\n",
    "print(arr.size)"
   ]
  },
  {
   "cell_type": "code",
   "execution_count": 30,
   "metadata": {},
   "outputs": [
    {
     "name": "stdout",
     "output_type": "stream",
     "text": [
      "[[1. 0. 0. 0. 0.]\n",
      " [0. 1. 0. 0. 0.]\n",
      " [0. 0. 1. 0. 0.]\n",
      " [0. 0. 0. 1. 0.]\n",
      " [0. 0. 0. 0. 1.]]\n"
     ]
    }
   ],
   "source": [
    "# Ans no6\n",
    "\n",
    "logging.info(\"Creating an identity matrix of shape (5,5) using numpy functions\")\n",
    "\n",
    "# creating using numpy function\n",
    "arrd=np.eye(5,5)\n",
    "print(arrd)\n"
   ]
  },
  {
   "cell_type": "code",
   "execution_count": null,
   "metadata": {},
   "outputs": [],
   "source": []
  }
 ],
 "metadata": {
  "kernelspec": {
   "display_name": "Python 3",
   "language": "python",
   "name": "python3"
  },
  "language_info": {
   "codemirror_mode": {
    "name": "ipython",
    "version": 3
   },
   "file_extension": ".py",
   "mimetype": "text/x-python",
   "name": "python",
   "nbconvert_exporter": "python",
   "pygments_lexer": "ipython3",
   "version": "3.11.1"
  },
  "orig_nbformat": 4,
  "vscode": {
   "interpreter": {
    "hash": "b91f41160b83ffc59c7e17fa6fd02d637d5dcf1d5e59aa2db87d82178661b954"
   }
  }
 },
 "nbformat": 4,
 "nbformat_minor": 2
}
