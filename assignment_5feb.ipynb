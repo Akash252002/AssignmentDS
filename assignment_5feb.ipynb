{
 "cells": [
  {
   "cell_type": "code",
   "execution_count": 12,
   "id": "70cf6ff6-7b12-4609-827a-af17468b5a36",
   "metadata": {},
   "outputs": [
    {
     "data": {
      "text/plain": [
       "('#1234', 'asdf@gmail.com', 999999999)"
      ]
     },
     "execution_count": 13,
     "metadata": {},
     "output_type": "execute_result"
    }
   ],
   "source": [
    "# Ans no1\n",
    "\n",
    "'''In Object-Oriented Programming (OOP), a class is a blueprint or a template for creating objects,\n",
    "which are instances of a class Classes define a set of attributes and methods that objects of that class will have and be able to perform,\n",
    "respectively'''\n",
    "\"\"\"For example, a class \"Pwskill\" can have attributes such as sid, email, and mobile_no, and methods such as return_result(). An object of this class, \n",
    "say \"John\", would have his own values for these attributes and would be able to perform the actions defined in the class methods.\"\"\"\n",
    "class pwskill():\n",
    "     \n",
    "        def __init__(john,mobile_no,email_id,student_id):\n",
    "            john.mob=mobile_no\n",
    "            john.email=email_id\n",
    "            john.sid=student_id\n",
    "        def return_result(john):\n",
    "            return john.mob,john.email,john.sid\n",
    "    \n",
    "john=pwskill('#1234','asdf@gmail.com',999999999)    \n",
    "john.return_result()"
   ]
  },
  {
   "cell_type": "code",
   "execution_count": null,
   "id": "29b7806a-beec-46d1-bb2d-7fbfe867ea22",
   "metadata": {},
   "outputs": [],
   "source": [
    "# Ans no2\n",
    "\n",
    "\n",
    "'''The four pillars of Object-Oriented Programming (OOP) are:\n",
    "\n",
    "Encapsulation: The idea of bundling data and methods that work on that data within a single unit, or object.\n",
    "\n",
    "Abstraction: The concept of hiding complex implementation details and showing only the essential features of an object to the user.\n",
    "\n",
    "Inheritance: The mechanism of acquiring properties and characteristics of one class by another class, creating a hierarchy of classes.\n",
    "\n",
    "Polymorphism: The ability of objects of different classes to respond to the same method call, each one in its own way. \n",
    "This is achieved by method overloading or method overriding.'''\n"
   ]
  },
  {
   "cell_type": "code",
   "execution_count": 15,
   "id": "0feb2e46-e16c-4137-b299-651d18618d29",
   "metadata": {},
   "outputs": [
    {
     "data": {
      "text/plain": [
       "('#1234', 'asdf@gmail.com', 999999999)"
      ]
     },
     "execution_count": 15,
     "metadata": {},
     "output_type": "execute_result"
    }
   ],
   "source": [
    "# Ans no3\n",
    "\n",
    "'''the __init__() is used as a constructor and is used to initialize the attributes of the object.'''\n",
    "\n",
    "class pwskill():\n",
    "     \n",
    "        def __init__(john,mobile_no,email_id,student_id):\n",
    "            john.mob=mobile_no\n",
    "            john.email=email_id\n",
    "            john.sid=student_id\n",
    "        def return_result(john):\n",
    "            return john.mob,john.email,john.sid\n",
    "    \n",
    "john=pwskill('#1234','asdf@gmail.com',999999999)    \n",
    "john.return_result()"
   ]
  },
  {
   "cell_type": "code",
   "execution_count": 19,
   "id": "caf98f18-fedc-42d6-aadc-0a85ba52ee45",
   "metadata": {},
   "outputs": [
    {
     "name": "stdout",
     "output_type": "stream",
     "text": [
      "this is example \n"
     ]
    }
   ],
   "source": [
    "# Ans no4\n",
    "\n",
    "'''In Object-Oriented Programming (OOP), self is a reference to the current instance of the class.\n",
    "It is used to access the attributes and methods of the class within the class definition.\n",
    "The self keyword is used in the method definitions inside a class to refer to the instance of the object that is calling the method.\n",
    "When a method is called on an object, the object is automatically passed as the first argument to the method. \n",
    "This first argument is usually named self and is used to access the attributes and methods of the object.\n",
    "This can be used other than 'self' example 'john' '''\n",
    "\n",
    "class example():\n",
    "    def func(self):\n",
    "        print(\"this is example \")\n",
    "\n",
    "rohan=example()\n",
    "rohan.func()"
   ]
  },
  {
   "cell_type": "code",
   "execution_count": 23,
   "id": "429bece9-5918-4ea4-865e-0d6fafba4420",
   "metadata": {},
   "outputs": [],
   "source": [
    "# Ans no5\n",
    "\n",
    "'''Inheritance is a feature of object-oriented programming (OOP) that allows a new class to be derived from an existing class,\n",
    "inheriting all its attributes and behaviors. The derived class is called a subclass or child class,\n",
    "and the existing class is called the superclass or parent class.\n",
    "\n",
    "There are several types of inheritance in OOP:\n",
    "\n",
    "Single Inheritance: A subclass inherits from a single superclass.\n",
    "Example:'''\n",
    "class Animal:\n",
    "    def __init__(self, name, species):\n",
    "        self.name = name\n",
    "        self.species = species\n",
    "class Dog(Animal):\n",
    "    def __init__(self, name, breed):\n",
    "        Animal.__init__(self, name, species=\"Dog\")\n",
    "        self.breed = breed\n",
    "\n",
    "'''Multiple Inheritance: A subclass inherits from multiple superclasses.\n",
    "Example:'''\n",
    "\n",
    "class Mother:\n",
    "    def __init__(self, mother_name):\n",
    "        self.mother_name = mother_name\n",
    "class Father:\n",
    "    def __init__(self, father_name):\n",
    "        self.father_name = father_name\n",
    "class Child(Mother, Father):\n",
    "    def __init__(self, mother_name, father_name):\n",
    "        Mother.__init__(self, mother_name)\n",
    "        Father.__init__(self, father_name)\n",
    "        \n",
    "'''Multilevel Inheritance: A subclass inherits from a superclass, which in turn inherits from another superclass.\n",
    "Example:'''\n",
    "class GrandParent:\n",
    "    def __init__(self, name):\n",
    "        self.name = name\n",
    "class Parent(GrandParent):\n",
    "    def __init__(self, name, parent_name):\n",
    "        GrandParent.__init__(self, name)\n",
    "        self.parent_name = parent_name\n",
    "class Child(Parent):\n",
    "    def __init__(self, name, parent_name, child_name):\n",
    "        Parent.__init__(self, name, parent_name)\n",
    "        self.child_name = child_name\n",
    "\n",
    "        \n",
    "'''  Hierarchical Inheritance: Multiple subclasses inherit from a single superclass.\n",
    "Example:'''\n",
    "\n",
    "class Animal:\n",
    "    def __init__(self, name, species):\n",
    "        self.name = name\n",
    "        self.species = species\n",
    "class Dog(Animal):\n",
    "    def __init__(self, name, breed):\n",
    "        Animal.__init__(self, name, species=\"Dog\")\n",
    "        self.breed = breed\n",
    "class Cat(Animal):\n",
    "    def __init__(self, name, breed):\n",
    "        Animal.__init__(self, name, species=\"Cat\")\n",
    "        self.breed = breed\n",
    "\n",
    "        "
   ]
  }
 ],
 "metadata": {
  "kernelspec": {
   "display_name": "Python 3 (ipykernel)",
   "language": "python",
   "name": "python3"
  },
  "language_info": {
   "codemirror_mode": {
    "name": "ipython",
    "version": 3
   },
   "file_extension": ".py",
   "mimetype": "text/x-python",
   "name": "python",
   "nbconvert_exporter": "python",
   "pygments_lexer": "ipython3",
   "version": "3.10.8"
  }
 },
 "nbformat": 4,
 "nbformat_minor": 5
}
