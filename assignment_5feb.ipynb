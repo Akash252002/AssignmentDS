{
 "cells": [
  {
   "cell_type": "code",
   "execution_count": 12,
   "id": "70cf6ff6-7b12-4609-827a-af17468b5a36",
   "metadata": {},
   "outputs": [
    {
     "data": {
      "text/plain": [
       "('#1234', 'asdf@gmail.com', 999999999)"
      ]
     },
     "execution_count": 13,
     "metadata": {},
     "output_type": "execute_result"
    }
   ],
   "source": [
    "# Ans no1\n",
    "\n",
    "'''In Object-Oriented Programming (OOP), a class is a blueprint or a template for creating objects,\n",
    "which are instances of a class Classes define a set of attributes and methods that objects of that class will have and be able to perform,\n",
    "respectively'''\n",
    "\"\"\"For example, a class \"Pwskill\" can have attributes such as sid, email, and mobile_no, and methods such as return_result(). An object of this class, \n",
    "say \"John\", would have his own values for these attributes and would be able to perform the actions defined in the class methods.\"\"\"\n",
    "class pwskill():\n",
    "     \n",
    "        def __init__(john,mobile_no,email_id,student_id):\n",
    "            john.mob=mobile_no\n",
    "            john.email=email_id\n",
    "            john.sid=student_id\n",
    "        def return_result(john):\n",
    "            return john.mob,john.email,john.sid\n",
    "    \n",
    "john=pwskill('#1234','asdf@gmail.com',999999999)    \n",
    "john.return_result()"
   ]
  },
  {
   "cell_type": "code",
   "execution_count": null,
   "id": "29b7806a-beec-46d1-bb2d-7fbfe867ea22",
   "metadata": {},
   "outputs": [],
   "source": [
    "# Ans no2\n",
    "\n",
    "\n",
    "'''The four pillars of Object-Oriented Programming (OOP) are:\n",
    "\n",
    "Encapsulation: The idea of bundling data and methods that work on that data within a single unit, or object.\n",
    "\n",
    "Abstraction: The concept of hiding complex implementation details and showing only the essential features of an object to the user.\n",
    "\n",
    "Inheritance: The mechanism of acquiring properties and characteristics of one class by another class, creating a hierarchy of classes.\n",
    "\n",
    "Polymorphism: The ability of objects of different classes to respond to the same method call, each one in its own way. \n",
    "This is achieved by method overloading or method overriding.'''\n"
   ]
  },
  {
   "cell_type": "code",
   "execution_count": 15,
   "id": "0feb2e46-e16c-4137-b299-651d18618d29",
   "metadata": {},
   "outputs": [
    {
     "data": {
      "text/plain": [
       "('#1234', 'asdf@gmail.com', 999999999)"
      ]
     },
     "execution_count": 15,
     "metadata": {},
     "output_type": "execute_result"
    }
   ],
   "source": [
    "# Ans no3\n",
    "\n",
    "'''the __init__() is used as a constructor and is used to initialize the attributes of the object.'''\n",
    "\n",
    "class pwskill():\n",
    "     \n",
    "        def __init__(john,mobile_no,email_id,student_id):\n",
    "            john.mob=mobile_no\n",
    "            john.email=email_id\n",
    "            john.sid=student_id\n",
    "        def return_result(john):\n",
    "            return john.mob,john.email,john.sid\n",
    "    \n",
    "john=pwskill('#1234','asdf@gmail.com',999999999)    \n",
    "john.return_result()"
   ]
  },
  {
   "cell_type": "code",
   "execution_count": 19,
   "id": "caf98f18-fedc-42d6-aadc-0a85ba52ee45",
   "metadata": {},
   "outputs": [
    {
     "name": "stdout",
     "output_type": "stream",
     "text": [
      "this is example \n"
     ]
    }
   ],
   "source": [
    "# Ans no4\n",
    "\n",
    "'''In Object-Oriented Programming (OOP), self is a reference to the current instance of the class.\n",
    "It is used to access the attributes and methods of the class within the class definition.\n",
    "The self keyword is used in the method definitions inside a class to refer to the instance of the object that is calling the method.\n",
    "When a method is called on an object, the object is automatically passed as the first argument to the method. \n",
    "This first argument is usually named self and is used to access the attributes and methods of the object.\n",
    "This can be used other than 'self' example 'john' '''\n",
    "\n",
    "class example():\n",
    "    def func(self):\n",
    "        print(\"this is example \")\n",
    "\n",
    "rohan=example()\n",
    "rohan.func()"
   ]
  },
  {
   "cell_type": "code",
   "execution_count": 23,
   "id": "429bece9-5918-4ea4-865e-0d6fafba4420",
   "metadata": {},
   "outputs": [],
   "source": [
    "# Ans no5\n",
    "\n",
    "'''Inheritance is a mechanism in object-oriented programming that allows a new class to be derived from an existing class. The new class inherits all the properties and methods of the existing class, and can also add new properties and methods or override the ones inherited from the base class.\n",
    "\n",
    "There are five types of inheritance in Python:\n",
    "\n",
    "Single inheritance: A class derived from a single base class.\n",
    "Example:'''\n",
    "class Animal:\n",
    "    def __init__(self, name):\n",
    "        self.name = name\n",
    "    \n",
    "    def print_name(self):\n",
    "        print(\"Animal name:\", self.name)\n",
    "\n",
    "class Dog(Animal):\n",
    "    def __init__(self, name, breed):\n",
    "        Animal.__init__(self, name)\n",
    "        self.breed = breed\n",
    "\n",
    "    def print_breed(self):\n",
    "        print(\"Breed:\", self.breed)\n",
    "\n",
    "\n",
    "'''Multiple inheritance: A class derived from more than one base class.\n",
    "Example:'''\n",
    "\n",
    "class Parent1:\n",
    "    def __init__(self):\n",
    "        self.parent1_property = \"I am from Parent1\"\n",
    "    \n",
    "    def parent1_method(self):\n",
    "        print(\"I am from Parent1 method\")\n",
    "\n",
    "class Parent2:\n",
    "    def __init__(self):\n",
    "        self.parent2_property = \"I am from Parent2\"\n",
    "    \n",
    "    def parent2_method(self):\n",
    "        print(\"I am from Parent2 method\")\n",
    "\n",
    "class Child(Parent1, Parent2):\n",
    "    def __init__(self):\n",
    "        Parent1.__init__(self)\n",
    "        Parent2.__init__(self)\n",
    "\n",
    "'''Multi-level inheritance: A class derived from a class which is derived from another class. \n",
    "Example:'''\n",
    "class GrandParent:\n",
    "    def __init__(self):\n",
    "        self.grandparent_property = \"I am from GrandParent\"\n",
    "    \n",
    "    def grandparent_method(self):\n",
    "        print(\"I am from GrandParent method\")\n",
    "\n",
    "class Parent(GrandParent):\n",
    "    def __init__(self):\n",
    "        GrandParent.__init__(self)\n",
    "        self.parent_property = \"I am from Parent\"\n",
    "    \n",
    "    def parent_method(self):\n",
    "        print(\"I am from Parent method\")\n",
    "\n",
    "class Child(Parent):\n",
    "    def __init__(self):\n",
    "        Parent.__init__(self)\n",
    "\n",
    "\n",
    "        \n",
    "''' Hierarchical inheritance: A class derived from multiple base classes where each class has its own derived class.\n",
    " Example:'''\n",
    "\n",
    "class Parent1:\n",
    "    def parent1_method(self):\n",
    "        print(\"I am from Parent1 method\")\n",
    "\n",
    "class Parent2:\n",
    "    def parent2_method(self):\n",
    "        print(\"I am from Parent2 method\")\n",
    "\n",
    "class Child1(Parent1):\n",
    "    pass\n",
    "\n",
    "class Child2(Parent2):\n",
    "    pass\n",
    "\n",
    "'''Hybrid inheritance: A combination of multiple inheritance types. \n",
    "Example:'''\n",
    "\n",
    "class GrandParent:\n",
    "    def grandparent_method(self):\n",
    "        print(\"I am from GrandParent method\")\n",
    "\n",
    "class Parent1(GrandParent):\n",
    "    def parent1_method(self):\n",
    "        print(\"I am from Parent1 method\")\n",
    "\n",
    "class Parent2:\n",
    "    def parent2_method(self):\n",
    "        print(\"I am from Parent2 method\")\n",
    "\n",
    "class Child(Parent1, Parent2):\n",
    "    def __init__(self):\n",
    "        Parent1.__init__(self)\n",
    "        Parent2.__init__(self)\n",
    "\n",
    "\n",
    "        "
   ]
  }
 ],
 "metadata": {
  "kernelspec": {
   "display_name": "Python 3 (ipykernel)",
   "language": "python",
   "name": "python3"
  },
  "language_info": {
   "codemirror_mode": {
    "name": "ipython",
    "version": 3
   },
   "file_extension": ".py",
   "mimetype": "text/x-python",
   "name": "python",
   "nbconvert_exporter": "python",
   "pygments_lexer": "ipython3",
   "version": "3.10.8"
  }
 },
 "nbformat": 4,
 "nbformat_minor": 5
}
