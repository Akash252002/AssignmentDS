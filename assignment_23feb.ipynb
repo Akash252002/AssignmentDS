{
 "cells": [
  {
   "cell_type": "code",
   "execution_count": 1,
   "id": "b9ed49b4-bf4c-4db1-8acc-38c9423c2f5a",
   "metadata": {},
   "outputs": [
    {
     "name": "stdout",
     "output_type": "stream",
     "text": [
      "0     4\n",
      "1     8\n",
      "2    15\n",
      "3    16\n",
      "4    23\n",
      "5    45\n",
      "dtype: int64\n"
     ]
    }
   ],
   "source": [
    "import logging \n",
    "import pandas as pd\n",
    "logging.basicConfig(filename = \"23_feb.log\",level=logging.INFO)\n",
    "\n",
    "# Ans no1\n",
    "logging.info(\"here is writing the ans 1\")\n",
    "\n",
    "l=[4,8,15,16,23,45]\n",
    "\n",
    "pd_series = pd.Series(l)\n",
    "\n",
    "print(pd_series)\n"
   ]
  },
  {
   "cell_type": "code",
   "execution_count": 13,
   "id": "f998fc63-15bd-4445-a7ec-5693acd50a4d",
   "metadata": {},
   "outputs": [
    {
     "name": "stdout",
     "output_type": "stream",
     "text": [
      "0    10\n",
      "1    11\n",
      "2    12\n",
      "3    13\n",
      "4    14\n",
      "5    15\n",
      "6    16\n",
      "7    17\n",
      "8    18\n",
      "9    19\n",
      "dtype: int64\n"
     ]
    }
   ],
   "source": [
    "# Ans no2\n",
    "\n",
    "logging.info(\"here is writing the ans 2 creating pandas series\")\n",
    "l=[]\n",
    "for i in range(10,20):\n",
    "    l.append(i)\n",
    "    \n",
    "pd_series = pd.Series(l)\n",
    "\n",
    "print(pd_series)    \n",
    "\n"
   ]
  },
  {
   "cell_type": "code",
   "execution_count": 48,
   "id": "0ef6499d-3283-422c-900d-fa70efc6e88c",
   "metadata": {},
   "outputs": [
    {
     "name": "stdout",
     "output_type": "stream",
     "text": [
      "     Name  Age  Gender\n",
      "0   Alice   25  Female\n",
      "1     Bob   30    Male\n",
      "2  Claire   27  Female\n"
     ]
    }
   ],
   "source": [
    "logging.info(\"here is writing the ans 3 creating pandas dataframe\")\n",
    "\n",
    "# Ans no3\n",
    "\n",
    "data={\"Name\":['Alice','Bob','Claire'],\"Age\":[25,30,27],\"Gender\":['Female','Male','Female']}\n",
    "\n",
    "pd_dataframe = pd.DataFrame(data)\n",
    "\n",
    "print(pd_dataframe)\n",
    "# pd_dataframe.columns\n"
   ]
  },
  {
   "cell_type": "code",
   "execution_count": 50,
   "id": "f12519a5-1d34-40fb-8509-e0a8d578f6f6",
   "metadata": {},
   "outputs": [
    {
     "name": "stdout",
     "output_type": "stream",
     "text": [
      "0     4\n",
      "1     8\n",
      "2    15\n",
      "3    16\n",
      "4    23\n",
      "5    45\n",
      "dtype: int64\n",
      "  \n",
      "     Name  Age  Gender\n",
      "0   Alice   25  Female\n",
      "1     Bob   30    Male\n",
      "2  Claire   27  Female\n"
     ]
    }
   ],
   "source": [
    "# Ans no4\n",
    "logging.info(\"here is writing the ans 4 differerce between pandas dataframe and Series\")\n",
    "\n",
    "\n",
    "'''\n",
    "In Pandas, a DataFrame is a two-dimensional labeled data structure that consists of rows and columns,\n",
    "similar to a table in a relational database or a spreadsheet.\n",
    "It can store multiple types of data, including numerical, categorical, and textual data. \n",
    "Each column in a DataFrame can be of a different data type.\n",
    "\n",
    "Series is a one-dimensional labeled list that can hold any data type, including numerical, categorical, and textual data. \n",
    "It can be thought of as a single column of data from a DataFrame.\n",
    "\n",
    "Here's an example to illustrate the difference between a DataFrame and a Series:\n",
    "'''\n",
    "# dataframe:\n",
    "data={\"Name\":['Alice','Bob','Claire'],\"Age\":[25,30,27],\"Gender\":['Female','Male','Female']}\n",
    "\n",
    "pd_dataframe = pd.DataFrame(data)\n",
    "\n",
    "\n",
    "print(pd_series)\n",
    "print(\"  \")\n",
    "#Series\n",
    "\n",
    "l=[4,8,15,16,23,45]\n",
    "\n",
    "pd_series = pd.Series(l)\n",
    "\n",
    "print(pd_dataframe)\n"
   ]
  },
  {
   "cell_type": "code",
   "execution_count": 7,
   "id": "aab273c4-27d0-4028-b525-7a8aa2cb80f3",
   "metadata": {},
   "outputs": [
    {
     "data": {
      "text/html": [
       "<div>\n",
       "<style scoped>\n",
       "    .dataframe tbody tr th:only-of-type {\n",
       "        vertical-align: middle;\n",
       "    }\n",
       "\n",
       "    .dataframe tbody tr th {\n",
       "        vertical-align: top;\n",
       "    }\n",
       "\n",
       "    .dataframe thead th {\n",
       "        text-align: right;\n",
       "    }\n",
       "</style>\n",
       "<table border=\"1\" class=\"dataframe\">\n",
       "  <thead>\n",
       "    <tr style=\"text-align: right;\">\n",
       "      <th></th>\n",
       "      <th>Name</th>\n",
       "      <th>Age</th>\n",
       "      <th>Gender</th>\n",
       "    </tr>\n",
       "  </thead>\n",
       "  <tbody>\n",
       "    <tr>\n",
       "      <th>0</th>\n",
       "      <td>Alice</td>\n",
       "      <td>25</td>\n",
       "      <td>Female</td>\n",
       "    </tr>\n",
       "    <tr>\n",
       "      <th>2</th>\n",
       "      <td>Claire</td>\n",
       "      <td>27</td>\n",
       "      <td>Female</td>\n",
       "    </tr>\n",
       "    <tr>\n",
       "      <th>1</th>\n",
       "      <td>Bob</td>\n",
       "      <td>30</td>\n",
       "      <td>Male</td>\n",
       "    </tr>\n",
       "  </tbody>\n",
       "</table>\n",
       "</div>"
      ],
      "text/plain": [
       "     Name  Age  Gender\n",
       "0   Alice   25  Female\n",
       "2  Claire   27  Female\n",
       "1     Bob   30    Male"
      ]
     },
     "execution_count": 7,
     "metadata": {},
     "output_type": "execute_result"
    }
   ],
   "source": [
    "logging.info(\"here is writing the ans 5 ,some common functions that can be used to manipulate data in a Pandas with example\")\n",
    "\n",
    "# Ans no5\n",
    "'''\n",
    "df.head(n) - Returns the first n rows of the DataFrame.\n",
    "df.tail(n) - Returns the last n rows of the DataFrame.\n",
    "df.shape - Returns the number of rows and columns in the DataFrame.\n",
    "df.columns - Returns the column names of the DataFrame.\n",
    "df.dtypes - Returns the data types of the columns in the DataFrame.\n",
    "df.describe() - Returns summary statistics of the DataFrame.\n",
    "df.drop(columns=['column_name']) - Drops a specified column from the DataFrame.\n",
    "df.rename(columns={'old_name': 'new_name'}) - Renames a specified column in the DataFrame.\n",
    "df.groupby('column_name').function() - Groups the DataFrame by a specified column and applies a function to each group.\n",
    "df.apply(function) - Applies a specified function to each element of the DataFrame.\n",
    "df.merge(other_df) - Merges the DataFrame with another DataFrame based on a specified column.\n",
    "df.sort_values('column_name') - Sorts the DataFrame by a specified column.\n",
    "df.fillna(value) - Fills missing values in the DataFrame with a specified value.\n",
    "'''\n",
    "# examples\n",
    "data={\"Name\":['Alice','Bob','Claire'],\"Age\":[25,30,27],\"Gender\":['Female','Male','Female']}\n",
    "\n",
    "df = pd.DataFrame(data)\n",
    "\n",
    "df.head(2)\n",
    "df.tail(2)\n",
    "\n",
    "df.rename(columns={'Name':'New Name'})\n",
    "df.sort_values('Age')\n"
   ]
  },
  {
   "cell_type": "code",
   "execution_count": 8,
   "id": "0564fe85-e0d6-4365-90eb-18e3bf3858df",
   "metadata": {},
   "outputs": [
    {
     "data": {
      "text/plain": [
       "'\\nIn pandas, Series and DataFrame are mutable in nature, meaning that their values can be changed after they have been created. \\nOn the other hand, Panel is a three-dimensional data structure that has been deprecated since version 0.25.0 of pandas \\nand is no longer recommended to use.\\n'"
      ]
     },
     "execution_count": 8,
     "metadata": {},
     "output_type": "execute_result"
    }
   ],
   "source": [
    "# Ans no6\n",
    "logging.info(\"telling about mutability of panal,dataframe\")\n",
    "'''\n",
    "In pandas, Series and DataFrame are mutable in nature, meaning that their values can be changed after they have been created. \n",
    "On the other hand, Panel is a three-dimensional data structure that has been deprecated since version 0.25.0 of pandas \n",
    "and is no longer recommended to use.\n",
    "'''"
   ]
  },
  {
   "cell_type": "code",
   "execution_count": 53,
   "id": "d041394c-e130-4582-be2f-bc383f741396",
   "metadata": {},
   "outputs": [
    {
     "name": "stdout",
     "output_type": "stream",
     "text": [
      "     Name  Age  Gender\n",
      "0   Alice   25  Female\n",
      "1     Bob   30    Male\n",
      "2  Claire   27  Female\n"
     ]
    }
   ],
   "source": [
    "# Ans no7\n",
    "logging.info(\"Creating a DataFrame using multiple Series\")\n",
    "\n",
    "Names=['Alice','Bob','Claire']\n",
    "Ages=[25,30,27]\n",
    "Genders=['Female','Male','Female']\n",
    "\n",
    "nm=pd.Series(Names)\n",
    "ag=pd.Series(Ages)\n",
    "gnd=pd.Series(Genders)\n",
    "\n",
    "data={\"Name\":nm,\"Age\":ag,\"Gender\":gnd}\n",
    "\n",
    "pd_dframe=pd.DataFrame(data)\n",
    "\n",
    "print(pd_dframe)\n"
   ]
  },
  {
   "cell_type": "code",
   "execution_count": null,
   "id": "7d52907a-8f4d-455a-896d-3e75cef88a09",
   "metadata": {},
   "outputs": [],
   "source": []
  }
 ],
 "metadata": {
  "kernelspec": {
   "display_name": "Python 3",
   "language": "python",
   "name": "python3"
  },
  "language_info": {
   "codemirror_mode": {
    "name": "ipython",
    "version": 3
   },
   "file_extension": ".py",
   "mimetype": "text/x-python",
   "name": "python",
   "nbconvert_exporter": "python",
   "pygments_lexer": "ipython3",
   "version": "3.11.1"
  },
  "vscode": {
   "interpreter": {
    "hash": "b91f41160b83ffc59c7e17fa6fd02d637d5dcf1d5e59aa2db87d82178661b954"
   }
  }
 },
 "nbformat": 4,
 "nbformat_minor": 5
}
