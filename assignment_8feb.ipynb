{
 "cells": [
  {
   "cell_type": "code",
   "execution_count": 57,
   "id": "20cd5a53-5b83-4fcf-9bc0-08c02b35d3cd",
   "metadata": {},
   "outputs": [
    {
     "data": {
      "text/plain": [
       "'600 $'"
      ]
     },
     "execution_count": 57,
     "metadata": {},
     "output_type": "execute_result"
    }
   ],
   "source": [
    "# Ans no1\n",
    "\n",
    "\"\"\" Abstraction is a fundamental concept in object-oriented programming (OOP) that refers to \n",
    "hiding the complexities of a system and presenting the user with only the essential features.\n",
    "It helps to reduce the overall complexity of a system and make it more manageable.\n",
    "\n",
    "Abstraction can be achieved in several ways, such as encapsulation and inheritance. \n",
    "Encapsulation involves wrapping the data and behavior of an object into a single unit,\n",
    "while inheritance allows a subclass to inherit the properties and methods of its parent class.\n",
    "\n",
    "An example of abstraction in OOP is creating a class for a car.\n",
    "The class might have attributes like color, make, model, and speed,and methods like accelerate, brake, and honk.\n",
    "The implementation details of these attributes and methods are hidden from the user and are not relevant to them. \n",
    "Instead, the user can simply create an object of the car class and use its attributes and methods to control the car.\n",
    "\n",
    "So, abstraction helps to simplify the complexity of a system and make it easier to understand and \n",
    "use by hiding the unnecessary details and exposing only the important features.\"\"\"\n",
    "\n",
    "# here is the example of encapsulation\n",
    "\n",
    "# example\n",
    "class car ():\n",
    "    def __init__(self,model,speed,price):\n",
    "        self.__model=model\n",
    "        self.__speed=speed\n",
    "        self.__price=price \n",
    "        \n",
    "    def get_price(self,price):\n",
    "        return str(price) + \" $\" if price >0 else 0\n",
    "    \n",
    "\n",
    "obj=car(\"farari\",200,123)\n",
    "obj.get_price(600)\n",
    "\n",
    "\n",
    " \n",
    "    \n",
    "\n",
    "\n"
   ]
  },
  {
   "cell_type": "code",
   "execution_count": 54,
   "id": "de0d53c0-59b0-440e-9d0b-d8ae1fa35c7b",
   "metadata": {},
   "outputs": [
    {
     "data": {
      "text/plain": [
       "\"you can't deposite\""
      ]
     },
     "execution_count": 54,
     "metadata": {},
     "output_type": "execute_result"
    }
   ],
   "source": [
    "# Ans no2\n",
    "\n",
    "'''\n",
    "Abstraction and encapsulation are two fundamental concepts in object-oriented programming (OOP) and are often used together to design complex systems.\n",
    "However, they are distinct concepts and serve different purposes.\n",
    "\n",
    "Abstraction refers to the process of hiding the complexity of a system and presenting the user with only the essential features. \n",
    "It helps to reduce the overall complexity of a system and make it more manageable.\n",
    "\n",
    "Encapsulation, on the other hand, refers to the process of wrapping the data and behavior of an object into a single unit. \n",
    "This means that the data and behavior of an object are combined into a single entity, and access to the data is controlled through a set of methods.\n",
    "Encapsulation helps to achieve data hiding, which ensures that the internal state of an object cannot be directly manipulated from outside the object.\n",
    "\n",
    "An example of the difference between abstraction and encapsulation can be seen in a class for a bank account.\n",
    "The class might have an attribute for the account balance and methods for depositing money, withdrawing money, and checking the balance.\n",
    "The abstraction layer would hide the complexity of the bank account and present the user with only the essential features,\n",
    "such as depositing money and checking the balance.\n",
    "The encapsulation layer would ensure that the account balance cannot be directly manipulated from outside the class\n",
    "and can only be accessed through the deposit and withdraw methods.\n",
    "\n",
    "In conclusion, abstraction is used to reduce the complexity of a system and make it more manageable, \n",
    "while encapsulation is used to control access to the data and behavior of an object and ensure data hiding.'''\n",
    "\n",
    "# example\n",
    "class bank_balance():\n",
    "    def __init__(self,balance):\n",
    "        self.__bal=balance\n",
    "    def withdraw(self,balance):\n",
    "        if balance<=self.__bal :\n",
    "            self.__bal-=balance\n",
    "            return self.__bal\n",
    "        else :\n",
    "            return \"! your balance is not sufficient\"\n",
    "    def deposite(self,amount):\n",
    "        if amount>0:\n",
    "            self.__bal+=amount\n",
    "            return \"Now your balance is \"+str(self.__bal)\n",
    "        else:\n",
    "            return \"you can't deposite\"\n",
    "            \n",
    "obj_bal=bank_balance(1000)        \n",
    "obj_bal.deposite(-5)   \n"
   ]
  },
  {
   "cell_type": "code",
   "execution_count": 56,
   "id": "86f06b71-4202-4ab8-89f8-e163c32892e1",
   "metadata": {},
   "outputs": [],
   "source": [
    "# Ans no3\n",
    "\n",
    "\n",
    "'''The abc (Abstract Base Classes) module in Python is a tool for defining abstract base classes (ABCs). \n",
    "An ABC is a class that defines the basic interface and common properties of a set of related objects,\n",
    "without actually implementing those objects.\n",
    "\n",
    "ABCs are used to define a contract for subclasses to follow, ensuring that they have certain attributes and methods.\n",
    "This can help catch potential errors at development time, before the code is even run.\n",
    "The abc module provides a way to define ABCs that can be used to check if a class is a subclass of an ABC, and if it provides the expected interface.\n",
    "\n",
    "In simple words, the abc module allows you to define the blueprint of a class,\n",
    "with specific attributes and methods that other classes must have to be considered related to it.'''"
   ]
  },
  {
   "cell_type": "code",
   "execution_count": null,
   "id": "df623712-2a87-4598-84e9-2d39302cccaa",
   "metadata": {},
   "outputs": [],
   "source": [
    "# Ans no4\n",
    "\n",
    "'''Data abstraction is a software engineering technique used to hide the details of implementation of a data structure,\n",
    "and instead provide a simpler, higher-level view of the data to the user. \n",
    "This helps to separate the concerns of data representation and manipulation, making it easier to write, understand, and maintain the code.\n",
    "\n",
    "One common example of data abstraction is the use of classes and objects in object-oriented programming.\n",
    "A class provides a blueprint for creating objects (i.e., instances of the class), \n",
    "and defines the data fields and methods that objects of that class can have. \n",
    "The implementation details of the data fields and methods are hidden from the user and are only accessible through the class's interface (i.e., its public methods).\n",
    "\n",
    "For example, consider a class that represents a bank account.\n",
    "The class could have data fields for the account balance.\n",
    "The class could also have methods for depositing money, withdrawing money, and checking the balance.\n",
    "The user of the class only needs to know about these methods and does not need to know about the\n",
    "underlying implementation details of how the data is stored and manipulated.\n",
    "\n",
    "By using data abstraction, the user can focus on the higher-level concepts of a bank account, \n",
    "such as depositing money and checking the balance, rather than the lower-level details of how the data is stored and manipulated.\n",
    "This makes the code easier to understand, and also makes it easier to change the implementation of the data structure without affecting the rest of the code that uses it.'''"
   ]
  },
  {
   "cell_type": "code",
   "execution_count": 1,
   "id": "a385de1c-bcdc-490e-9b60-07de7aedb518",
   "metadata": {},
   "outputs": [
    {
     "data": {
      "text/plain": [
       "\"In this example, the Shape class is an abstract class that contains an abstract method called area.\\nBecause the area method is abstract, we can't create an instance of the Shape class.\\nInstead, we would need to create a subclass that provides an implementation for the area method, and then create an instance of that subclass.\""
      ]
     },
     "execution_count": 1,
     "metadata": {},
     "output_type": "execute_result"
    }
   ],
   "source": [
    "# Ans no5\n",
    "\n",
    "'''In Python, an abstract class is a class that contains one or more abstract methods.\n",
    "An abstract method is a method that is declared in the abstract class but does not have an implementation.\n",
    "\n",
    "Abstract classes are meant to be subclassed, with the subclasses providing implementations for the abstract methods. \n",
    "The idea is that the abstract class provides a common interface that the subclasses must follow,\n",
    "while allowing the subclasses to have their own implementation details.\n",
    "\n",
    "It is not possible to create an instance of an abstract class in Python.\n",
    "The reason for this is that an abstract class by definition is incomplete and doesn't provide implementations for all its methods.\n",
    "If we try to create an instance of an abstract class, we will get a TypeError with a message indicating that the class can't be instantiated.'''\n",
    "\n",
    "# example of an abstract class :\n",
    "# from abc import ABC, abstractmethod\n",
    "\n",
    "# class Shape(ABC):\n",
    "#     @abstractmethod\n",
    "#     def area(self):\n",
    "#         pass\n",
    "\n",
    "# shape = Shape()  # This will raise TypeError: Can't instantiate abstract class Shape with abstract methods area\n",
    "\n",
    "'''In this example, the Shape class is an abstract class that contains an abstract method called area.\n",
    "Because the area method is abstract, we can't create an instance of the Shape class.\n",
    "Instead, we would need to create a subclass that provides an implementation for the area method, and then create an instance of that subclass.'''\n",
    "\n",
    "\n"
   ]
  },
  {
   "cell_type": "code",
   "execution_count": null,
   "id": "c7f3ec06-ab52-44fa-b2fc-dcb3c563e0e2",
   "metadata": {},
   "outputs": [],
   "source": []
  },
  {
   "cell_type": "code",
   "execution_count": null,
   "id": "31221f44-befb-4a10-b623-7345198718ba",
   "metadata": {},
   "outputs": [],
   "source": []
  }
 ],
 "metadata": {
  "kernelspec": {
   "display_name": "Python 3",
   "language": "python",
   "name": "python3"
  },
  "language_info": {
   "codemirror_mode": {
    "name": "ipython",
    "version": 3
   },
   "file_extension": ".py",
   "mimetype": "text/x-python",
   "name": "python",
   "nbconvert_exporter": "python",
   "pygments_lexer": "ipython3",
   "version": "3.11.1"
  },
  "vscode": {
   "interpreter": {
    "hash": "b91f41160b83ffc59c7e17fa6fd02d637d5dcf1d5e59aa2db87d82178661b954"
   }
  }
 },
 "nbformat": 4,
 "nbformat_minor": 5
}
