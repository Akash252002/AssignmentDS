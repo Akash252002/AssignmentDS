{
  "nbformat": 4,
  "nbformat_minor": 0,
  "metadata": {
    "colab": {
      "provenance": []
    },
    "kernelspec": {
      "name": "python3",
      "display_name": "Python 3"
    },
    "language_info": {
      "name": "python"
    }
  },
  "cells": [
    {
      "cell_type": "code",
      "execution_count": null,
      "metadata": {
        "colab": {
          "base_uri": "https://localhost:8080/",
          "height": 206
        },
        "id": "t7-A-KLNJePy",
        "outputId": "0d7bed50-e079-4888-fa16-49cdef167098"
      },
      "outputs": [
        {
          "output_type": "execute_result",
          "data": {
            "text/plain": [
              "   1  14.23  1.71  2.43  15.6  127   2.8  3.06   .28  2.29  5.64  1.04  3.92  \\\n",
              "0  1  13.20  1.78  2.14  11.2  100  2.65  2.76  0.26  1.28  4.38  1.05  3.40   \n",
              "1  1  13.16  2.36  2.67  18.6  101  2.80  3.24  0.30  2.81  5.68  1.03  3.17   \n",
              "2  1  14.37  1.95  2.50  16.8  113  3.85  3.49  0.24  2.18  7.80  0.86  3.45   \n",
              "3  1  13.24  2.59  2.87  21.0  118  2.80  2.69  0.39  1.82  4.32  1.04  2.93   \n",
              "4  1  14.20  1.76  2.45  15.2  112  3.27  3.39  0.34  1.97  6.75  1.05  2.85   \n",
              "\n",
              "   1065  \n",
              "0  1050  \n",
              "1  1185  \n",
              "2  1480  \n",
              "3   735  \n",
              "4  1450  "
            ],
            "text/html": [
              "\n",
              "  <div id=\"df-b9fdd2a0-4eb3-42aa-9b9f-9fd9eabcb76b\">\n",
              "    <div class=\"colab-df-container\">\n",
              "      <div>\n",
              "<style scoped>\n",
              "    .dataframe tbody tr th:only-of-type {\n",
              "        vertical-align: middle;\n",
              "    }\n",
              "\n",
              "    .dataframe tbody tr th {\n",
              "        vertical-align: top;\n",
              "    }\n",
              "\n",
              "    .dataframe thead th {\n",
              "        text-align: right;\n",
              "    }\n",
              "</style>\n",
              "<table border=\"1\" class=\"dataframe\">\n",
              "  <thead>\n",
              "    <tr style=\"text-align: right;\">\n",
              "      <th></th>\n",
              "      <th>1</th>\n",
              "      <th>14.23</th>\n",
              "      <th>1.71</th>\n",
              "      <th>2.43</th>\n",
              "      <th>15.6</th>\n",
              "      <th>127</th>\n",
              "      <th>2.8</th>\n",
              "      <th>3.06</th>\n",
              "      <th>.28</th>\n",
              "      <th>2.29</th>\n",
              "      <th>5.64</th>\n",
              "      <th>1.04</th>\n",
              "      <th>3.92</th>\n",
              "      <th>1065</th>\n",
              "    </tr>\n",
              "  </thead>\n",
              "  <tbody>\n",
              "    <tr>\n",
              "      <th>0</th>\n",
              "      <td>1</td>\n",
              "      <td>13.20</td>\n",
              "      <td>1.78</td>\n",
              "      <td>2.14</td>\n",
              "      <td>11.2</td>\n",
              "      <td>100</td>\n",
              "      <td>2.65</td>\n",
              "      <td>2.76</td>\n",
              "      <td>0.26</td>\n",
              "      <td>1.28</td>\n",
              "      <td>4.38</td>\n",
              "      <td>1.05</td>\n",
              "      <td>3.40</td>\n",
              "      <td>1050</td>\n",
              "    </tr>\n",
              "    <tr>\n",
              "      <th>1</th>\n",
              "      <td>1</td>\n",
              "      <td>13.16</td>\n",
              "      <td>2.36</td>\n",
              "      <td>2.67</td>\n",
              "      <td>18.6</td>\n",
              "      <td>101</td>\n",
              "      <td>2.80</td>\n",
              "      <td>3.24</td>\n",
              "      <td>0.30</td>\n",
              "      <td>2.81</td>\n",
              "      <td>5.68</td>\n",
              "      <td>1.03</td>\n",
              "      <td>3.17</td>\n",
              "      <td>1185</td>\n",
              "    </tr>\n",
              "    <tr>\n",
              "      <th>2</th>\n",
              "      <td>1</td>\n",
              "      <td>14.37</td>\n",
              "      <td>1.95</td>\n",
              "      <td>2.50</td>\n",
              "      <td>16.8</td>\n",
              "      <td>113</td>\n",
              "      <td>3.85</td>\n",
              "      <td>3.49</td>\n",
              "      <td>0.24</td>\n",
              "      <td>2.18</td>\n",
              "      <td>7.80</td>\n",
              "      <td>0.86</td>\n",
              "      <td>3.45</td>\n",
              "      <td>1480</td>\n",
              "    </tr>\n",
              "    <tr>\n",
              "      <th>3</th>\n",
              "      <td>1</td>\n",
              "      <td>13.24</td>\n",
              "      <td>2.59</td>\n",
              "      <td>2.87</td>\n",
              "      <td>21.0</td>\n",
              "      <td>118</td>\n",
              "      <td>2.80</td>\n",
              "      <td>2.69</td>\n",
              "      <td>0.39</td>\n",
              "      <td>1.82</td>\n",
              "      <td>4.32</td>\n",
              "      <td>1.04</td>\n",
              "      <td>2.93</td>\n",
              "      <td>735</td>\n",
              "    </tr>\n",
              "    <tr>\n",
              "      <th>4</th>\n",
              "      <td>1</td>\n",
              "      <td>14.20</td>\n",
              "      <td>1.76</td>\n",
              "      <td>2.45</td>\n",
              "      <td>15.2</td>\n",
              "      <td>112</td>\n",
              "      <td>3.27</td>\n",
              "      <td>3.39</td>\n",
              "      <td>0.34</td>\n",
              "      <td>1.97</td>\n",
              "      <td>6.75</td>\n",
              "      <td>1.05</td>\n",
              "      <td>2.85</td>\n",
              "      <td>1450</td>\n",
              "    </tr>\n",
              "  </tbody>\n",
              "</table>\n",
              "</div>\n",
              "      <button class=\"colab-df-convert\" onclick=\"convertToInteractive('df-b9fdd2a0-4eb3-42aa-9b9f-9fd9eabcb76b')\"\n",
              "              title=\"Convert this dataframe to an interactive table.\"\n",
              "              style=\"display:none;\">\n",
              "        \n",
              "  <svg xmlns=\"http://www.w3.org/2000/svg\" height=\"24px\"viewBox=\"0 0 24 24\"\n",
              "       width=\"24px\">\n",
              "    <path d=\"M0 0h24v24H0V0z\" fill=\"none\"/>\n",
              "    <path d=\"M18.56 5.44l.94 2.06.94-2.06 2.06-.94-2.06-.94-.94-2.06-.94 2.06-2.06.94zm-11 1L8.5 8.5l.94-2.06 2.06-.94-2.06-.94L8.5 2.5l-.94 2.06-2.06.94zm10 10l.94 2.06.94-2.06 2.06-.94-2.06-.94-.94-2.06-.94 2.06-2.06.94z\"/><path d=\"M17.41 7.96l-1.37-1.37c-.4-.4-.92-.59-1.43-.59-.52 0-1.04.2-1.43.59L10.3 9.45l-7.72 7.72c-.78.78-.78 2.05 0 2.83L4 21.41c.39.39.9.59 1.41.59.51 0 1.02-.2 1.41-.59l7.78-7.78 2.81-2.81c.8-.78.8-2.07 0-2.86zM5.41 20L4 18.59l7.72-7.72 1.47 1.35L5.41 20z\"/>\n",
              "  </svg>\n",
              "      </button>\n",
              "      \n",
              "  <style>\n",
              "    .colab-df-container {\n",
              "      display:flex;\n",
              "      flex-wrap:wrap;\n",
              "      gap: 12px;\n",
              "    }\n",
              "\n",
              "    .colab-df-convert {\n",
              "      background-color: #E8F0FE;\n",
              "      border: none;\n",
              "      border-radius: 50%;\n",
              "      cursor: pointer;\n",
              "      display: none;\n",
              "      fill: #1967D2;\n",
              "      height: 32px;\n",
              "      padding: 0 0 0 0;\n",
              "      width: 32px;\n",
              "    }\n",
              "\n",
              "    .colab-df-convert:hover {\n",
              "      background-color: #E2EBFA;\n",
              "      box-shadow: 0px 1px 2px rgba(60, 64, 67, 0.3), 0px 1px 3px 1px rgba(60, 64, 67, 0.15);\n",
              "      fill: #174EA6;\n",
              "    }\n",
              "\n",
              "    [theme=dark] .colab-df-convert {\n",
              "      background-color: #3B4455;\n",
              "      fill: #D2E3FC;\n",
              "    }\n",
              "\n",
              "    [theme=dark] .colab-df-convert:hover {\n",
              "      background-color: #434B5C;\n",
              "      box-shadow: 0px 1px 3px 1px rgba(0, 0, 0, 0.15);\n",
              "      filter: drop-shadow(0px 1px 2px rgba(0, 0, 0, 0.3));\n",
              "      fill: #FFFFFF;\n",
              "    }\n",
              "  </style>\n",
              "\n",
              "      <script>\n",
              "        const buttonEl =\n",
              "          document.querySelector('#df-b9fdd2a0-4eb3-42aa-9b9f-9fd9eabcb76b button.colab-df-convert');\n",
              "        buttonEl.style.display =\n",
              "          google.colab.kernel.accessAllowed ? 'block' : 'none';\n",
              "\n",
              "        async function convertToInteractive(key) {\n",
              "          const element = document.querySelector('#df-b9fdd2a0-4eb3-42aa-9b9f-9fd9eabcb76b');\n",
              "          const dataTable =\n",
              "            await google.colab.kernel.invokeFunction('convertToInteractive',\n",
              "                                                     [key], {});\n",
              "          if (!dataTable) return;\n",
              "\n",
              "          const docLinkHtml = 'Like what you see? Visit the ' +\n",
              "            '<a target=\"_blank\" href=https://colab.research.google.com/notebooks/data_table.ipynb>data table notebook</a>'\n",
              "            + ' to learn more about interactive tables.';\n",
              "          element.innerHTML = '';\n",
              "          dataTable['output_type'] = 'display_data';\n",
              "          await google.colab.output.renderOutput(dataTable, element);\n",
              "          const docLink = document.createElement('div');\n",
              "          docLink.innerHTML = docLinkHtml;\n",
              "          element.appendChild(docLink);\n",
              "        }\n",
              "      </script>\n",
              "    </div>\n",
              "  </div>\n",
              "  "
            ]
          },
          "metadata": {},
          "execution_count": 1
        }
      ],
      "source": [
        "import pandas as pd\n",
        "\n",
        "df=pd.read_csv('/content/wine.data')\n",
        "df.head()"
      ]
    },
    {
      "cell_type": "code",
      "source": [
        "X=df.iloc[:,: -1]\n",
        "y=df.iloc[:-1]"
      ],
      "metadata": {
        "id": "U3WbXhccNz7p"
      },
      "execution_count": null,
      "outputs": []
    },
    {
      "cell_type": "code",
      "source": [
        "from sklearn.preprocessing import StandardScaler\n",
        "scaler=StandardScaler()\n",
        "scaler.fit(X)\n",
        "\n",
        "X=scaler.transform(X)\n",
        "# from sklearn.model_selection import train_test_split\n",
        "# X_train, X_test, y_train, y_test = train_test_split(X, y, test_size=0.33, random_state=42)"
      ],
      "metadata": {
        "id": "-z_XeRZvKuBv"
      },
      "execution_count": null,
      "outputs": []
    },
    {
      "cell_type": "code",
      "source": [
        "from sklearn.decomposition import PCA\n",
        "pca = PCA()\n",
        "X=pca.fit_transform(X)"
      ],
      "metadata": {
        "id": "49HQOyFYKyt5"
      },
      "execution_count": null,
      "outputs": []
    },
    {
      "cell_type": "code",
      "source": [
        "X"
      ],
      "metadata": {
        "colab": {
          "base_uri": "https://localhost:8080/"
        },
        "id": "YSFb3rhxI6o4",
        "outputId": "7ec8b6b4-3c91-4a61-d25d-7cbb3b373d59"
      },
      "execution_count": null,
      "outputs": [
        {
          "output_type": "execute_result",
          "data": {
            "text/plain": [
              "array([[-2.37934546, -0.48651782, -1.94547144, ...,  0.37958568,\n",
              "         0.20031432,  0.11587188],\n",
              "       [-2.46980672,  1.15254781,  0.87974023, ...,  0.04456925,\n",
              "        -0.10519054, -0.15784661],\n",
              "       [-3.25443802,  2.72693455, -0.42849282, ..., -0.17201594,\n",
              "         0.33667274, -0.18618135],\n",
              "       ...,\n",
              "       [ 3.39147844,  2.23007312, -1.11991418, ...,  0.76007925,\n",
              "        -0.19327138, -0.06973074],\n",
              "       [ 3.08350857,  1.7688997 , -0.62866151, ...,  0.38306677,\n",
              "         0.10335362,  0.04733305],\n",
              "       [ 3.64104401,  2.63749946,  0.7362057 , ..., -0.24757129,\n",
              "         0.23688816, -0.16455976]])"
            ]
          },
          "metadata": {},
          "execution_count": 5
        }
      ]
    },
    {
      "cell_type": "code",
      "source": [
        "print(pca.explained_variance_ratio_)"
      ],
      "metadata": {
        "colab": {
          "base_uri": "https://localhost:8080/"
        },
        "id": "2G3jl2efMc-k",
        "outputId": "fb458b65-85e8-4730-c778-db3bbead4bc9"
      },
      "execution_count": null,
      "outputs": [
        {
          "output_type": "stream",
          "name": "stdout",
          "text": [
            "[0.39799157 0.16751901 0.1096897  0.06903067 0.06570075 0.05171142\n",
            " 0.04256357 0.02698209 0.02023027 0.01979745 0.01305653 0.01039688\n",
            " 0.00533008]\n"
          ]
        }
      ]
    },
    {
      "cell_type": "code",
      "source": [
        "import matplotlib.pyplot as plt\n",
        "\n",
        "# Assuming pca_transformed_data is the transformed data using PCA\n",
        "pca_transformed_data = X \n",
        "\n",
        "# Take the first two components\n",
        "component1 = pca_transformed_data[:, 0]\n",
        "component2 = pca_transformed_data[:, 1]\n",
        "\n",
        "# Create the scatter plot\n",
        "plt.scatter(component1, component2)\n",
        "plt.xlabel('Principal Component 1')\n",
        "plt.ylabel('Principal Component 2')\n",
        "plt.title('PCA Scatter Plot')\n",
        "plt.show()\n"
      ],
      "metadata": {
        "colab": {
          "base_uri": "https://localhost:8080/",
          "height": 472
        },
        "id": "urf0IorIGPEg",
        "outputId": "c71bdc42-351a-402f-93e2-52908d633209"
      },
      "execution_count": null,
      "outputs": [
        {
          "output_type": "display_data",
          "data": {
            "text/plain": [
              "<Figure size 640x480 with 1 Axes>"
            ],
            "image/png": "[encoded data removed]"
          },
          "metadata": {}
        }
      ]
    },
    {
      "cell_type": "code",
      "source": [
        "from sklearn.cluster import KMeans\n",
        "\n",
        "# Assuming pca_transformed_data is the transformed data using PCA\n",
        "pca_transformed_data = X  # Replace [...] with your actual transformed data\n",
        "\n",
        "# Create a K-Means clustering object with the desired number of clusters\n",
        "num_clusters = 3  # Adjust the number of clusters as per your requirement\n",
        "kmeans = KMeans(n_clusters=num_clusters)\n",
        "\n",
        "# Fit the K-Means model to the transformed data\n",
        "kmeans.fit(pca_transformed_data)\n",
        "\n",
        "# Obtain the cluster labels for each data point\n",
        "cluster_labels = kmeans.labels_\n",
        "\n",
        "# Print the cluster labels\n",
        "print(cluster_labels)\n",
        "\n",
        "import matplotlib.pyplot as plt\n",
        "\n",
        "\n",
        "# Create a scatter plot for each cluster\n",
        "for cluster in range(num_clusters):\n",
        "    cluster_data = pca_transformed_data[cluster_labels == cluster]\n",
        "    plt.scatter(cluster_data[:, 0], cluster_data[:, 1], label=f'Cluster {cluster+1}')\n",
        "\n",
        "# Add labels and title to the plot\n",
        "plt.xlabel('Principal Component 1')\n",
        "plt.ylabel('Principal Component 2')\n",
        "plt.title('K-Means Clustering on PCA-transformed Data')\n",
        "plt.legend()\n",
        "plt.show()\n",
        "\n"
      ],
      "metadata": {
        "id": "G07H-HYQIHKl",
        "colab": {
          "base_uri": "https://localhost:8080/",
          "height": 613
        },
        "outputId": "c14cc920-3aff-4044-b688-5a7e0f684ea1"
      },
      "execution_count": null,
      "outputs": [
        {
          "output_type": "stream",
          "name": "stderr",
          "text": [
            "/usr/local/lib/python3.10/dist-packages/sklearn/cluster/_kmeans.py:870: FutureWarning: The default value of `n_init` will change from 10 to 'auto' in 1.4. Set the value of `n_init` explicitly to suppress the warning\n",
            "  warnings.warn(\n"
          ]
        },
        {
          "output_type": "stream",
          "name": "stdout",
          "text": [
            "[2 2 2 2 2 2 2 2 2 2 2 2 2 2 2 2 2 2 2 2 2 2 2 2 2 2 0 2 2 2 2 2 2 2 2 2 2\n",
            " 0 2 2 2 2 2 2 2 2 2 2 2 2 2 2 2 2 2 2 2 2 0 0 0 0 0 0 0 0 0 0 0 0 2 0 2 0\n",
            " 0 0 0 0 0 0 0 0 1 0 0 0 0 0 0 0 0 0 0 0 2 0 0 0 0 0 0 0 0 0 0 0 0 0 0 0 0\n",
            " 0 0 0 0 0 0 0 0 0 2 0 0 0 0 0 0 0 0 1 1 1 1 1 1 1 1 1 1 1 1 1 1 1 1 1 1 1\n",
            " 1 1 1 1 1 1 1 1 1 1 1 1 1 1 1 1 1 1 1 1 1 1 1 1 1 1 1 1 1]\n"
          ]
        },
        {
          "output_type": "display_data",
          "data": {
            "text/plain": [
              "<Figure size 640x480 with 1 Axes>"
            ],
            "image/png": "[encoded data removed]"
          },
          "metadata": {}
        }
      ]
    },
    {
      "cell_type": "markdown",
      "source": [
        "The cluster labels indicate the assignment of each data point to a specific cluster obtained from the clustering analysis using K-Means algorithm on the PCA-transformed data. The cluster labels range from 0 to 2, representing three different clusters.\n",
        "\n",
        "To interpret the results, we can analyze the characteristics of each cluster based on the assigned labels. Let's go through each cluster:\n",
        "\n",
        "- Cluster 0: This cluster contains a majority of the data points, indicated by the repeated label 0. It suggests that these data points share similar features or patterns that differentiate them from the other clusters. It's worth examining the specific characteristics of these data points to understand the underlying factors that led to their grouping.\n",
        "\n",
        "- Cluster 1: This cluster consists of data points labeled as 1. These data points exhibit distinct characteristics or patterns that differentiate them from the other clusters. By analyzing the specific features of these data points, you can gain insights into the unique properties or behaviors they represent.\n",
        "\n",
        "- Cluster 2: This cluster includes data points assigned the label 2, and it is the smallest cluster in this case. The presence of this cluster indicates that there is a subset of data points that are different from the majority. Analyzing the distinguishing features of this cluster can provide valuable information about the specific traits or behaviors that set these data points apart from others.\n",
        "\n",
        "It's important to note that the interpretation of the cluster labels depends on the specific context and the nature of the dataset. Further analysis and domain knowledge are often necessary to understand the meaning and implications of the clusters. Additionally, it may be helpful to examine the original features of the data points within each cluster to gain a deeper understanding of the patterns and relationships uncovered by the clustering analysis.\n",
        "\n",
        "Regarding the PCA analysis, the clustering was performed on the PCA-transformed data, indicating that the transformed principal components were used to group the data points into clusters. The PCA analysis likely helped in reducing the dimensionality of the data and capturing the most significant variations, enabling a more efficient clustering process and potentially revealing underlying patterns in the dataset."
      ],
      "metadata": {
        "id": "v6KHBRjix3ua"
      }
    },
    {
      "cell_type": "code",
      "source": [],
      "metadata": {
        "id": "rN3EqsgV222o"
      },
      "execution_count": null,
      "outputs": []
    }
  ]
}