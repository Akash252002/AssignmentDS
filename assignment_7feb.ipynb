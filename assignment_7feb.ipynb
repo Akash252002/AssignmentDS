{
 "cells": [
  {
   "cell_type": "code",
   "execution_count": 30,
   "id": "e98896da-003e-4a6a-bd59-fcb4964787f8",
   "metadata": {},
   "outputs": [
    {
     "data": {
      "text/plain": [
       "'Valid Password'"
      ]
     },
     "execution_count": 30,
     "metadata": {},
     "output_type": "execute_result"
    }
   ],
   "source": [
    "def check(s):\n",
    "    upper=0\n",
    "    lower=0\n",
    "    number,special=0,0\n",
    "    for i in s:\n",
    "        if ord(i)>64 and ord(i) <91:\n",
    "            upper+=1\n",
    "        elif ord(i)>96 and ord(i) <123:\n",
    "            lower+=1\n",
    "        elif ord(i)>47 and ord(i)<58:\n",
    "            number+=1\n",
    "        elif (ord(i)>31 or ord(i) <48) and (ord(i)>57 or ord(i) <65) and (ord(i)>90 or ord(i) <97)  and (ord(i)>122 or ord(i) <126):\n",
    "            special+=1\n",
    "    if upper>1 and lower>1 and number>0 and special>2 and len(s)==10:\n",
    "        return \"Valid Password\"\n",
    "    else:\n",
    "        return \"Invalid Password\"\n",
    "check(\"AKash1@!#3\")    "
   ]
  },
  {
   "cell_type": "code",
   "execution_count": 9,
   "id": "307921da-01de-4457-96c8-67e8c3766e0d",
   "metadata": {},
   "outputs": [
    {
     "data": {
      "text/plain": [
       "[-5, -4, -3, -2, -1]"
      ]
     },
     "execution_count": 9,
     "metadata": {},
     "output_type": "execute_result"
    }
   ],
   "source": [
    "# Ans no2\n",
    "\n",
    "# 1\n",
    "s=\"Adf\"\n",
    "fixed_letter='A'\n",
    "ans=lambda s,fixed_letter: True if s[0]==fixed_letter else False\n",
    "ans(s,fixed_letter)\n",
    "\n",
    "# 2\n",
    "check1=lambda s : True if s.isnumeric() else False\n",
    "check1(\"23\")\n",
    "\n",
    "# 3\n",
    "\n",
    "lst=[(\"mango\",99),(\"orange\",80), (\"grapes\", 1000)]\n",
    "lst1=sorted(lst,key=lambda x:x[1])\n",
    "lst1\n",
    "\n",
    "# 4\n",
    "square=[i*i for i in range(1,11)]\n",
    "square\n",
    "\n",
    "# 5\n",
    "cube_root=[round(i**(1/3),2) for i in range(1,11)]\n",
    "cube_root\n",
    "\n",
    "# 6\n",
    "check_num=lambda x: True if x%2==0 else False\n",
    "check_num(11)\n",
    "\n",
    "# 7\n",
    "l=[1,2,3,4,5,6,7,8,9,10]\n",
    "ft_l=filter(lambda x:x%2!=0,l)\n",
    "list(ft_l)\n",
    "\n",
    "# 8\n",
    "lst=[1,2,3,4,5,6,-1,-2,-3,-4,-5,0]\n",
    "pos=list(filter(lambda x:  x>=0 ,lst))\n",
    "sorted(pos)\n",
    "neg=list(filter(lambda x:x<0,lst))\n",
    "sorted(neg)\n"
   ]
  },
  {
   "cell_type": "code",
   "execution_count": null,
   "id": "b5e6f54a-d6b4-4db4-b84f-608a2d9830b7",
   "metadata": {},
   "outputs": [],
   "source": []
  },
  {
   "cell_type": "code",
   "execution_count": null,
   "id": "68ceef48-f38b-4e26-91b1-dd775e8956c7",
   "metadata": {},
   "outputs": [],
   "source": []
  }
 ],
 "metadata": {
  "kernelspec": {
   "display_name": "Python 3 (ipykernel)",
   "language": "python",
   "name": "python3"
  },
  "language_info": {
   "codemirror_mode": {
    "name": "ipython",
    "version": 3
   },
   "file_extension": ".py",
   "mimetype": "text/x-python",
   "name": "python",
   "nbconvert_exporter": "python",
   "pygments_lexer": "ipython3",
   "version": "3.10.8"
  }
 },
 "nbformat": 4,
 "nbformat_minor": 5
}
