{
  "cells": [
    {
      "cell_type": "code",
      "execution_count": 10,
      "id": "66c72dbc-b41e-4469-8be4-1f90c8a87404",
      "metadata": {
        "id": "66c72dbc-b41e-4469-8be4-1f90c8a87404"
      },
      "outputs": [],
      "source": [
        "import logging\n",
        "logging.basicConfig(filename=\"11mar.log\", level=logging.INFO)"
      ]
    },
    {
      "cell_type": "code",
      "execution_count": 11,
      "id": "034a12cf-2ae8-4125-b042-4e9b8bddf3ea",
      "metadata": {
        "tags": [],
        "colab": {
          "base_uri": "https://localhost:8080/",
          "height": 139
        },
        "id": "034a12cf-2ae8-4125-b042-4e9b8bddf3ea",
        "outputId": "04c78809-d2cf-48b2-e21e-a156993dd19b"
      },
      "outputs": [
        {
          "output_type": "execute_result",
          "data": {
            "text/plain": [
              "'\\nt-test\\n1 A t-test is used when the sample size is small(n<=30), and the population variance is unknown.\\n2 t-test calculates the standard error of the sample mean using the sample standard deviation and the sample size\\n3 he degrees of freedom for a t-test are calculated based on the sample size.\\n\\nExample:\\nsuppose we want to compare the mean height of two groups of students, one group from a private school and the other from a public school.\\nWe collect a sample of 20 students from each school and measure their heights\\nWe can use a t-test to determine if there is a significant difference between the mean heights of the two groups.\\n\\n\\nz-test\\n\\n1 A z-test, on the other hand, is used when the sample size is large, and the population variance is known.\\n2 The z-test calculates the standard error of the sample mean using the known population variance and the sample size. \\n3 The degrees of freedom for a z-test are infinite.\\n\\n\\nExample:\\n\\n suppose we want to compare the mean weight of a population to a known value\\nWe collect a large sample of 1000 individuals and measure their weight\\nWe can use a z-test to determine if the mean weight of the population is significantly different from the known value.\\n\\n'"
            ],
            "application/vnd.google.colaboratory.intrinsic+json": {
              "type": "string"
            }
          },
          "metadata": {},
          "execution_count": 11
        }
      ],
      "source": [
        "# Ans no1\n",
        "logging.info(\"Difference bEtwwen T-test and Z-test\")\n",
        "\n",
        "\n",
        "'''\n",
        "t-test\n",
        "1 A t-test is used when the sample size is small(n<=30), and the population variance is unknown.\n",
        "2 t-test calculates the standard error of the sample mean using the sample standard deviation and the sample size\n",
        "3 he degrees of freedom for a t-test are calculated based on the sample size.\n",
        "\n",
        "Example:\n",
        "suppose we want to compare the mean height of two groups of students, one group from a private school and the other from a public school.\n",
        "We collect a sample of 20 students from each school and measure their heights\n",
        "We can use a t-test to determine if there is a significant difference between the mean heights of the two groups.\n",
        "\n",
        "\n",
        "z-test\n",
        "\n",
        "1 A z-test, on the other hand, is used when the sample size is large, and the population variance is known.\n",
        "2 The z-test calculates the standard error of the sample mean using the known population variance and the sample size. \n",
        "3 The degrees of freedom for a z-test are infinite.\n",
        "\n",
        "\n",
        "Example:\n",
        "\n",
        " suppose we want to compare the mean weight of a population to a known value\n",
        "We collect a large sample of 1000 individuals and measure their weight\n",
        "We can use a z-test to determine if the mean weight of the population is significantly different from the known value.\n",
        "\n",
        "'''"
      ]
    },
    {
      "cell_type": "code",
      "execution_count": 12,
      "id": "df14c2b0-0538-47ce-8a69-0149d2daf72a",
      "metadata": {
        "colab": {
          "base_uri": "https://localhost:8080/",
          "height": 87
        },
        "id": "df14c2b0-0538-47ce-8a69-0149d2daf72a",
        "outputId": "32847487-2ebe-4d35-94c7-81f20ed93df5"
      },
      "outputs": [
        {
          "output_type": "execute_result",
          "data": {
            "text/plain": [
              "'\\n1 one - tailed test:\\n\\n1 A one-tailed test is based on a uni-directional hypothesis\\nwhere the area of rejection is on only one side of the sampling distribution. \\n2 It determines whether a particular population parameter is larger or smaller than the predefined parameter. \\n3  It uses one single critical value to test the data.\\n\\n\\n2 Two- tailed test:\\n\\n1 A two-tailed test is also called a nondirectional hypothesis.\\n2 For checking whether the sample is greater or less than a range of values, we use the two-tailed\\n3 It uses both critical values to test.\\n'"
            ],
            "application/vnd.google.colaboratory.intrinsic+json": {
              "type": "string"
            }
          },
          "metadata": {},
          "execution_count": 12
        }
      ],
      "source": [
        "# Ans no2\n",
        "\n",
        "logging.info(\"Differnce  between one-tailed and two-tailed tests.\") \n",
        "\n",
        "'''\n",
        "1 one - tailed test:\n",
        "\n",
        "1 A one-tailed test is based on a uni-directional hypothesis\n",
        "where the area of rejection is on only one side of the sampling distribution. \n",
        "2 It determines whether a particular population parameter is larger or smaller than the predefined parameter. \n",
        "3  It uses one single critical value to test the data.\n",
        "\n",
        "\n",
        "2 Two- tailed test:\n",
        "\n",
        "1 A two-tailed test is also called a nondirectional hypothesis.\n",
        "2 For checking whether the sample is greater or less than a range of values, we use the two-tailed\n",
        "3 It uses both critical values to test.\n",
        "'''\n"
      ]
    },
    {
      "cell_type": "markdown",
      "id": "93181ac4-a137-47d0-a393-e451dda1602c",
      "metadata": {
        "id": "93181ac4-a137-47d0-a393-e451dda1602c"
      },
      "source": [
        "\n",
        "# Ans no3 \n",
        "\n",
        "Type 1 and Type 2 errors are the two types of errors that can occur in statistical hypothesis testing.\n",
        "\n",
        "These errors are associated with the probability of rejecting a null hypothesis when it is actually true or accepting an alternative hypothesis when it is actually false.\n",
        "\n",
        "Type 1 Error:\n",
        "Type 1 error occurs when the null hypothesis is rejected even though it is true.\n",
        "\n",
        "This error is also called a false positive.\n",
        "It means that the statistical test has concluded that there is a significant effect or difference when in fact there is not. \n",
        "\n",
        "Example :\n",
        "A drug company tests a new medication for a specific disease, and their null hypothesis is that the medication has no effect. If the company rejects the null hypothesis based on the statistical test results, it could mean that the medication is considered effective, and the company might decide to invest in further development and marketing. However, if the null hypothesis is actually true and the medication is not effective, the company would be making a Type 1 error by wrongly accepting the alternative hypothesis that the medication is effective.\n",
        "\n",
        "Type 2 Error:\n",
        "\n",
        "Type 2 error, on the other hand, occurs when the null hypothesis is not rejected even though it is false. \n",
        "\n",
        " This error is also called a false negative It means that the statistical test has failed to detect a significant effect or difference when in fact there is one\n",
        "\n",
        " Example :\n",
        "\n",
        "Suppose a medical researcher conducts a study to determine if a new medication reduces the risk of heart attack. If the study fails to reject the null hypothesis that the medication has no effect, it could mean that the medication is not considered effective, and the researcher might conclude that further testing is not necessary. However, if the null hypothesis is actually false, and the medication does reduce the risk of heart attack, the researcher would be making a Type 2 error by wrongly accepting the null hypothesis that the medication has no effect.\n",
        "\n"
      ]
    },
    {
      "cell_type": "markdown",
      "id": "567365a3-7470-4b38-8da5-7adf904789eb",
      "metadata": {
        "id": "567365a3-7470-4b38-8da5-7adf904789eb"
      },
      "source": [
        "\n",
        "# Ans no4\n",
        "\n",
        "### Bayes's Theorem \n",
        "##### Bayes's theorem is a fundamental concept in probability theory and statistics that helps to calculate the probability of an event occurring based on prior knowledge or evidence. \n",
        "\n",
        "### Bayes's theorem states that the probability of an event A given evidence B is equal to the probability of evidence B given event A multiplied by the prior probability of A, divided by the marginal probability of B. \n",
        "\n",
        "### Mathematically, it can be represented as follows:\n",
        "\n",
        "\n",
        "##### P(A|B) = P(B|A) * P(A) / P(B)\n",
        "\n",
        "where \n",
        "\n",
        "P(A) is the prior probability of A, P(B|A) is the probability of B given A, P(B) is the marginal probability of B, and P(A|B) is the posterior probability of A given B.\n",
        "\n",
        "\n",
        "## An example of Bayes's theorem \n",
        "\n",
        "Suppose a patient comes to a doctor with a certain set of symptoms, and the doctor wants to determine the probability of the patient having a particular disease. Let's assume that 1% of the population has the disease, and the diagnostic test has a false positive rate of 5% and a false negative rate of 1%.\n",
        "\n",
        "#### Based on these assumptions, we can calculate the probability of the patient having the disease given a positive test result as follows:\n",
        "\n",
        "Prior probability: P(Disease) = 0.01 (1% of the population has the disease)\n",
        "\n",
        "False positive rate: P(Positive | No Disease) = 0.05 (5% of people without the disease will test positive)\n",
        "\n",
        "False negative rate: P(Negative | Disease) = 0.01 (1% of people with the disease will test negative)\n",
        "\n",
        "Marginal probability: P(Positive) = P(Positive | Disease) * P(Disease) + P(Positive | No Disease) * P(No Disease)\n",
        "= 0.99 * 0.01 + 0.05 * 0.99 = 0.0585\n",
        "\n",
        "\n",
        "### Using Bayes's theorem, we can calculate the probability of the patient having the disease given a positive test result as follows:\n",
        "\n",
        "Probability of having the disease given a positive test result: P(Disease | Positive) = P(Positive | Disease) * P(Disease) / P(Positive)\n",
        "= 0.99 * 0.01 / 0.0585\n",
        "= 0.1692 or 16.92%\n",
        "\n",
        "\n",
        "#### conclusion \n",
        "Therefore, even if the patient has a positive test result, there is still only a 16.92% chance that they actually have the disease. "
      ]
    },
    {
      "cell_type": "markdown",
      "id": "09901bbd-011b-4490-97ef-3b6b42408295",
      "metadata": {
        "id": "09901bbd-011b-4490-97ef-3b6b42408295"
      },
      "source": [
        "# Ans no5\n",
        "\n",
        "### A confidence interval is a range of values that is used to estimate the true value of a population parameter, such as the mean or proportion, based on a sample from that population. It is an interval estimate that includes a level of uncertainty or margin of error\n",
        "\n",
        "## For example\n",
        "\n",
        "#### suppose a researcher wants to estimate the average height of all adult males in a particular city. The researcher takes a random sample of 100 adult males and finds that the sample mean height is 175 cm, with a standard deviation of 10 cm. The researcher can use this information to calculate a 95% confidence interval for the true population mean height as follows:\n",
        "\n",
        "\n",
        "##### Solution \n",
        "Calculate the standard error:\n",
        "Standard error = standard deviation / square root of sample size\n",
        "= 10 / sqrt(100)\n",
        "\n",
        "Calculate the margin of error:\n",
        "Margin of error = critical value * standard error\n",
        "The critical value for a 95% confidence interval with 99 degrees of freedom (n-1) is 1.984 (based on a t-distribution table).\n",
        "Margin of error = 1.984 * 1\n",
        "= 1.984\n",
        "\n",
        "\n",
        "Calculate the confidence interval:\n",
        "Confidence interval = sample mean +/- margin of error\n",
        "= 175 +/- 1.984\n",
        "= (173.016, 176.984)\n",
        "\n",
        "\n",
        "#### Therefore, we can say with 95% confidence that the true population mean height of adult males in the city lies between 173.016 cm and 176.984 cm.\n",
        "\n"
      ]
    },
    {
      "cell_type": "markdown",
      "id": "2b6ccf84-6cfb-4c9e-bf96-ebbe19a8fbe8",
      "metadata": {
        "id": "2b6ccf84-6cfb-4c9e-bf96-ebbe19a8fbe8"
      },
      "source": [
        "\n",
        "# Ans no6 \n",
        "### Bayes' Theorem is a mathematical formula that allows us to update the probability of an event occurring based on new evidence. The formula is:\n",
        "\n",
        "### P(A|B) = P(B|A) * P(A) / P(B)\n",
        "\n",
        "where:\n",
        "P(A|B) is the probability of event A given event B\n",
        "\n",
        "P(B|A) is the probability of event B given event A\n",
        "\n",
        "P(A) is the prior probability of event A\n",
        "\n",
        "P(B) is the prior probability of event B\n",
        "## Example \n",
        "\n",
        "Suppose a patient comes to a doctor with a certain set of symptoms, and the doctor wants to determine the probability of the patient having a particular disease. Let's assume that 1% of the population has the disease, and the diagnostic test has a false positive rate of 5% and a false negative rate of 1%.\n",
        "\n",
        "#### Based on these assumptions, we can calculate the probability of the patient having the disease given a positive test result as follows:\n",
        "\n",
        "Prior probability: P(Disease) = 0.01 (1% of the population has the disease)\n",
        "\n",
        "False positive rate: P(Positive | No Disease) = 0.05 (5% of people without the disease will test positive)\n",
        "\n",
        "False negative rate: P(Negative | Disease) = 0.01 (1% of people with the disease will test negative)\n",
        "\n",
        "Marginal probability: P(Positive) = P(Positive | Disease) * P(Disease) + P(Positive | No Disease) * P(No Disease)\n",
        "= 0.99 * 0.01 + 0.05 * 0.99 = 0.0585\n",
        "\n",
        "\n",
        "### Using Bayes's theorem, we can calculate the probability of the patient having the disease given a positive test result as follows:\n",
        "\n",
        "Probability of having the disease given a positive test result: P(Disease | Positive) = P(Positive | Disease) * P(Disease) / P(Positive)\n",
        "= 0.99 * 0.01 / 0.0585\n",
        "= 0.1692 or 16.92%\n",
        "\n",
        "\n",
        "#### conclusion \n",
        "Therefore, even if the patient has a positive test result, there is still only a 16.92% chance that they actually have the disease. \n"
      ]
    },
    {
      "cell_type": "markdown",
      "id": "a47f0127-42d6-4659-86e4-92e501437182",
      "metadata": {
        "id": "a47f0127-42d6-4659-86e4-92e501437182"
      },
      "source": [
        "\n",
        "# Ans no7\n",
        "### To calculate the 95% confidence interval for a sample with a mean of 50 and a standard deviation of 5, we need to use the following formula:\n",
        "\n",
        "#### 95% confidence interval = sample mean ± (1.96 * standard error)\n",
        "\n",
        "##### Since we don't have size so we assume from our side which is to be 100\n",
        "\n",
        "##### so \n",
        "\n",
        "##### CI  = 50 ± 1.96*50/sqrt(100)\n",
        "\n",
        " #### == (49.32 , 50.98)\n",
        "\n",
        "\n",
        " #### Confidence Interval  = (49.32 , 50.98)"
      ]
    },
    {
      "cell_type": "markdown",
      "id": "0ad19185-7c89-40e3-98f9-d44afd4b94fd",
      "metadata": {
        "id": "0ad19185-7c89-40e3-98f9-d44afd4b94fd"
      },
      "source": [
        "\n",
        "\n",
        "# Ans no8\n",
        "\n",
        "###  Margin of error in a confidence interval:\n",
        "\n",
        "The margin of error in a confidence interval is a measure of the amount of random error present in a survey's results.\n",
        "\n",
        "It represents the range in which the true population parameter is likely to fall with a certain degree of confidence.\n",
        "\n",
        "## Parameter how does sample size affect the margin of error :: \n",
        "\n",
        "The margin of error is inversely proportional to the square root of the sample size. This means that as the sample size increases, the margin of error decreases.\n",
        "\n",
        "A confidence interval is a range of values, calculated from a sample of data, that is likely to contain the true population parameter. The margin of error is the maximum amount by which this range might differ from the true population parameter.\n",
        "\n",
        "\n",
        "## Scenerio with Example:\n",
        "\n",
        "let's say you want to estimate the proportion of people in a city who support a particular political candidate. You conduct a survey of 100 people and find that 60% of them support the candidate. If you calculate a 95% confidence interval around this estimate, you might find that the margin of error is ±10%. This means that you can be 95% confident that the true proportion of people who support the candidate in the entire city is somewhere between 50% and 70%.\n",
        "\n",
        "\n",
        "Now imagine that you conduct a survey of 1000 people and find that 60% of them support the candidate. If you calculate a 95% confidence interval around this estimate, you might find that the margin of error is only ±3%. This means that you can be 95% confident that the true proportion of people who support the candidate in the entire city is somewhere between 57% and 63%.\n",
        "\n",
        "## Conclusion from Example:   \n",
        "Therefore, a larger sample size generally results in a smaller margin of error, as it reduces the effect of random sampling variation.\n",
        "\n",
        "\n",
        "\n",
        "\n",
        "\n",
        "\n"
      ]
    },
    {
      "cell_type": "markdown",
      "id": "cd8de15d-3d17-450b-b518-5bfbc8fbb746",
      "metadata": {
        "id": "cd8de15d-3d17-450b-b518-5bfbc8fbb746"
      },
      "source": [
        "\n",
        "\n",
        "# Ans no9 \n",
        "## To calculate the z-score, we can use the following formula:\n",
        "\n",
        "### z = (x - μ) / σ\n",
        "\n",
        "where:\n",
        "x = the data point value\n",
        "\n",
        "μ = the population mean\n",
        "\n",
        "σ = the population standard deviation\n",
        "\n",
        "\n",
        "### put these Values in the formula\n",
        "\n",
        "#### z = (75 - 70) / 5\n",
        "#### z = 1\n",
        "\n",
        "### final ANswer\n",
        "\n",
        "So the z-score for a data point with a value of 75, a population mean of 70, and a population standard deviation of 5 is 1.\n",
        "\n",
        "Interpreting the results, a z-score of 1 means that the data point is one standard deviation above the mean of the population\n",
        "\n",
        "\n"
      ]
    },
    {
      "cell_type": "markdown",
      "id": "7ec699e4-9fa8-4570-9b73-8fcfdece0d3e",
      "metadata": {
        "id": "7ec699e4-9fa8-4570-9b73-8fcfdece0d3e"
      },
      "source": [
        "# Ans no10  \n",
        "\n",
        "# To conduct a hypothesis test, we need to state our null and alternative hypotheses:\n",
        "\n",
        "### Null hypothesis (H0): The mean weight loss of the population is not significantly different from 0.\n",
        "\n",
        "\n",
        "### Alternative hypothesis (Ha): The mean weight loss of the population is significantly different from 0.\n",
        "\n",
        "\n",
        "We will use a t-test for a single sample to determine if the sample mean weight loss of 6 pounds is significantly different from 0.\n",
        "\n",
        "## The formula for the t-test statistic is:\n",
        "\n",
        "t = (x̄ - μ) / (s / sqrt(n))\n",
        "\n",
        "where:\n",
        "x̄ = the sample mean (in this case, 6)\n",
        "\n",
        "μ = the hypothesized population mean (in this case, 0)\n",
        "\n",
        "s = the sample standard deviation (in this case, 2.5)\n",
        "\n",
        "n = the sample size (in this case, 50)\n",
        "\n",
        "### Using a t-table:  \n",
        "with 49 degrees of freedom (n-1), and a 95% confidence level.\n",
        "\n",
        "we find the critical t-value to be 2.01 (two-tailed test).\n",
        "\n",
        "Our calculated t-value of 19.1 is much greater than the critical t-value of 2.01.\n",
        "\n",
        "\n",
        "###  Conclusion: \n",
        " we reject the null hypothesis and\n",
        "conclude that the weight loss drug is significantly effective at a 95% confidence level.\n",
        "\n",
        "\n",
        "\n"
      ]
    },
    {
      "cell_type": "code",
      "execution_count": 13,
      "id": "e2b39ddd-6235-4f12-b195-2b303d5094ef",
      "metadata": {
        "id": "e2b39ddd-6235-4f12-b195-2b303d5094ef",
        "outputId": "d519932f-9552-462b-de2e-a34d776364c9",
        "colab": {
          "base_uri": "https://localhost:8080/"
        }
      },
      "outputs": [
        {
          "output_type": "stream",
          "name": "stdout",
          "text": [
            "The Critical value  -2.0095752344892093\n",
            "The Value of the t-test is : 16.970562748477143\n",
            "Reject null hypothesis:: The weight loss drug is significantly effective.\n"
          ]
        }
      ],
      "source": [
        "# Ans no10 \n",
        "\n",
        "logging.info(\" coding of the above question\")\n",
        "import numpy as np \n",
        "import scipy.stats as stat\n",
        "import math \n",
        "\n",
        "# data given\n",
        "n = 50\n",
        "sample_mean = 6\n",
        "s = 2.5\n",
        "\n",
        "# Hypothesis test\n",
        "population_mean  = 0\n",
        "alpha = 0.05\n",
        "\n",
        "#  crtical_value \n",
        "Critical_val = stat.t.ppf(alpha/2, df = n-1)\n",
        "print(\"The Critical value \", Critical_val)\n",
        "\n",
        "# t-test\n",
        "\n",
        "t_test = (sample_mean-population_mean)/( s/(math.sqrt(n)))\n",
        "print(\"The Value of the t-test is :\", t_test)\n",
        "\n",
        "\n",
        "#  checking the hypo test \n",
        "if abs(t_test) > Critical_val:\n",
        "\n",
        "    print(\"Reject null hypothesis:: The weight loss drug is significantly effective.\")\n",
        "else:\n",
        "    print(\"Fail to reject null hypothesis: The weight loss drug is not significantly effective.\")\n",
        "\n",
        "\n",
        "\n"
      ]
    },
    {
      "cell_type": "markdown",
      "id": "ccf706d0-ac13-4574-bdbd-f351dc16c485",
      "metadata": {
        "id": "ccf706d0-ac13-4574-bdbd-f351dc16c485"
      },
      "source": [
        "\n",
        "\n",
        "# Ans no11 \n",
        "# To calculate the 95% confidence interval for the true proportion of people who are satisfied with their job, we can use the following formula:\n",
        "\n",
        "## CI = p ± z*sqrt((p(1-p))/n)\n",
        "\n",
        "where:\n",
        "p = the sample proportion (in this case, 0.65)\n",
        "\n",
        "z = the z-score corresponding to the desired confidence level (in this case, 1.96 for 95% confidence)\n",
        "\n",
        "n = the sample size (in this case, 500)\n",
        "\n",
        "### put the value:\n",
        "CI = 0.65 ± 1.96sqrt((0.65(1-0.65))/500)\n",
        "\n",
        "# conclusiion:\n",
        "So the 95% confidence interval for the true proportion of people who are satisfied with their job is (0.608, 0.692)."
      ]
    },
    {
      "cell_type": "code",
      "execution_count": 14,
      "id": "37e82ab0-9a37-4abe-96bf-e21c766a5e07",
      "metadata": {
        "id": "37e82ab0-9a37-4abe-96bf-e21c766a5e07",
        "outputId": "1f8f3057-4a79-4dc0-8a43-f21f95fdbed4",
        "colab": {
          "base_uri": "https://localhost:8080/"
        }
      },
      "outputs": [
        {
          "output_type": "stream",
          "name": "stdout",
          "text": [
            "95% Confidence Interval: (0.608, 0.692)\n"
          ]
        }
      ],
      "source": [
        "# Ans no11\n",
        "logging.info(\" code of the above problem:\")\n",
        "\n",
        "\n",
        "import numpy as np \n",
        "import scipy.stats as stat\n",
        "import math \n",
        "\n",
        "# data \n",
        "p = 0.65\n",
        "z = 1.96  # 95% CI\n",
        "n = 500\n",
        "\n",
        "# Calculate the standard error\n",
        "se = math.sqrt((p*(1-p))/n)\n",
        "\n",
        "# calculate the margin of error\n",
        "M_error  = z * se\n",
        "\n",
        "\n",
        "# Calculate the lower and upper bounds of the confidence interval\n",
        "lower_bound = p - M_error\n",
        "upper_bound = p + M_error\n",
        "\n",
        "\n",
        "\n",
        "# Print the results\n",
        "print(\"95% Confidence Interval: ({:.3f}, {:.3f})\".format(lower_bound, upper_bound))\n"
      ]
    },
    {
      "cell_type": "code",
      "execution_count": 15,
      "id": "74179ad2-39ad-4d24-bc48-115f052cca48",
      "metadata": {
        "id": "74179ad2-39ad-4d24-bc48-115f052cca48",
        "outputId": "e84c7050-413c-4994-9794-e2cfed0c58b8",
        "colab": {
          "base_uri": "https://localhost:8080/"
        }
      },
      "outputs": [
        {
          "output_type": "stream",
          "name": "stdout",
          "text": [
            "Fail to reject the null\n"
          ]
        }
      ],
      "source": [
        "# Ans no12\n",
        "import math\n",
        "\n",
        "# Sample A\n",
        "x1 = 85\n",
        "s1 = 6\n",
        "n1 = 50\n",
        "\n",
        "# Sample B\n",
        "x2 = 82\n",
        "s2 = 5\n",
        "n2 = 50\n",
        "\n",
        "# Calculate the t-statistic\n",
        "t = (x1 - x2) / math.sqrt((s1**2 / n1) + (s2**2 / n2))\n",
        "\n",
        "# Calculate the degrees of freedom\n",
        "df = ((s1**2 / n1) + (s2**2 / n2))**2 / (((s1**2 / n1)**2 / (n1 - 1)) + ((s2**2 / n2)**2 / (n2 - 1)))\n",
        "\n",
        "# Calculate the critical t-value for a two-tailed test at alpha=0.01\n",
        "t_critical = abs(t) if t < 0 else -abs(t)\n",
        "t_alpha = abs(t_critical) if df > 100 else abs(t_critical) if df < 2 else abs(t_critical) + (abs(t_critical) - 2.576) / 99 * (df - 2)\n",
        "\n",
        "# Print the results\n",
        "\n",
        "if abs(t) > t_alpha:\n",
        "    print(\"Reject the null hypothesis; there is a significant difference in student performance between the two teaching methods.\")\n",
        "else:\n",
        "    print(\"Fail to reject the null\")\n"
      ]
    },
    {
      "cell_type": "markdown",
      "id": "1f6c25ca-0adc-4f86-84cc-c7b66907b6b4",
      "metadata": {
        "id": "1f6c25ca-0adc-4f86-84cc-c7b66907b6b4"
      },
      "source": [
        "\n",
        "# Ans no 13 \n",
        "\n",
        "## To calculate the 90% confidence interval for the true population mean, we can use the following formula:\n",
        "\n",
        "### CI = x̄ ± z*(σ/√n)\n",
        "\n",
        "where:\n",
        "\n",
        "x̄ is the sample mean (65)\n",
        "\n",
        "σ is the population standard deviation (8)\n",
        "\n",
        "n is the sample size (50)\n",
        "\n",
        "z is the z-score corresponding to the desired confidence level of 90%. From the z-table, we find that the z-score for a 90% confidence level is \n",
        "\n",
        "z = 1.645.\n",
        "\n",
        "### substitue the value \n",
        "\n",
        "CI = 65 ± 1.645*(8/√50)\n",
        "\n",
        "CI = 65 ± 2.298\n",
        "\n",
        "CI = (62.702, 67.298)\n",
        "\n",
        "### This means that we are 90% confident that the true population mean falls within this interval.\n"
      ]
    },
    {
      "cell_type": "code",
      "execution_count": 16,
      "id": "213565b6-d3ed-4fb8-a869-9479506ba0e7",
      "metadata": {
        "id": "213565b6-d3ed-4fb8-a869-9479506ba0e7",
        "outputId": "e4174f26-088d-425a-86e5-81b6c1ab62d9",
        "colab": {
          "base_uri": "https://localhost:8080/"
        }
      },
      "outputs": [
        {
          "output_type": "stream",
          "name": "stdout",
          "text": [
            "The CI : [63.13889495191701, 66.86110504808299]\n"
          ]
        }
      ],
      "source": [
        "# answer 13 \n",
        "logging.info(\"python code of the above problem\")\n",
        "\n",
        "import math\n",
        "\n",
        "def estimate_population_mean(sample_mean, sample_std_dev, sample_size):\n",
        "    standard_error = sample_std_dev / math.sqrt(sample_size)\n",
        "   \n",
        "    l = []\n",
        "    z_score = 1.645 # For a 90% confidence interval\n",
        "    margin_of_error = z_score * standard_error\n",
        "       #interval lower\n",
        "    lower_bound = sample_mean - margin_of_error\n",
        "\n",
        "    l.append(lower_bound)\n",
        "    #upper interval\n",
        "    upper_bound = sample_mean + margin_of_error\n",
        "    l.append(upper_bound)\n",
        "\n",
        "   \n",
        "    return l\n",
        "\n",
        "sample_mean = 65\n",
        "sample_std_dev = 8\n",
        "sample_size = 50\n",
        "\n",
        "#CIT \n",
        "\n",
        "res =  estimate_population_mean(sample_mean, sample_std_dev, sample_size)\n",
        "print(\"The CI :\", res)"
      ]
    },
    {
      "cell_type": "markdown",
      "id": "737566d5-850b-40fe-87f8-ad227335b9c0",
      "metadata": {
        "id": "737566d5-850b-40fe-87f8-ad227335b9c0"
      },
      "source": [
        "\n",
        "# Ans no 14 \n",
        "\n",
        "\n",
        "### The null hypothesis (H0) \n",
        "is that there is no significant effect of caffeine on reaction time\n",
        "H0: μ = 0.25\n",
        "\n",
        "# the alternative hypothesis (Ha)\n",
        " is that there is a significant effect of caffeine on reaction time.\n",
        " Ha: μ ≠ 0.25\n",
        "\n",
        " # select the test:\n",
        "#### Next, we can calculate the t-value using the formula: \n",
        "\n",
        "t = (x̄ - μ) / (s / √n)\n",
        "\n",
        "\n",
        "t = (0.25 - 0.25) / (0.05 / √30)\n",
        "\n",
        "t = 0 / 0.009144\n",
        "\n",
        "t = 0\n",
        "\n",
        "## calcute the critical value (two-tailed)\n",
        " alpha  = 0.1\n",
        " \n",
        " Degree of freedom = n-1 =>\n",
        " 29\n",
        "\n",
        "Critical_value= 1.699\n",
        "\n",
        "\n",
        "Since the calculated t-value (0) is within the confidence interval (-1.699to +1.699), \n",
        "\n",
        "## conclusion:\n",
        " we fail to reject the null hypothesis.\n",
        "\n",
        " This means that we do not have sufficient evidence to conclude that caffeine has a significant effect on reaction time at a 90% confidence level.\n"
      ]
    },
    {
      "cell_type": "code",
      "execution_count": 17,
      "id": "60aa8616-be8d-440c-9488-cc402dd56c2f",
      "metadata": {
        "id": "60aa8616-be8d-440c-9488-cc402dd56c2f",
        "outputId": "d77d3ab2-08fd-45f3-820d-384c8948d234",
        "colab": {
          "base_uri": "https://localhost:8080/"
        }
      },
      "outputs": [
        {
          "output_type": "stream",
          "name": "stdout",
          "text": [
            "The t-value is : 0.0\n",
            "The critcal_value is : 1.6991270265334977\n",
            "we fail to Reject Null hypothesis\n",
            " there is no significant effect of caffeine on reaction time at a 90% confidence level.\n"
          ]
        }
      ],
      "source": [
        "# ans no14\n",
        "\n",
        "logging.info(\"python code of the above problem\")\n",
        "\n",
        "\n",
        "import scipy.stats as stat\n",
        "import math\n",
        "\n",
        "# data given \n",
        "sample_mean = 0.25\n",
        "std_dev = 0.05\n",
        "popu_mean = 0.25 # let we consider\n",
        "size = 30\n",
        "\n",
        "\n",
        "t_value =  (sample_mean-popu_mean)/(std_dev/(math.sqrt(size)))\n",
        "print(\"The t-value is :\",t_value)\n",
        "\n",
        "\n",
        "\n",
        "\n",
        "# crtical value for confident interval 90% and degree of freedom =29(two-tailed)\n",
        "\n",
        "critical_value = stat.t.ppf(0.1/2, df = 29)\n",
        "print(\"The critcal_value is :\",abs(critical_value))\n",
        "\n",
        "# since \n",
        "if(t_value>abs(critical_value)):\n",
        "  print(\"Reject the Null hypothesis:\\n \")\n",
        "else:\n",
        "  print(\"we fail to Reject Null hypothesis\\n there is no significant effect of caffeine on reaction time at a 90% confidence level.\")\n",
        "\n",
        "\n"
      ]
    }
  ],
  "metadata": {
    "kernelspec": {
      "display_name": "Python 3 (ipykernel)",
      "language": "python",
      "name": "python3"
    },
    "language_info": {
      "codemirror_mode": {
        "name": "ipython",
        "version": 3
      },
      "file_extension": ".py",
      "mimetype": "text/x-python",
      "name": "python",
      "nbconvert_exporter": "python",
      "pygments_lexer": "ipython3",
      "version": "3.10.8"
    },
    "colab": {
      "provenance": []
    }
  },
  "nbformat": 4,
  "nbformat_minor": 5
}