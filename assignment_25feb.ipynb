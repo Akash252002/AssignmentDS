{
 "cells": [
  {
   "cell_type": "code",
   "execution_count": 26,
   "id": "f9e7e97f-59d0-460a-8bf0-0652dd496a68",
   "metadata": {},
   "outputs": [],
   "source": [
    "import pandas as pd\n",
    "import logging\n",
    "\n",
    "logging.basicConfig(filename='25feb.log',level=logging.INFO)\n",
    "course_name = ['Data Science','Machine Learning', 'Big Data', 'Data Engineer']\n",
    "duration = [2,3,6,4]\n",
    "df = pd.DataFrame( data = {'course_name': course_name, 'duration' : duration})"
   ]
  },
  {
   "cell_type": "code",
   "execution_count": 27,
   "id": "622f6af9-ab1d-409d-acfb-e8817c4c8a76",
   "metadata": {},
   "outputs": [
    {
     "data": {
      "text/plain": [
       "0    Data Science\n",
       "2        Big Data\n",
       "Name: course_name, dtype: object"
      ]
     },
     "execution_count": 27,
     "metadata": {},
     "output_type": "execute_result"
    }
   ],
   "source": [
    "# Ans no1\n",
    "logging.info(\"printing the data present in the second row of the dataframe\")\n",
    "df.loc[: :2]['course_name']"
   ]
  },
  {
   "cell_type": "code",
   "execution_count": 28,
   "id": "523f28b3-570e-44b5-8ce5-82171ddb1f31",
   "metadata": {},
   "outputs": [
    {
     "data": {
      "text/plain": [
       "\" \\nloc and iloc are both methods available on pandas DataFrame objects, used to select rows and columns of a DataFrame.\\nThe main difference between loc and iloc is in how they index data.\\n\\nloc is used to select data using label-based indexing, which means that it selects data based on the labels (or names) of rows or columns.\\nIt uses the syntax df.loc[row_indexer, column_indexer], where row_indexer and column_indexer can be label-based selections, such as strings or lists of strings.\\n\\nFor example, df.loc['row_label', 'column_label'] will select the data located at the intersection of the row with label 'row_label' and the column with label 'column_label'.\\n\\niloc, on the other hand, is used to select data using integer-based indexing, which means that it selects data based on the integer position of rows or columns.\\n It uses the syntax df.iloc[row_indexer, column_indexer], where row_indexer and column_indexer can be integer-based selections, such as integers or lists of integers.\\n\\nFor example, df.iloc[0, 1] will select the data located at the intersection of the first row and the second column of the DataFrame.\\n\\nIn summary, the main difference between loc and iloc is that loc uses label-based indexing,\\nwhile iloc uses integer-based indexing. It's important to choose the appropriate method depending on the type of indexing you want to use.\\n\\n\\n\\n\""
      ]
     },
     "execution_count": 28,
     "metadata": {},
     "output_type": "execute_result"
    }
   ],
   "source": [
    "# Ans no2\n",
    "\n",
    "\n",
    "logging.info(\"difference between the functions loc and iloc\")\n",
    "''' \n",
    "loc and iloc are both methods available on pandas DataFrame objects, used to select rows and columns of a DataFrame.\n",
    "The main difference between loc and iloc is in how they index data.\n",
    "\n",
    "loc is used to select data using label-based indexing, which means that it selects data based on the labels (or names) of rows or columns.\n",
    "It uses the syntax df.loc[row_indexer, column_indexer], where row_indexer and column_indexer can be label-based selections, such as strings or lists of strings.\n",
    "\n",
    "For example, df.loc['row_label', 'column_label'] will select the data located at the intersection of the row with label 'row_label' and the column with label 'column_label'.\n",
    "\n",
    "iloc, on the other hand, is used to select data using integer-based indexing, which means that it selects data based on the integer position of rows or columns.\n",
    " It uses the syntax df.iloc[row_indexer, column_indexer], where row_indexer and column_indexer can be integer-based selections, such as integers or lists of integers.\n",
    "\n",
    "For example, df.iloc[0, 1] will select the data located at the intersection of the first row and the second column of the DataFrame.\n",
    "\n",
    "In summary, the main difference between loc and iloc is that loc uses label-based indexing,\n",
    "while iloc uses integer-based indexing. It's important to choose the appropriate method depending on the type of indexing you want to use.\n",
    "\n",
    "\n",
    "\n",
    "'''"
   ]
  },
  {
   "cell_type": "code",
   "execution_count": 29,
   "id": "6625490c-8168-4f86-b848-a6d926537321",
   "metadata": {},
   "outputs": [
    {
     "name": "stdout",
     "output_type": "stream",
     "text": [
      "        course_name  duration\n",
      "3     Data Engineer         4\n",
      "0      Data Science         2\n",
      "1  Machine Learning         3\n",
      "2          Big Data         6\n"
     ]
    }
   ],
   "source": [
    "# Ans no3\n",
    "\n",
    "logging.info(\"Answering the qus3\")\n",
    "import pandas as pd\n",
    "\n",
    "course_name = ['Data Science', 'Machine Learning', 'Big Data', 'Data Engineer']\n",
    "duration = [2, 3, 6, 4]\n",
    "\n",
    "df = pd.DataFrame(data={'course_name': course_name, 'duration': duration})\n",
    "\n",
    "# Reindexing the dataframe\n",
    "reindex = [3, 0, 1, 2]\n",
    "new_df = df.reindex(reindex)\n",
    "\n",
    "# Printing the new dataframe\n",
    "print(new_df)\n"
   ]
  },
  {
   "cell_type": "code",
   "execution_count": 5,
   "id": "d866a4d6-b97a-4729-a528-12f4f628e032",
   "metadata": {},
   "outputs": [
    {
     "name": "stdout",
     "output_type": "stream",
     "text": [
      "course_name    Big Data\n",
      "duration              6\n",
      "Name: 2, dtype: object\n",
      "course_name    Machine Learning\n",
      "duration                      3\n",
      "Name: 1, dtype: object\n"
     ]
    },
    {
     "data": {
      "text/plain": [
       "'\\nIn summary, new_df.loc[2] returns the row with index label 2 in the new dataframe new_df,\\nwhile new_df.iloc[2] returns the third row in new_df. \\nThe difference arises because the index labels and \\ninteger positions do not match up in the new dataframe new_df.'"
      ]
     },
     "execution_count": 5,
     "metadata": {},
     "output_type": "execute_result"
    }
   ],
   "source": [
    "# Output of new_df.loc[2]\n",
    "print(new_df.loc[2])\n",
    "\n",
    "\n",
    "# Output of new_df.iloc[2]\n",
    "print(new_df.iloc[2])\n",
    "\n",
    "'''\n",
    "In summary, new_df.loc[2] returns the row with index label 2 in the new dataframe new_df,\n",
    "while new_df.iloc[2] returns the third row in new_df. \n",
    "The difference arises because the index labels and \n",
    "integer positions do not match up in the new dataframe new_df.'''\n"
   ]
  },
  {
   "cell_type": "code",
   "execution_count": 30,
   "id": "99ea99fc-47c9-4d80-bace-af05edeef3e6",
   "metadata": {},
   "outputs": [
    {
     "data": {
      "text/plain": [
       "column_1    0.496619\n",
       "column_2    0.578745\n",
       "column_3    0.573783\n",
       "column_4    0.557471\n",
       "column_5    0.478496\n",
       "column_6    0.619384\n",
       "dtype: float64"
      ]
     },
     "execution_count": 30,
     "metadata": {},
     "output_type": "execute_result"
    }
   ],
   "source": [
    "# Ans no4\n",
    "\n",
    "logging.info(\"writing the statistical measurements\")\n",
    "import pandas as pd\n",
    "import numpy as np\n",
    "columns = ['column_1', 'column_2', 'column_3', 'column_4', 'column_5', 'column_6']\n",
    "indices = [1,2,3,4,5,6]\n",
    "#Creating a dataframe:\n",
    "df1 = pd.DataFrame(np.random.rand(6,6), columns = columns, index = indices)\n",
    "\n",
    "df1.mean()\n",
    "\n",
    "\n"
   ]
  },
  {
   "cell_type": "code",
   "execution_count": 31,
   "id": "c679038c-84e7-4f8d-8de2-338bcecbc974",
   "metadata": {},
   "outputs": [
    {
     "data": {
      "text/plain": [
       "0.18277448100617383"
      ]
     },
     "execution_count": 31,
     "metadata": {},
     "output_type": "execute_result"
    }
   ],
   "source": [
    "df1['column_2'].std()"
   ]
  },
  {
   "cell_type": "code",
   "execution_count": 32,
   "id": "fc3aebae-2afc-443b-ad1e-b5fbd9028e54",
   "metadata": {},
   "outputs": [
    {
     "name": "stdout",
     "output_type": "stream",
     "text": [
      "cant add str and int\n"
     ]
    }
   ],
   "source": [
    "# Ans no5\n",
    "\n",
    "logging.info(\"answering the qus5\")\n",
    "try:\n",
    "    df1=df1.loc[2,['column_2']]=\"string\"\n",
    "    df1['column_2'].mean()\n",
    "except:\n",
    "    print(\"cant add str and int\")        \n",
    "\n"
   ]
  },
  {
   "cell_type": "code",
   "execution_count": 33,
   "id": "d9d74da4-2ba1-4904-8e97-147e9ccbd97d",
   "metadata": {},
   "outputs": [
    {
     "data": {
      "text/plain": [
       "'In pandas, a window function is used to perform calculations on a specified subset of data called a window,\\n which can be defined by a sliding or expanding window of data. \\n The window function can be applied to a series or a DataFrame,\\nand is commonly used to compute moving statistics such as rolling averages, cumulative sums, and more.\\n\\nThere are two main types of window functions in pandas:\\nrolling and expanding. Rolling window functions are applied to a fixed window of data that \"rolls\" over the series, \\nwhile expanding window functions include all the data up until a specified point in time. Some common window functions include:\\n\\nRolling functions:\\nrolling(): performs a rolling computation over a specified window size.\\nrolling_sum(): computes the rolling sum of values over a specified window size.\\nrolling_mean(): computes the rolling mean of values over a specified window size.\\nExpanding functions:\\nexpanding(): computes the expanding window function over the entire dataset.\\nexpanding_sum(): computes the expanding sum of values over the entire dataset.\\nexpanding_mean(): computes the expanding mean of values over the entire dataset.\\nThese functions can be further customized with various parameters such as window size, minimum number of observations required, and more.\\n'"
      ]
     },
     "execution_count": 33,
     "metadata": {},
     "output_type": "execute_result"
    }
   ],
   "source": [
    "# Ans no6\n",
    "\n",
    "logging.info(\" about the windows function in pandas\")\n",
    "\n",
    "'''In pandas, a window function is used to perform calculations on a specified subset of data called a window,\n",
    " which can be defined by a sliding or expanding window of data. \n",
    " The window function can be applied to a series or a DataFrame,\n",
    "and is commonly used to compute moving statistics such as rolling averages, cumulative sums, and more.\n",
    "\n",
    "There are two main types of window functions in pandas:\n",
    "rolling and expanding. Rolling window functions are applied to a fixed window of data that \"rolls\" over the series, \n",
    "while expanding window functions include all the data up until a specified point in time. Some common window functions include:\n",
    "\n",
    "Rolling functions:\n",
    "rolling(): performs a rolling computation over a specified window size.\n",
    "rolling_sum(): computes the rolling sum of values over a specified window size.\n",
    "rolling_mean(): computes the rolling mean of values over a specified window size.\n",
    "Expanding functions:\n",
    "expanding(): computes the expanding window function over the entire dataset.\n",
    "expanding_sum(): computes the expanding sum of values over the entire dataset.\n",
    "expanding_mean(): computes the expanding mean of values over the entire dataset.\n",
    "These functions can be further customized with various parameters such as window size, minimum number of observations required, and more.\n",
    "'''"
   ]
  },
  {
   "cell_type": "code",
   "execution_count": 34,
   "id": "8f6bb2de-d468-4f90-81cb-0c32a93bad6d",
   "metadata": {},
   "outputs": [
    {
     "name": "stdout",
     "output_type": "stream",
     "text": [
      "Current month: 2\n",
      "Current year: 2023\n"
     ]
    }
   ],
   "source": [
    "# Ans no7\n",
    "\n",
    "logging.info(\" the current month and year \")\n",
    "import datetime\n",
    "\n",
    "current_date = datetime.datetime.now()\n",
    "\n",
    "print(\"Current month:\", current_date.month)\n",
    "print(\"Current year:\", current_date.year)\n"
   ]
  },
  {
   "cell_type": "code",
   "execution_count": 35,
   "id": "e13a9b3c-bfcd-4174-99d2-3a786e8502f5",
   "metadata": {},
   "outputs": [
    {
     "name": "stdin",
     "output_type": "stream",
     "text": [
      "Enter the first date (YYYY-MM-DD):  2023-01-01\n",
      "Enter the first date (YYYY-MM-DD):  2023-01-10\n"
     ]
    },
    {
     "name": "stdout",
     "output_type": "stream",
     "text": [
      "th difference is -9\n",
      "th difference houes is 0.0\n",
      "th minutes is 0.0\n",
      "th seconds is 0\n"
     ]
    }
   ],
   "source": [
    "# Ans no8\n",
    "\n",
    "logging.info(\"Answering the qus8\")\n",
    "\n",
    "date1_str = input(\"Enter the first date (YYYY-MM-DD): \")\n",
    "date1 = pd.to_datetime(date1_str)\n",
    "\n",
    "\n",
    "date1_str = input(\"Enter the first date (YYYY-MM-DD): \")\n",
    "date2 = pd.to_datetime(date1_str)\n",
    "\n",
    "difference= date1-date2\n",
    "hour=difference.seconds/3600\n",
    "minute=difference.seconds/60\n",
    "print(\"th difference is\",difference.days)\n",
    "print(\"th difference houes is\",hour)\n",
    "print(\"th minutes is\",minute)\n",
    "print(\"th seconds is\",difference.seconds)\n",
    "\n"
   ]
  },
  {
   "cell_type": "code",
   "execution_count": null,
   "id": "66a7a26a-b635-4d9e-b851-268b065a36c8",
   "metadata": {},
   "outputs": [],
   "source": []
  },
  {
   "cell_type": "code",
   "execution_count": 22,
   "id": "513a889c-c522-4efa-9895-7767b0f1cd72",
   "metadata": {},
   "outputs": [
    {
     "data": {
      "text/plain": [
       "<AxesSubplot: xlabel='date'>"
      ]
     },
     "execution_count": 22,
     "metadata": {},
     "output_type": "execute_result"
    },
    {
     "data": {
      "image/png": "[encoded data removed]",
      "text/plain": [
       "<Figure size 640x480 with 1 Axes>"
      ]
     },
     "metadata": {},
     "output_type": "display_data"
    }
   ],
   "source": [
    "# Ans no10\n",
    "\n",
    "logging.info(\"plotting the bar graph\")\n",
    "import pandas as pd\n",
    "# prompt user to enter file path\n",
    "file_path = input(\"Enter the file path: \")\n",
    "# course_name = ['2023-01-01', '2023-01-02', '2023-01-03', '2023-01-04']\n",
    "# duration = [2, 3, 6, 4]\n",
    "# df = pd.DataFrame( data = {'date': course_name, 'sales' : duration})\n",
    "df = pd.read_csv(file_path)\n",
    "\n",
    "\n",
    "df.plot.bar(x=\"date\",y=\"sales\")\n",
    "\n"
   ]
  },
  {
   "cell_type": "code",
   "execution_count": 36,
   "id": "94e29560-8002-4f54-acfe-588aeac52874",
   "metadata": {},
   "outputs": [
    {
     "data": {
      "text/html": [
       "<div>\n",
       "<style scoped>\n",
       "    .dataframe tbody tr th:only-of-type {\n",
       "        vertical-align: middle;\n",
       "    }\n",
       "\n",
       "    .dataframe tbody tr th {\n",
       "        vertical-align: top;\n",
       "    }\n",
       "\n",
       "    .dataframe thead th {\n",
       "        text-align: right;\n",
       "    }\n",
       "</style>\n",
       "<table border=\"1\" class=\"dataframe\">\n",
       "  <thead>\n",
       "    <tr style=\"text-align: right;\">\n",
       "      <th></th>\n",
       "      <th>Statistic</th>\n",
       "      <th>Value</th>\n",
       "    </tr>\n",
       "  </thead>\n",
       "  <tbody>\n",
       "    <tr>\n",
       "      <th>0</th>\n",
       "      <td>Mean</td>\n",
       "      <td>83.5</td>\n",
       "    </tr>\n",
       "    <tr>\n",
       "      <th>1</th>\n",
       "      <td>Median</td>\n",
       "      <td>85.0</td>\n",
       "    </tr>\n",
       "    <tr>\n",
       "      <th>2</th>\n",
       "      <td>Mod</td>\n",
       "      <td>0    85\n",
       "Name: test_score, dtype: int64</td>\n",
       "    </tr>\n",
       "  </tbody>\n",
       "</table>\n",
       "</div>"
      ],
      "text/plain": [
       "  Statistic                                   Value\n",
       "0      Mean                                    83.5\n",
       "1    Median                                    85.0\n",
       "2       Mod  0    85\n",
       "Name: test_score, dtype: int64"
      ]
     },
     "execution_count": 36,
     "metadata": {},
     "output_type": "execute_result"
    }
   ],
   "source": [
    "# Ans no11\n",
    "\n",
    "logging.info(\"answering the qus no11\")\n",
    "import pandas as pd\n",
    "\n",
    "# prompt user to enter file path\n",
    "# file_path = input(\"Enter the file path: \")\n",
    "data={\"student_id\":[1,2,3,4,5,6,7,8,9,10],\"test_score\":[85,90,80,75,85,82,78,85,90,85]}\n",
    "df=pd.DataFrame(data)\n",
    "df\n",
    "mean=df['test_score'].mean()\n",
    "median=df[\"test_score\"].median()\n",
    "mod=df[\"test_score\"].mode()\n",
    "data1={\"Statistic\":[\"Mean\",\"Median\",\"Mod\"],\"Value\":[mean,median,mod]}\n",
    "\n",
    "df1=pd.DataFrame(data1)\n",
    "df1\n"
   ]
  },
  {
   "cell_type": "code",
   "execution_count": null,
   "id": "035f078c-1c85-463f-bd67-6bf09facdfdd",
   "metadata": {},
   "outputs": [],
   "source": []
  }
 ],
 "metadata": {
  "kernelspec": {
   "display_name": "Python 3 (ipykernel)",
   "language": "python",
   "name": "python3"
  },
  "language_info": {
   "codemirror_mode": {
    "name": "ipython",
    "version": 3
   },
   "file_extension": ".py",
   "mimetype": "text/x-python",
   "name": "python",
   "nbconvert_exporter": "python",
   "pygments_lexer": "ipython3",
   "version": "3.10.8"
  }
 },
 "nbformat": 4,
 "nbformat_minor": 5
}
