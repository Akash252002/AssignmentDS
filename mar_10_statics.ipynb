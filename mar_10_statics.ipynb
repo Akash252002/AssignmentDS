{
  "cells": [
    {
      "cell_type": "code",
      "execution_count": 1,
      "id": "871d5fc7-3489-495b-a5a2-17caf8195405",
      "metadata": {
        "id": "871d5fc7-3489-495b-a5a2-17caf8195405"
      },
      "outputs": [],
      "source": [
        "import logging\n",
        "\n",
        "logging.basicConfig(filename=\"10Mar.log\", level=logging.INFO, format=\"%(asctime)s %(name)s %(message)s\")"
      ]
    },
    {
      "cell_type": "code",
      "execution_count": 2,
      "id": "97f0fa2b-218c-4b15-82c6-42344fd56f3f",
      "metadata": {
        "id": "97f0fa2b-218c-4b15-82c6-42344fd56f3f",
        "outputId": "9ea4e042-bbb3-43eb-de03-40fa55c46d2d",
        "colab": {
          "base_uri": "https://localhost:8080/",
          "height": 123
        }
      },
      "outputs": [
        {
          "output_type": "execute_result",
          "data": {
            "text/plain": [
              "'\\nEstimation statistics refers to the process of using sample data to make inferences about population parameters. It involves estimating\\nthe value of a population parameter using sample statistics. The two main types of estimation in statistics are point estimate and interval estimate.\\n\\nPoint Estimate:\\nA point estimate is a single value that is used to estimate the value of an unknown population parameter. It is computed from the sample data\\nand is used to make inferences about the population parameter. For example, if we want to estimate the average salary of employees in a company,\\nwe can take a sample of employees and compute the sample mean. The sample mean is a point estimate of the population mean.\\n\\nInterval Estimate:\\nAn interval estimate is a range of values within which the population parameter is expected to lie. It is based on the sample data and is used\\nto estimate the precision of the estimate. Interval estimates are usually expressed as a confidence interval, which indicates the degree of\\nconfidence that the population parameter falls within the estimated interval. For example, a 95% confidence interval for the average salary\\nof employees in a company would mean that there is a 95% chance that the true population mean lies within the estimated range.\\n\\nIn summary, estimation statistics is the process of using sample data to make inferences about population parameters. Point estimates\\nare single values used to estimate population parameters, while interval estimates are ranges of values that provide an estimate of the \\nprecision of the estimate.\\n'"
            ],
            "application/vnd.google.colaboratory.intrinsic+json": {
              "type": "string"
            }
          },
          "metadata": {},
          "execution_count": 2
        }
      ],
      "source": [
        "# ans no1\n",
        "\n",
        "logging.info(\"answering the question no1\")\n",
        "\"\"\"\n",
        "Estimation statistics refers to the process of using sample data to make inferences about population parameters. It involves estimating\n",
        "the value of a population parameter using sample statistics. The two main types of estimation in statistics are point estimate and interval estimate.\n",
        "\n",
        "Point Estimate:\n",
        "A point estimate is a single value that is used to estimate the value of an unknown population parameter. It is computed from the sample data\n",
        "and is used to make inferences about the population parameter. For example, if we want to estimate the average salary of employees in a company,\n",
        "we can take a sample of employees and compute the sample mean. The sample mean is a point estimate of the population mean.\n",
        "\n",
        "Interval Estimate:\n",
        "An interval estimate is a range of values within which the population parameter is expected to lie. It is based on the sample data and is used\n",
        "to estimate the precision of the estimate. Interval estimates are usually expressed as a confidence interval, which indicates the degree of\n",
        "confidence that the population parameter falls within the estimated interval. For example, a 95% confidence interval for the average salary\n",
        "of employees in a company would mean that there is a 95% chance that the true population mean lies within the estimated range.\n",
        "\n",
        "In summary, estimation statistics is the process of using sample data to make inferences about population parameters. Point estimates\n",
        "are single values used to estimate population parameters, while interval estimates are ranges of values that provide an estimate of the \n",
        "precision of the estimate.\n",
        "\"\"\""
      ]
    },
    {
      "cell_type": "code",
      "execution_count": 3,
      "id": "c4514441-e2d7-430f-b199-f0ec7c7b9775",
      "metadata": {
        "id": "c4514441-e2d7-430f-b199-f0ec7c7b9775",
        "outputId": "a98d62f0-40f5-4190-d84f-1167da1d0bbc",
        "colab": {
          "base_uri": "https://localhost:8080/",
          "height": 70
        }
      },
      "outputs": [
        {
          "output_type": "execute_result",
          "data": {
            "text/plain": [
              "'\\nThe function first calculates the standard error of the mean using the sample standard deviation and sample size. It then uses a 95% \\nconfidence level to calculate the margin of error and the lower and upper bounds of the confidence interval. Finally, the function returns \\na tuple containing the estimated population mean and the lower and upper bounds of the confidence interval.\\n\\nThis function assumes that the population follows a normal distribution.\\n'"
            ],
            "application/vnd.google.colaboratory.intrinsic+json": {
              "type": "string"
            }
          },
          "metadata": {},
          "execution_count": 3
        }
      ],
      "source": [
        "# ans no2\n",
        "\n",
        "logging.info(\"answering the question no2\")\n",
        "\n",
        "import math\n",
        "\n",
        "def estimate_population_mean(sample_mean, sample_std, sample_size):\n",
        "    # Calculate the standard error of the mean\n",
        "    standard_error = sample_std / math.sqrt(sample_size)\n",
        "    \n",
        "    # Calculate the margin of error (using a 95% confidence level)\n",
        "    margin_of_error = 1.96 * standard_error\n",
        "    \n",
        "    # Calculate the lower and upper bounds of the confidence interval\n",
        "    lower_bound = sample_mean - margin_of_error\n",
        "    upper_bound = sample_mean + margin_of_error\n",
        "    \n",
        "    # Return the estimated population mean and the confidence interval\n",
        "    return (sample_mean, lower_bound, upper_bound)\n",
        "\"\"\"\n",
        "The function first calculates the standard error of the mean using the sample standard deviation and sample size. It then uses a 95% \n",
        "confidence level to calculate the margin of error and the lower and upper bounds of the confidence interval. Finally, the function returns \n",
        "a tuple containing the estimated population mean and the lower and upper bounds of the confidence interval.\n",
        "\n",
        "This function assumes that the population follows a normal distribution.\n",
        "\"\"\""
      ]
    },
    {
      "cell_type": "code",
      "execution_count": 4,
      "id": "c82c90d6-7591-4e8f-b0f2-ba2adef5e112",
      "metadata": {
        "id": "c82c90d6-7591-4e8f-b0f2-ba2adef5e112",
        "outputId": "b06192d4-aab5-4d23-f8fa-1cfcd991a373",
        "colab": {
          "base_uri": "https://localhost:8080/",
          "height": 123
        }
      },
      "outputs": [
        {
          "output_type": "execute_result",
          "data": {
            "text/plain": [
              "'\\nHypothesis testing is a statistical method used to determine whether a claim or hypothesis about a population is supported by the sample data.\\nIt involves making a decision between two competing hypotheses: the null hypothesis (H0) and the alternative hypothesis (Ha). The null hypothesis\\nrepresents the assumption that there is no significant difference or relationship between the population parameter and the \\nsample data. The alternative hypothesis represents the opposite of the null hypothesis and suggests that there is a significant difference \\nor relationship between the population parameter and the sample data.\\n\\nHypothesis testing is used in statistics to provide a formal and objective way of testing theories and claims about population parameters. \\nIt is a way of making decisions based on sample data, which can be useful in a wide range of fields, including scientific research, healthcare,\\nbusiness, and social sciences.\\n\\nThe importance of hypothesis testing can be summarized as follows:\\n\\nObjective decision-making: Hypothesis testing provides a standardized and objective way of making decisions based on sample data. \\nThis helps to reduce the influence of personal bias and ensures that decisions are based on empirical evidence.\\n\\nControl of type I and type II errors: Hypothesis testing helps to control the risk of making type I and type II errors. A type \\nI error occurs when the null hypothesis is rejected even though it is true. A type II error occurs when the null hypothesis is \\naccepted even though it is false. Hypothesis testing helps to control these errors by setting a threshold level of significance\\n(alpha) and a desired level of power (1 - beta) for the test.\\n\\nTesting of scientific theories: Hypothesis testing is an essential tool in scientific research, where it is used to test theories \\nand claims about population parameters. By providing a rigorous and objective way of testing theories, hypothesis testing helps to \\nadvance scientific knowledge and understanding.\\n\\nQuality control: Hypothesis testing is used in quality control to ensure that products and processes meet certain standards. By \\ntesting hypotheses about population parameters, quality control professionals can identify areas for improvement and make data-driven \\ndecisions to improve quality.\\n'"
            ],
            "application/vnd.google.colaboratory.intrinsic+json": {
              "type": "string"
            }
          },
          "metadata": {},
          "execution_count": 4
        }
      ],
      "source": [
        "# ans no3\n",
        "\n",
        "logging.info(\"answering the question no3\")\n",
        "\"\"\"\n",
        "Hypothesis testing is a statistical method used to determine whether a claim or hypothesis about a population is supported by the sample data.\n",
        "It involves making a decision between two competing hypotheses: the null hypothesis (H0) and the alternative hypothesis (Ha). The null hypothesis\n",
        "represents the assumption that there is no significant difference or relationship between the population parameter and the \n",
        "sample data. The alternative hypothesis represents the opposite of the null hypothesis and suggests that there is a significant difference \n",
        "or relationship between the population parameter and the sample data.\n",
        "\n",
        "Hypothesis testing is used in statistics to provide a formal and objective way of testing theories and claims about population parameters. \n",
        "It is a way of making decisions based on sample data, which can be useful in a wide range of fields, including scientific research, healthcare,\n",
        "business, and social sciences.\n",
        "\n",
        "The importance of hypothesis testing can be summarized as follows:\n",
        "\n",
        "Objective decision-making: Hypothesis testing provides a standardized and objective way of making decisions based on sample data. \n",
        "This helps to reduce the influence of personal bias and ensures that decisions are based on empirical evidence.\n",
        "\n",
        "Control of type I and type II errors: Hypothesis testing helps to control the risk of making type I and type II errors. A type \n",
        "I error occurs when the null hypothesis is rejected even though it is true. A type II error occurs when the null hypothesis is \n",
        "accepted even though it is false. Hypothesis testing helps to control these errors by setting a threshold level of significance\n",
        "(alpha) and a desired level of power (1 - beta) for the test.\n",
        "\n",
        "Testing of scientific theories: Hypothesis testing is an essential tool in scientific research, where it is used to test theories \n",
        "and claims about population parameters. By providing a rigorous and objective way of testing theories, hypothesis testing helps to \n",
        "advance scientific knowledge and understanding.\n",
        "\n",
        "Quality control: Hypothesis testing is used in quality control to ensure that products and processes meet certain standards. By \n",
        "testing hypotheses about population parameters, quality control professionals can identify areas for improvement and make data-driven \n",
        "decisions to improve quality.\n",
        "\"\"\""
      ]
    },
    {
      "cell_type": "code",
      "execution_count": 5,
      "id": "946a798b-6698-47a3-a324-5e0381af8434",
      "metadata": {
        "id": "946a798b-6698-47a3-a324-5e0381af8434",
        "outputId": "aa050fbe-235d-480a-fac0-0c26979ae3d4",
        "colab": {
          "base_uri": "https://localhost:8080/",
          "height": 123
        }
      },
      "outputs": [
        {
          "output_type": "execute_result",
          "data": {
            "text/plain": [
              "'\\nThe null hypothesis (H0) for this scenario would be:\\n\\nThe average weight of male college students is equal to or less than the average weight of female college students.\\n\\nThe alternative hypothesis (Ha) would be:\\n\\nThe average weight of male college students is greater than the average weight of female college students.\\n\\nSymbolically, the hypotheses can be written as:\\n\\nH0: μm ≤ μf\\nHa: μm > μf\\n\\nwhere μm is the population mean weight of male college students and μf is the population mean weight of female college students.\\n\\nThis hypothesis can be tested using a one-tailed t-test or z-test, depending on the size of the sample and whether the population standard \\ndeviation is known. The test would involve collecting a sample of male and female college students, computing the sample means and standard \\ndeviations, and then using a statistical test to determine whether the difference between the sample means is statistically significant. \\nIf the p-value is less than the chosen level of significance (usually 0.05), we would reject the null hypothesis and conclude that there\\nis evidence to support the alternative hypothesis.\\n'"
            ],
            "application/vnd.google.colaboratory.intrinsic+json": {
              "type": "string"
            }
          },
          "metadata": {},
          "execution_count": 5
        }
      ],
      "source": [
        "# ans no4\n",
        "\n",
        "logging.info(\"answering the question no4\")\n",
        "\"\"\"\n",
        "The null hypothesis (H0) for this scenario would be:\n",
        "\n",
        "The average weight of male college students is equal to or less than the average weight of female college students.\n",
        "\n",
        "The alternative hypothesis (Ha) would be:\n",
        "\n",
        "The average weight of male college students is greater than the average weight of female college students.\n",
        "\n",
        "Symbolically, the hypotheses can be written as:\n",
        "\n",
        "H0: μm ≤ μf\n",
        "Ha: μm > μf\n",
        "\n",
        "where μm is the population mean weight of male college students and μf is the population mean weight of female college students.\n",
        "\n",
        "This hypothesis can be tested using a one-tailed t-test or z-test, depending on the size of the sample and whether the population standard \n",
        "deviation is known. The test would involve collecting a sample of male and female college students, computing the sample means and standard \n",
        "deviations, and then using a statistical test to determine whether the difference between the sample means is statistically significant. \n",
        "If the p-value is less than the chosen level of significance (usually 0.05), we would reject the null hypothesis and conclude that there\n",
        "is evidence to support the alternative hypothesis.\n",
        "\"\"\""
      ]
    },
    {
      "cell_type": "code",
      "execution_count": 6,
      "id": "df464beb-cbf5-484d-8e7b-8f0f6cb72388",
      "metadata": {
        "id": "df464beb-cbf5-484d-8e7b-8f0f6cb72388",
        "outputId": "1ba3c52d-02a5-4ae7-aa2c-42a40949b018",
        "colab": {
          "base_uri": "https://localhost:8080/",
          "height": 140
        }
      },
      "outputs": [
        {
          "output_type": "stream",
          "name": "stdout",
          "text": [
            "Fail to reject the null hypothesis. There is insufficient evidence to suggest that the means are different.\n"
          ]
        },
        {
          "output_type": "execute_result",
          "data": {
            "text/plain": [
              "'\\nWe first define the two samples (sample1 and sample2). We then set the significance level (alpha) to 0.05, which means \\nwe will reject the null hypothesis if the p-value is less than 0.05.\\n\\nWe then calculate the sample means (mean1 and mean2) and standard deviations (std1 and std2) for each sample. We use the standard deviations \\nto calculate the test statistic (t_stat) using the formula for a two-sample t-test.\\n\\nWe also calculate the degrees of freedom (df) using the formula (n1 + n2 - 2), where n1 and n2 are the sample sizes.\\n\\nFinally, we calculate the p-value using the cumulative distribution function (cdf) of the t-distribution. We double the p-value to account \\nfor the possibility of a two-tailed test.\\n\\nBased on the p-value and the significance level, we determine whether to reject the null hypothesis or fail to reject it. If we reject the\\nnull hypothesis, we can conclude that there is significant evidence to suggest that the means are different. Otherwise, we cannot conclude\\nthat the means are different.\\n'"
            ],
            "application/vnd.google.colaboratory.intrinsic+json": {
              "type": "string"
            }
          },
          "metadata": {},
          "execution_count": 6
        }
      ],
      "source": [
        "# ans no5\n",
        "\n",
        "logging.info(\"answering the question no5\")\n",
        "import numpy as np\n",
        "from scipy.stats import t\n",
        "\n",
        "# Define the two samples\n",
        "sample1 = np.array([1, 2, 3, 4, 5])\n",
        "sample2 = np.array([2, 4, 6, 8, 10])\n",
        "\n",
        "# Set the significance level\n",
        "alpha = 0.05\n",
        "\n",
        "# Calculate the sample means and standard deviations\n",
        "mean1 = np.mean(sample1)\n",
        "mean2 = np.mean(sample2)\n",
        "std1 = np.std(sample1, ddof=1)\n",
        "std2 = np.std(sample2, ddof=1)\n",
        "\n",
        "# Calculate the test statistic\n",
        "t_stat = (mean1 - mean2) / np.sqrt((std1**2)/len(sample1) + (std2**2)/len(sample2))\n",
        "\n",
        "# Calculate the degrees of freedom\n",
        "df = len(sample1) + len(sample2) - 2\n",
        "\n",
        "# Calculate the p-value\n",
        "p_value = 2 * (1 - t.cdf(abs(t_stat), df))\n",
        "\n",
        "# Determine whether to reject the null hypothesis\n",
        "if p_value < alpha:\n",
        "    print(\"Reject the null hypothesis. There is significant evidence to suggest that the means are different.\")\n",
        "else:\n",
        "    print(\"Fail to reject the null hypothesis. There is insufficient evidence to suggest that the means are different.\")\n",
        "\"\"\"\n",
        "We first define the two samples (sample1 and sample2). We then set the significance level (alpha) to 0.05, which means \n",
        "we will reject the null hypothesis if the p-value is less than 0.05.\n",
        "\n",
        "We then calculate the sample means (mean1 and mean2) and standard deviations (std1 and std2) for each sample. We use the standard deviations \n",
        "to calculate the test statistic (t_stat) using the formula for a two-sample t-test.\n",
        "\n",
        "We also calculate the degrees of freedom (df) using the formula (n1 + n2 - 2), where n1 and n2 are the sample sizes.\n",
        "\n",
        "Finally, we calculate the p-value using the cumulative distribution function (cdf) of the t-distribution. We double the p-value to account \n",
        "for the possibility of a two-tailed test.\n",
        "\n",
        "Based on the p-value and the significance level, we determine whether to reject the null hypothesis or fail to reject it. If we reject the\n",
        "null hypothesis, we can conclude that there is significant evidence to suggest that the means are different. Otherwise, we cannot conclude\n",
        "that the means are different.\n",
        "\"\"\""
      ]
    },
    {
      "cell_type": "code",
      "execution_count": 7,
      "id": "64702252-0190-4e10-a0ca-9516ce064f26",
      "metadata": {
        "id": "64702252-0190-4e10-a0ca-9516ce064f26",
        "outputId": "4d1e515a-2bbf-49be-e42a-89e707f14e98",
        "colab": {
          "base_uri": "https://localhost:8080/",
          "height": 123
        }
      },
      "outputs": [
        {
          "output_type": "execute_result",
          "data": {
            "text/plain": [
              "'\\nIn hypothesis testing, we start by defining a null hypothesis and an alternative hypothesis. The null hypothesis is the default assumption \\nthat there is no significant difference or relationship between two populations or variables, while the alternative hypothesis is the opposite \\nof the null hypothesis and suggests that there is a significant difference or relationship.\\n\\nHere are some examples of null and alternative hypotheses:\\n\\nExample for a population mean:\\n\\nNull Hypothesis (H0): The population mean is equal to a specific value, µ = µ0.\\nAlternative Hypothesis (Ha): The population mean is different from a specific value, µ ≠ µ0.\\nExample: A researcher wants to determine whether the average weight of adults is 150 pounds. H0: µ = 150; Ha: µ ≠ 150.\\n\\nExample for a population proportion:\\n\\nNull Hypothesis (H0): The population proportion is equal to a specific value, p = p0.\\nAlternative Hypothesis (Ha): The population proportion is different from a specific value, p ≠ p0.\\nExample: A researcher wants to determine whether the proportion of voters who support a particular candidate is 50%. H0: p = 0.5; Ha: p ≠ 0.5.\\n\\nExample for a difference between two population means:\\n\\nNull Hypothesis (H0): The difference between two population means is zero, µ1 - µ2 = 0.\\nAlternative Hypothesis (Ha): The difference between two population means is different from zero, µ1 - µ2 ≠ 0.\\nExample: A researcher wants to determine whether there is a significant difference in the average salaries between two departments in a company.\\nH0: µ1 - µ2 = 0; Ha: µ1 - µ2 ≠ 0.\\n\\nExample for a relationship between two variables:\\n\\nNull Hypothesis (H0): There is no significant relationship between two variables, such as x and y.\\nAlternative Hypothesis (Ha): There is a significant relationship between two variables, such as x and y.\\nExample: A researcher wants to determine whether there is a significant relationship between the hours of study and exam scores. H0: There \\nis no significant relationship between the hours of study and exam scores; Ha: There is a significant relationship between the hours of study \\nand exam scores.\\n'"
            ],
            "application/vnd.google.colaboratory.intrinsic+json": {
              "type": "string"
            }
          },
          "metadata": {},
          "execution_count": 7
        }
      ],
      "source": [
        "# ans no6\n",
        "\n",
        "logging.info(\"answering the question no6\")\n",
        "\"\"\"\n",
        "In hypothesis testing, we start by defining a null hypothesis and an alternative hypothesis. The null hypothesis is the default assumption \n",
        "that there is no significant difference or relationship between two populations or variables, while the alternative hypothesis is the opposite \n",
        "of the null hypothesis and suggests that there is a significant difference or relationship.\n",
        "\n",
        "Here are some examples of null and alternative hypotheses:\n",
        "\n",
        "Example for a population mean:\n",
        "\n",
        "Null Hypothesis (H0): The population mean is equal to a specific value, µ = µ0.\n",
        "Alternative Hypothesis (Ha): The population mean is different from a specific value, µ ≠ µ0.\n",
        "Example: A researcher wants to determine whether the average weight of adults is 150 pounds. H0: µ = 150; Ha: µ ≠ 150.\n",
        "\n",
        "Example for a population proportion:\n",
        "\n",
        "Null Hypothesis (H0): The population proportion is equal to a specific value, p = p0.\n",
        "Alternative Hypothesis (Ha): The population proportion is different from a specific value, p ≠ p0.\n",
        "Example: A researcher wants to determine whether the proportion of voters who support a particular candidate is 50%. H0: p = 0.5; Ha: p ≠ 0.5.\n",
        "\n",
        "Example for a difference between two population means:\n",
        "\n",
        "Null Hypothesis (H0): The difference between two population means is zero, µ1 - µ2 = 0.\n",
        "Alternative Hypothesis (Ha): The difference between two population means is different from zero, µ1 - µ2 ≠ 0.\n",
        "Example: A researcher wants to determine whether there is a significant difference in the average salaries between two departments in a company.\n",
        "H0: µ1 - µ2 = 0; Ha: µ1 - µ2 ≠ 0.\n",
        "\n",
        "Example for a relationship between two variables:\n",
        "\n",
        "Null Hypothesis (H0): There is no significant relationship between two variables, such as x and y.\n",
        "Alternative Hypothesis (Ha): There is a significant relationship between two variables, such as x and y.\n",
        "Example: A researcher wants to determine whether there is a significant relationship between the hours of study and exam scores. H0: There \n",
        "is no significant relationship between the hours of study and exam scores; Ha: There is a significant relationship between the hours of study \n",
        "and exam scores.\n",
        "\"\"\""
      ]
    },
    {
      "cell_type": "code",
      "execution_count": 8,
      "id": "370b735a-94bf-4d3f-aa1e-232eec3c09db",
      "metadata": {
        "id": "370b735a-94bf-4d3f-aa1e-232eec3c09db",
        "outputId": "9e63a58e-fa43-492f-9df9-a71178333a3e",
        "colab": {
          "base_uri": "https://localhost:8080/",
          "height": 123
        }
      },
      "outputs": [
        {
          "output_type": "execute_result",
          "data": {
            "text/plain": [
              "'\\nHypothesis testing is a statistical process used to determine whether an observed sample result is statistically significant or\\nsimply due to chance. The general steps involved in hypothesis testing are:\\n\\nState the null hypothesis and alternative hypothesis: The null hypothesis (H0) is the default assumption that there is no significant \\ndifference or relationship between two populations or variables, while the alternative hypothesis (Ha) is the opposite of the null \\nhypothesis and suggests that there is a significant difference or relationship.\\n\\nDetermine the appropriate test statistic and sampling distribution: Depending on the type of data and research question, choose\\nthe appropriate test statistic and sampling distribution for your hypothesis test. Commonly used test statistics are t-test, z-test,\\nF-test, and chi-square test, and the corresponding sampling distributions are the t-distribution, standard normal distribution, \\nF-distribution, and chi-square distribution.\\n\\nChoose the level of significance: The level of significance (alpha) is the probability of rejecting the null hypothesis when it is \\ntrue. It is usually set at 0.05 or 0.01.\\n\\nCollect the sample data: Collect a sample from the population of interest and calculate the sample statistics, such as the sample \\nmean, sample standard deviation, or sample proportion.\\n\\nCalculate the test statistic and p-value: Use the sample data and the chosen test statistic to calculate the test statistic and the\\ncorresponding p-value. The p-value is the probability of observing the sample result or more extreme results if the null hypothesis is true.\\n\\nCompare the p-value to the level of significance: If the p-value is less than or equal to the level of significance, reject the null \\nhypothesis and accept the alternative hypothesis. If the p-value is greater than the level of significance, fail to reject the null hypothesis.\\n\\nDraw conclusions: Based on the results of the hypothesis test, draw conclusions about the research question and make recommendations\\nfor future research or practical applications.\\n\\nVerify assumptions: Check the assumptions of the hypothesis test to ensure that they are met, such as normality of the data, independence \\nof observations, and equality of variances. If the assumptions are not met, consider using alternative tests or data transformations.\\n'"
            ],
            "application/vnd.google.colaboratory.intrinsic+json": {
              "type": "string"
            }
          },
          "metadata": {},
          "execution_count": 8
        }
      ],
      "source": [
        "# ans no7\n",
        "\n",
        "logging.info(\"answering the question no7\")\n",
        "\"\"\"\n",
        "Hypothesis testing is a statistical process used to determine whether an observed sample result is statistically significant or\n",
        "simply due to chance. The general steps involved in hypothesis testing are:\n",
        "\n",
        "State the null hypothesis and alternative hypothesis: The null hypothesis (H0) is the default assumption that there is no significant \n",
        "difference or relationship between two populations or variables, while the alternative hypothesis (Ha) is the opposite of the null \n",
        "hypothesis and suggests that there is a significant difference or relationship.\n",
        "\n",
        "Determine the appropriate test statistic and sampling distribution: Depending on the type of data and research question, choose\n",
        "the appropriate test statistic and sampling distribution for your hypothesis test. Commonly used test statistics are t-test, z-test,\n",
        "F-test, and chi-square test, and the corresponding sampling distributions are the t-distribution, standard normal distribution, \n",
        "F-distribution, and chi-square distribution.\n",
        "\n",
        "Choose the level of significance: The level of significance (alpha) is the probability of rejecting the null hypothesis when it is \n",
        "true. It is usually set at 0.05 or 0.01.\n",
        "\n",
        "Collect the sample data: Collect a sample from the population of interest and calculate the sample statistics, such as the sample \n",
        "mean, sample standard deviation, or sample proportion.\n",
        "\n",
        "Calculate the test statistic and p-value: Use the sample data and the chosen test statistic to calculate the test statistic and the\n",
        "corresponding p-value. The p-value is the probability of observing the sample result or more extreme results if the null hypothesis is true.\n",
        "\n",
        "Compare the p-value to the level of significance: If the p-value is less than or equal to the level of significance, reject the null \n",
        "hypothesis and accept the alternative hypothesis. If the p-value is greater than the level of significance, fail to reject the null hypothesis.\n",
        "\n",
        "Draw conclusions: Based on the results of the hypothesis test, draw conclusions about the research question and make recommendations\n",
        "for future research or practical applications.\n",
        "\n",
        "Verify assumptions: Check the assumptions of the hypothesis test to ensure that they are met, such as normality of the data, independence \n",
        "of observations, and equality of variances. If the assumptions are not met, consider using alternative tests or data transformations.\n",
        "\"\"\""
      ]
    },
    {
      "cell_type": "code",
      "execution_count": 9,
      "id": "7144c3ce-5998-4fa7-8fbc-66c2539e5885",
      "metadata": {
        "id": "7144c3ce-5998-4fa7-8fbc-66c2539e5885",
        "outputId": "a4049cb6-f017-45c2-9ffe-b03679bed1ad",
        "colab": {
          "base_uri": "https://localhost:8080/",
          "height": 123
        }
      },
      "outputs": [
        {
          "output_type": "execute_result",
          "data": {
            "text/plain": [
              "'\\nP-value is a statistical measure that is used in hypothesis testing to determine the likelihood of obtaining a result as extreme as or\\nmore extreme than the observed result if the null hypothesis is true. In other words, it measures the strength of the evidence against \\nthe null hypothesis.\\n\\nThe p-value is the probability of obtaining a test statistic as extreme as, or more extreme than, the one observed in the sample, given\\nthat the null hypothesis is true. It ranges from 0 to 1 and is compared with the level of significance (alpha) that is chosen before \\nconducting the test.\\n\\nIf the p-value is less than or equal to the level of significance, we reject the null hypothesis and conclude that the observed result\\nis statistically significant. This means that the probability of obtaining such a result by chance is very low, and we have evidence \\nto support the alternative hypothesis. On the other hand, if the p-value is greater than the level of significance, we fail to reject \\nthe null hypothesis and conclude that the observed result is not statistically significant. This means that the result could have occurred\\nby chance, and we do not have sufficient evidence to support the alternative hypothesis.\\n\\nIn practical terms, the p-value is an indicator of the strength of the evidence against the null hypothesis. A smaller p-value indicates\\nstronger evidence against the null hypothesis and in favor of the alternative hypothesis. The p-value also allows us to determine the\\nstatistical significance of the observed result, which is important in making decisions in various fields such as medicine, psychology,\\nbusiness, and engineering. However, it is important to note that statistical significance does not necessarily imply practical significance\\nor importance, and other factors such as effect size, sample size, and practical implications should also be considered.\\n'"
            ],
            "application/vnd.google.colaboratory.intrinsic+json": {
              "type": "string"
            }
          },
          "metadata": {},
          "execution_count": 9
        }
      ],
      "source": [
        "# ans no8\n",
        "\n",
        "logging.info(\"answering the question no8\")\n",
        "\"\"\"\n",
        "P-value is a statistical measure that is used in hypothesis testing to determine the likelihood of obtaining a result as extreme as or\n",
        "more extreme than the observed result if the null hypothesis is true. In other words, it measures the strength of the evidence against \n",
        "the null hypothesis.\n",
        "\n",
        "The p-value is the probability of obtaining a test statistic as extreme as, or more extreme than, the one observed in the sample, given\n",
        "that the null hypothesis is true. It ranges from 0 to 1 and is compared with the level of significance (alpha) that is chosen before \n",
        "conducting the test.\n",
        "\n",
        "If the p-value is less than or equal to the level of significance, we reject the null hypothesis and conclude that the observed result\n",
        "is statistically significant. This means that the probability of obtaining such a result by chance is very low, and we have evidence \n",
        "to support the alternative hypothesis. On the other hand, if the p-value is greater than the level of significance, we fail to reject \n",
        "the null hypothesis and conclude that the observed result is not statistically significant. This means that the result could have occurred\n",
        "by chance, and we do not have sufficient evidence to support the alternative hypothesis.\n",
        "\n",
        "In practical terms, the p-value is an indicator of the strength of the evidence against the null hypothesis. A smaller p-value indicates\n",
        "stronger evidence against the null hypothesis and in favor of the alternative hypothesis. The p-value also allows us to determine the\n",
        "statistical significance of the observed result, which is important in making decisions in various fields such as medicine, psychology,\n",
        "business, and engineering. However, it is important to note that statistical significance does not necessarily imply practical significance\n",
        "or importance, and other factors such as effect size, sample size, and practical implications should also be considered.\n",
        "\"\"\""
      ]
    },
    {
      "cell_type": "code",
      "execution_count": 10,
      "id": "9607ea6f-92fc-4fa9-8115-783e03d59246",
      "metadata": {
        "id": "9607ea6f-92fc-4fa9-8115-783e03d59246",
        "outputId": "f489d747-752d-423c-db4d-20bec7b379cb",
        "colab": {
          "base_uri": "https://localhost:8080/",
          "height": 366
        }
      },
      "outputs": [
        {
          "output_type": "display_data",
          "data": {
            "text/plain": [
              "<Figure size 432x288 with 1 Axes>"
            ],
            "image/png": "[encoded data removed]"
          },
          "metadata": {
            "needs_background": "light"
          }
        },
        {
          "output_type": "execute_result",
          "data": {
            "text/plain": [
              "\"\\nDefine range of values for the x-axis using the numpy.linspace() function. It then uses the scipy.stats.t.pdf() \\nfunction to compute the probability density function (PDF) of the Student's t-distribution with 10 degrees of freedom for each value\\nof x. Finally, the code uses the matplotlib.pyplot.plot() function to plot the t-distribution, and adds a title, x-axis label, y-axis label, \\nand legend to the plot using other matplotlib functions.\\n\\nThe resulting plot should show a bell-shaped curve with a peak at zero, and tails that extend further than a normal distribution due to the\\nhigher variability introduced by the smaller sample size (degrees of freedom) in the t-distribution.\\n\""
            ],
            "application/vnd.google.colaboratory.intrinsic+json": {
              "type": "string"
            }
          },
          "metadata": {},
          "execution_count": 10
        }
      ],
      "source": [
        "# ans no9\n",
        "\n",
        "logging.info(\"answering the question no9\")\n",
        "import numpy as np\n",
        "import matplotlib.pyplot as plt\n",
        "from scipy.stats import t\n",
        "\n",
        "# Define the range of the x-axis\n",
        "x = np.linspace(-4,4,1000)\n",
        "\n",
        "# Compute the y-values for the t-distribution with 10 degrees of freedom\n",
        "y = t.pdf(x, df=10)\n",
        "\n",
        "# Plot the t-distribution\n",
        "plt.plot(x, y, label='t-distribution (df=10)')\n",
        "\n",
        "# Add title and labels\n",
        "plt.title(\"Student's t-Distribution\")\n",
        "plt.xlabel('x')\n",
        "plt.ylabel('Probability density')\n",
        "\n",
        "# Add legend and display the plot\n",
        "plt.legend()\n",
        "plt.show()\n",
        "\"\"\"\n",
        "Define range of values for the x-axis using the numpy.linspace() function. It then uses the scipy.stats.t.pdf() \n",
        "function to compute the probability density function (PDF) of the Student's t-distribution with 10 degrees of freedom for each value\n",
        "of x. Finally, the code uses the matplotlib.pyplot.plot() function to plot the t-distribution, and adds a title, x-axis label, y-axis label, \n",
        "and legend to the plot using other matplotlib functions.\n",
        "\n",
        "The resulting plot should show a bell-shaped curve with a peak at zero, and tails that extend further than a normal distribution due to the\n",
        "higher variability introduced by the smaller sample size (degrees of freedom) in the t-distribution.\n",
        "\"\"\""
      ]
    },
    {
      "cell_type": "code",
      "execution_count": 11,
      "id": "1c9a903d-4d05-4680-a585-7585b17e9de4",
      "metadata": {
        "id": "1c9a903d-4d05-4680-a585-7585b17e9de4",
        "outputId": "fe5098a6-e49b-4099-f278-84904ed08d84",
        "colab": {
          "base_uri": "https://localhost:8080/",
          "height": 157
        }
      },
      "outputs": [
        {
          "output_type": "stream",
          "name": "stdout",
          "text": [
            "t-statistic:  -5.0\n",
            "p-value:  0.001052825793366539\n"
          ]
        },
        {
          "output_type": "execute_result",
          "data": {
            "text/plain": [
              "\"\\nWe first define two random samples of equal size using the numpy.array() function. We then use the scipy.stats.ttest_ind()\\nfunction to calculate the t-test statistic and p-value for the two samples, assuming a null hypothesis that the population means are equal.\\nThe ttest_ind() function takes two arguments: the first sample and the second sample.\\n\\nFinally, we print the results using the print() function. The ttest_ind() function returns the t-statistic and p-value for the two-sample\\nt-test. The t-statistic measures the difference between the sample means relative to the variation within the samples, and the p-value \\nindicates the probability of obtaining a difference as large as or larger than the observed difference if the null hypothesis is true.\\n\\nNote that in the above example, we assumed that the two samples have equal variances. If the variances are not equal, we can use the \\nscipy.stats.ttest_ind() function with the equal_var=False parameter to perform a Welch's t-test, which accounts for unequal variances.\\n\""
            ],
            "application/vnd.google.colaboratory.intrinsic+json": {
              "type": "string"
            }
          },
          "metadata": {},
          "execution_count": 11
        }
      ],
      "source": [
        "# ans no10\n",
        "\n",
        "logging.info(\"answering the question no10\")\n",
        "import numpy as np\n",
        "from scipy.stats import ttest_ind\n",
        "\n",
        "# Define the two random samples\n",
        "sample1 = np.array([1, 2, 3, 4, 5])\n",
        "sample2 = np.array([6, 7, 8, 9, 10])\n",
        "\n",
        "# Calculate the t-test statistic and p-value\n",
        "t_statistic, p_value = ttest_ind(sample1, sample2)\n",
        "\n",
        "# Print the results\n",
        "print(\"t-statistic: \", t_statistic)\n",
        "print(\"p-value: \", p_value)\n",
        "\"\"\"\n",
        "We first define two random samples of equal size using the numpy.array() function. We then use the scipy.stats.ttest_ind()\n",
        "function to calculate the t-test statistic and p-value for the two samples, assuming a null hypothesis that the population means are equal.\n",
        "The ttest_ind() function takes two arguments: the first sample and the second sample.\n",
        "\n",
        "Finally, we print the results using the print() function. The ttest_ind() function returns the t-statistic and p-value for the two-sample\n",
        "t-test. The t-statistic measures the difference between the sample means relative to the variation within the samples, and the p-value \n",
        "indicates the probability of obtaining a difference as large as or larger than the observed difference if the null hypothesis is true.\n",
        "\n",
        "Note that in the above example, we assumed that the two samples have equal variances. If the variances are not equal, we can use the \n",
        "scipy.stats.ttest_ind() function with the equal_var=False parameter to perform a Welch's t-test, which accounts for unequal variances.\n",
        "\"\"\""
      ]
    },
    {
      "cell_type": "markdown",
      "id": "2bb99e7f-b9ca-49e5-b131-ffbc59d0c8a0",
      "metadata": {
        "id": "2bb99e7f-b9ca-49e5-b131-ffbc59d0c8a0"
      },
      "source": [
        "# ans no11\n",
        "\n",
        "\"\"\"\n",
        "Student's t-distribution, also known as the t-distribution, is a probability distribution that is used in hypothesis testing when \n",
        "the sample size is small and the population standard deviation is unknown. It was first introduced by William Sealy Gosset, who \n",
        "used the pen name \"Student\" to maintain anonymity while working at the Guinness Brewery.\n",
        "\n",
        "The t-distribution is similar in shape to the standard normal distribution, but with thicker tails, which means that it has more \n",
        "variability and uncertainty when the sample size is small. As the sample size increases, the t-distribution approaches the standard\n",
        "normal distribution.\n",
        "\n",
        "The t-distribution is used when we want to make inferences about the population mean based on a small sample. Specifically, it is\n",
        "used to test hypotheses about the difference between two population means, when the sample size is small and the population standard\n",
        "deviation is unknown. The t-distribution is also used to construct confidence intervals for the population mean.\n",
        "\n",
        "The t-distribution is commonly used in fields such as statistics, engineering, and the social sciences, where sample sizes are often\n",
        "small and the population standard deviation is unknown. It is also used in quality control and process control applications, where \n",
        "small samples are often taken to monitor the quality of a product or process.\n",
        "\"\"\""
      ]
    },
    {
      "cell_type": "markdown",
      "id": "c4654a9f-c187-463b-aed0-55fbcb69de86",
      "metadata": {
        "id": "c4654a9f-c187-463b-aed0-55fbcb69de86"
      },
      "source": [
        "# ans no12\n",
        "\n",
        "\n",
        "\"\"\"\n",
        "The t-statistic is a measure of the difference between two sample means relative to the variability within the samples. \n",
        "It is used in hypothesis testing to determine whether the difference between two sample means is statistically significant.\n",
        "\n",
        "The formula for the t-statistic for independent samples with equal variances is:\n",
        "\n",
        "t = (x̄₁ - x̄₂) / (s * sqrt(2/n))\n",
        "\n",
        "where:\n",
        "\n",
        "x̄₁ and x̄₂ are the sample means of the two samples\n",
        "s is the pooled standard deviation of the two samples\n",
        "n is the sample size of each sample\n",
        "The pooled standard deviation is calculated as:\n",
        "\n",
        "s = sqrt(((n₁ - 1) * s₁² + (n₂ - 1) * s₂²) / (n₁ + n₂ - 2))\n",
        "\n",
        "where:\n",
        "\n",
        "s₁ and s₂ are the sample standard deviations of the two samples\n",
        "n₁ and n₂ are the sample sizes of the two samples\n",
        "The t-statistic measures the difference between the sample means relative to the variability within the samples. If the t-statistic is \n",
        "large, it indicates that the difference between the sample means is large relative to the variability within the samples, and provides\n",
        "evidence against the null hypothesis of equal population means. The magnitude of the t-statistic is compared to a critical value based \n",
        "on the degrees of freedom and the desired level of significance to determine whether to reject or fail to reject the null hypothesis.\n",
        "\n",
        "It's important to note that the formula for the t-statistic varies depending on the specific hypothesis test being conducted, as well \n",
        "as the type of data being analyzed (e.g. independent samples with equal or unequal variances, paired samples, etc.).\n",
        "\"\"\""
      ]
    },
    {
      "cell_type": "markdown",
      "id": "7cdd1fdb-7b84-41b1-bb43-072a351573c1",
      "metadata": {
        "id": "7cdd1fdb-7b84-41b1-bb43-072a351573c1"
      },
      "source": [
        "# ans no13\n",
        "\n",
        "\n",
        "\"\"\"\n",
        "To estimate the population mean revenue with a 95% confidence interval, we can use the following formula:\n",
        "\n",
        "Confidence interval = sample mean ± margin of error\n",
        "\n",
        "where the margin of error is calculated as:\n",
        "\n",
        "Margin of error = (critical value) x (standard error)\n",
        "\n",
        "The critical value for a 95% confidence interval with 49 degrees of freedom (50 - 1) is 2.009 (from t-distribution table or calculator).\n",
        "\n",
        "The standard error can be calculated as the sample standard deviation divided by the square root of the sample size:\n",
        "\n",
        "Standard error = sample standard deviation / sqrt(sample size)\n",
        "\n",
        "Plugging in the values we have:\n",
        "\n",
        "Standard error = 50 / sqrt(50) = 7.071\n",
        "\n",
        "Margin of error = 2.009 x 7.071 = 14.202\n",
        "\n",
        "Therefore, the 95% confidence interval for the population mean revenue is:\n",
        "\n",
        "$500 ± $14.202\n",
        "\n",
        "or\n",
        "\n",
        "$485.798 to $514.202\n",
        "\n",
        "We can say with 95% confidence that the true population mean revenue for the coffee shop falls within this range.\n",
        "\"\"\""
      ]
    },
    {
      "cell_type": "code",
      "execution_count": 12,
      "id": "cd407801-d54b-42ab-b380-421db41cd2ed",
      "metadata": {
        "id": "cd407801-d54b-42ab-b380-421db41cd2ed",
        "outputId": "5e923513-5e77-42e2-9d53-32f477462280",
        "colab": {
          "base_uri": "https://localhost:8080/"
        }
      },
      "outputs": [
        {
          "output_type": "stream",
          "name": "stdout",
          "text": [
            "The lower bound is: 485.79015724388137\n",
            "The upper bound is: 514.2098427561186\n"
          ]
        }
      ],
      "source": [
        "\n",
        "logging.info(\"answering the question no13\")\n",
        "import math\n",
        "import scipy.stats as stat\n",
        "\n",
        "def estimate_population_mean(sample_mean, sample_std, sample_size,alpha):\n",
        "    # Calculate the standard error of the mean\n",
        "    standard_error = sample_std / math.sqrt(sample_size)\n",
        "    \n",
        "    # Calculate the margin of error (using a 95% confidence level)\n",
        "    cv=stat.t.ppf(q=alpha/2,df=sample_size-1)\n",
        "    # print(cv)\n",
        "    margin_of_error = -1*cv * standard_error\n",
        "    \n",
        "    # Calculate the lower and upper bounds of the confidence interval\n",
        "    lower_bound = sample_mean - margin_of_error\n",
        "    upper_bound = sample_mean + margin_of_error\n",
        "    \n",
        "    # Return the estimated population mean and the confidence interval\n",
        "    return (sample_mean, lower_bound, upper_bound)\n",
        "\n",
        "\n",
        "sample_mean=500\n",
        "sample_std=50\n",
        "sample_size=50\n",
        "alpha=0.05\n",
        "ans=estimate_population_mean(sample_mean, sample_std, sample_size,alpha)\n",
        "\n",
        "print(\"The lower bound is:\",ans[1])\n",
        "print(\"The upper bound is:\",ans[2])"
      ]
    },
    {
      "cell_type": "markdown",
      "id": "693f8668-5e42-41f9-ba94-eb9c4ee907cc",
      "metadata": {
        "id": "693f8668-5e42-41f9-ba94-eb9c4ee907cc"
      },
      "source": [
        "# ans no14\n",
        "\n",
        "\n",
        "To test the hypothesis, we can use a one-sample t-test.\n",
        "\n",
        "### State the null and alternative hypotheses\n",
        "H0: The drug does not decrease blood pressure by 10 mmHg. μ = 10\n",
        "Ha: The drug decreases blood pressure by 10 mmHg. μ < 10\n",
        "\n",
        "### Set the level of significance:\n",
        "alpha=0.05\n",
        "\n",
        "### Select the appropriate test:\n",
        "one-tailed t-test with a significance level of 0.01. \n",
        "\n",
        "### Determine the test statistic:\n",
        "t_score and t_stats\n",
        "\n",
        "### Calculate the p-value:\n",
        "p_value from z or t score(here in this question from t_score)\n",
        "\n",
        "### Make a decision:\n",
        "If the p-value is less than the level of significance, reject the null hypothesis. If the p-value is greater than the level of significance, fail to reject the null hypothesis.\n",
        "Also if t_stat > critical value we reject the null hypotheses\n",
        "\n",
        "### Interpret the results: \n",
        "If the null hypothesis is rejected, it means there is sufficient evidence to support the alternative hypothesis. If the null hypothesis is not rejected, it means there is not enough evidence to support the alternative hypothesis.\n",
        "\n",
        "### Draw conclusions: \n",
        "The conclusions drawn from the test should be based on the results and the research question being addressed. It is important to interpret the results in the context of the study and to consider the limitations of the data and the test used."
      ]
    },
    {
      "cell_type": "code",
      "execution_count": 13,
      "id": "5c6fcd1b-20a9-4104-9f21-f2d0803c48a5",
      "metadata": {
        "id": "5c6fcd1b-20a9-4104-9f21-f2d0803c48a5",
        "outputId": "b47eea1a-8f65-4a20-d428-f4d372ae7a2a",
        "colab": {
          "base_uri": "https://localhost:8080/"
        }
      },
      "outputs": [
        {
          "output_type": "stream",
          "name": "stdout",
          "text": [
            "-1.6603911559963902\n",
            "Reject the Hypothesis: \n",
            " The drug decreases blood pressure by 10 mmHg\n"
          ]
        }
      ],
      "source": [
        "\n",
        "\n",
        "logging.info(\"answering the question no14\")\n",
        "import scipy.stats as stat\n",
        "import math\n",
        "\n",
        "mu=10\n",
        "n=100\n",
        "x_bar=8\n",
        "delta=3\n",
        "\n",
        "t_stat=(x_bar-mu)/(delta/math.sqrt(n))\n",
        "# t_stat\n",
        "alpha=0.05\n",
        "df=n-1\n",
        "\n",
        "# cv\n",
        "cv=stat.t.ppf(q=alpha,df=df)\n",
        "print(cv)\n",
        "\n",
        "if t_stat < cv:\n",
        "    print(\"Reject the Hypothesis: \\n The drug decreases blood pressure by 10 mmHg\")\n",
        "else:\n",
        "    print(\"Failed to reject the Null Hypothesis \\n The drug does not decrease blood pressure by 10 mmHg\")"
      ]
    },
    {
      "cell_type": "markdown",
      "id": "4bad40ae-e68e-44eb-a256-3343d6388dfb",
      "metadata": {
        "tags": [],
        "id": "4bad40ae-e68e-44eb-a256-3343d6388dfb"
      },
      "source": [
        "# ans no15\n",
        "\n",
        "\n",
        "To test the hypothesis, we will use a one-tailed t-test with a significance level of 0.01.  \n",
        "\n",
        "### State the null and alternative hypotheses\n",
        "H0= true mean weight of the products is equal to 5 pounds\n",
        "Ha= true mean weight is less than 5 pounds.\n",
        "\n",
        "### Set the level of significance:\n",
        "alpha=0.01\n",
        "\n",
        "### Select the appropriate test:\n",
        "one-tailed t-test with a significance level of 0.01. \n",
        "\n",
        "### Determine the test statistic:\n",
        "t_score and t_stats\n",
        "\n",
        "### Calculate the p-value:\n",
        "p_value from z or t score(here in this question from t_score)\n",
        "\n",
        "### Make a decision:\n",
        "If the p-value is less than the level of significance, reject the null hypothesis. If the p-value is greater than the level of significance, fail to reject the null hypothesis.\n",
        "**Here we can decide by : if t_stat > critical value we reject the null hypotheses**\n",
        "\n",
        "### Interpret the results: \n",
        "If the null hypothesis is rejected, it means there is sufficient evidence to support the alternative hypothesis. If the null hypothesis is not rejected, it means there is not enough evidence to support the alternative hypothesis.\n",
        "\n",
        "### Draw conclusions: \n",
        "The conclusions drawn from the test should be based on the results and the research question being addressed. It is important to interpret the results in the context of the study and to consider the limitations of the data and the test used."
      ]
    },
    {
      "cell_type": "code",
      "execution_count": 14,
      "id": "4b8e5223-019a-434b-bf76-f490c6ef22d4",
      "metadata": {
        "id": "4b8e5223-019a-434b-bf76-f490c6ef22d4",
        "outputId": "378b21fe-25a5-4f01-f006-717c6cafab07",
        "colab": {
          "base_uri": "https://localhost:8080/"
        }
      },
      "outputs": [
        {
          "output_type": "stream",
          "name": "stdout",
          "text": [
            "-2.4921594731575762\n",
            "Failed to reject the Null Hypothesis \n",
            " true mean weight of the products is equal to 5 pounds\n"
          ]
        }
      ],
      "source": [
        "\n",
        "logging.info(\"answering the question no15\")\n",
        "import math\n",
        "import scipy.stats as stat\n",
        "\n",
        "mu=5\n",
        "pop_std=0.5\n",
        "x=4.8\n",
        "n=25\n",
        "alpha=0.01\n",
        "\n",
        "df=n-1\n",
        "# cv will be negative since it is a one tailed test and mean decrease from 5 to 4.8\n",
        "cv=stat.t.ppf(q=alpha,df=df)\n",
        "print(cv)\n",
        "t_stat=(x-mu)/(pop_std/(math.sqrt(n)))\n",
        "               \n",
        "if t_stat < cv:\n",
        "    print(\"Reject Null hypothesis \\n There is sufficient evidence to conclude that true mean weight is less than 5 pounds\")\n",
        "else:\n",
        "    print(\"Failed to reject the Null Hypothesis \\n true mean weight of the products is equal to 5 pounds\")"
      ]
    },
    {
      "cell_type": "markdown",
      "id": "970327d5-38fe-4bdd-aa86-034fd2760930",
      "metadata": {
        "tags": [],
        "id": "970327d5-38fe-4bdd-aa86-034fd2760930"
      },
      "source": [
        "# ans no16\n",
        "\"\"\"\n",
        "To test the hypothesis, we will use a two-sample t-test with a significance level of 0.01. \n",
        "\n",
        "### State the null and alternative hypotheses\n",
        "H0= the population means for the two groups are equal\n",
        "Ha( alternative hypothesis)=  the population means for the two groups are not equal.\n",
        "\n",
        "### Set the level of significance:\n",
        "alpha=0.01\n",
        "\n",
        "Where:\n",
        "\n",
        "x1 = 80 (mean score for the first group)\n",
        "x2 = 75 (mean score for the second group)\n",
        "d = 0 (since the null hypothesis assumes equal means)\n",
        "s1 = 10 (standard deviation for the first group)\n",
        "s2 = 8 (standard deviation for the second group)\n",
        "n1 = 30 (sample size for the first group)\n",
        "n2 = 40 (sample size for the second group)\n",
        "\n",
        "### Select the appropriate test:\n",
        "t-test because the population std is not known\n",
        "\n",
        "### Determine the test statistic:\n",
        "t_score and t_stats\n",
        "\n",
        "### Calculate the p-value:\n",
        "p_value from z or t score(here in this question from t_score)\n",
        "\n",
        "### Make a decision:\n",
        "If the p-value is less than the level of significance, reject the null hypothesis. If the p-value is greater than the level of significance, fail to reject the null hypothesis.\n",
        "\n",
        "### Interpret the results: \n",
        "If the null hypothesis is rejected, it means there is sufficient evidence to support the alternative hypothesis. If the null hypothesis is not rejected, it means there is not enough evidence to support the alternative hypothesis.\n",
        "\n",
        "### Draw conclusions: \n",
        "The conclusions drawn from the test should be based on the results and the research question being addressed. It is important to interpret the results in the context of the study and to consider the limitations of the data and the test used.\n",
        "\n",
        "\"\"\""
      ]
    },
    {
      "cell_type": "code",
      "execution_count": 15,
      "id": "21f5eed9-42b4-49bb-b6ca-ad46f6063f1a",
      "metadata": {
        "id": "21f5eed9-42b4-49bb-b6ca-ad46f6063f1a",
        "outputId": "429828ed-19af-4a00-e00a-7a908a791e62",
        "colab": {
          "base_uri": "https://localhost:8080/"
        }
      },
      "outputs": [
        {
          "output_type": "stream",
          "name": "stdout",
          "text": [
            "t-statistic: 2.2511258444537408\n",
            "p-value: 0.02845213338800089\n",
            "Fail to reject the null hypothesis \n",
            " The population means for the two groups are equal.\n"
          ]
        }
      ],
      "source": [
        "\n",
        "logging.info(\"answering the question no16\")\n",
        "import scipy.stats as stats\n",
        "\n",
        "# Define the sample data\n",
        "x1 = 80\n",
        "x2 = 75\n",
        "s1 = 10\n",
        "s2 = 8\n",
        "n1 = 30\n",
        "n2 = 40\n",
        "\n",
        "alpha=0.01\n",
        "\n",
        "# Calculate the t-statistic and p-value\n",
        "t_stat, p_value = stats.ttest_ind_from_stats(x1, s1, n1, x2, s2, n2,equal_var=False)\n",
        "\n",
        "# Print the results\n",
        "print(\"t-statistic:\", t_stat)\n",
        "print(\"p-value:\", p_value)\n",
        "\n",
        "# Check if the null hypothesis can be rejected at the 0.01 significance level\n",
        "if p_value < alpha:\n",
        "    print(\"Reject the null hypothesis \\n the population means for the two groups are not equal.\")\n",
        "else:\n",
        "    print(\"Fail to reject the null hypothesis \\n The population means for the two groups are equal.\")"
      ]
    },
    {
      "cell_type": "markdown",
      "id": "cef1a2ed-cfa5-4f00-8ebe-029b76e12d68",
      "metadata": {
        "id": "cef1a2ed-cfa5-4f00-8ebe-029b76e12d68"
      },
      "source": [
        "# ans no17\n",
        "\n",
        "\"\"\"\n",
        "To estimate the population mean with a 99% confidence interval, we can use the following formula:\n",
        "\n",
        "Confidence interval = sample mean ± z * (standard error)\n",
        "\n",
        "where the standard error is equal to the standard deviation of the sample divided by the square root of the sample size:\n",
        "\n",
        "Standard error = standard deviation / sqrt(sample size)\n",
        "\n",
        "The value of z is the critical value from the standard normal distribution that corresponds to a 99% confidence level.\n",
        "From the z-tables or using a calculator, we find that the z-value for a 99% confidence level is 2.576.\n",
        "\n",
        "Substituting the given values into the formula, we get:\n",
        "\n",
        "Standard error = 1.5 / sqrt(50) = 0.2121\n",
        "\n",
        "Confidence interval = 4 ± 2.576 * 0.2121 = (3.454, 4.546)\n",
        "\n",
        "Therefore, we can estimate with 99% confidence that the population mean number of ads watched by viewers during a TV program is \n",
        "between 3.454 and 4.546.\n",
        "\"\"\""
      ]
    },
    {
      "cell_type": "code",
      "execution_count": 16,
      "id": "0b2ef218-86b9-43d6-85b6-a0bf441bfb2d",
      "metadata": {
        "id": "0b2ef218-86b9-43d6-85b6-a0bf441bfb2d",
        "outputId": "e48b4ee2-264c-4541-bdf3-747d0f3a2baa",
        "colab": {
          "base_uri": "https://localhost:8080/"
        }
      },
      "outputs": [
        {
          "output_type": "stream",
          "name": "stdout",
          "text": [
            "99% Confidence interval and mean: (3.453584089684465, 4.546415910315535, 4)\n",
            "we can estimate with 99% confidence that the population mean number of ads watched by viewers is between: (3.453584089684465, 4.546415910315535)\n"
          ]
        }
      ],
      "source": [
        "\n",
        "logging.info(\"answering the question no17\")\n",
        "import scipy.stats as stats\n",
        "\n",
        "# Define the sample data\n",
        "n = 50\n",
        "x_bar = 4\n",
        "s = 1.5\n",
        "confidence_level = 0.01\n",
        "\n",
        "# Calculate the standard error\n",
        "se = s / (n ** 0.5)\n",
        "\n",
        "# Calculate the z-value for the desired confidence level and degrees of freedom\n",
        "df = n - 1\n",
        "z = -1*(stats.norm.ppf(( confidence_level) / 2))\n",
        "\n",
        "# Calculate the confidence interval\n",
        "lower_bound = x_bar - z * se\n",
        "upper_bound = x_bar + z * se\n",
        "\n",
        "# Print the result\n",
        "print(\"99% Confidence interval and mean:\", (lower_bound, upper_bound,x_bar))\n",
        "print(\"we can estimate with 99% confidence that the population mean number of ads watched by viewers is between:\",(lower_bound, upper_bound))"
      ]
    }
  ],
  "metadata": {
    "kernelspec": {
      "display_name": "Python 3 (ipykernel)",
      "language": "python",
      "name": "python3"
    },
    "language_info": {
      "codemirror_mode": {
        "name": "ipython",
        "version": 3
      },
      "file_extension": ".py",
      "mimetype": "text/x-python",
      "name": "python",
      "nbconvert_exporter": "python",
      "pygments_lexer": "ipython3",
      "version": "3.10.8"
    },
    "colab": {
      "provenance": []
    }
  },
  "nbformat": 4,
  "nbformat_minor": 5
}