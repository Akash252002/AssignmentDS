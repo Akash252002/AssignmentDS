{
 "cells": [
  {
   "cell_type": "code",
   "execution_count": 5,
   "id": "522efbc5-d5fb-4962-9121-a6ab2ffe28ce",
   "metadata": {},
   "outputs": [
    {
     "data": {
      "text/plain": [
       "'\\nA database is an organized collection of structured information, or data, \\ntypically stored electronically in a computer system.\\nA database is usually controlled by a database management system (DBMS).\\n\\nSQL:\\nRELATIONAL DATABASE MANAGEMENT SYSTEM (RDBMS)\\nThese databases have fixed or static or predefined schema\\nThese databases are not suited for hierarchical data storage.\\nThese databases are best suited for complex queries\\nVertically Scalable\\nFollows ACID property\\nExamples: MySQL, PostgreSQL, Oracle, MS-SQL Server, etc\\n\\nNOSQL:\\nNon-relational or distributed database system.\\nThey have dynamic schema\\nThese databases are best suited for hierarchical data storage\\nThese databases are not so good for complex queries\\nHorizontally scalable\\nFollows CAP(consistency, availability, partition tolerance)\\nExamples: MongoDB, GraphQL, HBase, Neo4j, Cassandra, etc\\n'"
      ]
     },
     "execution_count": 5,
     "metadata": {},
     "output_type": "execute_result"
    }
   ],
   "source": [
    "# Ans no1\n",
    "\n",
    "\n",
    "import logging\n",
    "logging.basicConfig(filename=\"16_feb.log\", level=logging.INFO )\n",
    "\n",
    "logging.info(\"here writing about SQL and NOSQL\")\n",
    "\n",
    "'''\n",
    "A database is an organized collection of structured information, or data, \n",
    "typically stored electronically in a computer system.\n",
    "A database is usually controlled by a database management system (DBMS).\n",
    "\n",
    "SQL:\n",
    "RELATIONAL DATABASE MANAGEMENT SYSTEM (RDBMS)\n",
    "These databases have fixed or static or predefined schema\n",
    "These databases are not suited for hierarchical data storage.\n",
    "These databases are best suited for complex queries\n",
    "Vertically Scalable\n",
    "Follows ACID property\n",
    "Examples: MySQL, PostgreSQL, Oracle, MS-SQL Server, etc\n",
    "\n",
    "NOSQL:\n",
    "Non-relational or distributed database system.\n",
    "They have dynamic schema\n",
    "These databases are best suited for hierarchical data storage\n",
    "These databases are not so good for complex queries\n",
    "Horizontally scalable\n",
    "Follows CAP(consistency, availability, partition tolerance)\n",
    "Examples: MongoDB, GraphQL, HBase, Neo4j, Cassandra, etc\n",
    "'''\n",
    "\n"
   ]
  },
  {
   "cell_type": "code",
   "execution_count": 11,
   "id": "6e91e520-d39b-4030-81a4-914323460c2e",
   "metadata": {},
   "outputs": [
    {
     "data": {
      "text/plain": [
       "'\\nTRUNCATE :\\nThis command is used to remove all rows from the table, but the structure of the table still exists.\\n\\nSyntax –\\nSyntax to remove an existing table.\\n\\nTRUNCATE TABLE table_name;\\n'"
      ]
     },
     "execution_count": 11,
     "metadata": {},
     "output_type": "execute_result"
    }
   ],
   "source": [
    "# Ans no2\n",
    "\n",
    "\n",
    "logging.info(\"here we will know about DDL commands\")\n",
    "'''\n",
    "Data Definition Language(DDL) is a subset of SQL and a part of DBMS(Database Management System). \n",
    "DDL consist of Commands to commands like CREATE, ALTER, TRUNCATE and DROP. \n",
    "These commands are used to create or modify the tables in SQL.\n",
    "'''\n",
    "\n",
    "\n",
    "'''\n",
    "CREATE :\n",
    "This command is used to create a new table in SQL.\n",
    "\n",
    "CREATE TABLE table_name\n",
    "(\n",
    "column_1 int,\n",
    "column_2 varchar,\n",
    "column_3 float,\n",
    "\n",
    ");\n",
    "'''\n",
    "\n",
    "'''\n",
    "ALTER :\n",
    "This command is used to add, delete or change columns in the existing table.\n",
    "The user needs to know the existing table name and can do add, delete or modify tasks easily.\n",
    "\n",
    "Syntax to add a column to an existing table.\n",
    "\n",
    "ALTER TABLE table_name\n",
    "ADD column_name datatype;\n",
    "\n",
    "'''\n",
    "\n",
    "'''\n",
    "TRUNCATE :\n",
    "This command is used to remove all rows from the table, but the structure of the table still exists.\n",
    "\n",
    "Syntax –\n",
    "Syntax to remove an existing table.\n",
    "\n",
    "TRUNCATE TABLE table_name;\n",
    "'''\n"
   ]
  },
  {
   "cell_type": "code",
   "execution_count": 14,
   "id": "ccb36bd2-5aed-4916-8893-183fe0c5320f",
   "metadata": {},
   "outputs": [
    {
     "data": {
      "text/plain": [
       "'\\nDelete\\nDELETE query is used to remove existing records from a specified table.\\nYou can use the WHERE clause with DELETE queries to delete the selected rows.\\n\\nExample\\nIn the following statement, we will delete two students with StudentId 11 and 12:\\n\\nDELETE FROM Students WHERE StudentId = 11 OR StudentId = 12;\\n'"
      ]
     },
     "execution_count": 14,
     "metadata": {},
     "output_type": "execute_result"
    }
   ],
   "source": [
    "# Ans no3\n",
    "\n",
    "\n",
    "logging.info(\"here is writing about DML commands\")\n",
    "'''\n",
    "DML(Data Manipulation Language): \n",
    "The SQL commands that deals with the manipulation of data present in the database belong to DML \n",
    "or Data Manipulation Language and this includes most of the SQL statements.\n",
    "It is the component of the SQL statement that controls access to data and to the database.\n",
    "Basically, DCL statements are grouped with DML statements.\n",
    "'''\n",
    "'''\n",
    "Insert Example\n",
    "In the following example, we will insert 2 rows into the students table, one for each student:\n",
    "\n",
    "INSERT INTO Students(SId, SName, DepartmentId, DOB)\n",
    "              VALUES(11, 'Aasdfg', 4, '1997-10-12');\n",
    "\n",
    "INSERT INTO Students VALUES(12, 'Aly', 4, '1996-10-12');\n",
    "'''\n",
    "\n",
    "'''\n",
    "Update \n",
    "In the following UPDATE statement, we will update the DepartmentId for the Student with StudentId = 6 to be 3:\n",
    "\n",
    "UPDATE Students\n",
    "SET DepartmentId = 3 \n",
    "WHERE StudentId = 6;\n",
    "\n",
    "'''\n",
    "'''\n",
    "Delete\n",
    "DELETE query is used to remove existing records from a specified table.\n",
    "You can use the WHERE clause with DELETE queries to delete the selected rows.\n",
    "\n",
    "Example\n",
    "In the following statement, we will delete two students with StudentId 11 and 12:\n",
    "\n",
    "DELETE FROM Students WHERE StudentId = 11 OR StudentId = 12;\n",
    "'''\n",
    "\n"
   ]
  },
  {
   "cell_type": "code",
   "execution_count": 16,
   "id": "dd097707-b341-40db-809c-94fbb62de304",
   "metadata": {},
   "outputs": [
    {
     "data": {
      "text/plain": [
       "'\\nExample of select \\nSELECT Stu_Name FROM Student WHERE Phone = 9039462908;\\n'"
      ]
     },
     "execution_count": 16,
     "metadata": {},
     "output_type": "execute_result"
    }
   ],
   "source": [
    "# Ans no4\n",
    "\n",
    "logging.info(\"here is writing about DQL commands\")\n",
    "'''\n",
    "The DQL statements can be used in order to query the data and information contained in schema objects.\n",
    "The goal of the DQL Commands is to return a schema relation on the basis of the query supplied to them.\n",
    "'''\n",
    "'''\n",
    "Example of select \n",
    "SELECT Stu_Name FROM Student WHERE Phone = 9039462908;\n",
    "'''\n"
   ]
  },
  {
   "cell_type": "code",
   "execution_count": 17,
   "id": "f32c5732-4653-4595-8dcc-2a067ddf0171",
   "metadata": {},
   "outputs": [
    {
     "data": {
      "text/plain": [
       "'\\nPrimary Key: A primary key is used to ensure that data in the specific column is unique.\\nA column cannot have NULL values.\\n\\nExample: \\nSTUD_NO, as well as STUD_PHONE both, are candidate keys for relation STUDENT \\nbut STUD_NO can be chosen as the primary key (only one out of many candidate keys). \\n\\n\\nForeign Key: \\nA foreign key is a column or group of columns in a relational database table\\nthat provides a link between data in two tables. It is a column (or columns)\\nthat references a column (most often the primary key) of another table. \\n\\nExample: Refer the figure – \\nSTUD_NO in STUDENT_COURSE is a foreign key to STUD_NO in STUDENT relation. \\n'"
      ]
     },
     "execution_count": 17,
     "metadata": {},
     "output_type": "execute_result"
    }
   ],
   "source": [
    "# Ans no5\n",
    "\n",
    "\n",
    "logging.info(\" Primary Key and Foreign Key\")\n",
    "'''\n",
    "Primary Key: A primary key is used to ensure that data in the specific column is unique.\n",
    "A column cannot have NULL values.\n",
    "\n",
    "Example: \n",
    "STUD_NO, as well as STUD_PHONE both, are candidate keys for relation STUDENT \n",
    "but STUD_NO can be chosen as the primary key (only one out of many candidate keys). \n",
    "\n",
    "\n",
    "Foreign Key: \n",
    "A foreign key is a column or group of columns in a relational database table\n",
    "that provides a link between data in two tables. It is a column (or columns)\n",
    "that references a column (most often the primary key) of another table. \n",
    "\n",
    "Example: Refer the figure – \n",
    "STUD_NO in STUDENT_COURSE is a foreign key to STUD_NO in STUDENT relation. \n",
    "'''"
   ]
  },
  {
   "cell_type": "code",
   "execution_count": 20,
   "id": "a3592e28-fdee-4129-9ced-1f8fcc3e70a9",
   "metadata": {},
   "outputs": [
    {
     "data": {
      "text/plain": [
       "'\\nexecute()\\nThis method accepts a MySQL query as a parameter and executes the given query.\\n\\ncursor()\\nAllows Python code to execute PostgreSQL command in a database session.\\nCursors are created by the connection.cursor().\\n\\n# '"
      ]
     },
     "execution_count": 20,
     "metadata": {},
     "output_type": "execute_result"
    }
   ],
   "source": [
    "# Ans no6\n",
    "\n",
    "\n",
    "'''\n",
    "execute()\n",
    "This method accepts a MySQL query as a parameter and executes the given query.\n",
    "\n",
    "cursor()\n",
    "Allows Python code to execute PostgreSQL command in a database session.\n",
    "Cursors are created by the connection.cursor().\n",
    "\n",
    "'''\n",
    "import mysql.connector\n",
    "\n",
    "\n",
    "mydb = mysql.connector.connect(\n",
    "  host=\"localhost\",\n",
    "  user=\"abc\",\n",
    "  password=\"password\"\n",
    ")\n",
    "\n",
    "mycursor = mydb.cursor()\n",
    "mycursor.execute(\"SHOW DATABASES\")\n",
    "\n",
    "for x in mycursor:\n",
    "  print(x)"
   ]
  },
  {
   "cell_type": "code",
   "execution_count": 21,
   "id": "4ffefa09-56b4-4124-835e-fe326f29a24c",
   "metadata": {},
   "outputs": [
    {
     "data": {
      "text/plain": [
       "'\\nSELECT city.city_name AS \"City\"\\nFROM citizen\\nJOIN city \\nON citizen.city_id = city.city_id \\nWHERE city.city_name != \\'San Bruno\\'\\nGROUP BY city.city_name\\nHAVING COUNT(*) >= 2\\nORDER BY city.city_name ASC\\nLIMIT 2\\n'"
      ]
     },
     "execution_count": 21,
     "metadata": {},
     "output_type": "execute_result"
    }
   ],
   "source": [
    "\n",
    "# Ans no7\n",
    "\n",
    "logging.info(\" the order of execution of SQL clauses in an SQL query\")\n",
    "'''\n",
    "Query Process Steps\n",
    "1. Getting Data (From, Join)\n",
    "2. Row Filter (Where)\n",
    "3. Grouping (Group by)\n",
    "4. Group Filter (Having)\n",
    "5. Return Expressions (Select)\n",
    "6. Order & Paging (Order by & Limit / Offset)\n",
    "\n",
    "'''\n",
    "\n",
    "'''\n",
    "SELECT city.city_name AS \"City\"\n",
    "FROM citizen\n",
    "JOIN city \n",
    "ON citizen.city_id = city.city_id \n",
    "WHERE city.city_name != 'San Bruno'\n",
    "GROUP BY city.city_name\n",
    "HAVING COUNT(*) >= 2\n",
    "ORDER BY city.city_name ASC\n",
    "LIMIT 2\n",
    "'''"
   ]
  },
  {
   "cell_type": "code",
   "execution_count": null,
   "id": "5bfe9440-6ca7-468e-93fd-d4e51f789472",
   "metadata": {},
   "outputs": [],
   "source": []
  }
 ],
 "metadata": {
  "kernelspec": {
   "display_name": "Python 3 (ipykernel)",
   "language": "python",
   "name": "python3"
  },
  "language_info": {
   "codemirror_mode": {
    "name": "ipython",
    "version": 3
   },
   "file_extension": ".py",
   "mimetype": "text/x-python",
   "name": "python",
   "nbconvert_exporter": "python",
   "pygments_lexer": "ipython3",
   "version": "3.10.8"
  }
 },
 "nbformat": 4,
 "nbformat_minor": 5
}
