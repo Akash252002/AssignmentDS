{
 "cells": [
  {
   "cell_type": "code",
   "execution_count": 1,
   "id": "a4a1b05f-068b-4967-90a7-c76bbf5e15ce",
   "metadata": {},
   "outputs": [],
   "source": [
    "# Ans no1\n",
    "\n",
    "\"\"\"\n",
    "for loop is used to iterate over a sequence (list, tuple, string, etc.)\n",
    "\"\"\"\n",
    "# for loop use\n",
    "for i in range(10):\n",
    "    print(i,end=\" \")\n",
    "\n",
    "\"\"\" \n",
    "while loop is used to execute a block of code as long as a certain condition is true\n",
    "\"\"\"\n",
    "# while loop use\n",
    "i = 0\n",
    "while i < 10:\n",
    "    print(i,end=\" \")\n",
    "    i += 1"
   ]
  },
  {
   "cell_type": "code",
   "execution_count": 2,
   "id": "44cc748c-a409-4467-8193-503074f76a8f",
   "metadata": {},
   "outputs": [
    {
     "name": "stdout",
     "output_type": "stream",
     "text": [
      "55\n",
      "55\n"
     ]
    }
   ],
   "source": [
    "# Ans no2\n",
    "\n",
    "\n",
    "#using for loop\n",
    "i=1\n",
    "result=0\n",
    "while i<=10:\n",
    "    result+=i\n",
    "    i+=1\n",
    "print(result)\n",
    "\n",
    "#using while loop\n",
    "result1=0\n",
    "for i in range(1,11):\n",
    "    result1+=i\n",
    "print(result1)"
   ]
  },
  {
   "cell_type": "code",
   "execution_count": 17,
   "id": "1da63591-f372-4a2a-bc23-83ad3e5683d9",
   "metadata": {},
   "outputs": [
    {
     "name": "stdout",
     "output_type": "stream",
     "text": [
      "enter units 200\n"
     ]
    },
    {
     "name": "stdout",
     "output_type": "stream",
     "text": [
      "The total electricity bill is: 1050.0 rupees\n"
     ]
    }
   ],
   "source": [
    "#Ans no3\n",
    "\n",
    "units=int(input(\"enter units\"))\n",
    "bill = 0\n",
    "\n",
    "if units <= 100:\n",
    "        bill = units * 4.5\n",
    "elif units <= 200:\n",
    "        bill = 100 * 4.5 + (units-100) * 6\n",
    "elif units <= 300:\n",
    "        bill = 100 * 4.5 + 100 * 6 + (units-200) * 10\n",
    "else:\n",
    "        bill = 100 * 4.5 + 100 * 6 + 100 * 10 + (units-300) * 20\n",
    "        \n",
    "print(\"The total electricity bill is:\", bill, \"rupees\")\n"
   ]
  },
  {
   "cell_type": "code",
   "execution_count": 1,
   "id": "e83470fd-e2b2-4548-9dd9-18271d361a9b",
   "metadata": {},
   "outputs": [
    {
     "name": "stdout",
     "output_type": "stream",
     "text": [
      "[8, 64, 125, 216, 512, 1000, 1728, 2744, 3375, 4096, 5832, 8000, 10648, 13824, 15625, 17576, 21952, 27000, 32768, 39304, 42875, 46656, 54872, 64000, 74088, 85184, 91125, 97336, 110592, 125000, 140608, 157464, 166375, 175616, 195112, 216000, 238328, 262144, 274625, 287496, 314432, 343000, 373248, 405224, 421875, 438976, 474552, 512000, 551368, 592704, 614125, 636056, 681472, 729000, 778688, 830584, 857375, 884736, 941192, 1000000]\n"
     ]
    }
   ],
   "source": [
    "# answer 4\n",
    "\n",
    "# list of numbers from 1 to 100\n",
    "num=list(range(1,101))\n",
    "# list to store cubes of numbers\n",
    "cube=[]\n",
    "# append cubes of num\n",
    "for i in num:\n",
    "    cube.append(i**3)\n",
    "# answer list to store cubes divisible by 4 or 5\n",
    "ans=[]\n",
    "for i in cube:\n",
    "    if i%4==0 or i%5==0:\n",
    "        ans.append(i)\n",
    "print(ans)"
   ]
  },
  {
   "cell_type": "code",
   "execution_count": 8,
   "id": "23e60986-8e17-4cab-ae86-6eb48a0da534",
   "metadata": {},
   "outputs": [
    {
     "name": "stdout",
     "output_type": "stream",
     "text": [
      "12\n"
     ]
    }
   ],
   "source": [
    "# Ans no5\n",
    "\n",
    "\n",
    "string = \"I want to become a data scientist\"\n",
    "count  = 0\n",
    "for i in range(0,len(string)):\n",
    "    if string[i]=='a' or string[i]=='e' or string[i]=='i' or string[i]=='o' or string[i]=='u' or string[i]=='A' or string[i]=='E' or string[i]=='I' or string[i]=='O' or string[i]=='U':\n",
    "           count+=1\n",
    "print(count)            "
   ]
  },
  {
   "cell_type": "code",
   "execution_count": null,
   "id": "d0a9eca6-907a-4c2c-b2e7-1fb00b83964e",
   "metadata": {},
   "outputs": [],
   "source": []
  }
 ],
 "metadata": {
  "kernelspec": {
   "display_name": "Python 3",
   "language": "python",
   "name": "python3"
  },
  "language_info": {
   "codemirror_mode": {
    "name": "ipython",
    "version": 3
   },
   "file_extension": ".py",
   "mimetype": "text/x-python",
   "name": "python",
   "nbconvert_exporter": "python",
   "pygments_lexer": "ipython3",
   "version": "3.11.1 (tags/v3.11.1:a7a450f, Dec  6 2022, 19:58:39) [MSC v.1934 64 bit (AMD64)]"
  },
  "vscode": {
   "interpreter": {
    "hash": "b91f41160b83ffc59c7e17fa6fd02d637d5dcf1d5e59aa2db87d82178661b954"
   }
  }
 },
 "nbformat": 4,
 "nbformat_minor": 5
}
