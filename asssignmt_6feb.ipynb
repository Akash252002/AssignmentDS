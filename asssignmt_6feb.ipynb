{
 "cells": [
  {
   "cell_type": "code",
   "execution_count": 16,
   "id": "9fc93326-26b1-4e0e-a88e-0484b359b25a",
   "metadata": {},
   "outputs": [
    {
     "data": {
      "text/plain": [
       "4134711838987085478833841242112000"
      ]
     },
     "execution_count": 16,
     "metadata": {},
     "output_type": "execute_result"
    }
   ],
   "source": [
    "# Ans no1\n",
    "\n",
    "list1 = [1,2,3,4, [44,55,66, True], False, (34,56,78,89,34), {1,2,3,3,2,1}, {1:34, \"key2\": [55, 67, 78, 89], 4: (45,\n",
    "22, 61, 34)}, [56, 'data science'], 'Machine Learning']\n",
    "\n",
    "\n",
    "def traverse(lst):\n",
    "# take an empty 'ans' list to store the numeric items    \n",
    "    ans = []\n",
    "    product=1\n",
    "    for item in lst:\n",
    "        if type(item) in [int, float]:\n",
    "            ans.append(item)\n",
    "            product*=item\n",
    "        elif type(item) == list or type(item) == set  or type(item) == tuple :\n",
    "            #  ans.extend(traverse(item))\n",
    "             product*=traverse(item)\n",
    "        elif type(item) == dict:\n",
    "            for key, value in item.items():\n",
    "                if type(key) in [int, float]:\n",
    "                    ans.append(key)\n",
    "                    product*=key\n",
    "                if type(value) in [int, float]:\n",
    "                    ans.append(value)\n",
    "                    product*=value\n",
    "                elif type(value) == list or type(value) == set  or type(value) ==tuple :\n",
    "                    #  ans.extend(traverse(value))\n",
    "                     product*= traverse(value)         \n",
    "   \n",
    "    return product\n",
    "\n",
    "traverse(list1)"
   ]
  },
  {
   "cell_type": "code",
   "execution_count": 3,
   "id": "94f0f185-a621-4def-a8d1-a9af146c0400",
   "metadata": {},
   "outputs": [
    {
     "data": {
      "text/plain": [
       "'r$dzmg$gl$yvxlnv$z$wzgz$hxrvmgrhg.'"
      ]
     },
     "execution_count": 3,
     "metadata": {},
     "output_type": "execute_result"
    }
   ],
   "source": [
    "#Ans no2\n",
    "\n",
    "#taking the input string to decode \n",
    "s=input(\"Enter string\")\n",
    "\n",
    "# declare the empty string  ans1 to strore the answer\n",
    "ans1=\"\"\n",
    "\n",
    "# converting the whole string into lower case\n",
    "s=s.lower()\n",
    "for i in s:\n",
    "    if i== ' ':\n",
    "        ans1+='$'\n",
    "    elif ord(i)>122 or ord(i)<97:\n",
    "        ans1+=i\n",
    "    else:\n",
    "        ans1+=chr(219-ord(i))\n",
    "        \n",
    "# reurning the answer        \n",
    "ans1    "
   ]
  }
 ],
 "metadata": {
  "kernelspec": {
   "display_name": "Python 3",
   "language": "python",
   "name": "python3"
  },
  "language_info": {
   "codemirror_mode": {
    "name": "ipython",
    "version": 3
   },
   "file_extension": ".py",
   "mimetype": "text/x-python",
   "name": "python",
   "nbconvert_exporter": "python",
   "pygments_lexer": "ipython3",
   "version": "3.11.1"
  },
  "vscode": {
   "interpreter": {
    "hash": "b91f41160b83ffc59c7e17fa6fd02d637d5dcf1d5e59aa2db87d82178661b954"
   }
  }
 },
 "nbformat": 4,
 "nbformat_minor": 5
}
