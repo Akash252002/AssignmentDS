{
  "nbformat": 4,
  "nbformat_minor": 0,
  "metadata": {
    "colab": {
      "provenance": []
    },
    "kernelspec": {
      "name": "python3",
      "display_name": "Python 3"
    },
    "language_info": {
      "name": "python"
    }
  },
  "cells": [
    {
      "cell_type": "code",
      "execution_count": 2,
      "metadata": {
        "id": "GSQ1TjuwPg7a"
      },
      "outputs": [],
      "source": [
        "import logging \n",
        "logging.basicConfig(filename=\"7mar.log\" ,level=logging.INFO,formate='%(asctime)s,%(message)s')"
      ]
    },
    {
      "cell_type": "code",
      "source": [
        "# Ans no1\n",
        "logging.info(\"writing the ans no 1\")\n",
        "\n",
        "'''\n",
        "The three measures of central tendency are:\n",
        "\n",
        "Mean: The mean is the average value of a set of numbers. It is obtained by adding all the numbers in the set\n",
        "and then dividing by the total number of values in the set.\n",
        "\n",
        "Median: The median is the middle value in a set of numbers when they are arranged in order of magnitude. \n",
        "If there are an even number of values, the median is the average of the two middle values.\n",
        "\n",
        "Mode: The mode is the value that occurs most frequently in a set of numbers. \n",
        "It is the value that appears with the highest frequency. \n",
        "If no value appears more than once, then there is no mode for the set.\n",
        "'''"
      ],
      "metadata": {
        "colab": {
          "base_uri": "https://localhost:8080/",
          "height": 88
        },
        "id": "yLgrzy4kRGHm",
        "outputId": "4afa5e24-17d5-41ae-bc3a-72719ecd2baf"
      },
      "execution_count": 3,
      "outputs": [
        {
          "output_type": "execute_result",
          "data": {
            "text/plain": [
              "'\\nThe three measures of central tendency are:\\n\\nMean: The mean is the average value of a set of numbers. It is obtained by adding all the numbers in the set\\nand then dividing by the total number of values in the set.\\n\\nMedian: The median is the middle value in a set of numbers when they are arranged in order of magnitude. \\nIf there are an even number of values, the median is the average of the two middle values.\\n\\nMode: The mode is the value that occurs most frequently in a set of numbers. \\nIt is the value that appears with the highest frequency. \\nIf no value appears more than once, then there is no mode for the set.\\n'"
            ],
            "application/vnd.google.colaboratory.intrinsic+json": {
              "type": "string"
            }
          },
          "metadata": {},
          "execution_count": 3
        }
      ]
    },
    {
      "cell_type": "code",
      "source": [
        "# Ans no2\n",
        "logging.info(\"writing the ans no 2\")\n",
        "'''\n",
        "The mean, median, and mode are all ways of describing the center or typical value of a set of data. \n",
        "The mean is the average value of the data, the median is the middle value when the data is arranged in order, \n",
        "and the mode is the most common value. The choice of which measure to use depends on the type of data and the purpose of the analysis.\n",
        "The mean is commonly used when there are no extreme values, \n",
        "the median is used when the data is skewed or contains outliers, \n",
        "\n",
        "and the mode is used for nominal or categorical data.\n",
        "'''"
      ],
      "metadata": {
        "colab": {
          "base_uri": "https://localhost:8080/",
          "height": 70
        },
        "id": "mq2WTekcRT71",
        "outputId": "d2f8a240-acde-4d45-ec4e-59b9323a11f1"
      },
      "execution_count": 4,
      "outputs": [
        {
          "output_type": "execute_result",
          "data": {
            "text/plain": [
              "'\\nThe mean, median, and mode are all ways of describing the center or typical value of a set of data. \\nThe mean is the average value of the data, the median is the middle value when the data is arranged in order, \\nand the mode is the most common value. The choice of which measure to use depends on the type of data and the purpose of the analysis.\\nThe mean is commonly used when there are no extreme values, \\nthe median is used when the data is skewed or contains outliers, \\n\\nand the mode is used for nominal or categorical data.\\n'"
            ],
            "application/vnd.google.colaboratory.intrinsic+json": {
              "type": "string"
            }
          },
          "metadata": {},
          "execution_count": 4
        }
      ]
    },
    {
      "cell_type": "code",
      "source": [
        "# Ans no3\n",
        "\n",
        "import pandas as pd\n",
        "\n",
        "logging.info(\"writing the ans no 3\")\n",
        "data=[178,177,176,177,178.2,178,175,179,180,175,178.9,176.2,177,172.5,178,176.5]\n",
        "df=pd.DataFrame(data)\n",
        "print(df.mean())\n",
        "print(df.median())\n",
        "print(df.mode())\n"
      ],
      "metadata": {
        "colab": {
          "base_uri": "https://localhost:8080/"
        },
        "id": "nLGdYlQuT7gg",
        "outputId": "d1d8c074-f52c-4872-baa4-15d0df1898d5"
      },
      "execution_count": 5,
      "outputs": [
        {
          "output_type": "stream",
          "name": "stdout",
          "text": [
            "0    177.01875\n",
            "dtype: float64\n",
            "0    177.0\n",
            "dtype: float64\n",
            "       0\n",
            "0  177.0\n",
            "1  178.0\n"
          ]
        }
      ]
    },
    {
      "cell_type": "code",
      "source": [
        "# Ans no4\n",
        "\n",
        "logging.info(\"writing the ans no 4\")\n",
        "data=[178,177,176,177,178.2,178,175,179,180,175,178.9,176.2,177,172.5,178,176.5]\n",
        "df=pd.DataFrame(data)\n",
        "print(df.std())\n",
        "print(df.var())\n",
        "\n"
      ],
      "metadata": {
        "colab": {
          "base_uri": "https://localhost:8080/"
        },
        "id": "Z5LZl4OSUnNx",
        "outputId": "d3c19481-2563-46a8-b822-183c28b25857"
      },
      "execution_count": 6,
      "outputs": [
        {
          "output_type": "stream",
          "name": "stdout",
          "text": [
            "0    1.847239\n",
            "dtype: float64\n",
            "0    3.412292\n",
            "dtype: float64\n"
          ]
        }
      ]
    },
    {
      "cell_type": "code",
      "source": [
        "# Ans no5\n",
        "\n",
        "logging.info(\"writing the answer no5\")\n",
        "\n",
        "'''\n",
        "Measures of dispersion such as range, variance, and standard deviation are used to describe the spread or variability of a dataset. \n",
        "To better understand how these measures are used, we can visualize them using a graph.\n",
        "\n",
        "Consider the example of a dataset of exam scores for a class of 10 students:\n",
        "[85, 75, 90, 82, 92, 78, 85, 88, 79, 86]. \n",
        "\n",
        "From the histogram, we can see that the data is roughly normally distributed,\n",
        "with a mean of 84. \n",
        "We can also calculate the range, variance, and standard deviation for the dataset:\n",
        "\n",
        "Range = 92 - 75 = 17\n",
        "\n",
        "Variance = 27.11\n",
        "\n",
        "Standard deviation = 5.208\n",
        "\n",
        "The range is represented by the vertical lines at 75 and 92, indicating that the scores range from 75 to 92.\n",
        "\n",
        "The variance is represented by the width of the bell curve, \n",
        "with a larger width indicating more variability in the data. \n",
        "In this case, the width of the bell curve is relatively narrow, indicating that the data is not highly variable.\n",
        "\n",
        "The standard deviation is represented by the vertical lines at 78.8 and 89.2, \n",
        "which are one standard deviation from the mean of 84. \n",
        "These lines indicate that about 68% of the data falls within one standard deviation of the mean.\n",
        "\n",
        "'''\n"
      ],
      "metadata": {
        "colab": {
          "base_uri": "https://localhost:8080/",
          "height": 123
        },
        "id": "aAQ8njzoVRY2",
        "outputId": "9dcba9fa-c1e0-43ef-a199-56fd4346668a"
      },
      "execution_count": 7,
      "outputs": [
        {
          "output_type": "execute_result",
          "data": {
            "text/plain": [
              "'\\nMeasures of dispersion such as range, variance, and standard deviation are used to describe the spread or variability of a dataset. \\nTo better understand how these measures are used, we can visualize them using a graph.\\n\\nConsider the example of a dataset of exam scores for a class of 10 students:\\n[85, 75, 90, 82, 92, 78, 85, 88, 79, 86]. \\n\\nFrom the histogram, we can see that the data is roughly normally distributed,\\nwith a mean of 84. \\nWe can also calculate the range, variance, and standard deviation for the dataset:\\n\\nRange = 92 - 75 = 17\\n\\nVariance = 27.11\\n\\nStandard deviation = 5.208\\n\\nThe range is represented by the vertical lines at 75 and 92, indicating that the scores range from 75 to 92.\\n\\nThe variance is represented by the width of the bell curve, \\nwith a larger width indicating more variability in the data. \\nIn this case, the width of the bell curve is relatively narrow, indicating that the data is not highly variable.\\n\\nThe standard deviation is represented by the vertical lines at 78.8 and 89.2, \\nwhich are one standard deviation from the mean of 84. \\nThese lines indicate that about 68% of the data falls within one standard deviation of the mean.\\n\\n'"
            ],
            "application/vnd.google.colaboratory.intrinsic+json": {
              "type": "string"
            }
          },
          "metadata": {},
          "execution_count": 7
        }
      ]
    },
    {
      "cell_type": "code",
      "source": [
        "# Ans no6\n",
        "\n",
        "logging.info(\"answering the qus6\")\n",
        "'''\n",
        "A Venn diagram is a graphical representation of sets using circles,\n",
        "usually overlapping, that visually represent the relationships between the sets. \n",
        "The basic idea of a Venn diagram is to use circles to represent sets and overlap them to show how the sets are related.\n",
        "\n",
        "Each circle in a Venn diagram represents a set, and the overlap between circles represents the intersection of those sets. \n",
        "The area outside the circles represents the universe of all possible elements that are not included in any of the sets.\n",
        "\n",
        "Venn diagrams can be used to visualize many different types of relationships between sets, including:\n",
        "\n",
        "Disjoint sets: sets that have no elements in common.\n",
        "Intersection: the elements that are in common between two or more sets.\n",
        "Union: the combination of elements from two or more sets.\n",
        "Subset: a set that is completely contained within another set.\n",
        "Venn diagrams can be useful in many areas of study, \n",
        "including mathematics, logic, statistics, and data science. \n",
        "They are often used to illustrate concepts such as set theory, probability, and logical reasoning.\n",
        "'''"
      ],
      "metadata": {
        "colab": {
          "base_uri": "https://localhost:8080/",
          "height": 123
        },
        "id": "ysIuAan9YnY8",
        "outputId": "192685ce-8eb4-4d2c-9c34-3807e7dcec3d"
      },
      "execution_count": 8,
      "outputs": [
        {
          "output_type": "execute_result",
          "data": {
            "text/plain": [
              "'\\nA Venn diagram is a graphical representation of sets using circles,\\nusually overlapping, that visually represent the relationships between the sets. \\nThe basic idea of a Venn diagram is to use circles to represent sets and overlap them to show how the sets are related.\\n\\nEach circle in a Venn diagram represents a set, and the overlap between circles represents the intersection of those sets. \\nThe area outside the circles represents the universe of all possible elements that are not included in any of the sets.\\n\\nVenn diagrams can be used to visualize many different types of relationships between sets, including:\\n\\nDisjoint sets: sets that have no elements in common.\\nIntersection: the elements that are in common between two or more sets.\\nUnion: the combination of elements from two or more sets.\\nSubset: a set that is completely contained within another set.\\nVenn diagrams can be useful in many areas of study, \\nincluding mathematics, logic, statistics, and data science. \\nThey are often used to illustrate concepts such as set theory, probability, and logical reasoning.\\n'"
            ],
            "application/vnd.google.colaboratory.intrinsic+json": {
              "type": "string"
            }
          },
          "metadata": {},
          "execution_count": 8
        }
      ]
    },
    {
      "cell_type": "code",
      "source": [
        "# Ans no7\n",
        "\n",
        "logging.info(\"answering the qus7\")\n",
        "\n",
        "# Define sets A and B\n",
        "A = {2, 3, 4, 5, 6, 7}\n",
        "B = {0, 2, 6, 8, 10}\n",
        "\n",
        "# Find the intersection of sets A and B\n",
        "intersection = A.intersection(B)\n",
        "print(\"Intersection of A and B:\", intersection)\n",
        "\n",
        "# Find the union of sets A and B\n",
        "union = A.union(B)\n",
        "print(\"Union of A and B:\", union)\n"
      ],
      "metadata": {
        "colab": {
          "base_uri": "https://localhost:8080/"
        },
        "id": "4J037Y6hZQV4",
        "outputId": "2696008c-b951-44a5-d447-888f019e78e2"
      },
      "execution_count": 9,
      "outputs": [
        {
          "output_type": "stream",
          "name": "stdout",
          "text": [
            "Intersection of A and B: {2, 6}\n",
            "Union of A and B: {0, 2, 3, 4, 5, 6, 7, 8, 10}\n"
          ]
        }
      ]
    },
    {
      "cell_type": "code",
      "source": [
        "# Ans no8\n",
        "logging.info(\"writing the naswer no 8\")\n",
        "'''\n",
        "Skewness is a measure of the asymmetry of a probability distribution.\n",
        "In other words, it measures the extent to which a distribution is \"lopsided\" or not symmetric around its mean.\n",
        "\n",
        "If a distribution is symmetric, it has zero skewness.\n",
        "However, if the distribution has a tail that extends further to one side than the other, \n",
        "it is said to be skewed. In a positively skewed distribution, \n",
        "the tail extends further to the right, while in a negatively skewed distribution, \n",
        "the tail extends further to the left.\n",
        "\n",
        "Skewness is important in data analysis because it can affect the choice of statistical tests, \n",
        "the interpretation of results, and the accuracy of models. \n",
        "For example, if the data is highly skewed, it may be more appropriate to use non-parametric tests instead of parametric \n",
        "tests that assume a normal distribution. \n",
        "Skewness can also affect the choice of model and the estimation of parameters in statistical models.\n",
        "\n",
        "Skewness can be measured using various statistical measures, \n",
        "such as the skewness coefficient, which is a standardized measure of skewness. \n",
        "Skewness can also be visualized using graphical tools such as histograms, box plots, and density plots\n",
        "'''"
      ],
      "metadata": {
        "colab": {
          "base_uri": "https://localhost:8080/",
          "height": 123
        },
        "id": "pyQOdhszcM6H",
        "outputId": "a85a2acc-a10b-4789-b6fc-fab6cedb0b3d"
      },
      "execution_count": 10,
      "outputs": [
        {
          "output_type": "execute_result",
          "data": {
            "text/plain": [
              "'\\nSkewness is a measure of the asymmetry of a probability distribution.\\nIn other words, it measures the extent to which a distribution is \"lopsided\" or not symmetric around its mean.\\n\\nIf a distribution is symmetric, it has zero skewness.\\nHowever, if the distribution has a tail that extends further to one side than the other, \\nit is said to be skewed. In a positively skewed distribution, \\nthe tail extends further to the right, while in a negatively skewed distribution, \\nthe tail extends further to the left.\\n\\nSkewness is important in data analysis because it can affect the choice of statistical tests, \\nthe interpretation of results, and the accuracy of models. \\nFor example, if the data is highly skewed, it may be more appropriate to use non-parametric tests instead of parametric \\ntests that assume a normal distribution. \\nSkewness can also affect the choice of model and the estimation of parameters in statistical models.\\n\\nSkewness can be measured using various statistical measures, \\nsuch as the skewness coefficient, which is a standardized measure of skewness. \\nSkewness can also be visualized using graphical tools such as histograms, box plots, and density plots\\n'"
            ],
            "application/vnd.google.colaboratory.intrinsic+json": {
              "type": "string"
            }
          },
          "metadata": {},
          "execution_count": 10
        }
      ]
    },
    {
      "cell_type": "code",
      "source": [
        "# Ans no9\n",
        "logging.info(\"answering the question no9\")\n",
        "\n",
        "\"\"\"\n",
        "If a data set is right skewed,\n",
        " the median will be less than the mean.\n",
        "  This is because in a right-skewed distribution, \n",
        "  the tail of the distribution extends further towards the higher values, \n",
        "  pulling the mean to the right (higher values) of the median.\n",
        "\n",
        "For example, consider the following data set of 10 numbers: \n",
        "1, 2, 3, 4, 5, 6, 7, 8, 9, 20. \n",
        "The mean of this data set is (1+2+3+4+5+6+7+8+9+20)/10 = 6.5, \n",
        "while the median is the middle value, \n",
        "which is 5. \n",
        "In this case, the mean is higher than the median, \n",
        "because the presence of the extreme value of 20 pulls the mean towards the right. \n",
        "This distribution is right-skewed because of the presence of the extreme value.\n",
        "\"\"\"\n"
      ],
      "metadata": {
        "id": "DRucG4Ghe_LR",
        "colab": {
          "base_uri": "https://localhost:8080/",
          "height": 88
        },
        "outputId": "cac3ee26-72b4-4f6c-ee79-ce965aa01745"
      },
      "execution_count": 11,
      "outputs": [
        {
          "output_type": "execute_result",
          "data": {
            "text/plain": [
              "'\\nIf a data set is right skewed,\\n the median will be less than the mean.\\n  This is because in a right-skewed distribution, \\n  the tail of the distribution extends further towards the higher values, \\n  pulling the mean to the right (higher values) of the median.\\n\\nFor example, consider the following data set of 10 numbers: \\n1, 2, 3, 4, 5, 6, 7, 8, 9, 20. \\nThe mean of this data set is (1+2+3+4+5+6+7+8+9+20)/10 = 6.5, \\nwhile the median is the middle value, \\nwhich is 5. \\nIn this case, the mean is higher than the median, \\nbecause the presence of the extreme value of 20 pulls the mean towards the right. \\nThis distribution is right-skewed because of the presence of the extreme value.\\n'"
            ],
            "application/vnd.google.colaboratory.intrinsic+json": {
              "type": "string"
            }
          },
          "metadata": {},
          "execution_count": 11
        }
      ]
    },
    {
      "cell_type": "code",
      "source": [
        "# Ans no10\n",
        "logging.info(\"answering the question no10\")\n",
        "\n",
        "'''\n",
        "Covariance and correlation are two statistical measures that describe the relationship between two variables.\n",
        "\n",
        "Covariance is a measure of how much two variables change together. \n",
        "It is a measure of the degree to which two variables vary together. \n",
        "A positive covariance means that the two variables tend to increase or decrease together, \n",
        "while a negative covariance means that one variable tends to increase when the other variable decreases.\n",
        "\n",
        "Correlation is a standardized measure of the strength and direction of the linear relationship between two variables. \n",
        "Correlation measures how closely two variables are related, and ranges from -1 to 1, where -1 represents a perfectly negative correlation, \n",
        "0 represents no correlation, and 1 represents a perfectly positive correlation.\n",
        "'''"
      ],
      "metadata": {
        "id": "2eK1E148fKZZ",
        "colab": {
          "base_uri": "https://localhost:8080/",
          "height": 105
        },
        "outputId": "44e42c5a-fcfe-4ca4-9b69-ce4e9d202ccf"
      },
      "execution_count": 12,
      "outputs": [
        {
          "output_type": "execute_result",
          "data": {
            "text/plain": [
              "'\\nCovariance and correlation are two statistical measures that describe the relationship between two variables.\\n\\nCovariance is a measure of how much two variables change together. \\nIt is a measure of the degree to which two variables vary together. \\nA positive covariance means that the two variables tend to increase or decrease together, \\nwhile a negative covariance means that one variable tends to increase when the other variable decreases.\\n\\nCorrelation is a standardized measure of the strength and direction of the linear relationship between two variables. \\nCorrelation measures how closely two variables are related, and ranges from -1 to 1, where -1 represents a perfectly negative correlation, \\n0 represents no correlation, and 1 represents a perfectly positive correlation.\\n'"
            ],
            "application/vnd.google.colaboratory.intrinsic+json": {
              "type": "string"
            }
          },
          "metadata": {},
          "execution_count": 12
        }
      ]
    },
    {
      "cell_type": "code",
      "source": [
        "# Ans no11\n",
        "logging.info(\"answering the question no11\")\n",
        "'''\n",
        "The formula for calculating the sample mean is:\n",
        "\n",
        "sample mean = (sum of all values in the sample) / (number of values in the sample)\n",
        "\n",
        "In mathematical notation, this can be represented as:\n",
        "\n",
        "x̄ = Σxi / n\n",
        "\n",
        "Where x̄ is the sample mean, Σxi is the sum of all values in the sample, and n is the number of values in the sample.\n",
        "\n",
        "Here's an example calculation for a dataset:\n",
        "\n",
        "Consider a dataset of 10 numbers: 1, 2, 3, 4, 5, 6, 7, 8, 9, 10.\n",
        "\n",
        "To calculate the sample mean, we first add up all the values in the dataset:\n",
        "\n",
        "1 + 2 + 3 + 4 + 5 + 6 + 7 + 8 + 9 + 10 = 55\n",
        "\n",
        "Next, we divide the sum by the number of values in the dataset, which is 10:\n",
        "\n",
        "55 / 10 = 5.5\n",
        "\n",
        "Therefore, the sample mean of the dataset is 5.5.\n",
        "'''\n"
      ],
      "metadata": {
        "colab": {
          "base_uri": "https://localhost:8080/",
          "height": 88
        },
        "id": "_5VcFoKwiCqG",
        "outputId": "edb80556-f2e9-4ffd-a5bf-7ceb20973c61"
      },
      "execution_count": 13,
      "outputs": [
        {
          "output_type": "execute_result",
          "data": {
            "text/plain": [
              "\"\\nThe formula for calculating the sample mean is:\\n\\nsample mean = (sum of all values in the sample) / (number of values in the sample)\\n\\nIn mathematical notation, this can be represented as:\\n\\nx̄ = Σxi / n\\n\\nWhere x̄ is the sample mean, Σxi is the sum of all values in the sample, and n is the number of values in the sample.\\n\\nHere's an example calculation for a dataset:\\n\\nConsider a dataset of 10 numbers: 1, 2, 3, 4, 5, 6, 7, 8, 9, 10.\\n\\nTo calculate the sample mean, we first add up all the values in the dataset:\\n\\n1 + 2 + 3 + 4 + 5 + 6 + 7 + 8 + 9 + 10 = 55\\n\\nNext, we divide the sum by the number of values in the dataset, which is 10:\\n\\n55 / 10 = 5.5\\n\\nTherefore, the sample mean of the dataset is 5.5.\\n\""
            ],
            "application/vnd.google.colaboratory.intrinsic+json": {
              "type": "string"
            }
          },
          "metadata": {},
          "execution_count": 13
        }
      ]
    },
    {
      "cell_type": "code",
      "source": [
        "# Ans no12\n",
        "\n",
        "logging.info(\"writing the answer no 12\")\n",
        "'''\n",
        "For a normal distribution, the mean, median, and mode are equal.\n",
        "This means that the measure of central tendency is at the center of the distribution, \n",
        "and is a representative value that summarizes the entire dataset.\n",
        "\n",
        "In a normal distribution, the data is symmetrically distributed around the mean, \n",
        "with most of the values falling within one standard deviation of the mean. \n",
        "This is why the mean, median, and mode are all located at the center of the distribution.\n",
        "\n",
        "The fact that the mean, median, and mode are equal in a normal distribution is a property of the normal distribution, \n",
        "and is not true for all distributions. In non-normal distributions, the mean, median, and mode may be located at different points, \n",
        "indicating a different pattern of distribution for the data.\n",
        "\n",
        "'''"
      ],
      "metadata": {
        "colab": {
          "base_uri": "https://localhost:8080/",
          "height": 105
        },
        "id": "5FNT2GbbiH3l",
        "outputId": "03c182de-e42a-4a97-e9d6-043061c8b43a"
      },
      "execution_count": 17,
      "outputs": [
        {
          "output_type": "execute_result",
          "data": {
            "text/plain": [
              "'\\nFor a normal distribution, the mean, median, and mode are equal.\\nThis means that the measure of central tendency is at the center of the distribution, \\nand is a representative value that summarizes the entire dataset.\\n\\nIn a normal distribution, the data is symmetrically distributed around the mean, \\nwith most of the values falling within one standard deviation of the mean. \\nThis is why the mean, median, and mode are all located at the center of the distribution.\\n\\nThe fact that the mean, median, and mode are equal in a normal distribution is a property of the normal distribution, \\nand is not true for all distributions. In non-normal distributions, the mean, median, and mode may be located at different points, \\nindicating a different pattern of distribution for the data.\\n\\n'"
            ],
            "application/vnd.google.colaboratory.intrinsic+json": {
              "type": "string"
            }
          },
          "metadata": {},
          "execution_count": 17
        }
      ]
    },
    {
      "cell_type": "code",
      "source": [
        "# Ans no13\n",
        "logging.info(\"writing the answer no13\")\n",
        "\n",
        "'''\n",
        "Covariance and correlation are two measures of the relationship between two variables.\n",
        "\n",
        "Covariance measures the degree to which two variables vary together. \n",
        "It indicates the direction of the relationship between two variables, \n",
        "but does not indicate the strength of the relationship. \n",
        "A positive covariance means that the two variables tend to increase or decrease together, \n",
        "while a negative covariance means that one variable tends to increase when the other variable decreases. \n",
        "However, the magnitude of the covariance depends on the scale of the variables, \n",
        "and it is not standardized, \n",
        "so it cannot be used to compare the strength of the relationship between variables measured on different scales.\n",
        "\n",
        "Correlation, on the other hand, measures the strength and direction of the linear relationship between two variables,\n",
        "while controlling for the scale of the variables. It is a standardized measure that ranges from -1 to 1, where -1 represents a perfectly negative correlation,\n",
        "0 represents no correlation, and 1 represents a perfectly positive correlation. Correlation is always between -1 and 1, and is not affected by the scale of the variables.\n",
        "\n",
        "In summary, covariance measures the direction of the relationship between two variables, \n",
        "while correlation measures the strength and direction of the linear relationship between two variables,\n",
        " while controlling for the scale of the variables.\n",
        " '''"
      ],
      "metadata": {
        "colab": {
          "base_uri": "https://localhost:8080/",
          "height": 123
        },
        "id": "zKm2i9mvim1d",
        "outputId": "607f4d5f-fec0-49f2-e26d-27fecbd62437"
      },
      "execution_count": 18,
      "outputs": [
        {
          "output_type": "execute_result",
          "data": {
            "text/plain": [
              "'\\nCovariance and correlation are two measures of the relationship between two variables.\\n\\nCovariance measures the degree to which two variables vary together. \\nIt indicates the direction of the relationship between two variables, \\nbut does not indicate the strength of the relationship. \\nA positive covariance means that the two variables tend to increase or decrease together, \\nwhile a negative covariance means that one variable tends to increase when the other variable decreases. \\nHowever, the magnitude of the covariance depends on the scale of the variables, \\nand it is not standardized, \\nso it cannot be used to compare the strength of the relationship between variables measured on different scales.\\n\\nCorrelation, on the other hand, measures the strength and direction of the linear relationship between two variables,\\nwhile controlling for the scale of the variables. It is a standardized measure that ranges from -1 to 1, where -1 represents a perfectly negative correlation,\\n0 represents no correlation, and 1 represents a perfectly positive correlation. Correlation is always between -1 and 1, and is not affected by the scale of the variables.\\n\\nIn summary, covariance measures the direction of the relationship between two variables, \\nwhile correlation measures the strength and direction of the linear relationship between two variables,\\n while controlling for the scale of the variables.\\n '"
            ],
            "application/vnd.google.colaboratory.intrinsic+json": {
              "type": "string"
            }
          },
          "metadata": {},
          "execution_count": 18
        }
      ]
    },
    {
      "cell_type": "code",
      "source": [
        "# Ans no14\n",
        "\n",
        "logging.info(\"writing the answer no14\")\n",
        "\n",
        "'''\n",
        "Outliers are extreme values that fall outside the typical range of values in a dataset. \n",
        "Outliers can have a significant impact on measures of central tendency, \n",
        "such as the mean and median, as well as measures of dispersion, such as the standard deviation and range.\n",
        "\n",
        "For example, consider a dataset of exam scores for a class of 20 students:\n",
        "\n",
        "80, 82, 85, 86, 87, 88, 89, 90, 91, 92, 93, 94, 95, 96, 97, 98, 99, 100, 150, 200\n",
        "\n",
        "In this dataset, 150 and 200 are outliers because they are much larger than the rest of the scores. \n",
        "If we calculate the mean score for this dataset, \n",
        "the outliers will pull the mean higher than it would be without them. \n",
        "In this case, the mean score is:\n",
        "\n",
        "(80 + 82 + 85 + 86 + 87 + 88 + 89 + 90 + 91 + 92 + 93 + 94 + 95 + 96 + 97 + 98 + 99 + 100 + 150 + 200) / 20 = 106.6\n",
        "\n",
        "However, the median score is not affected by the outliers, \n",
        "and is a more appropriate measure of central tendency in this case. The median score is:\n",
        "\n",
        "(90 + 91) / 2 = 90.5\n",
        "\n",
        "Outliers can also increase the range and standard deviation of a dataset.\n",
        "'''"
      ],
      "metadata": {
        "colab": {
          "base_uri": "https://localhost:8080/",
          "height": 123
        },
        "id": "m6YHghkMjLZQ",
        "outputId": "3c7d721d-1431-4eb6-ec14-d160f9657cff"
      },
      "execution_count": 16,
      "outputs": [
        {
          "output_type": "execute_result",
          "data": {
            "text/plain": [
              "'\\nOutliers are extreme values that fall outside the typical range of values in a dataset. \\nOutliers can have a significant impact on measures of central tendency, \\nsuch as the mean and median, as well as measures of dispersion, such as the standard deviation and range.\\n\\nFor example, consider a dataset of exam scores for a class of 20 students:\\n\\n80, 82, 85, 86, 87, 88, 89, 90, 91, 92, 93, 94, 95, 96, 97, 98, 99, 100, 150, 200\\n\\nIn this dataset, 150 and 200 are outliers because they are much larger than the rest of the scores. \\nIf we calculate the mean score for this dataset, \\nthe outliers will pull the mean higher than it would be without them. \\nIn this case, the mean score is:\\n\\n(80 + 82 + 85 + 86 + 87 + 88 + 89 + 90 + 91 + 92 + 93 + 94 + 95 + 96 + 97 + 98 + 99 + 100 + 150 + 200) / 20 = 106.6\\n\\nHowever, the median score is not affected by the outliers, \\nand is a more appropriate measure of central tendency in this case. The median score is:\\n\\n(90 + 91) / 2 = 90.5\\n\\nOutliers can also increase the range and standard deviation of a dataset.\\n'"
            ],
            "application/vnd.google.colaboratory.intrinsic+json": {
              "type": "string"
            }
          },
          "metadata": {},
          "execution_count": 16
        }
      ]
    }
  ]
}