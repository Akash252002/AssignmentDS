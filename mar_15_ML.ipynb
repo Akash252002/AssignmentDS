{
  "nbformat": 4,
  "nbformat_minor": 0,
  "metadata": {
    "colab": {
      "provenance": []
    },
    "kernelspec": {
      "name": "python3",
      "display_name": "Python 3"
    },
    "language_info": {
      "name": "python"
    }
  },
  "cells": [
    {
      "cell_type": "code",
      "source": [
        "import logging\n",
        "\n",
        "logging.basicConfig(filename='15mar.log',level=logging.INFO)"
      ],
      "metadata": {
        "id": "iihtBLopnh10"
      },
      "execution_count": 8,
      "outputs": []
    },
    {
      "cell_type": "code",
      "execution_count": 9,
      "metadata": {
        "colab": {
          "base_uri": "https://localhost:8080/",
          "height": 123
        },
        "id": "CCA6HY0tlqnz",
        "outputId": "c8ca6958-a751-497a-f59d-fb71e7cb8452"
      },
      "outputs": [
        {
          "output_type": "execute_result",
          "data": {
            "text/plain": [
              "'Artificial Intelligence (AI): AI refers to the simulation of human intelligence in machines that are programmed to mimic human cognitive abilities such as learning, reasoning, problem-solving, perception, and decision making. AI algorithms are designed to process and analyze data to recognize patterns, make predictions, and take actions based on that analysis. AI is used in a wide range of applications, from chatbots and virtual assistants to self-driving cars and medical diagnosis.\\n\\nMachine Learning (ML): Machine learning is a subset of AI that focuses on the development of algorithms that enable machines to learn and improve from experience. Rather than being explicitly programmed, these algorithms use statistical models to analyze data, identify patterns, and make predictions or decisions. Machine learning is often used in applications such as image recognition, natural language processing, and fraud detection.\\n\\nDeep Learning (DL): Deep learning is a type of machine learning that uses neural networks with multiple layers to process and analyze data. Deep learning algorithms are designed to learn and extract high-level features from raw data, such as images, audio, or text. This technique has shown remarkable success in applications such as computer vision, speech recognition, and natural language processing. Deep learning is a subset of machine learning, which is itself a subset of AI.'"
            ],
            "application/vnd.google.colaboratory.intrinsic+json": {
              "type": "string"
            }
          },
          "metadata": {},
          "execution_count": 9
        }
      ],
      "source": [
        "# Ans no1\n",
        "\n",
        "logging.info(\"explaining the AI,ML,DL\")\n",
        "'''Artificial Intelligence (AI): AI refers to the simulation of human intelligence in machines that are programmed to mimic human cognitive abilities such as learning,\n",
        " reasoning, problem-solving, perception, and decision making. \n",
        " AI algorithms are designed to process and analyze data to recognize patterns,\n",
        " make predictions, and take actions based on that analysis.\n",
        " \n",
        "  AI is used in a wide range of applications, from chatbots and virtual assistants to self-driving cars and medical diagnosis.\n",
        "\n",
        "Machine Learning (ML): Machine learning is a subset of AI that focuses on the development of algorithms \n",
        "that enable machines to learn and improve from experience. \n",
        "Rather than being explicitly programmed, these algorithms use statistical models to analyze data, identify patterns, \n",
        "and make predictions or decisions. Machine learning is often used in applications such as image recognition, \n",
        "natural language processing, and fraud detection.\n",
        "\n",
        "Deep Learning (DL): Deep learning is a type of machine learning that uses neural networks with multiple layers to process and analyze data. \n",
        "Deep learning algorithms are designed to learn and extract high-level features from raw data, \n",
        "such as images, audio, or text. This technique has shown remarkable success in applications such as computer vision, speech recognition, and natural language processing. \n",
        "Deep learning is a subset of machine learning, which is itself a subset of AI.\n",
        "'''"
      ]
    },
    {
      "cell_type": "code",
      "source": [
        "# Ans no2\n",
        "\n",
        "logging.info(\"explaining the supervised learning\")\n",
        "\n",
        "\n",
        "'''Supervised learning is a type of machine learning where the algorithm learns to map input data to output labels based on a set of labeled training examples.\n",
        "In supervised learning, the algorithm is provided with both input data and corresponding output labels, and it learns to predict the correct output label for new input data.\n",
        "\n",
        "Here are some examples of supervised learning:\n",
        "\n",
        "Image classification: Given a set of labeled images, the algorithm learns to classify new images into one of the predefined categories, such as \"cat\" or \"dog\".\n",
        "\n",
        "Sentiment analysis: Given a set of labeled text data, the algorithm learns to predict the sentiment of new text data,\n",
        "such as whether a movie review is positive or negative.\n",
        "\n",
        "Spam filtering: Given a set of labeled emails, the algorithm learns to classify new emails as either spam or non-spam.\n",
        "\n",
        "Regression: Given a set of labeled data, the algorithm learns to predict a continuous output value, such as predicting the price of a house based on its features.\n",
        "\n",
        "Language translation: Given a set of paired sentences in different languages, the algorithm learns to translate new sentences from one language to another.\n",
        "\n",
        "Fraud detection: Given a set of labeled transactions, the algorithm learns to predict whether a new transaction is fraudulent or not.'''"
      ],
      "metadata": {
        "colab": {
          "base_uri": "https://localhost:8080/",
          "height": 123
        },
        "id": "5OmtVVkomy5E",
        "outputId": "9cd26023-7e69-42a2-b8ff-32a2c44c7176"
      },
      "execution_count": 2,
      "outputs": [
        {
          "output_type": "execute_result",
          "data": {
            "text/plain": [
              "'upervised learning is a type of machine learning where the algorithm learns to map input data to output labels based on a set of labeled training examples. In supervised learning, the algorithm is provided with both input data and corresponding output labels, and it learns to predict the correct output label for new input data.\\n\\nHere are some examples of supervised learning:\\n\\nImage classification: Given a set of labeled images, the algorithm learns to classify new images into one of the predefined categories, such as \"cat\" or \"dog\".\\n\\nSentiment analysis: Given a set of labeled text data, the algorithm learns to predict the sentiment of new text data, such as whether a movie review is positive or negative.\\n\\nSpam filtering: Given a set of labeled emails, the algorithm learns to classify new emails as either spam or non-spam.\\n\\nRegression: Given a set of labeled data, the algorithm learns to predict a continuous output value, such as predicting the price of a house based on its features.\\n\\nLanguage translation: Given a set of paired sentences in different languages, the algorithm learns to translate new sentences from one language to another.\\n\\nFraud detection: Given a set of labeled transactions, the algorithm learns to predict whether a new transaction is fraudulent or not.'"
            ],
            "application/vnd.google.colaboratory.intrinsic+json": {
              "type": "string"
            }
          },
          "metadata": {},
          "execution_count": 2
        }
      ]
    },
    {
      "cell_type": "code",
      "source": [
        "# Ans no3\n",
        "logging.info(\"explaining the unsupervised machine learning\")\n",
        "\n",
        "'''Unsupervised learning is a type of machine learning where the algorithm learns to identify patterns and structure in unlabeled data without\n",
        " being given explicit output labels. In unsupervised learning, the algorithm is only provided with input data and must discover its own structure or features from that data.\n",
        "\n",
        "Here are some examples of unsupervised learning:\n",
        "\n",
        "Clustering: Given a set of unlabeled data points, the algorithm learns to group similar data points together into clusters.\n",
        "\n",
        "Anomaly detection: Given a set of data points, the algorithm learns to identify data points that are unusual or different from the rest.\n",
        "\n",
        "Dimensionality reduction: Given a high-dimensional dataset, the algorithm learns to reduce the number of dimensions while preserving the most important features.\n",
        "\n",
        "Generative modeling: Given a set of data points, the algorithm learns to generate new data points that have similar characteristics to the original data.\n",
        "\n",
        "Topic modeling: Given a set of text documents, the algorithm learns to identify common topics and group related documents together.\n",
        "\n",
        "Recommendation systems: Given a set of user-item interactions, the algorithm learns to recommend new items to users based on their past interactions.'''"
      ],
      "metadata": {
        "colab": {
          "base_uri": "https://localhost:8080/",
          "height": 123
        },
        "id": "KX1PiCO3m5kk",
        "outputId": "0a58fe10-bedb-41e7-d361-70bc804ce307"
      },
      "execution_count": 3,
      "outputs": [
        {
          "output_type": "execute_result",
          "data": {
            "text/plain": [
              "'Unsupervised learning is a type of machine learning where the algorithm learns to identify patterns and structure in unlabeled data without being given explicit output labels. In unsupervised learning, the algorithm is only provided with input data and must discover its own structure or features from that data.\\n\\nHere are some examples of unsupervised learning:\\n\\nClustering: Given a set of unlabeled data points, the algorithm learns to group similar data points together into clusters.\\n\\nAnomaly detection: Given a set of data points, the algorithm learns to identify data points that are unusual or different from the rest.\\n\\nDimensionality reduction: Given a high-dimensional dataset, the algorithm learns to reduce the number of dimensions while preserving the most important features.\\n\\nGenerative modeling: Given a set of data points, the algorithm learns to generate new data points that have similar characteristics to the original data.\\n\\nTopic modeling: Given a set of text documents, the algorithm learns to identify common topics and group related documents together.\\n\\nRecommendation systems: Given a set of user-item interactions, the algorithm learns to recommend new items to users based on their past interactions.'"
            ],
            "application/vnd.google.colaboratory.intrinsic+json": {
              "type": "string"
            }
          },
          "metadata": {},
          "execution_count": 3
        }
      ]
    },
    {
      "cell_type": "code",
      "source": [
        "# Ans no4\n",
        "\n",
        "logging.info(\"explaining the difference b/w AI, ML, DL, and DS \")\n",
        "\n",
        "'''AI, ML, DL, and DS are all related concepts but have different meanings and applications.\n",
        "\n",
        "Artificial Intelligence (AI) is a broader concept that refers to the simulation of human intelligence in machines. \n",
        "It includes various techniques such as machine learning, deep learning, natural language processing, computer vision, robotics, and more.\n",
        "AI algorithms are designed to analyze data, recognize patterns, make predictions, and take actions based on that analysis.\n",
        "\n",
        "Machine Learning (ML) is a subset of AI that focuses on developing algorithms that enable machines to learn and improve from experience. \n",
        "ML algorithms are designed to identify patterns in data and use those patterns to make predictions or decisions. \n",
        "Examples of ML algorithms include decision trees, random forests, and neural networks.\n",
        "\n",
        "Deep Learning (DL) is a subset of ML that uses neural networks with multiple layers to process and analyze data. \n",
        "DL algorithms are designed to learn and extract high-level features from raw data, \n",
        "such as images, audio, or text. This technique has shown remarkable success in applications such as computer vision, speech recognition, and natural language processing.\n",
        "\n",
        "Data Science (DS) is a multidisciplinary field that involves using scientific methods, processes, algorithms, and systems to extract insights and knowledge from data. \n",
        "It encompasses a wide range of techniques and tools from statistics, mathematics, computer science, and domain-specific knowledge. \n",
        "Data scientists use various techniques such as data mining, machine learning, and statistical modeling to analyze and interpret data.\n",
        "\n",
        "In summary, AI is a broader concept that includes ML, DL, and other techniques.\n",
        "ML is a subset of AI that focuses on developing algorithms that enable machines to learn and improve from experience. \n",
        "DL is a subset of ML that uses neural networks with multiple layers to process and analyze data.\n",
        "DS is a multidisciplinary field that involves using scientific methods and techniques to extract insights and knowledge from data.\n",
        "'''"
      ],
      "metadata": {
        "colab": {
          "base_uri": "https://localhost:8080/",
          "height": 123
        },
        "id": "E4xlsBWmm_0H",
        "outputId": "12be6cab-61d2-4666-f2b9-d7464e8cfddb"
      },
      "execution_count": 10,
      "outputs": [
        {
          "output_type": "execute_result",
          "data": {
            "text/plain": [
              "'AI, ML, DL, and DS are all related concepts but have different meanings and applications.\\n\\nArtificial Intelligence (AI) is a broader concept that refers to the simulation of human intelligence in machines. \\nIt includes various techniques such as machine learning, deep learning, natural language processing, computer vision, robotics, and more.\\nAI algorithms are designed to analyze data, recognize patterns, make predictions, and take actions based on that analysis.\\n\\nMachine Learning (ML) is a subset of AI that focuses on developing algorithms that enable machines to learn and improve from experience. \\nML algorithms are designed to identify patterns in data and use those patterns to make predictions or decisions. \\nExamples of ML algorithms include decision trees, random forests, and neural networks.\\n\\nDeep Learning (DL) is a subset of ML that uses neural networks with multiple layers to process and analyze data. \\nDL algorithms are designed to learn and extract high-level features from raw data, \\nsuch as images, audio, or text. This technique has shown remarkable success in applications such as computer vision, speech recognition, and natural language processing.\\n\\nData Science (DS) is a multidisciplinary field that involves using scientific methods, processes, algorithms, and systems to extract insights and knowledge from data. \\nIt encompasses a wide range of techniques and tools from statistics, mathematics, computer science, and domain-specific knowledge. \\nData scientists use various techniques such as data mining, machine learning, and statistical modeling to analyze and interpret data.\\n\\nIn summary, AI is a broader concept that includes ML, DL, and other techniques.\\nML is a subset of AI that focuses on developing algorithms that enable machines to learn and improve from experience. \\nDL is a subset of ML that uses neural networks with multiple layers to process and analyze data.\\nDS is a multidisciplinary field that involves using scientific methods and techniques to extract insights and knowledge from data.\\n'"
            ],
            "application/vnd.google.colaboratory.intrinsic+json": {
              "type": "string"
            }
          },
          "metadata": {},
          "execution_count": 10
        }
      ]
    },
    {
      "cell_type": "code",
      "source": [
        "# Ans no5\n",
        "\n",
        "logging.info(\"main differences between supervised, unsupervised, and semi-supervised learnin\")\n",
        "\n",
        "'''The main differences between supervised, unsupervised, and semi-supervised learning are as follows:\n",
        "\n",
        "Supervised Learning: In supervised learning, the algorithm is provided with labeled input data and output labels. \n",
        "The algorithm learns to map input data to output labels based on the provided labeled data. \n",
        "The goal is to learn a mapping function that can accurately predict output labels for new, unseen input data.\n",
        "\n",
        "Unsupervised Learning: In unsupervised learning, the algorithm is provided with input data but without any corresponding output labels. \n",
        "The algorithm learns to identify patterns and structure in the input data and group similar data points together. \n",
        "The goal is to find interesting patterns and insights in the data without any prior knowledge or guidance.\n",
        "\n",
        "Semi-Supervised Learning: In semi-supervised learning, the algorithm is provided with a combination of labeled and unlabeled data. \n",
        "The algorithm uses the labeled data to learn a mapping function between input data and output labels, \n",
        "and then uses the unlabeled data to improve the accuracy of the mapping function. \n",
        "The goal is to leverage the benefits of both supervised and unsupervised learning to improve the accuracy of the final model.\n",
        "\n",
        "Some additional differences between these types of learning include:\n",
        "\n",
        "Supervised learning is used when the output labels are known, while unsupervised learning is used when there is no prior knowledge about the output.\n",
        "In supervised learning, the algorithm is trained on labeled data, while in unsupervised learning, the algorithm is trained on unlabeled data.\n",
        "Semi-supervised learning is used when labeled data is expensive or difficult to obtain, but unlabeled data is readily available.\n",
        "Supervised learning is typically used for classification and regression tasks, while unsupervised learning is used for clustering and dimensionality reduction tasks.\n",
        "Semi-supervised learning is used in applications such as natural language processing, computer vision, and speech recognition.'''"
      ],
      "metadata": {
        "colab": {
          "base_uri": "https://localhost:8080/",
          "height": 123
        },
        "id": "2wfBETFRnLXM",
        "outputId": "a50d13cb-6d77-45df-f845-4d1dbed4efb9"
      },
      "execution_count": 11,
      "outputs": [
        {
          "output_type": "execute_result",
          "data": {
            "text/plain": [
              "'The main differences between supervised, unsupervised, and semi-supervised learning are as follows:\\n\\nSupervised Learning: In supervised learning, the algorithm is provided with labeled input data and output labels. \\nThe algorithm learns to map input data to output labels based on the provided labeled data. \\nThe goal is to learn a mapping function that can accurately predict output labels for new, unseen input data.\\n\\nUnsupervised Learning: In unsupervised learning, the algorithm is provided with input data but without any corresponding output labels. \\nThe algorithm learns to identify patterns and structure in the input data and group similar data points together. \\nThe goal is to find interesting patterns and insights in the data without any prior knowledge or guidance.\\n\\nSemi-Supervised Learning: In semi-supervised learning, the algorithm is provided with a combination of labeled and unlabeled data. \\nThe algorithm uses the labeled data to learn a mapping function between input data and output labels, \\nand then uses the unlabeled data to improve the accuracy of the mapping function. \\nThe goal is to leverage the benefits of both supervised and unsupervised learning to improve the accuracy of the final model.\\n\\nSome additional differences between these types of learning include:\\n\\nSupervised learning is used when the output labels are known, while unsupervised learning is used when there is no prior knowledge about the output.\\nIn supervised learning, the algorithm is trained on labeled data, while in unsupervised learning, the algorithm is trained on unlabeled data.\\nSemi-supervised learning is used when labeled data is expensive or difficult to obtain, but unlabeled data is readily available.\\nSupervised learning is typically used for classification and regression tasks, while unsupervised learning is used for clustering and dimensionality reduction tasks.\\nSemi-supervised learning is used in applications such as natural language processing, computer vision, and speech recognition.'"
            ],
            "application/vnd.google.colaboratory.intrinsic+json": {
              "type": "string"
            }
          },
          "metadata": {},
          "execution_count": 11
        }
      ]
    },
    {
      "cell_type": "code",
      "source": [
        "# Ans no6\n",
        "\n",
        "logging.info(\"explaining the train ,test,validation\")\n",
        "\n",
        "'''In machine learning, the process of building a model involves dividing the dataset into three parts: training set, validation set, and test set. \n",
        "This process is known as train-test-validation split.\n",
        "\n",
        "The importance of each of these sets is as follows:\n",
        "\n",
        "Training set: The training set is used to fit the model and learn the underlying patterns in the data. \n",
        "It is important to have a large and representative training set to ensure that the model learns the most relevant patterns and can generalize well to new data.\n",
        "\n",
        "Validation set: The validation set is used to evaluate the performance of the model during training. \n",
        "It is important to have a validation set to monitor the model's performance and make sure it is not overfitting the training data.\n",
        "Overfitting occurs when the model becomes too complex and fits the training data too closely, resulting in poor performance on new data.\n",
        "\n",
        "Test set: The test set is used to evaluate the performance of the final model. \n",
        "It is important to have a separate test set to estimate the model's performance on new, unseen data. \n",
        "If the model performs well on the test set, it is likely to perform well on new data in the real world.\n",
        "\n",
        "Overall, the train-test-validation split is important in machine learning to ensure that the model is trained on the most representative and relevant data,\n",
        " and that its performance is evaluated objectively and accurately.\n",
        " '''"
      ],
      "metadata": {
        "colab": {
          "base_uri": "https://localhost:8080/",
          "height": 123
        },
        "id": "WrODKYernRL_",
        "outputId": "06b86a10-50eb-43d1-9237-08837d8c30d8"
      },
      "execution_count": 6,
      "outputs": [
        {
          "output_type": "execute_result",
          "data": {
            "text/plain": [
              "\"n machine learning, the process of building a model involves dividing the dataset into three parts: training set, validation set, and test set. This process is known as train-test-validation split.\\n\\nTraining Set: The training set is a subset of the dataset used to train the machine learning model. This is the data used to fit the model and learn the underlying patterns in the data.\\n\\nValidation Set: The validation set is a subset of the dataset used to evaluate the performance of the model during training. The purpose of the validation set is to provide an unbiased evaluation of the model's performance while it is being trained.\\n\\nTest Set: The test set is a subset of the dataset used to evaluate the performance of the final model. The test set is used to estimate how well the model is likely to perform on new, unseen data.\\n\\nThe importance of each of these sets is as follows:\\n\\nTraining set: The training set is used to fit the model and learn the underlying patterns in the data. It is important to have a large and representative training set to ensure that the model learns the most relevant patterns and can generalize well to new data.\\n\\nValidation set: The validation set is used to evaluate the performance of the model during training. It is important to have a validation set to monitor the model's performance and make sure it is not overfitting the training data. Overfitting occurs when the model becomes too complex and fits the training data too closely, resulting in poor performance on new data.\\n\\nTest set: The test set is used to evaluate the performance of the final model. It is important to have a separate test set to estimate the model's performance on new, unseen data. If the model performs well on the test set, it is likely to perform well on new data in the real world.\\n\\nOverall, the train-test-validation split is important in machine learning to ensure that the model is trained on the most representative and relevant data, and that its performance is evaluated objectively and accurately.\""
            ],
            "application/vnd.google.colaboratory.intrinsic+json": {
              "type": "string"
            }
          },
          "metadata": {},
          "execution_count": 6
        }
      ]
    },
    {
      "cell_type": "code",
      "source": [
        "\n",
        "# Ans  no7\n",
        "\n",
        "logging.info(\" explaining Unsupervised learning can be used for anomaly detection\")\n",
        "\n",
        "'''\n",
        "Unsupervised learning can be used for anomaly detection, \n",
        "which involves identifying data points that deviate significantly from the normal or expected pattern. \n",
        "Anomaly detection is an important application in many fields, including fraud detection, intrusion detection, and fault detection in industrial systems.\n",
        "\n",
        "One approach to using unsupervised learning for anomaly detection is to use clustering algorithms.\n",
        "Clustering algorithms group similar data points together based on their similarity in the feature space. \n",
        "Anomalies can then be identified as data points that do not belong to any of the clusters or belong to small clusters with very few data points.\n",
        "\n",
        "Another approach is to use density-based methods such as DBSCAN (Density-Based Spatial Clustering of Applications with Noise).\n",
        "DBSCAN can identify regions of high-density in the data space, and data points that do not belong to any high-density region can be considered anomalies.\n",
        "\n",
        "In both cases, the unsupervised learning algorithm is trained on a dataset without any labeled anomalies, \n",
        "and the anomalies are identified based on their deviation from the normal pattern learned by the algorithm. \n",
        "The advantage of this approach is that it can identify anomalies that were not previously known or labeled, \n",
        "which is useful in cases where the anomalies are rare or constantly changing.\n",
        "\n",
        "However, it is important to note that unsupervised learning-based anomaly detection may generate false positives or miss some anomalies,\n",
        "and the results should be carefully evaluated and validated by domain experts. \n",
        "Additionally, the performance of unsupervised learning-based anomaly detection can be improved by incorporating prior knowledge \n",
        "or using semi-supervised approaches that combine labeled and unlabeled data.'''"
      ],
      "metadata": {
        "colab": {
          "base_uri": "https://localhost:8080/",
          "height": 123
        },
        "id": "dpNPFFyznTbu",
        "outputId": "10751cc9-3236-4cc1-d1c4-820ea7ab9ece"
      },
      "execution_count": 12,
      "outputs": [
        {
          "output_type": "execute_result",
          "data": {
            "text/plain": [
              "'\\nUnsupervised learning can be used for anomaly detection, \\nwhich involves identifying data points that deviate significantly from the normal or expected pattern. \\nAnomaly detection is an important application in many fields, including fraud detection, intrusion detection, and fault detection in industrial systems.\\n\\nOne approach to using unsupervised learning for anomaly detection is to use clustering algorithms.\\nClustering algorithms group similar data points together based on their similarity in the feature space. \\nAnomalies can then be identified as data points that do not belong to any of the clusters or belong to small clusters with very few data points.\\n\\nAnother approach is to use density-based methods such as DBSCAN (Density-Based Spatial Clustering of Applications with Noise).\\nDBSCAN can identify regions of high-density in the data space, and data points that do not belong to any high-density region can be considered anomalies.\\n\\nIn both cases, the unsupervised learning algorithm is trained on a dataset without any labeled anomalies, \\nand the anomalies are identified based on their deviation from the normal pattern learned by the algorithm. \\nThe advantage of this approach is that it can identify anomalies that were not previously known or labeled, \\nwhich is useful in cases where the anomalies are rare or constantly changing.\\n\\nHowever, it is important to note that unsupervised learning-based anomaly detection may generate false positives or miss some anomalies,\\nand the results should be carefully evaluated and validated by domain experts. \\nAdditionally, the performance of unsupervised learning-based anomaly detection can be improved by incorporating prior knowledge \\nor using semi-supervised approaches that combine labeled and unlabeled data.'"
            ],
            "application/vnd.google.colaboratory.intrinsic+json": {
              "type": "string"
            }
          },
          "metadata": {},
          "execution_count": 12
        }
      ]
    },
    {
      "cell_type": "code",
      "source": [
        "# Ans no8\n",
        "\n",
        "logging.info(\"writting the commonly used supervised learning algorithms and unsupervised learning algorithms.\")\n",
        "\n",
        "'''\n",
        "\n",
        "Supervised Learning Algorithms:\n",
        "\n",
        "Linear Regression\n",
        "Logistic Regression\n",
        "Decision Trees\n",
        "Random Forest\n",
        "Gradient Boosting Machines\n",
        "Support Vector Machines (SVM)\n",
        "Naive Bayes\n",
        "K-Nearest Neighbors (KNN)\n",
        "Artificial Neural Networks (ANN)\n",
        "\n",
        "\n",
        "Unsupervised Learning Algorithms:\n",
        "\n",
        "K-Means Clustering\n",
        "Hierarchical Clustering\n",
        "DBSCAN (Density-Based Spatial Clustering of Applications with Noise)\n",
        "Principal Component Analysis (PCA)\n",
        "Independent Component Analysis (ICA)\n",
        "Generative Adversarial Networks (GANs)\n",
        "Autoencoders\n",
        "t-SNE (t-Distributed Stochastic Neighbor Embedding)\n",
        "\n",
        "Note that this is not an exhaustive list and there are many other algorithms and variations \n",
        "within each of these categories. The choice of algorithm depends on the specific problem and data at hand,\n",
        "as well as the goals and constraints of the project'''"
      ],
      "metadata": {
        "colab": {
          "base_uri": "https://localhost:8080/",
          "height": 105
        },
        "id": "GjfVm6ofnYSx",
        "outputId": "edb6ff18-a196-4760-9e7c-f809cbf092d2"
      },
      "execution_count": 15,
      "outputs": [
        {
          "output_type": "execute_result",
          "data": {
            "text/plain": [
              "'\\n\\nSupervised Learning Algorithms:\\n\\nLinear Regression\\nLogistic Regression\\nDecision Trees\\nRandom Forest\\nGradient Boosting Machines\\nSupport Vector Machines (SVM)\\nNaive Bayes\\nK-Nearest Neighbors (KNN)\\nArtificial Neural Networks (ANN)\\n\\n\\nUnsupervised Learning Algorithms:\\n\\nK-Means Clustering\\nHierarchical Clustering\\nDBSCAN (Density-Based Spatial Clustering of Applications with Noise)\\nPrincipal Component Analysis (PCA)\\nIndependent Component Analysis (ICA)\\nGenerative Adversarial Networks (GANs)\\nAutoencoders\\nt-SNE (t-Distributed Stochastic Neighbor Embedding)\\n\\nNote that this is not an exhaustive list and there are many other algorithms and variations \\nwithin each of these categories. The choice of algorithm depends on the specific problem and data at hand,\\nas well as the goals and constraints of the project'"
            ],
            "application/vnd.google.colaboratory.intrinsic+json": {
              "type": "string"
            }
          },
          "metadata": {},
          "execution_count": 15
        }
      ]
    },
    {
      "cell_type": "code",
      "source": [],
      "metadata": {
        "id": "IdRCaxAO12Mz"
      },
      "execution_count": null,
      "outputs": []
    }
  ]
}