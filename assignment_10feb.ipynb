{
 "cells": [
  {
   "cell_type": "code",
   "execution_count": 15,
   "metadata": {},
   "outputs": [
    {
     "name": "stdout",
     "output_type": "stream",
     "text": [
      "{'Key': 'Value', 'a': 1, 'b': 2}\n",
      "b'\\x01\\x02\\t876'\n"
     ]
    }
   ],
   "source": [
    "# Ans no1\n",
    "\n",
    "'''open() is used to open any type of file\n",
    "The different modes of opening a file in Python are\n",
    "'r'\topen for reading (default)\n",
    "'w'\topen for writing, truncating the file first\n",
    "'x'\tcreate a new file and open it for writing\n",
    "'a'\topen for writing, appending to the end of the file if it exists\n",
    "'b'\tbinary mode\n",
    "'t'\ttext mode (default)\n",
    "'+'\topen a disk file for updating (reading and writing)\n",
    " '''\n",
    "import logging\n",
    "\n",
    "logging.basicConfig(filename=\"test.log\",level=logging.INFO,format='%(asctime)s%(message)') \n",
    "logging.info(\"this is strating of assignmt\")\n",
    "\n",
    "logging.info(\"writting the text file\")\n",
    "f=open(\"file.txt\",'w')\n",
    "f.write(\"hello i am writting/n\")\n",
    "\n",
    "logging.info(\"reading the json file\")\n",
    "f=open(\"file.txt\",'r')\n",
    "f.read()\n",
    "\n",
    "logging.info(\"apending the txt file\")\n",
    "f=open(\"file.txt\",'a')\n",
    "f.write(\"hello i am again writting\")\n",
    "\n",
    "import json\n",
    "data={'Key':'Value','a':1,'b':2}\n",
    "\n",
    "logging.info(\"writting the json file\")\n",
    "with open(\"test.json\",'w') as f:\n",
    "      json.dump(data,f)\n",
    "\n",
    "with open(\"test.json\",'r') as f:      \n",
    "     data=json.load(f)\n",
    "     print(data)     \n",
    "\n",
    "logging.info(\"writting the binary file\")\n",
    "with open(\"test.bin\",'wb') as f:\n",
    "      f.write(b\"\\x01\\x02\\x09876\")\n",
    "with open (\"test.bin\",'rb') as f:\n",
    "      print(f.read())\n"
   ]
  },
  {
   "cell_type": "code",
   "execution_count": null,
   "metadata": {},
   "outputs": [],
   "source": [
    "# Ans no2\n",
    "\n",
    "'''The close() function is used to close an open file in Python.\n",
    " When a file is opened in Python, a file object is created.\n",
    "Closing the file ensures that the file object is properly deallocated \n",
    "and that the file is properly saved and closed.\n",
    "\n",
    "Additionally, if you open a file, make changes to it, and forget to close it,\n",
    " those changes will not be saved. Closing the file flushes any data that may still be stored in memory to the disk, \n",
    " ensuring that all changes are saved and that the file is in a consistent state.\n",
    "\n",
    "In summary, it is a good practice to close a file as soon as you are done with it to free up resources,\n",
    " ensure that changes are saved, and prevent data corruption or loss.'''"
   ]
  },
  {
   "cell_type": "code",
   "execution_count": 43,
   "metadata": {},
   "outputs": [
    {
     "name": "stdout",
     "output_type": "stream",
     "text": [
      " I want to become a Data Scientist\n"
     ]
    }
   ],
   "source": [
    "# Ans no3\n",
    "\n",
    "logging.info(\"this is opening of file\")\n",
    "f=open(\"test.txt\",'w')\n",
    "f.write(\" I want to become a Data Scientist\")\n",
    "\n",
    "logging.info(\"this is closing of file\")\n",
    "f.close()\n",
    "\n",
    "f=open(\"test.txt\",'r')\n",
    "content = f.read()\n",
    "logging.info(\"this is reading of file\")\n",
    "print(content)"
   ]
  },
  {
   "cell_type": "code",
   "execution_count": null,
   "metadata": {},
   "outputs": [],
   "source": [
    "# Ans no4\n",
    "\n",
    "logging.info(\"abouth the close methode\")\n",
    "\n",
    "'''read(): This method reads the entire contents of a file and returns it as a single string.\n",
    "readline(): This method reads a single line from the file and returns it as a string.\n",
    "The method can be called repeatedly to read all the lines in the file.\n",
    "readlines(): This method reads all the lines in the file and returns them as a list of strings,\n",
    " where each string is a single line in the file.\n",
    "'''"
   ]
  },
  {
   "cell_type": "code",
   "execution_count": null,
   "metadata": {},
   "outputs": [],
   "source": [
    "# Ans no5\n",
    "\n",
    "'''\n",
    "The with statement is used with the open() function to ensure that a file is properly closed,\n",
    " even if an exception is raised. The with statement creates a context in which the file is automatically closed \n",
    " when the block of code within the with statement is executed.\n",
    " '''\n",
    "import json\n",
    "data={'Key':'Value','a':1,'b':2}\n",
    "\n",
    "logging.info(\"writting the json file\")\n",
    "with open(\"test.json\",'w') as f:\n",
    "      json.dump(data,f)\n",
    "\n",
    "with open(\"test.json\",'r') as f:      \n",
    "     data=json.load(f)\n",
    "     print(data)  "
   ]
  },
  {
   "cell_type": "code",
   "execution_count": 10,
   "metadata": {},
   "outputs": [],
   "source": [
    "# Ans no6\n",
    "\n",
    "'''In Python, the write() and writelines() functions are used to write data to a file.'''\n",
    "'''\n",
    "write(): This function writes a string to a file. It overwrites the entire contents of the file, so be careful when using it.\n",
    "'''\n",
    "with open(\"example.txt\", \"w\") as f:\n",
    "    f.write(\"Hello, World!\")\n",
    "\n",
    "logging.info(\"here the example.txt is generated by write()\")  \n",
    "\n",
    "'''writelines(): This function writes a list of strings to a file. Each string in the list is written to a separate line in the file.'''\n",
    "\n",
    "lines = [\"Hello \", \"How \", \"bye\"]\n",
    "with open(\"example.txt\", \"w\") as f:\n",
    "    f.writelines(lines)\n",
    "\n",
    "logging.info(\"here the example.txt is generated by writelines()\")      \n"
   ]
  }
 ],
 "metadata": {
  "kernelspec": {
   "display_name": "Python 3",
   "language": "python",
   "name": "python3"
  },
  "language_info": {
   "codemirror_mode": {
    "name": "ipython",
    "version": 3
   },
   "file_extension": ".py",
   "mimetype": "text/x-python",
   "name": "python",
   "nbconvert_exporter": "python",
   "pygments_lexer": "ipython3",
   "version": "3.11.1"
  },
  "orig_nbformat": 4,
  "vscode": {
   "interpreter": {
    "hash": "b91f41160b83ffc59c7e17fa6fd02d637d5dcf1d5e59aa2db87d82178661b954"
   }
  }
 },
 "nbformat": 4,
 "nbformat_minor": 2
}
