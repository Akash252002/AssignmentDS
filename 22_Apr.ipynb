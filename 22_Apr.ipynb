{
  "nbformat": 4,
  "nbformat_minor": 0,
  "metadata": {
    "colab": {
      "provenance": []
    },
    "kernelspec": {
      "name": "python3",
      "display_name": "Python 3"
    },
    "language_info": {
      "name": "python"
    }
  },
  "cells": [
    {
      "cell_type": "code",
      "execution_count": null,
      "metadata": {
        "id": "2srFLXznVh76",
        "colab": {
          "base_uri": "https://localhost:8080/"
        },
        "outputId": "993f2e4f-08e4-4763-9a95-9cdb3b1b80cc"
      },
      "outputs": [
        {
          "output_type": "execute_result",
          "data": {
            "text/plain": [
              "0.98"
            ]
          },
          "metadata": {},
          "execution_count": 9
        }
      ],
      "source": [
        "# Ans no1\n",
        "from sklearn.datasets import load_iris\n",
        "data= load_iris()\n",
        "from sklearn.neighbors import KNeighborsClassifier\n",
        "import pandas as pd\n",
        "from sklearn.model_selection import train_test_split\n",
        "\n",
        "X=data.data\n",
        "y=data.target\n",
        "\n",
        "X_train, X_test, y_train, y_test = train_test_split(\n",
        "    X, y, test_size=0.33, random_state=42)\n",
        "\n",
        "neigh = KNeighborsClassifier(n_neighbors=3)\n",
        "neigh.fit(X_train,y_train)\n",
        "\n",
        "y_pred=neigh.predict(X_test)\n",
        "from sklearn.metrics import accuracy_score\n",
        "accuracy_score(y_pred,y_test)"
      ]
    },
    {
      "cell_type": "code",
      "source": [
        "#Ans no2\n",
        "from sklearn.neighbors import KNeighborsRegressor\n",
        "import pandas as pd\n",
        "from sklearn.model_selection import train_test_split\n",
        "\n",
        "df=pd.read_csv('/content/Boston.csv')\n",
        "\n",
        "X=df.drop('medv',axis=1)\n",
        "y=df[['medv']]\n",
        "\n",
        "\n",
        "\n",
        "X_train, X_test, y_train, y_test = train_test_split( X, y, test_size=0.33, random_state=42)\n",
        "\n",
        "neigh = KNeighborsRegressor(n_neighbors=4)\n",
        "neigh.fit(X_train,y_train)\n",
        "\n",
        "y_pred=neigh.predict(X_test)\n",
        "from sklearn.metrics import r2_score,mean_squared_error\n",
        "r2_score(y_pred,y_test)"
      ],
      "metadata": {
        "id": "lkfAM9ai44Rc",
        "colab": {
          "base_uri": "https://localhost:8080/"
        },
        "outputId": "8095e1c5-2860-4459-8ef3-fe8dc9447d06"
      },
      "execution_count": null,
      "outputs": [
        {
          "output_type": "execute_result",
          "data": {
            "text/plain": [
              "0.525197535041861"
            ]
          },
          "metadata": {},
          "execution_count": 40
        }
      ]
    },
    {
      "cell_type": "code",
      "source": [
        "# Ans no3\n",
        "\n",
        "from sklearn.datasets import load_iris\n",
        "data= load_iris()\n",
        "from sklearn.neighbors import KNeighborsClassifier\n",
        "import pandas as pd\n",
        "from sklearn.model_selection import train_test_split\n",
        "\n",
        "X=data.data\n",
        "y=data.target\n",
        "\n",
        "X_train, X_test, y_train, y_test = train_test_split(\n",
        "    X, y, test_size=0.33, random_state=42)\n",
        "\n",
        "neigh = KNeighborsClassifier(n_neighbors=3)\n",
        "neigh.fit(X_train,y_train)\n",
        "\n",
        "y_pred=neigh.predict(X_test)\n",
        "from sklearn.model_selection import cross_val_score, train_test_split\n",
        "from sklearn.neighbors import KNeighborsRegressor\n",
        "\n",
        "cv_scores = []\n",
        "\n",
        "for i in range(2,10):\n",
        "  knn = KNeighborsRegressor(n_neighbors=i)\n",
        "  scores = cross_val_score(knn, X_train, y_train, cv=5) \n",
        "  cv_scores.append(scores.mean())\n",
        "\n",
        "optimal_k = range(2,10)[cv_scores.index(max(cv_scores))]\n",
        "\n",
        "print(optimal_k)\n"
      ],
      "metadata": {
        "id": "mtqPF-4sc6Ev",
        "colab": {
          "base_uri": "https://localhost:8080/"
        },
        "outputId": "4cc72da4-1908-42db-9f6c-fea7346f4dd1"
      },
      "execution_count": null,
      "outputs": [
        {
          "output_type": "stream",
          "name": "stdout",
          "text": [
            "4\n"
          ]
        }
      ]
    },
    {
      "cell_type": "code",
      "source": [
        "# Ans no4\n",
        "\n",
        "from sklearn.neighbors import KNeighborsRegressor\n",
        "import pandas as pd\n",
        "from sklearn.preprocessing import StandardScaler\n",
        "from sklearn.model_selection import train_test_split\n",
        "\n",
        "df=pd.read_csv('/content/Boston.csv')\n",
        "\n",
        "X=df.drop('medv',axis=1)\n",
        "y=df[['medv']]\n",
        "\n",
        "\n",
        "\n",
        "X_train, X_test, y_train, y_test = train_test_split( X, y, test_size=0.33, random_state=42)\n",
        "\n",
        "scaler=StandardScaler()\n",
        "\n",
        "X_train=scaler.fit_transform(X_train)\n",
        "X_test= scaler.fit_transform( X_test)\n",
        "\n",
        "neigh = KNeighborsRegressor(n_neighbors=3)\n",
        "neigh.fit(X_train,y_train)\n",
        "\n",
        "y_pred=neigh.predict(X_test)\n",
        "from sklearn.metrics import r2_score,mean_squared_error\n",
        "mean_squared_error(y_pred,y_test)\n",
        "r2_score(y_pred,y_test)"
      ],
      "metadata": {
        "colab": {
          "base_uri": "https://localhost:8080/"
        },
        "id": "mTvLAsHC16eF",
        "outputId": "648d355f-7856-4164-abaa-5e59fd37ad98"
      },
      "execution_count": null,
      "outputs": [
        {
          "output_type": "execute_result",
          "data": {
            "text/plain": [
              "0.6782815969059468"
            ]
          },
          "metadata": {},
          "execution_count": 45
        }
      ]
    },
    {
      "cell_type": "code",
      "source": [
        "# Ans no5\n",
        "from sklearn.datasets import load_iris\n",
        "data= load_iris()\n",
        "from sklearn.neighbors import KNeighborsClassifier\n",
        "import pandas as pd\n",
        "from sklearn.model_selection import train_test_split\n",
        "\n",
        "X=data.data\n",
        "y=data.target\n",
        "\n",
        "X_train, X_test, y_train, y_test = train_test_split(\n",
        "    X, y, test_size=0.33, random_state=42)\n",
        "\n",
        "neigh =  KNeighborsClassifier(n_neighbors=4, weights='distance')\n",
        "neigh.fit(X_train,y_train)\n",
        "\n",
        "y_pred=neigh.predict(X_test)\n",
        "from sklearn.metrics import accuracy_score\n",
        "accuracy_score(y_pred,y_test)"
      ],
      "metadata": {
        "colab": {
          "base_uri": "https://localhost:8080/"
        },
        "id": "LG4n-mjiE082",
        "outputId": "13cf51b2-5014-4928-eb9b-dd19b7e8ebcb"
      },
      "execution_count": null,
      "outputs": [
        {
          "output_type": "execute_result",
          "data": {
            "text/plain": [
              "0.98"
            ]
          },
          "metadata": {},
          "execution_count": 50
        }
      ]
    },
    {
      "cell_type": "code",
      "source": [
        "# Ans no6\n",
        "\n",
        "\n",
        "from sklearn.preprocessing import StandardScaler\n",
        "\n",
        "def scal(X_train, X_test):\n",
        "  scaler=StandardScaler()\n",
        "  X_train=scaler.fit_transform(X_train)\n",
        "  X_test=scaler.fit_transform(X_test)\n",
        "\n",
        "  \n",
        "from sklearn.datasets import load_iris\n",
        "data= load_iris()\n",
        "from sklearn.neighbors import KNeighborsClassifier\n",
        "import pandas as pd\n",
        "from sklearn.model_selection import train_test_split\n",
        "\n",
        "X=data.data\n",
        "y=data.target\n",
        "\n",
        "X_train, X_test, y_train, y_test = train_test_split(\n",
        "    X, y, test_size=0.33, random_state=42)\n",
        "\n",
        "scal(X_train, X_test)\n",
        "neigh =  KNeighborsClassifier(n_neighbors=4, weights='distance')\n",
        "neigh.fit(X_train,y_train)\n",
        "\n",
        "y_pred=neigh.predict(X_test)\n",
        "from sklearn.metrics import accuracy_score\n",
        "accuracy_score(y_pred,y_test)  \n"
      ],
      "metadata": {
        "id": "dOImp4BnE9aA",
        "colab": {
          "base_uri": "https://localhost:8080/"
        },
        "outputId": "7ccacd4d-4920-452f-e0be-827e374acfa2"
      },
      "execution_count": 51,
      "outputs": [
        {
          "output_type": "execute_result",
          "data": {
            "text/plain": [
              "0.98"
            ]
          },
          "metadata": {},
          "execution_count": 51
        }
      ]
    },
    {
      "cell_type": "code",
      "source": [
        "# Ans no7\n",
        "import math\n",
        "\n",
        "def euclidean_distance(point1, point2):\n",
        "    if len(point1) != len(point2):\n",
        "        raise ValueError(\"The dimensions of the points are not the same.\")\n",
        "\n",
        "    squared_distance = 0\n",
        "    for i in range(len(point1)):\n",
        "        squared_distance += (point1[i] - point2[i])**2\n",
        "\n",
        "    distance = math.sqrt(squared_distance)\n",
        "    return distance\n"
      ],
      "metadata": {
        "id": "9BlhMtiHG1XU"
      },
      "execution_count": 53,
      "outputs": []
    },
    {
      "cell_type": "code",
      "source": [
        "# Ans no8\n",
        "def manhattan_distance(point1, point2):\n",
        "    if len(point1) != len(point2):\n",
        "        raise ValueError(\"The dimensions of the points are not the same.\")\n",
        "    \n",
        "    distance = sum(abs(p1 - p2) for p1, p2 in zip(point1, point2))\n",
        "    return distance\n"
      ],
      "metadata": {
        "id": "mJBheMpEHXMK"
      },
      "execution_count": 52,
      "outputs": []
    },
    {
      "cell_type": "code",
      "source": [],
      "metadata": {
        "id": "a94mKX1BHY0N"
      },
      "execution_count": null,
      "outputs": []
    }
  ]
}