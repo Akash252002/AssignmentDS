{
 "cells": [
  {
   "cell_type": "code",
   "execution_count": 7,
   "id": "4a352859-1747-431c-b2b1-7592b69e7562",
   "metadata": {},
   "outputs": [
    {
     "data": {
      "text/plain": [
       "[1, 3, 5, 7, 9, 11, 13, 15, 17, 19, 21, 23, 25]"
      ]
     },
     "execution_count": 7,
     "metadata": {},
     "output_type": "execute_result"
    }
   ],
   "source": [
    "# Ans no1\n",
    "\n",
    "'''def keyword is used to create function'''\n",
    "\n",
    "def oddnumber():\n",
    "    l=[] \n",
    "    for i in range(1,26):\n",
    "        if i%2!=0:\n",
    "            l.append(i)\n",
    "    return l          \n",
    "oddnumber()        "
   ]
  },
  {
   "cell_type": "code",
   "execution_count": 17,
   "id": "91cb181e-e9bf-401c-bfca-e266b4212e14",
   "metadata": {},
   "outputs": [
    {
     "data": {
      "text/plain": [
       "{'a': 'name', 'b': 123.123, 'c': [1, 2, 3, 4]}"
      ]
     },
     "execution_count": 17,
     "metadata": {},
     "output_type": "execute_result"
    }
   ],
   "source": [
    "# Ans no2\n",
    "\n",
    "\n",
    "'''*args and **kwargs are used to pass a variable number of arguments to a function in Python.\n",
    "\n",
    "*args is used to pass a variable number of non-keyword arguments to a function.\n",
    "The * syntax allows us to pass a variable number of positional arguments to a function as a tuple.\n",
    "\n",
    "**kwargs is used to pass a variable number of keyword arguments to a function.\n",
    "The ** syntax allows us to pass a variable number of keyword arguments to a function as a dictionary.\n",
    "\n",
    "This is useful when we don't know in advance how many arguments the caller will pass to the function or if we want to provide \n",
    "a flexible interface that can handle arbitrary number of arguments.'''\n",
    "\n",
    "def test(*args):\n",
    "    return args\n",
    "\n",
    "def test1(**kwargs):\n",
    "    return kwargs\n",
    "\n",
    "test(1,\"name\",'e',123.123)\n",
    "test1(a=\"name\",b=123.123,c=[1,2,3,4])"
   ]
  },
  {
   "cell_type": "code",
   "execution_count": 4,
   "id": "6ed01ab2-5d7d-4b0b-8195-d239b72558a1",
   "metadata": {},
   "outputs": [
    {
     "name": "stdout",
     "output_type": "stream",
     "text": [
      "2\n",
      "4\n",
      "6\n",
      "8\n",
      "10\n"
     ]
    }
   ],
   "source": [
    "# Ans no3\n",
    "\n",
    "\n",
    "'''An iterator in Python is an object that implements two methods, __iter__() and __next__().\n",
    "\n",
    "The __iter__() method returns the iterator object itself and is used to initialize the iterator object.\n",
    "\n",
    "The __next__() method is used for iteration and returns the next value from the iterator. \n",
    "This method should raise the StopIteion excrateption when there are no more items to return.'''\n",
    "\n",
    "class MyIterator:\n",
    "    def __init__(self, lst):\n",
    "        self.lst = lst\n",
    "        self.index = 0\n",
    "    \n",
    "    def __iter__(self):\n",
    "        return self\n",
    "    \n",
    "    def __next__(self):\n",
    "        if self.index < len(self.lst):\n",
    "            value = self.lst[self.index]\n",
    "            self.index += 1\n",
    "            return value\n",
    "        else:\n",
    "            raise StopIteration\n",
    "\n",
    "numbers = [2, 4, 6, 8, 10, 12, 14, 16, 18, 20]\n",
    "my_iterator = MyIterator(numbers)\n",
    "\n",
    "for i in range(5):\n",
    "    print(next(my_iterator))\n",
    "  "
   ]
  },
  {
   "cell_type": "code",
   "execution_count": 1,
   "id": "aad8e388-d620-4756-ae81-866a750b324b",
   "metadata": {},
   "outputs": [
    {
     "name": "stdout",
     "output_type": "stream",
     "text": [
      "0\n",
      "1\n",
      "4\n",
      "9\n",
      "16\n"
     ]
    }
   ],
   "source": [
    "# Ans no4\n",
    "\n",
    "''' A generator function in Python is a special type of function that allows you to iterate over a sequence of values,\n",
    "one value at a time, instead of returning a single value. The yield keyword is used in generator functions to produce a value,\n",
    "and then pause the function's execution.\n",
    "\n",
    "Here's an example of a generator function that generates the squares of numbers:'''\n",
    "\n",
    "\n",
    "def squares(n):\n",
    "    for i in range(n):\n",
    "        yield i**2\n",
    "\n",
    "for i in squares(5):\n",
    "    print(i)\n"
   ]
  },
  {
   "cell_type": "code",
   "execution_count": 2,
   "id": "e0828a55-f01d-4099-9975-812089983f45",
   "metadata": {},
   "outputs": [
    {
     "name": "stdout",
     "output_type": "stream",
     "text": [
      "2\n",
      "3\n",
      "5\n",
      "7\n",
      "11\n",
      "13\n",
      "17\n",
      "19\n",
      "23\n",
      "29\n",
      "31\n",
      "37\n",
      "41\n",
      "43\n",
      "47\n",
      "53\n",
      "59\n",
      "61\n",
      "67\n",
      "71\n"
     ]
    }
   ],
   "source": [
    "# Ans no5\n",
    "\n",
    "def prime_numbers_generator():\n",
    "    yield 2\n",
    "    primes = [2]\n",
    "    current_number = 3\n",
    "    while current_number < 1000:\n",
    "        is_prime = True\n",
    "        for prime in primes:\n",
    "            if prime > int(current_number**0.5) + 1:\n",
    "                break\n",
    "            if current_number % prime == 0:\n",
    "                is_prime = False\n",
    "                break\n",
    "        if is_prime:\n",
    "            primes.append(current_number)\n",
    "            yield current_number\n",
    "        current_number += 2\n",
    "\n",
    "prime_numbers = prime_numbers_generator()\n",
    "for i in range(20):\n",
    "    print(next(prime_numbers))\n"
   ]
  },
  {
   "cell_type": "code",
   "execution_count": 7,
   "id": "54fcbd1e-495f-409c-86c2-d89bd47188f6",
   "metadata": {},
   "outputs": [
    {
     "name": "stdout",
     "output_type": "stream",
     "text": [
      "enter number 10\n"
     ]
    },
    {
     "name": "stdout",
     "output_type": "stream",
     "text": [
      "0\n",
      "1\n",
      "1\n",
      "2\n",
      "3\n",
      "5\n",
      "8\n",
      "13\n",
      "21\n",
      "34\n"
     ]
    }
   ],
   "source": [
    "# Ans no6\n",
    "\n",
    "n=int (input(\"enter number\"))\n",
    "a = 0\n",
    "b = 1\n",
    "count = 0\n",
    "while count < n:\n",
    "        print(a)\n",
    "        nth = a + b\n",
    "        a = b\n",
    "        b = nth\n",
    "        count += 1"
   ]
  },
  {
   "cell_type": "code",
   "execution_count": 8,
   "id": "b975fd07-19b4-4fbc-b837-cc6bf904c698",
   "metadata": {},
   "outputs": [
    {
     "name": "stdout",
     "output_type": "stream",
     "text": [
      "['p', 'w', 's', 'k', 'i', 'l', 'l', 's']\n"
     ]
    }
   ],
   "source": [
    "# Ans no7\n",
    "\n",
    "string = 'pwskills'\n",
    "output = [char for char in string]\n",
    "print(output)\n"
   ]
  },
  {
   "cell_type": "code",
   "execution_count": 9,
   "id": "96e9ee24-fee9-4d84-aace-870d3cbe9da2",
   "metadata": {},
   "outputs": [
    {
     "name": "stdout",
     "output_type": "stream",
     "text": [
      "Enter a number:  23\n"
     ]
    },
    {
     "name": "stdout",
     "output_type": "stream",
     "text": [
      "23 is not a palindrome.\n"
     ]
    }
   ],
   "source": [
    "# Ans no8\n",
    "\n",
    "def is_palindrome(num):\n",
    "    temp = num\n",
    "    rev = 0\n",
    "    while temp != 0:\n",
    "        rev = rev * 10 + temp % 10\n",
    "        temp //= 10\n",
    "    return num == rev\n",
    "\n",
    "number = int(input(\"Enter a number: \"))\n",
    "if is_palindrome(number):\n",
    "    print(f\"{number} is a palindrome.\")\n",
    "else:\n",
    "    print(f\"{number} is not a palindrome.\")\n"
   ]
  },
  {
   "cell_type": "code",
   "execution_count": 1,
   "id": "6de2d619-b6e6-4219-a607-176d412113cc",
   "metadata": {},
   "outputs": [
    {
     "data": {
      "text/plain": [
       "[1,\n",
       " 3,\n",
       " 5,\n",
       " 7,\n",
       " 9,\n",
       " 11,\n",
       " 13,\n",
       " 15,\n",
       " 17,\n",
       " 19,\n",
       " 21,\n",
       " 23,\n",
       " 25,\n",
       " 27,\n",
       " 29,\n",
       " 31,\n",
       " 33,\n",
       " 35,\n",
       " 37,\n",
       " 39,\n",
       " 41,\n",
       " 43,\n",
       " 45,\n",
       " 47,\n",
       " 49,\n",
       " 51,\n",
       " 53,\n",
       " 55,\n",
       " 57,\n",
       " 59,\n",
       " 61,\n",
       " 63,\n",
       " 65,\n",
       " 67,\n",
       " 69,\n",
       " 71,\n",
       " 73,\n",
       " 75,\n",
       " 77,\n",
       " 79,\n",
       " 81,\n",
       " 83,\n",
       " 85,\n",
       " 87,\n",
       " 89,\n",
       " 91,\n",
       " 93,\n",
       " 95,\n",
       " 97,\n",
       " 99]"
      ]
     },
     "execution_count": 1,
     "metadata": {},
     "output_type": "execute_result"
    }
   ],
   "source": [
    "# Ans no9\n",
    "\n",
    "\n",
    "odd= [num for num in range(1, 101)]\n",
    "[i for i in odd if i%2==1]"
   ]
  },
  {
   "cell_type": "code",
   "execution_count": null,
   "id": "353d657b-96c0-449c-939f-c55134ee3dd8",
   "metadata": {},
   "outputs": [],
   "source": []
  }
 ],
 "metadata": {
  "kernelspec": {
   "display_name": "Python 3",
   "language": "python",
   "name": "python3"
  },
  "language_info": {
   "codemirror_mode": {
    "name": "ipython",
    "version": 3
   },
   "file_extension": ".py",
   "mimetype": "text/x-python",
   "name": "python",
   "nbconvert_exporter": "python",
   "pygments_lexer": "ipython3",
   "version": "3.11.1"
  },
  "vscode": {
   "interpreter": {
    "hash": "b91f41160b83ffc59c7e17fa6fd02d637d5dcf1d5e59aa2db87d82178661b954"
   }
  }
 },
 "nbformat": 4,
 "nbformat_minor": 5
}
