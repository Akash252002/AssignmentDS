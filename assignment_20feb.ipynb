{
 "cells": [
  {
   "cell_type": "code",
   "execution_count": 1,
   "metadata": {},
   "outputs": [
    {
     "data": {
      "text/plain": [
       "\"\\nGET and POST are two HTTP request methods used to retrieve or send data to a web server.\\n\\nGET method:\\nThe GET method is used to retrieve data from the server. \\nIt sends the request parameters as part of the URL in the form of a query string.\\nThe query string is appended to the end of the URL after a '?' character,\\nand parameters are separated by '&' characters. \\nThe GET method should be used when the request is idempotent,\\nmeaning that the request can be repeated multiple times without changing the result.\\n\\nFor example, when you enter a search query on a search engine,\\nthe query is sent to the server using the GET method, and the search results are returned as a response.\\n\\n\\nPOST method:\\nThe POST method is used to submit data to the server. Unlike the GET method, \\nthe data is sent in the body of the request and is not visible in the URL. \\nThe POST method should be used when the request is not idempotent, meaning that the request may modify the server's state.\\n\\nFor example, when you submit a form on a website, the data is sent to the server using the POST method, \\nand the server processes the data and may modify its state (e.g., store the data in a database).\\n\\nIn summary, GET is used for retrieving data from the server, while POST is used for submitting data to the server.\\n\""
      ]
     },
     "execution_count": 1,
     "metadata": {},
     "output_type": "execute_result"
    }
   ],
   "source": [
    "# Ans no1\n",
    "\n",
    "import logging \n",
    "logging.basicConfig(filename=\"20feb.log\",level=logging.INFO)\n",
    "\n",
    "logging.info(\"GET and POST methods \")\n",
    "\n",
    "'''\n",
    "GET and POST are two HTTP request methods used to retrieve or send data to a web server.\n",
    "\n",
    "GET method:\n",
    "The GET method is used to retrieve data from the server. \n",
    "It sends the request parameters as part of the URL in the form of a query string.\n",
    "The query string is appended to the end of the URL after a '?' character,\n",
    "and parameters are separated by '&' characters. \n",
    "The GET method should be used when the request is idempotent,\n",
    "meaning that the request can be repeated multiple times without changing the result.\n",
    "\n",
    "For example, when you enter a search query on a search engine,\n",
    "the query is sent to the server using the GET method, and the search results are returned as a response.\n",
    "\n",
    "\n",
    "POST method:\n",
    "The POST method is used to submit data to the server. Unlike the GET method, \n",
    "the data is sent in the body of the request and is not visible in the URL. \n",
    "The POST method should be used when the request is not idempotent, meaning that the request may modify the server's state.\n",
    "\n",
    "For example, when you submit a form on a website, the data is sent to the server using the POST method, \n",
    "and the server processes the data and may modify its state (e.g., store the data in a database).\n",
    "\n",
    "In summary, GET is used for retrieving data from the server, while POST is used for submitting data to the server.\n",
    "'''\n"
   ]
  },
  {
   "cell_type": "code",
   "execution_count": 2,
   "metadata": {},
   "outputs": [
    {
     "data": {
      "text/plain": [
       "'\\nRequest is used in Flask to handle incoming HTTP requests from clients,\\nsuch as web browsers or mobile applications. The Flask request object provides a simple way to access the data\\nthat is sent in the request, including the request parameters, headers, and any data that was sent in the request body.\\n\\nFor example, if a user submits a login form on a website, \\nthe request object will contain the username and password that the user entered.\\nThe Flask route function can access this data using the request object, authenticate the user, \\nand then redirect the user to the appropriate page.\\n\\nOverall, the request object is an essential part of a Flask application, \\nas it enables the application to handle incoming requests and process the data that is sent by clients.\\n'"
      ]
     },
     "execution_count": 2,
     "metadata": {},
     "output_type": "execute_result"
    }
   ],
   "source": [
    "# Ans no2\n",
    "\n",
    "logging.info(\"importance of request in flask\")\n",
    "\n",
    "'''\n",
    "Request is used in Flask to handle incoming HTTP requests from clients,\n",
    "such as web browsers or mobile applications. The Flask request object provides a simple way to access the data\n",
    "that is sent in the request, including the request parameters, headers, and any data that was sent in the request body.\n",
    "\n",
    "For example, if a user submits a login form on a website, \n",
    "the request object will contain the username and password that the user entered.\n",
    "The Flask route function can access this data using the request object, authenticate the user, \n",
    "and then redirect the user to the appropriate page.\n",
    "\n",
    "Overall, the request object is an essential part of a Flask application, \n",
    "as it enables the application to handle incoming requests and process the data that is sent by clients.\n",
    "'''"
   ]
  },
  {
   "cell_type": "code",
   "execution_count": 3,
   "metadata": {},
   "outputs": [
    {
     "data": {
      "text/plain": [
       "'\\nThe redirect() function in Flask is used to redirect the client to a different URL.\\nWhen a Flask application receives a request from a client, \\nit can use the redirect() function to send a response to the client that redirects them to a different URL.\\n\\nThere are several reasons why redirect() might be used in a Flask application:\\n\\nAfter a successful form submission: When a user submits a form on a website,\\nthe form data is typically processed on the server-side. \\nAfter the data is processed, the server can redirect the user to a different URL to display a success message \\nor to show them the updated data.\\n\\nAuthentication and authorization: When a user tries to access a protected resource on a Flask application,\\nthe server can redirect them to a login page if they are not authenticated. \\n\\nSEO: When a URL for a resource on a Flask application changes,\\nthe server can redirect requests to the old URL to the new URL. \\nThis ensures that search engines can find the new URL and update their index.\\n\\nThe redirect() function in Flask creates a new response object with a 302 status code, \\nindicating that the client should redirect to a different URL. \\nOverall, the redirect() function is a useful tool in Flask for\\nmanaging client-side navigation and ensuring that users are sent to the correct pages.\\n\\n'"
      ]
     },
     "execution_count": 3,
     "metadata": {},
     "output_type": "execute_result"
    }
   ],
   "source": [
    "# Ans no3\n",
    "\n",
    "logging.info(\"Role of redirect\")\n",
    "\n",
    "'''\n",
    "The redirect() function in Flask is used to redirect the client to a different URL.\n",
    "When a Flask application receives a request from a client, \n",
    "it can use the redirect() function to send a response to the client that redirects them to a different URL.\n",
    "\n",
    "There are several reasons why redirect() might be used in a Flask application:\n",
    "\n",
    "After a successful form submission: When a user submits a form on a website,\n",
    "the form data is typically processed on the server-side. \n",
    "After the data is processed, the server can redirect the user to a different URL to display a success message \n",
    "or to show them the updated data.\n",
    "\n",
    "Authentication and authorization: When a user tries to access a protected resource on a Flask application,\n",
    "the server can redirect them to a login page if they are not authenticated. \n",
    "\n",
    "SEO: When a URL for a resource on a Flask application changes,\n",
    "the server can redirect requests to the old URL to the new URL. \n",
    "This ensures that search engines can find the new URL and update their index.\n",
    "\n",
    "The redirect() function in Flask creates a new response object with a 302 status code, \n",
    "indicating that the client should redirect to a different URL. \n",
    "Overall, the redirect() function is a useful tool in Flask for\n",
    "managing client-side navigation and ensuring that users are sent to the correct pages.\n",
    "\n",
    "'''"
   ]
  },
  {
   "cell_type": "code",
   "execution_count": 5,
   "metadata": {},
   "outputs": [],
   "source": [
    "# Ans no4\n",
    "\n",
    "logging.info(\"templates in Flask, render_template() function uses\")\n",
    "\n",
    "'''\n",
    "Templates in Flask are files that contain the HTML code that is sent to the client when a Flask route function is called. \n",
    "Templates are used to separate the presentation layer from the application logic. \n",
    "By using templates, Flask applications can produce dynamic HTML pages\n",
    "that can be customized based on user input or data from a database.\n",
    "\n",
    "The render_template() function is used in Flask to render a template and produce an HTML response.\n",
    "The render_template() function takes a template name and any context variables as arguments.\n",
    "The template name is the name of the file that contains the HTML code, \n",
    "and the context variables are passed to the template so that they can be used to customize the HTML.\n",
    "\n",
    "For example, consider the following Flask route function:\n",
    "'''\n",
    "from flask import Flask, render_template\n",
    "\n",
    "app = Flask(__name__)\n",
    "\n",
    "@app.route('/')\n",
    "def hello():\n",
    "    name = 'Alice'\n",
    "    return render_template('hello.html', name=name)\n"
   ]
  },
  {
   "cell_type": "code",
   "execution_count": null,
   "metadata": {},
   "outputs": [],
   "source": [
    "# Ans no5\n",
    "\n",
    "logging.info(\"simple API Using Postman to test \")\n",
    "\n",
    "\n",
    "from flask import Flask,request ,render_template , jsonify\n",
    "\n",
    "app = Flask(__name__)\n",
    "\n",
    "\n",
    "@app.route('/')\n",
    "def home_page():\n",
    "    return render_template('index.html')\n",
    "\n",
    "@app.route('/math',methods=['POST'])\n",
    "\n",
    "def operation():\n",
    "    if request.method=='POST':\n",
    "        op=request.form['operation']\n",
    "        n1=int(request.form['num1'])\n",
    "        n2=int(request.form['num2'])\n",
    "        if op=='add':\n",
    "            r=n1+n2\n",
    "\n",
    "        elif op=='sub':\n",
    "            r=n1-n2\n",
    "\n",
    "        elif op=='mul':\n",
    "            r=n1*n2  \n",
    "\n",
    "        elif op=='div':\n",
    "           try:\n",
    "             r=n1/n2 \n",
    "           except ZeroDivisionError as e:\n",
    "            print(e)\n",
    "\n",
    "        elif op=='log':\n",
    "            r=n1+n2    \n",
    "\n",
    "    return render_template(\"results.html\" ,result=r)    \n",
    "  \n",
    "\n",
    "@app.route('/pman',methods=['POST'])\n",
    "def postman():\n",
    "    if request.method=='POST':\n",
    "     op=request.json['operation']\n",
    "    n1=int(request.json['num1'])\n",
    "    n2=int(request.json['num2'])\n",
    "    if op=='add':\n",
    "            r=n1+n2\n",
    "\n",
    "    elif op=='sub':\n",
    "            r=n1-n2\n",
    "\n",
    "    elif op=='mul':\n",
    "            r=n1*n2  \n",
    "\n",
    "    elif op=='div':\n",
    "           try:\n",
    "             r=n1/n2 \n",
    "           except ZeroDivisionError as e:\n",
    "            print(e)\n",
    "\n",
    "    elif op=='log':\n",
    "            r=n1+n2    \n",
    "    return jsonify(r)\n",
    "                        \n",
    "\n",
    "if __name__==\"__main__\":\n",
    "    app.run(host=\"0.0.0.0\")\n",
    "\n"
   ]
  },
  {
   "attachments": {},
   "cell_type": "markdown",
   "metadata": {},
   "source": [
    "!['postman'](img3.jpg)"
   ]
  },
  {
   "cell_type": "markdown",
   "metadata": {},
   "source": []
  }
 ],
 "metadata": {
  "kernelspec": {
   "display_name": "Python 3",
   "language": "python",
   "name": "python3"
  },
  "language_info": {
   "codemirror_mode": {
    "name": "ipython",
    "version": 3
   },
   "file_extension": ".py",
   "mimetype": "text/x-python",
   "name": "python",
   "nbconvert_exporter": "python",
   "pygments_lexer": "ipython3",
   "version": "3.11.1"
  },
  "orig_nbformat": 4,
  "vscode": {
   "interpreter": {
    "hash": "b91f41160b83ffc59c7e17fa6fd02d637d5dcf1d5e59aa2db87d82178661b954"
   }
  }
 },
 "nbformat": 4,
 "nbformat_minor": 2
}
