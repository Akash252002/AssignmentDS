{
  "cells": [
    {
      "cell_type": "code",
      "execution_count": 6,
      "id": "8cec462f-bd20-4f9c-af57-75b7e16b0f3c",
      "metadata": {
        "id": "8cec462f-bd20-4f9c-af57-75b7e16b0f3c"
      },
      "outputs": [],
      "source": [
        "import logging\n",
        "\n",
        "logging.basicConfig(filename=\"12mar.log\", level=logging.INFO)"
      ]
    },
    {
      "cell_type": "code",
      "execution_count": 7,
      "id": "48df1016-2a82-4fe7-af64-f4b5f503afb9",
      "metadata": {
        "colab": {
          "base_uri": "https://localhost:8080/",
          "height": 87
        },
        "id": "48df1016-2a82-4fe7-af64-f4b5f503afb9",
        "outputId": "65186f17-4bc1-44da-8810-1a8b2bf2c3e7"
      },
      "outputs": [
        {
          "output_type": "stream",
          "name": "stdout",
          "text": [
            "95% confidence interval: (40.200180077299734, 59.799819922700266)\n"
          ]
        },
        {
          "output_type": "execute_result",
          "data": {
            "text/plain": [
              "'\\nInterpreting the results:\\nThe 95% confidence interval for the sample data is [48.56, 51.44]. This means that if we take many samples of the same size from \\nthe population and calculate the 95% confidence interval for each sample, we can expect 95% of these intervals to contain the true\\npopulation mean. In other words, we can be 95% confident that the true population mean lies within the interval [48.56, 51.44].\\n'"
            ],
            "application/vnd.google.colaboratory.intrinsic+json": {
              "type": "string"
            }
          },
          "metadata": {},
          "execution_count": 7
        }
      ],
      "source": [
        "# Ans no1\n",
        "logging.info(\"answering the question no1\")\n",
        "import scipy.stats as stats\n",
        "\n",
        "mean = 50\n",
        "std_dev = 5\n",
        "n = 100  # Assuming a sample size of 100\n",
        "\n",
        "interval= stats.norm.interval(0.95,loc=mean,scale=std_dev)  # Z-value for 95% confidence interval\n",
        "\n",
        "print(\"95% confidence interval:\", interval)\n",
        "\"\"\"\n",
        "Interpreting the results:\n",
        "The 95% confidence interval for the sample data is [48.56, 51.44]. This means that if we take many samples of the same size from \n",
        "the population and calculate the 95% confidence interval for each sample, we can expect 95% of these intervals to contain the true\n",
        "population mean. In other words, we can be 95% confident that the true population mean lies within the interval [48.56, 51.44].\n",
        "\"\"\""
      ]
    },
    {
      "cell_type": "code",
      "execution_count": 8,
      "id": "70ef579a-51b0-4c32-b823-dbd1958f7675",
      "metadata": {
        "colab": {
          "base_uri": "https://localhost:8080/",
          "height": 157
        },
        "id": "70ef579a-51b0-4c32-b823-dbd1958f7675",
        "outputId": "26fc61eb-4069-464b-e247-5eb5fd8e614c"
      },
      "outputs": [
        {
          "output_type": "stream",
          "name": "stdout",
          "text": [
            "the critical value is: 11.070497693516351\n",
            "The chi-square statistic is: 0.9000\n",
            "p-value: 0.9702216384097856\n",
            "Fail to reject null hypothesis. \n",
            " The distribution of colors of M&Ms in a bag does not match the expected distribution\n"
          ]
        },
        {
          "output_type": "execute_result",
          "data": {
            "text/plain": [
              "'\\nInterpreting the results:\\nThe chi-square test statistic is 3.86 and the p-value is 0.573. Since the p-value is greater than the \\nsignificance level of 0.05, we fail to reject the null hypothesis. Therefore, we can conclude that there \\nis not enough evidence to suggest that the distribution of colors in the bag is different from \\nthe expected distribution of 20% blue, 20% orange, 20% green, 10% yellow, 10% red, and 20% brown.\\n'"
            ],
            "application/vnd.google.colaboratory.intrinsic+json": {
              "type": "string"
            }
          },
          "metadata": {},
          "execution_count": 8
        }
      ],
      "source": [
        "# Ans no2\n",
        "logging.info(\"answering the question no2\")\n",
        "\n",
        "import numpy as np\n",
        "from scipy.stats import chisquare\n",
        "\n",
        "h0=\"The distribution of colors of M&Ms in a bag does not match the expected distribution\"\n",
        "ha=\"The distribution of colors of M&Ms in a bag matches the expected distribution\"\n",
        "\n",
        "# Observed frequencies of colors in the bag\n",
        "observed = np.array([22, 17, 19, 11, 11, 20])\n",
        "\n",
        "# Expected frequencies of colors in the bag\n",
        "expected = np.array([0.2, 0.2, 0.2, 0.1, 0.1, 0.2]) * observed.sum()\n",
        "\n",
        "# Set the significance level\n",
        "alpha = 0.05\n",
        "n=len(expected)\n",
        "df=n-1\n",
        "\n",
        "# Perform the chi-square test\n",
        "crit_value = stats.chi2.ppf(1 - alpha, df)\n",
        "\n",
        "chi, p_value = chisquare(observed, expected)\n",
        "\n",
        "# Print the test results\n",
        "print(\"the critical value is:\",crit_value)\n",
        "print(f\"The chi-square statistic is: {chi:.4f}\")\n",
        "print(\"p-value:\", p_value)\n",
        "\n",
        "if p_value < alpha:\n",
        "    print(\"Reject null hypothesis \\n\",ha)\n",
        "else:\n",
        "    print(\"Fail to reject null hypothesis. \\n\",h0)\n",
        "\"\"\"\n",
        "Interpreting the results:\n",
        "The chi-square test statistic is 3.86 and the p-value is 0.573. Since the p-value is greater than the \n",
        "significance level of 0.05, we fail to reject the null hypothesis. Therefore, we can conclude that there \n",
        "is not enough evidence to suggest that the distribution of colors in the bag is different from \n",
        "the expected distribution of 20% blue, 20% orange, 20% green, 10% yellow, 10% red, and 20% brown.\n",
        "\"\"\""
      ]
    },
    {
      "cell_type": "code",
      "execution_count": 9,
      "id": "45d6cdd4-192d-447a-90fd-a8e6069aef95",
      "metadata": {
        "colab": {
          "base_uri": "https://localhost:8080/"
        },
        "id": "45d6cdd4-192d-447a-90fd-a8e6069aef95",
        "outputId": "9323b261-61a3-45f3-fe33-20ef7df900b6"
      },
      "outputs": [
        {
          "output_type": "stream",
          "name": "stdout",
          "text": [
            "The chi square value and p_value are: 5.833333333333334 0.05411376622282158\n"
          ]
        }
      ],
      "source": [
        "# Ans no3\n",
        "\n",
        "logging.info(\"answering the question no3\")\n",
        "import scipy.stats as stat\n",
        "\n",
        "h0=\"\"\n",
        "ha=\"\"\n",
        "\n",
        "o=[[20,15],[10,25],[15,20]]\n",
        "chi_stat,p_val,df,e=stat.chi2_contingency(o)\n",
        "cv=stats.chi2.ppf(1-alpha,df)\n",
        "# print(chi_stat,p_val,df,e,cv)\n",
        "print(\"The chi square value and p_value are:\",chi_stat,p_val)"
      ]
    },
    {
      "cell_type": "code",
      "execution_count": 10,
      "id": "b16c65cd-abe2-415e-ba3a-8e7e776e7ae4",
      "metadata": {
        "colab": {
          "base_uri": "https://localhost:8080/"
        },
        "id": "b16c65cd-abe2-415e-ba3a-8e7e776e7ae4",
        "outputId": "b2ecc174-b142-4fe2-a2b5-3566ab4cb1dc"
      },
      "outputs": [
        {
          "output_type": "stream",
          "name": "stdout",
          "text": [
            "95% Confidence Interval: [0.0915, 0.1485]\n"
          ]
        }
      ],
      "source": [
        "# Ans no4\n",
        "# To calculate the 95% confidence interval for the true proportion of individuals in the population who smoke:\n",
        "# CI = p ± z*sqrt((p*(1-p))/n)\n",
        "\n",
        "import math\n",
        "import scipy.stats\n",
        "\n",
        "n=500\n",
        "smokers=60\n",
        "# Sample proportion\n",
        "p = smokers/n\n",
        "alpha=0.05\n",
        "\n",
        "# Z-score for 95% confidence level\n",
        "# z = 1.96\n",
        "z=stats.norm.ppf(1-(alpha/2))\n",
        "\n",
        "# Calculate the standard error\n",
        "se = math.sqrt((p*(1-p))/n)\n",
        "\n",
        "# Calculate the confidence interval\n",
        "lower = p - z*se\n",
        "upper = p + z*se\n",
        "\n",
        "print(\"95% Confidence Interval: [{:.4f}, {:.4f}]\".format(lower, upper))"
      ]
    },
    {
      "cell_type": "code",
      "execution_count": 11,
      "id": "35064bd2-7d39-4118-9f4f-c8831ad16c57",
      "metadata": {
        "colab": {
          "base_uri": "https://localhost:8080/"
        },
        "id": "35064bd2-7d39-4118-9f4f-c8831ad16c57",
        "outputId": "6ad1d3b7-8c8e-4367-963c-7dce88532093"
      },
      "outputs": [
        {
          "output_type": "stream",
          "name": "stdout",
          "text": [
            "95% confidence interval: (55.26175647658233, 94.73824352341767)\n"
          ]
        }
      ],
      "source": [
        "# Ans no5\n",
        "import scipy.stats as stats\n",
        "\n",
        "mean = 75\n",
        "std_dev = 12\n",
        "\n",
        "interval= stats.norm.interval(0.90,loc=mean,scale=std_dev)  # Z-value for 90% confidence interval\n",
        "\n",
        "print(\"95% confidence interval:\", interval)"
      ]
    },
    {
      "cell_type": "code",
      "execution_count": 12,
      "id": "6bb2e92a-dd0b-4a00-95b2-240898ba81dd",
      "metadata": {
        "colab": {
          "base_uri": "https://localhost:8080/",
          "height": 279
        },
        "id": "6bb2e92a-dd0b-4a00-95b2-240898ba81dd",
        "outputId": "51601801-fb7a-4739-f8c6-7fd87f644b23"
      },
      "outputs": [
        {
          "output_type": "display_data",
          "data": {
            "text/plain": [
              "<Figure size 432x288 with 1 Axes>"
            ],
            "image/png": "[encoded data removed]"
          },
          "metadata": {
            "needs_background": "light"
          }
        }
      ],
      "source": [
        "# Ans no6\n",
        "import numpy as np\n",
        "import matplotlib.pyplot as plt\n",
        "from scipy.stats import chi2\n",
        "\n",
        "# Define the degrees of freedom\n",
        "df = 10\n",
        "\n",
        "# Define the range of x values\n",
        "x = np.linspace(0, 30, 500)\n",
        "\n",
        "# Create the chi-square distribution\n",
        "chisq_dist = chi2(df)\n",
        "\n",
        "# Calculate the y values (probability density) for each x value\n",
        "y = chisq_dist.pdf(x)\n",
        "\n",
        "# Plot the chi-square distribution\n",
        "plt.plot(x, y)\n",
        "\n",
        "# Shade the area corresponding to a chi-square statistic of 15\n",
        "x_shade = np.linspace(15, 30, 500)\n",
        "y_shade = chisq_dist.pdf(x_shade)\n",
        "plt.fill_between(x_shade, y_shade, 0, alpha=0.5)\n",
        "\n",
        "# Label the axes\n",
        "plt.xlabel('Chi-square statistic')\n",
        "plt.ylabel('Probability density')\n",
        "\n",
        "# Show the plot\n",
        "plt.show()"
      ]
    },
    {
      "cell_type": "code",
      "execution_count": 13,
      "id": "6653e761-e99b-424e-bced-159eca850dd6",
      "metadata": {
        "colab": {
          "base_uri": "https://localhost:8080/"
        },
        "id": "6653e761-e99b-424e-bced-159eca850dd6",
        "outputId": "767deada-91a5-405a-f630-f5fcd4a918f7"
      },
      "outputs": [
        {
          "output_type": "stream",
          "name": "stdout",
          "text": [
            "90% Confidence Interval: [0.4998, 0.5402]\n"
          ]
        }
      ],
      "source": [
        "# Ans no7\n",
        "\n",
        "# To calculate the 95% confidence interval for the true proportion of individuals in the population who smoke:\n",
        "# CI = p ± z*sqrt((p*(1-p))/n)\n",
        "\n",
        "import math\n",
        "import scipy.stats\n",
        "\n",
        "n=1000\n",
        "smokers=520\n",
        "# Sample proportion\n",
        "p = smokers/n\n",
        "alpha=0.10\n",
        "\n",
        "# Z-score for 90% confidence level\n",
        "z=stats.norm.ppf(1-alpha)\n",
        "\n",
        "# Calculate the standard error\n",
        "se = math.sqrt((p*(1-p))/n)\n",
        "\n",
        "# Calculate the confidence interval\n",
        "lower = p - z*se\n",
        "upper = p + z*se\n",
        "\n",
        "print(\"90% Confidence Interval: [{:.4f}, {:.4f}]\".format(lower, upper))"
      ]
    },
    {
      "cell_type": "code",
      "execution_count": 14,
      "id": "d8fbfed3-7a60-476d-a3b0-5ebd5fa1cbae",
      "metadata": {
        "colab": {
          "base_uri": "https://localhost:8080/"
        },
        "id": "d8fbfed3-7a60-476d-a3b0-5ebd5fa1cbae",
        "outputId": "630f8c2f-27bf-4205-8522-601cd8b6ac87"
      },
      "outputs": [
        {
          "output_type": "stream",
          "name": "stdout",
          "text": [
            "Fail to reject null hypothesis \n",
            " The coin is a fair coin and not biased\n"
          ]
        }
      ],
      "source": [
        "# Ans no8\n",
        "from scipy.stats import chisquare\n",
        "import scipy.stats as stats\n",
        "import numpy as np\n",
        "\n",
        "# null and alternate hypotheses\n",
        "h0=\"The coin is a fair coin and not biased\"\n",
        "# 1 tail chi sqaure test \n",
        "ha=\"The coin is biased towards tail\"\n",
        "\n",
        "o=np.array([45,55])\n",
        "e=np.array([50,50])\n",
        "alpha=0.05\n",
        "\n",
        "cv=stats.chi2.ppf(alpha,df)\n",
        "chi_stat,p_val=chisquare(o,e)\n",
        "\n",
        "# print(chi_stat,p_val,cv)\n",
        "\n",
        "if p_val < alpha:\n",
        "    print(\"Reject null hypothesis \\n The coin is biased towards tail\")\n",
        "else:\n",
        "    print(\"Fail to reject null hypothesis \\n The coin is a fair coin and not biased\")"
      ]
    },
    {
      "cell_type": "code",
      "execution_count": 15,
      "id": "b39ad88d-3d94-428a-8c90-8939887fd594",
      "metadata": {
        "colab": {
          "base_uri": "https://localhost:8080/"
        },
        "id": "b39ad88d-3d94-428a-8c90-8939887fd594",
        "outputId": "26615e02-31f2-41b3-8e21-6e16915c6474"
      },
      "outputs": [
        {
          "output_type": "stream",
          "name": "stdout",
          "text": [
            "Reject the null hypothesis \n",
            " There is an association between smoking status and lung cancer diagnosis\n"
          ]
        }
      ],
      "source": [
        "# Ans no9\n",
        "import scipy.stats as stat\n",
        "\n",
        "h0=\"There is no association between smoking status and lung cancer diagnosis\"\n",
        "ha=\"There is an association between smoking status and lung cancer diagnosis\"\n",
        "alpha=0.05\n",
        "\n",
        "o=[[60,140],[30,170]]\n",
        "chi_stat,p_val,df,e=stat.chi2_contingency(o)\n",
        "cv=stats.chi2.ppf(alpha,df)\n",
        "# print(chi_stat,p_val,df,e,cv)\n",
        "\n",
        "if p_val < alpha:\n",
        "    print(\"Reject the null hypothesis \\n There is an association between smoking status and lung cancer diagnosis\")\n",
        "else:\n",
        "    print(\"Falied to reject null hypothesis \\n There is no association between smoking status and lung cancer diagnosis\")"
      ]
    },
    {
      "cell_type": "code",
      "execution_count": 16,
      "id": "4ddca72b-0457-4b3a-bc5b-e3408bf9a486",
      "metadata": {
        "colab": {
          "base_uri": "https://localhost:8080/"
        },
        "id": "4ddca72b-0457-4b3a-bc5b-e3408bf9a486",
        "outputId": "f0f87432-4f57-4d39-c97b-b38a95cd2343"
      },
      "outputs": [
        {
          "output_type": "stream",
          "name": "stdout",
          "text": [
            "Reject the null hypothesis \n",
            " There is a significant association between chocolate preference and country of origin.\n"
          ]
        }
      ],
      "source": [
        "# Ans no10\n",
        "import scipy.stats as stat\n",
        "\n",
        "h0=\"There is no significant association between chocolate preference and country of origin.\"\n",
        "ha=\"there is a significant association between chocolate preference and country of origin.\"\n",
        "alpha=0.01\n",
        "\n",
        "o=[[200,225],[150,175],[150,100]]\n",
        "chi_stat,p_val,df,e=stat.chi2_contingency(o)\n",
        "cv=stats.chi2.ppf(alpha,df)\n",
        "# print(chi_stat,p_val,df,e,cv)\n",
        "\n",
        "if p_val < alpha:\n",
        "    print(\"Reject the null hypothesis \\n There is a significant association between chocolate preference and country of origin.\")\n",
        "else:\n",
        "    print(\"Falied to reject null hypothesis \\n There is no significant association between chocolate preference and country of origin.\")"
      ]
    },
    {
      "cell_type": "code",
      "execution_count": 17,
      "id": "03b7719e-3823-49a9-b0b4-d64715b9f428",
      "metadata": {
        "colab": {
          "base_uri": "https://localhost:8080/"
        },
        "id": "03b7719e-3823-49a9-b0b4-d64715b9f428",
        "outputId": "d025e158-5ac4-46c7-f19e-2a5b5394f140"
      },
      "outputs": [
        {
          "output_type": "stream",
          "name": "stdout",
          "text": [
            "Fail to reject Null hypothesis \n",
            " The population mean is not different from 70.\n"
          ]
        }
      ],
      "source": [
        "# Ans no11\n",
        "logging.info(\"answerinthe question no11\")\n",
        "import scipy.stats as stat\n",
        "import math\n",
        "# null and alternate hypothesis\n",
        "h0=\"The population mean is not different from 70.\"\n",
        "ha=\"The population mean is significantly different from 70.\"\n",
        "\n",
        "# significance level and given values of mean and std\n",
        "\n",
        "alpha=0.05\n",
        "n=30\n",
        "samp_std=10\n",
        "x=72\n",
        "mu=70\n",
        "\n",
        "# determine the t_stats and critical value\n",
        "df=n-1\n",
        "cv=stat.t.ppf(alpha/2,df)\n",
        "\n",
        "t=(x-mu)/(samp_std/math.sqrt(n))\n",
        "\n",
        "if t < cv :\n",
        "    print(\"Reject the null hypothesis \\n The population mean is significantly different from 70.\")\n",
        "else:\n",
        "    print(\"Fail to reject Null hypothesis \\n The population mean is not different from 70.\")"
      ]
    }
  ],
  "metadata": {
    "kernelspec": {
      "display_name": "Python 3 (ipykernel)",
      "language": "python",
      "name": "python3"
    },
    "language_info": {
      "codemirror_mode": {
        "name": "ipython",
        "version": 3
      },
      "file_extension": ".py",
      "mimetype": "text/x-python",
      "name": "python",
      "nbconvert_exporter": "python",
      "pygments_lexer": "ipython3",
      "version": "3.10.8"
    },
    "colab": {
      "provenance": []
    }
  },
  "nbformat": 4,
  "nbformat_minor": 5
}