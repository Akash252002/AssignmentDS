{
 "cells": [
  {
   "cell_type": "code",
   "execution_count": 1,
   "id": "bb4e14d8-71f1-4d06-8695-07b79e16756d",
   "metadata": {},
   "outputs": [
    {
     "name": "stdout",
     "output_type": "stream",
     "text": [
      "Collecting flask\n",
      "  Downloading Flask-2.2.3-py3-none-any.whl (101 kB)\n",
      "\u001b[2K     \u001b[90m━━━━━━━━━━━━━━━━━━━━━━━━━━━━━━━━━━━━━━━\u001b[0m \u001b[32m101.8/101.8 kB\u001b[0m \u001b[31m1.3 MB/s\u001b[0m eta \u001b[36m0:00:00\u001b[0ma \u001b[36m0:00:01\u001b[0m\n",
      "\u001b[?25hCollecting itsdangerous>=2.0\n",
      "  Downloading itsdangerous-2.1.2-py3-none-any.whl (15 kB)\n",
      "Requirement already satisfied: Jinja2>=3.0 in /opt/conda/lib/python3.10/site-packages (from flask) (3.1.2)\n",
      "Requirement already satisfied: click>=8.0 in /opt/conda/lib/python3.10/site-packages (from flask) (8.1.3)\n",
      "Collecting Werkzeug>=2.2.2\n",
      "  Downloading Werkzeug-2.2.3-py3-none-any.whl (233 kB)\n",
      "\u001b[2K     \u001b[90m━━━━━━━━━━━━━━━━━━━━━━━━━━━━━━━━━━━━━━━\u001b[0m \u001b[32m233.6/233.6 kB\u001b[0m \u001b[31m4.7 MB/s\u001b[0m eta \u001b[36m0:00:00\u001b[0ma \u001b[36m0:00:01\u001b[0m\n",
      "\u001b[?25hRequirement already satisfied: MarkupSafe>=2.0 in /opt/conda/lib/python3.10/site-packages (from Jinja2>=3.0->flask) (2.1.1)\n",
      "Installing collected packages: Werkzeug, itsdangerous, flask\n",
      "Successfully installed Werkzeug-2.2.3 flask-2.2.3 itsdangerous-2.1.2\n",
      "Note: you may need to restart the kernel to use updated packages.\n"
     ]
    }
   ],
   "source": [
    "pip install flask\n"
   ]
  },
  {
   "cell_type": "code",
   "execution_count": 3,
   "id": "03e09e8c-5b70-4dd4-b067-8520c9e4c11b",
   "metadata": {},
   "outputs": [
    {
     "data": {
      "text/plain": [
       "'\\nFlask is a popular lightweight web framework for building web applications in Python.\\nIt was created in 2010 by Armin Ronacher and is now widely used for developing web applications, APIs, and other software projects.\\n\\nLightweight and flexible: Flask is a lightweight and flexible framework that provides a lot of freedom for developers\\nto structure and organize their code as they see fit. It doesn\\'t impose any specific way of doing things,\\nallowing developers to use their own preferred patterns and practices.\\n\\nEasy to learn and use: Flask has a simple and intuitive API that makes it easy for developers to learn and use.\\nIt doesn\\'t have a lot of boilerplate code and can be up and running quickly.\\n\\nModular and extensible: Flask is modular and extensible, which means that developers can use and extend its features as needed.\\nIt provides a lot of plugins and extensions that can be easily integrated into the application.\\n\\nMinimalistic: Flask follows a \"micro\" approach, meaning it provides only the essential features needed to build web applications.\\nThis makes it easy to understand and maintain, as well as reducing the overhead of unnecessary features.\\n'"
      ]
     },
     "execution_count": 3,
     "metadata": {},
     "output_type": "execute_result"
    }
   ],
   "source": [
    "# Ans no1\n",
    "\n",
    "import logging\n",
    "logging.basicConfig(filename=\"19feb.log\",level=logging.INFO)\n",
    "\n",
    "logging.info(\"here is writing about flask framework\")\n",
    "'''\n",
    "Flask is a popular lightweight web framework for building web applications in Python.\n",
    "It was created in 2010 by Armin Ronacher and is now widely used for developing web applications, APIs, and other software projects.\n",
    "\n",
    "Lightweight and flexible: Flask is a lightweight and flexible framework that provides a lot of freedom for developers\n",
    "to structure and organize their code as they see fit. It doesn't impose any specific way of doing things,\n",
    "allowing developers to use their own preferred patterns and practices.\n",
    "\n",
    "Easy to learn and use: Flask has a simple and intuitive API that makes it easy for developers to learn and use.\n",
    "It doesn't have a lot of boilerplate code and can be up and running quickly.\n",
    "\n",
    "Modular and extensible: Flask is modular and extensible, which means that developers can use and extend its features as needed.\n",
    "It provides a lot of plugins and extensions that can be easily integrated into the application.\n",
    "\n",
    "Minimalistic: Flask follows a \"micro\" approach, meaning it provides only the essential features needed to build web applications.\n",
    "This makes it easy to understand and maintain, as well as reducing the overhead of unnecessary features.\n",
    "'''"
   ]
  },
  {
   "cell_type": "code",
   "execution_count": null,
   "id": "b537756e-8755-4b26-8f0f-fbc026ca20e8",
   "metadata": {},
   "outputs": [
    {
     "name": "stdout",
     "output_type": "stream",
     "text": [
      " * Serving Flask app '__main__'\n",
      " * Debug mode: off\n"
     ]
    }
   ],
   "source": [
    "# Ans no2\n",
    "\n",
    "logging.info(\" Creating a simple Flask application\")\n",
    "from flask import Flask\n",
    "from flask import request\n",
    "\n",
    "app = Flask(__name__)\n",
    "\n",
    "@app.route(\"/\")\n",
    "def hello_world():\n",
    "    return \"<h1>Hello World !</h1>\"\n",
    "\n",
    "if __name__==\"__main__\":\n",
    "    app.run(host=\"0.0.0.0\")\n",
    "    "
   ]
  },
  {
   "attachments": {},
   "cell_type": "markdown",
   "id": "b083c347",
   "metadata": {},
   "source": [
    "<img src=\"img.jpg\">"
   ]
  },
  {
   "cell_type": "code",
   "execution_count": null,
   "id": "3bc9e83c-886f-417a-893d-b67d818e33b0",
   "metadata": {},
   "outputs": [],
   "source": [
    "# Ans no3\n",
    "\n",
    "\n",
    "logging.info(\" about App routing in Flask and its uses\")\n",
    "'''\n",
    "App routing in Flask is the process of defining the URL paths that a web application will respond to.\n",
    "In Flask, you define app routes using the @app.route() decorator, which associates a URL pattern with a \n",
    "function that will handle requests to that URL.\n",
    "'''\n",
    "'''\n",
    "For example, consider the following Flask app route:\n",
    "'''\n",
    "@app.route('/hello')\n",
    "def hello():\n",
    "    return 'Hello, World!'\n",
    "'''\n",
    "In this example, the @app.route() decorator associates the URL pattern /hello with the hello() function.\n",
    "Whenever a client makes a request to the URL http://<server>/hello, Flask will call the hello() function and \n",
    "return the string \"Hello, World!\" as the response.\n",
    "\n",
    "There are several reasons why we use app routes in Flask:\n",
    "'''\n",
    "'''\n",
    "Better organization: App routing allows us to organize our application logic into discrete functions that handle specific requests. \n",
    "This makes it easier to manage and scale our application as it grows.\n",
    "\n",
    "Improved user experience: By defining app routes, we can create user-friendly URLs that are easy to remember and navigate.\n",
    "\n",
    "Enhanced security: App routing allows us to restrict access to certain parts of our application and \n",
    "enforce security measures such as authentication and authorization.\n",
    "\n",
    "Improved SEO: App routing can help improve the search engine optimization (SEO) of our application by \n",
    "creating descriptive URLs that are more likely to appear in search results.\n",
    "\n",
    "In summary, app routing is an essential part of building web applications in Flask.\n",
    "By defining app routes, we can organize our application logic, provide a better user experience, enhance security, and improve SEO.\n",
    "'''"
   ]
  },
  {
   "cell_type": "code",
   "execution_count": null,
   "id": "c7c2a1e5-f1a1-409c-8b10-f585bba9b589",
   "metadata": {},
   "outputs": [],
   "source": [
    "# Ans no4\n",
    "\n",
    "logging.info(\"Creatin a “/welcome” route  and a \"/\" route to display the  message\")\n",
    "from flask import Flask\n",
    "from flask import request\n",
    "\n",
    "app = Flask(__name__)\n",
    "\n",
    "@app.route(\"/welcome\")\n",
    "def hello_world():\n",
    "    return \"<h1>Welcome to ABC Corporation</h1>\"  \n",
    "\n",
    "@app.route(\"/\")\n",
    "def hello_world1():\n",
    "    return \"<h1>Company Name: ABC Corporation<br>Location: India<br>Contact Detail: 999-999-9999</h1>\"\n",
    "\n",
    "if __name__==\"__main__\":\n",
    "    app.run(host=\"0.0.0.0\")\n"
   ]
  },
  {
   "attachments": {},
   "cell_type": "markdown",
   "id": "8cfe5c29",
   "metadata": {},
   "source": [
    "<img src=\"img2.jpg\">"
   ]
  },
  {
   "attachments": {},
   "cell_type": "markdown",
   "id": "f72f39ef",
   "metadata": {},
   "source": [
    "<img src=\"img1.jpg\">"
   ]
  },
  {
   "cell_type": "code",
   "execution_count": null,
   "id": "71d6d4aa-0973-478c-a2af-6607157910fb",
   "metadata": {},
   "outputs": [],
   "source": [
    "# Ans no5\n",
    "\n",
    "\n",
    "logging.info(\"Flask for URL Building and the working of theurl_for() function. \")\n",
    "'''\n",
    "In Flask, the url_for() function is used for URL building.\n",
    "It takes the endpoint name as the first argument and generates a URL for that endpoint based on the routing configuration\n",
    "defined in the Flask application.\n",
    "\n",
    "Here's an example of how to use url_for() function in Flask:\n",
    "'''\n",
    "from flask import Flask, url_for\n",
    "\n",
    "app = Flask(__name__)\n",
    "\n",
    "@app.route('/')\n",
    "def index():\n",
    "    return 'Hello, World!'\n",
    "\n",
    "@app.route('/user/<username>')\n",
    "def profile(username):\n",
    "    return f'Hello, {username}!'\n",
    "\n",
    "if __name__ == '__main__':\n",
    "    with app.test_request_context():\n",
    "        # using url_for to generate URLs for the index and profile endpoints\n",
    "        print(url_for('index'))  # Output: '/'\n",
    "        print(url_for('profile', username='john'))  # Output: '/user/john'\n"
   ]
  }
 ],
 "metadata": {
  "kernelspec": {
   "display_name": "Python 3",
   "language": "python",
   "name": "python3"
  },
  "language_info": {
   "codemirror_mode": {
    "name": "ipython",
    "version": 3
   },
   "file_extension": ".py",
   "mimetype": "text/x-python",
   "name": "python",
   "nbconvert_exporter": "python",
   "pygments_lexer": "ipython3",
   "version": "3.11.1"
  },
  "vscode": {
   "interpreter": {
    "hash": "b91f41160b83ffc59c7e17fa6fd02d637d5dcf1d5e59aa2db87d82178661b954"
   }
  }
 },
 "nbformat": 4,
 "nbformat_minor": 5
}
