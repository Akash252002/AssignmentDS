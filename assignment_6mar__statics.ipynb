{
  "nbformat": 4,
  "nbformat_minor": 0,
  "metadata": {
    "colab": {
      "provenance": []
    },
    "kernelspec": {
      "name": "python3",
      "display_name": "Python 3"
    },
    "language_info": {
      "name": "python"
    }
  },
  "cells": [
    {
      "cell_type": "code",
      "execution_count": 14,
      "metadata": {
        "colab": {
          "base_uri": "https://localhost:8080/",
          "height": 36
        },
        "id": "qu09sMh91Y0P",
        "outputId": "0954461c-5e17-49c9-a391-5fa16868edee"
      },
      "outputs": [
        {
          "output_type": "execute_result",
          "data": {
            "text/plain": [
              "'\\nstatics is the  science of collecting and organizing and analysing the data \\n'"
            ],
            "application/vnd.google.colaboratory.intrinsic+json": {
              "type": "string"
            }
          },
          "metadata": {},
          "execution_count": 14
        }
      ],
      "source": [
        "import logging\n",
        "logging.basicConfig(filename='6mr.log',level=logging.INFO)\n",
        "# Ans no1\n",
        "\n",
        "logging.info(\"Statics\")\n",
        "\n",
        "'''\n",
        "statics is the  science of collecting and organizing and analysing the data \n",
        "'''\n",
        "\n"
      ]
    },
    {
      "cell_type": "code",
      "source": [
        "# Ans no2\n",
        "\n",
        "logging.info(\"types of statics and example of this\")\n",
        "\n",
        "'''\n",
        "there are mainly two types of statics'''\n",
        "\n",
        "'''\n",
        "Descrptive statics: it constist of organising and summerising data \n",
        "It includes measures of central tendency (mean, median, and mode),\n",
        "measures of variability (range, variance, and standard deviation),\n",
        "and measures of distribution (skewness and kurtosis).\n",
        "'''\n",
        "'''\n",
        "Example: Suppose you have a dataset containing the heights of students in a class.\n",
        " You can use descriptive statistics to calculate the mean, median, and mode of the dataset to determine the most common height in the class, \n",
        " the average height of the students, and how spread out the data is.\n",
        " '''\n",
        "\n",
        "'''\n",
        " Inferential Statistics: Inferential statistics are used to draw conclusions and make inferences \n",
        " about a larger population based on a sample of data.\n",
        "  It involves hypothesis testing, confidence intervals, and regression analysis.\n",
        "\n",
        "Example: Suppose you want to know whether the average height of students in your school \n",
        "is the same as the average height of students in another school. \n",
        "You can use inferential statistics to conduct a hypothesis test to determine whether there is a statistically \n",
        "significant difference between the two populations.\n",
        "'''\n"
      ],
      "metadata": {
        "colab": {
          "base_uri": "https://localhost:8080/",
          "height": 88
        },
        "id": "hdMjYQB01lI_",
        "outputId": "59c1335e-e150-4b42-93b2-8ad049f6a623"
      },
      "execution_count": 15,
      "outputs": [
        {
          "output_type": "execute_result",
          "data": {
            "text/plain": [
              "'\\n Inferential Statistics: Inferential statistics are used to draw conclusions and make inferences \\n about a larger population based on a sample of data.\\n  It involves hypothesis testing, confidence intervals, and regression analysis.\\n\\nExample: Suppose you want to know whether the average height of students in your school \\nis the same as the average height of students in another school. \\nYou can use inferential statistics to conduct a hypothesis test to determine whether there is a statistically \\nsignificant difference between the two populations.\\n'"
            ],
            "application/vnd.google.colaboratory.intrinsic+json": {
              "type": "string"
            }
          },
          "metadata": {},
          "execution_count": 15
        }
      ]
    },
    {
      "cell_type": "code",
      "source": [
        "# Ans no3\n",
        "\n",
        "logging.info(\"all about the data and its types\")\n",
        "\n",
        "'''\n",
        "In statistics, data can be categorized into four main types:\n",
        " nominal, ordinal, interval, and ratio.\n",
        " These types of data differ from each other based on their level of measurement,\n",
        "  the properties they possess, and the mathematical operations that can be performed on them.\n",
        "\n",
        "Nominal data: Nominal data is used to label or categorize items or variables without any specific order or rank.\n",
        "It is the lowest level of measurement and can only be classified and counted. \n",
        "Examples of nominal data include gender, ethnicity, and eye color.\n",
        "\n",
        "Ordinal data: Ordinal data is used to categorize items or variables in a specific order or rank,\n",
        "but the differences between the categories are not necessarily equal.\n",
        " It can be ranked or ordered, but the intervals between the values are not equal. \n",
        " Examples of ordinal data include rankings, letter grades, and socioeconomic status.\n",
        "\n",
        "Interval data: Interval data is used to measure variables where the differences between the values are equal, \n",
        "but there is no true zero point. It can be used for arithmetic operations such as addition and subtraction \n",
        "but not for multiplication or division. Examples of interval data include temperature (in Celsius or Fahrenheit) and dates on a calendar.\n",
        "\n",
        "Ratio data: Ratio data is used to measure variables where the differences between the values are equal, \n",
        "and there is a true zero point. \n",
        "It can be used for all arithmetic operations, including multiplication and division. Examples of ratio data include weight, height, and income.\n",
        "'''"
      ],
      "metadata": {
        "colab": {
          "base_uri": "https://localhost:8080/",
          "height": 123
        },
        "id": "qUzq6Tga6w73",
        "outputId": "68807ea7-4edd-4354-e40a-bf6821d814e8"
      },
      "execution_count": 16,
      "outputs": [
        {
          "output_type": "execute_result",
          "data": {
            "text/plain": [
              "'\\nIn statistics, data can be categorized into four main types:\\n nominal, ordinal, interval, and ratio.\\n These types of data differ from each other based on their level of measurement,\\n  the properties they possess, and the mathematical operations that can be performed on them.\\n\\nNominal data: Nominal data is used to label or categorize items or variables without any specific order or rank.\\nIt is the lowest level of measurement and can only be classified and counted. \\nExamples of nominal data include gender, ethnicity, and eye color.\\n\\nOrdinal data: Ordinal data is used to categorize items or variables in a specific order or rank,\\nbut the differences between the categories are not necessarily equal.\\n It can be ranked or ordered, but the intervals between the values are not equal. \\n Examples of ordinal data include rankings, letter grades, and socioeconomic status.\\n\\nInterval data: Interval data is used to measure variables where the differences between the values are equal, \\nbut there is no true zero point. It can be used for arithmetic operations such as addition and subtraction \\nbut not for multiplication or division. Examples of interval data include temperature (in Celsius or Fahrenheit) and dates on a calendar.\\n\\nRatio data: Ratio data is used to measure variables where the differences between the values are equal, \\nand there is a true zero point. \\nIt can be used for all arithmetic operations, including multiplication and division. Examples of ratio data include weight, height, and income.\\n'"
            ],
            "application/vnd.google.colaboratory.intrinsic+json": {
              "type": "string"
            }
          },
          "metadata": {},
          "execution_count": 16
        }
      ]
    },
    {
      "cell_type": "code",
      "source": [
        "# Ans no4\n",
        "\n",
        "logging.info(\"Answering the question no3\")\n",
        "\n",
        "'''\n",
        "(i) Grading in exam: A+, A, B+, B, C+, C, D, E\n",
        "Type of data: Qualitative/Categorical\n",
        "\n",
        "(ii) Colour of mangoes: yellow, green, orange, red\n",
        "Type of data: Qualitative/Categorical\n",
        "\n",
        "(iii) Height data of a class: [178.9, 179, 179.5, 176, 177.2, 178.3, 175.8,...]\n",
        "Type of data: Quantitative/Continuous\n",
        "\n",
        "(iv) Number of mangoes exported by a farm: [500, 600, 478, 672, ...]\n",
        "Type of data: Quantitative/Discrete\n",
        "'''\n"
      ],
      "metadata": {
        "colab": {
          "base_uri": "https://localhost:8080/",
          "height": 70
        },
        "id": "qBE78duU7tbo",
        "outputId": "2c399a87-ae75-426a-8f9d-801d23de4b76"
      },
      "execution_count": 17,
      "outputs": [
        {
          "output_type": "execute_result",
          "data": {
            "text/plain": [
              "'\\n(i) Grading in exam: A+, A, B+, B, C+, C, D, E\\nType of data: Qualitative/Categorical\\n\\n(ii) Colour of mangoes: yellow, green, orange, red\\nType of data: Qualitative/Categorical\\n\\n(iii) Height data of a class: [178.9, 179, 179.5, 176, 177.2, 178.3, 175.8,...]\\nType of data: Quantitative/Continuous\\n\\n(iv) Number of mangoes exported by a farm: [500, 600, 478, 672, ...]\\nType of data: Quantitative/Discrete\\n'"
            ],
            "application/vnd.google.colaboratory.intrinsic+json": {
              "type": "string"
            }
          },
          "metadata": {},
          "execution_count": 17
        }
      ]
    },
    {
      "cell_type": "code",
      "source": [
        "# Ans no5\n",
        "\n",
        "logging.info(\"the concept of levels of measurement with an example of a variable for each level.\")\n",
        "'''\n",
        "Levels of measurement, also known as scales of measurement, \n",
        "refer to the different ways in which variables can be measured or categorized in a research study. \n",
        "There are four commonly recognized levels of measurement: nominal, ordinal, interval, and ratio.\n",
        "\n",
        "Nominal level of measurement: This is the lowest level of measurement and refers to variables that are categorical in nature and cannot be ordered.\n",
        " Examples include gender, eye color, and country of birth. These variables can be represented using numbers, but the numbers do not have any inherent meaning or order.\n",
        "\n",
        "Ordinal level of measurement: This level of measurement refers to variables that can be ordered, \n",
        "but the differences between the values are not necessarily equal. Examples include rating scales for satisfaction or agreement, \n",
        "such as \"strongly disagree,\" \"disagree,\" \"neutral,\" \"agree,\" and \"strongly agree.\"\n",
        "\n",
        "Interval level of measurement: This level of measurement refers to variables that can be ordered, \n",
        "and the differences between the values are equal. However, there is no true zero point, \n",
        "meaning that the absence of the variable does not necessarily mean zero. Examples include temperature in Celsius or Fahrenheit, \n",
        "where zero does not indicate the complete absence of heat.\n",
        "\n",
        "Ratio level of measurement: This is the highest level of measurement and includes variables that can be ordered, \n",
        "the differences between values are equal, and there is a true zero point. Examples include height, weight, and income.\n",
        "\n",
        "'''\n"
      ],
      "metadata": {
        "colab": {
          "base_uri": "https://localhost:8080/",
          "height": 123
        },
        "id": "zTN74dyP91Id",
        "outputId": "042f0ac9-d9ea-42ae-e519-3f28681e19c6"
      },
      "execution_count": 18,
      "outputs": [
        {
          "output_type": "execute_result",
          "data": {
            "text/plain": [
              "'\\nLevels of measurement, also known as scales of measurement, \\nrefer to the different ways in which variables can be measured or categorized in a research study. \\nThere are four commonly recognized levels of measurement: nominal, ordinal, interval, and ratio.\\n\\nNominal level of measurement: This is the lowest level of measurement and refers to variables that are categorical in nature and cannot be ordered.\\n Examples include gender, eye color, and country of birth. These variables can be represented using numbers, but the numbers do not have any inherent meaning or order.\\n\\nOrdinal level of measurement: This level of measurement refers to variables that can be ordered, \\nbut the differences between the values are not necessarily equal. Examples include rating scales for satisfaction or agreement, \\nsuch as \"strongly disagree,\" \"disagree,\" \"neutral,\" \"agree,\" and \"strongly agree.\"\\n\\nInterval level of measurement: This level of measurement refers to variables that can be ordered, \\nand the differences between the values are equal. However, there is no true zero point, \\nmeaning that the absence of the variable does not necessarily mean zero. Examples include temperature in Celsius or Fahrenheit, \\nwhere zero does not indicate the complete absence of heat.\\n\\nRatio level of measurement: This is the highest level of measurement and includes variables that can be ordered, \\nthe differences between values are equal, and there is a true zero point. Examples include height, weight, and income.\\n\\n'"
            ],
            "application/vnd.google.colaboratory.intrinsic+json": {
              "type": "string"
            }
          },
          "metadata": {},
          "execution_count": 18
        }
      ]
    },
    {
      "cell_type": "code",
      "source": [
        "# Ans no6\n",
        "\n",
        "logging.info(\"the level of measurement when analyzing data with an example to illustrate the answer.\")\n",
        "'''\n",
        "Levels of measurement, also known as scales of measurement,\n",
        " refer to the ways in which variables can be classified based on their properties\n",
        "  and the mathematical operations that can be performed on them. \n",
        "There are four main levels of measurement: nominal, ordinal, interval, and ratio.\n",
        "\n",
        "Nominal: Nominal level of measurement is used for variables that can only be named or categorized. They cannot be ordered or ranked, and the values cannot be mathematically manipulated. Examples of nominal variables include gender (male, female), ethnicity (Caucasian, African American, Hispanic), and religion (Christian, Muslim, Hindu).\n",
        "\n",
        "Ordinal: Ordinal level of measurement is used for variables that can be ranked or ordered, but the differences between the categories are not necessarily equal. These variables can be categorized or ordered, but the intervals between the values are not the same. Examples of ordinal variables include socioeconomic status (low, medium, high), level of education (elementary, middle, high school), and survey responses (strongly agree, agree, neutral, disagree, strongly disagree).\n",
        "\n",
        "Interval: Interval level of measurement is used for variables where the differences between the values are equal, but there is no true zero point. These variables can be added or subtracted but cannot be multiplied or divided. Examples of interval variables include temperature (in Celsius or Fahrenheit), dates on a calendar, and time (in hours or minutes).\n",
        "\n",
        "Ratio: Ratio level of measurement is used for variables where the differences between the values are equal, and there is a true zero point. These variables can be added, subtracted, multiplied, or divided. Examples of ratio variables include height, weight, distance, and time (in seconds or milliseconds).\n",
        "'''"
      ],
      "metadata": {
        "colab": {
          "base_uri": "https://localhost:8080/",
          "height": 123
        },
        "id": "EKmCNzgMANby",
        "outputId": "c62eba35-fe6d-470b-a497-cd3902373489"
      },
      "execution_count": 19,
      "outputs": [
        {
          "output_type": "execute_result",
          "data": {
            "text/plain": [
              "'\\nLevels of measurement, also known as scales of measurement,\\n refer to the ways in which variables can be classified based on their properties\\n  and the mathematical operations that can be performed on them. \\nThere are four main levels of measurement: nominal, ordinal, interval, and ratio.\\n\\nNominal: Nominal level of measurement is used for variables that can only be named or categorized. They cannot be ordered or ranked, and the values cannot be mathematically manipulated. Examples of nominal variables include gender (male, female), ethnicity (Caucasian, African American, Hispanic), and religion (Christian, Muslim, Hindu).\\n\\nOrdinal: Ordinal level of measurement is used for variables that can be ranked or ordered, but the differences between the categories are not necessarily equal. These variables can be categorized or ordered, but the intervals between the values are not the same. Examples of ordinal variables include socioeconomic status (low, medium, high), level of education (elementary, middle, high school), and survey responses (strongly agree, agree, neutral, disagree, strongly disagree).\\n\\nInterval: Interval level of measurement is used for variables where the differences between the values are equal, but there is no true zero point. These variables can be added or subtracted but cannot be multiplied or divided. Examples of interval variables include temperature (in Celsius or Fahrenheit), dates on a calendar, and time (in hours or minutes).\\n\\nRatio: Ratio level of measurement is used for variables where the differences between the values are equal, and there is a true zero point. These variables can be added, subtracted, multiplied, or divided. Examples of ratio variables include height, weight, distance, and time (in seconds or milliseconds).\\n'"
            ],
            "application/vnd.google.colaboratory.intrinsic+json": {
              "type": "string"
            }
          },
          "metadata": {},
          "execution_count": 19
        }
      ]
    },
    {
      "cell_type": "code",
      "source": [
        "# Ans no7\n",
        "\n",
        "'''\n",
        "Nominal variables are categorical variables that have no inherent order or ranking.\n",
        "Examples of nominal variables include gender, eye color, and country of birth. \n",
        "In nominal data, the values are named or labeled, and each value is distinct and has no numerical significance. \n",
        "\n",
        "For example, if we are collecting data on the favorite fruit of people, the categories could be \"apple,\" \"banana,\" \"orange,\" and \"grape,\" and they have no inherent order.\n",
        "\n",
        "Ordinal variables, on the other hand, have a natural order or ranking.\n",
        "Examples of ordinal variables include rankings of satisfaction, education level,\n",
        "or level of agreement with a statement. In ordinal data,\n",
        "the values are ranked in order of importance or preference, \n",
        "but the distance between the values is not necessarily equal.\n",
        "\n",
        " For example, if we are collecting data on the satisfaction levels of customers with a product or service,\n",
        "  we may use a scale from \"very unsatisfied\" to \"very satisfied,\" and each response is assigned a number \n",
        "  based on its position on the scale. However, the difference \n",
        "  between \"very unsatisfied\" and \"somewhat unsatisfied\" may not be the same as the difference between \"somewhat satisfied\" and \"very satisfied.\"\n",
        "\n",
        "'''"
      ],
      "metadata": {
        "colab": {
          "base_uri": "https://localhost:8080/",
          "height": 123
        },
        "id": "SYp8emsSEHPB",
        "outputId": "769ee4c9-6daf-4831-88de-d03de2c8367a"
      },
      "execution_count": 20,
      "outputs": [
        {
          "output_type": "execute_result",
          "data": {
            "text/plain": [
              "'\\nNominal variables are categorical variables that have no inherent order or ranking.\\nExamples of nominal variables include gender, eye color, and country of birth. \\nIn nominal data, the values are named or labeled, and each value is distinct and has no numerical significance. \\n\\nFor example, if we are collecting data on the favorite fruit of people, the categories could be \"apple,\" \"banana,\" \"orange,\" and \"grape,\" and they have no inherent order.\\n\\nOrdinal variables, on the other hand, have a natural order or ranking.\\nExamples of ordinal variables include rankings of satisfaction, education level,\\nor level of agreement with a statement. In ordinal data,\\nthe values are ranked in order of importance or preference, \\nbut the distance between the values is not necessarily equal.\\n\\n For example, if we are collecting data on the satisfaction levels of customers with a product or service,\\n  we may use a scale from \"very unsatisfied\" to \"very satisfied,\" and each response is assigned a number \\n  based on its position on the scale. However, the difference \\n  between \"very unsatisfied\" and \"somewhat unsatisfied\" may not be the same as the difference between \"somewhat satisfied\" and \"very satisfied.\"\\n\\n'"
            ],
            "application/vnd.google.colaboratory.intrinsic+json": {
              "type": "string"
            }
          },
          "metadata": {},
          "execution_count": 20
        }
      ]
    },
    {
      "cell_type": "code",
      "source": [
        "# Ans no8\n",
        "logging.info(\"Which type of plot can be used to display data in terms of range\")\n",
        "\n",
        "'''\n",
        "A box plot, also known as a box-and-whisker plot, can be used to display data in terms of range. \n",
        "A box plot summarizes the distribution of a numerical variable by dividing the data into quartiles and displaying the median,\n",
        "the lower and upper quartiles, and any outliers.\n",
        "\n",
        "The box in the plot represents the middle 50% of the data,\n",
        "with the bottom of the box representing the lower quartile (251th percentile) and the \n",
        "top of the box representing the upper quartile (75th percentile). \n",
        "The line in the box represents the median value of the data.\n",
        "The whiskers extend from the box to show the minimum and maximum values within a specified range, \n",
        "and any outliers are plotted as individual points beyond the whiskers.\n",
        "\n",
        "'''"
      ],
      "metadata": {
        "colab": {
          "base_uri": "https://localhost:8080/",
          "height": 105
        },
        "id": "lr30pur0Ewto",
        "outputId": "1960c21f-85c3-4674-84b9-a6c1e43079d9"
      },
      "execution_count": 21,
      "outputs": [
        {
          "output_type": "execute_result",
          "data": {
            "text/plain": [
              "'\\nA box plot, also known as a box-and-whisker plot, can be used to display data in terms of range. \\nA box plot summarizes the distribution of a numerical variable by dividing the data into quartiles and displaying the median,\\nthe lower and upper quartiles, and any outliers.\\n\\nThe box in the plot represents the middle 50% of the data,\\nwith the bottom of the box representing the lower quartile (251th percentile) and the \\ntop of the box representing the upper quartile (75th percentile). \\nThe line in the box represents the median value of the data.\\nThe whiskers extend from the box to show the minimum and maximum values within a specified range, \\nand any outliers are plotted as individual points beyond the whiskers.\\n\\n'"
            ],
            "application/vnd.google.colaboratory.intrinsic+json": {
              "type": "string"
            }
          },
          "metadata": {},
          "execution_count": 21
        }
      ]
    },
    {
      "cell_type": "code",
      "source": [
        "# Ans no9\n",
        "\n",
        "logging.info(\"types of statics and example of this\")\n",
        "\n",
        "'''\n",
        "there are mainly two types of statics'''\n",
        "\n",
        "'''\n",
        "Descrptive statics: it constist of organising and summerising data \n",
        "It includes measures of central tendency (mean, median, and mode),\n",
        "measures of variability (range, variance, and standard deviation),\n",
        "and measures of distribution (skewness and kurtosis).\n",
        "'''\n",
        "'''\n",
        "Example: Suppose you have a dataset containing the heights of students in a class.\n",
        " You can use descriptive statistics to calculate the mean, median, and mode of the dataset to determine the most common height in the class, \n",
        " the average height of the students, and how spread out the data is.\n",
        " '''\n",
        "\n",
        "'''\n",
        " Inferential Statistics: Inferential statistics are used to draw conclusions and make inferences \n",
        " about a larger population based on a sample of data.\n",
        "  It involves hypothesis testing, confidence intervals, and regression analysis.\n",
        "\n",
        "Example: Suppose you want to know whether the average height of students in your school \n",
        "is the same as the average height of students in another school. \n",
        "You can use inferential statistics to conduct a hypothesis test to determine whether there is a statistically \n",
        "significant difference between the two populations.\n",
        "'''\n"
      ],
      "metadata": {
        "colab": {
          "base_uri": "https://localhost:8080/",
          "height": 88
        },
        "id": "FBbYE-usQagQ",
        "outputId": "71ca343a-bf84-4d73-b58f-bdd6fa61610c"
      },
      "execution_count": 22,
      "outputs": [
        {
          "output_type": "execute_result",
          "data": {
            "text/plain": [
              "'\\n Inferential Statistics: Inferential statistics are used to draw conclusions and make inferences \\n about a larger population based on a sample of data.\\n  It involves hypothesis testing, confidence intervals, and regression analysis.\\n\\nExample: Suppose you want to know whether the average height of students in your school \\nis the same as the average height of students in another school. \\nYou can use inferential statistics to conduct a hypothesis test to determine whether there is a statistically \\nsignificant difference between the two populations.\\n'"
            ],
            "application/vnd.google.colaboratory.intrinsic+json": {
              "type": "string"
            }
          },
          "metadata": {},
          "execution_count": 22
        }
      ]
    },
    {
      "cell_type": "code",
      "source": [
        "# Ans no10\n",
        "\n",
        "logging.info(\"some common measures of central tendency and variability used in statistics\")\n",
        "\n",
        "'''\n",
        "There are several measures of central tendency and variability commonly used in statistics to describe a dataset.\n",
        "\n",
        "Measures of central tendency:\n",
        "\n",
        "Mean: The arithmetic mean, also known as the average, is the sum of all the values in a dataset divided by the total number of values.\n",
        " \n",
        "Median: The median is the middle value in a dataset when the values are arranged in order. \n",
        "\n",
        "Mode: The mode is the value that occurs most frequently in a dataset. \n",
        "The mode is used to describe a dataset when the data has a clear peak or clustering around a particular value.\n",
        "\n",
        "Measures of variability:\n",
        "\n",
        "Range: The range is the difference between the largest and smallest values in a dataset. \n",
        "The range is used to describe the spread of the data and provides an estimate of how much variation exists in the dataset.\n",
        "\n",
        "Standard deviation: The standard deviation is a measure of the amount of variation or dispersion of a dataset around the mean. \n",
        "A larger standard deviation indicates greater variability in the data. \n",
        "The standard deviation is used to describe a dataset by providing an estimate of how much the values deviate from the mean.\n",
        "\n",
        "Variance: The variance is the average of the squared differences from the mean. \n",
        "Like the standard deviation, a larger variance indicates greater variability in the data. \n",
        "The variance is used to describe a dataset by providing an estimate of the spread of the data and how much the values deviate from the mean.\n",
        "\n",
        "\n",
        "\n",
        "'''\n"
      ],
      "metadata": {
        "colab": {
          "base_uri": "https://localhost:8080/",
          "height": 123
        },
        "id": "_Dlce5_qQsrO",
        "outputId": "3e4c7dbe-f581-4400-df6d-ab3d71e5fc65"
      },
      "execution_count": 13,
      "outputs": [
        {
          "output_type": "execute_result",
          "data": {
            "text/plain": [
              "'\\nThere are several measures of central tendency and variability commonly used in statistics to describe a dataset.\\n\\nMeasures of central tendency:\\n\\nMean: The arithmetic mean, also known as the average, is the sum of all the values in a dataset divided by the total number of values.\\n \\nMedian: The median is the middle value in a dataset when the values are arranged in order. \\n\\nMode: The mode is the value that occurs most frequently in a dataset. \\nThe mode is used to describe a dataset when the data has a clear peak or clustering around a particular value.\\n\\nMeasures of variability:\\n\\nRange: The range is the difference between the largest and smallest values in a dataset. \\nThe range is used to describe the spread of the data and provides an estimate of how much variation exists in the dataset.\\n\\nStandard deviation: The standard deviation is a measure of the amount of variation or dispersion of a dataset around the mean. \\nA larger standard deviation indicates greater variability in the data. \\nThe standard deviation is used to describe a dataset by providing an estimate of how much the values deviate from the mean.\\n\\nVariance: The variance is the average of the squared differences from the mean. \\nLike the standard deviation, a larger variance indicates greater variability in the data. \\nThe variance is used to describe a dataset by providing an estimate of the spread of the data and how much the values deviate from the mean.\\n\\n\\n\\n'"
            ],
            "application/vnd.google.colaboratory.intrinsic+json": {
              "type": "string"
            }
          },
          "metadata": {},
          "execution_count": 13
        }
      ]
    },
    {
      "cell_type": "code",
      "source": [],
      "metadata": {
        "id": "BrUr5ljIaS0R"
      },
      "execution_count": null,
      "outputs": []
    }
  ]
}